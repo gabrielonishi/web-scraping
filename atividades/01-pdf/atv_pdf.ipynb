{
 "cells": [
  {
   "cell_type": "markdown",
   "metadata": {},
   "source": [
    "# ATV PDF - Atividade para Entrega\n",
    "\n",
    "Nesta atividade, iremos extrair textos e tabelas de PDFs. Estes exercícios são para entrega e contam como uma atividade (**ATV**)."
   ]
  },
  {
   "cell_type": "markdown",
   "metadata": {
    "jp-MarkdownHeadingCollapsed": true
   },
   "source": [
    "## Insper Autograding\n",
    "\n",
    "Iremos utilizar uma ferramenta para correção automática. Ao responder os exercícios, será possível enviar a solução para um servidor, que dará feedback quase que instantâneo sobre a resposta.\n",
    "\n",
    "Além de já ter uma boa ideia sobre seu desempenho na atividade, não será necessário fazer a entrega do notebook pelo Blackboard pois o corretor já armazena suas soluções.\n",
    "\n",
    "Siga os passos deste notebook para realizar a instalação da biblioteca de correção de exercícios nos notebooks da disciplina!"
   ]
  },
  {
   "cell_type": "markdown",
   "metadata": {},
   "source": [
    "## Instalação\n",
    "\n",
    "Vamos instalar a biblioteca (este passo só precisa ser executado uma vez):"
   ]
  },
  {
   "cell_type": "code",
   "execution_count": 1,
   "metadata": {},
   "outputs": [
    {
     "name": "stdout",
     "output_type": "stream",
     "text": [
      "Found existing installation: insperautograder 0.2.0\n",
      "Uninstalling insperautograder-0.2.0:\n",
      "  Successfully uninstalled insperautograder-0.2.0\n",
      "Defaulting to user installation because normal site-packages is not writeable\n",
      "Collecting git+https://github.com/macielcalebe/insperautograding.git\n",
      "  Cloning https://github.com/macielcalebe/insperautograding.git to /tmp/pip-req-build-b9fv93n8\n",
      "  Running command git clone --filter=blob:none --quiet https://github.com/macielcalebe/insperautograding.git /tmp/pip-req-build-b9fv93n8\n",
      "  Resolved https://github.com/macielcalebe/insperautograding.git to commit acdda51152774d9e1a979b426e41daa7a8a7793c\n",
      "  Preparing metadata (setup.py) ... \u001b[?25ldone\n",
      "\u001b[?25hRequirement already satisfied: ipython in /usr/lib/python3/dist-packages (from insperautograder==0.2.0) (7.31.1)\n",
      "Requirement already satisfied: ipywidgets in /usr/lib/python3/dist-packages (from insperautograder==0.2.0) (6.0.0)\n",
      "Requirement already satisfied: python-dotenv in /home/gabrielhso/.local/lib/python3.10/site-packages (from insperautograder==0.2.0) (1.0.1)\n",
      "Requirement already satisfied: requests in /home/gabrielhso/.local/lib/python3.10/site-packages (from insperautograder==0.2.0) (2.31.0)\n",
      "Requirement already satisfied: charset-normalizer<4,>=2 in /home/gabrielhso/.local/lib/python3.10/site-packages (from requests->insperautograder==0.2.0) (3.3.2)\n",
      "Requirement already satisfied: idna<4,>=2.5 in /usr/lib/python3/dist-packages (from requests->insperautograder==0.2.0) (3.3)\n",
      "Requirement already satisfied: urllib3<3,>=1.21.1 in /usr/lib/python3/dist-packages (from requests->insperautograder==0.2.0) (1.26.5)\n",
      "Requirement already satisfied: certifi>=2017.4.17 in /home/gabrielhso/.local/lib/python3.10/site-packages (from requests->insperautograder==0.2.0) (2024.2.2)\n",
      "Building wheels for collected packages: insperautograder\n",
      "  Building wheel for insperautograder (setup.py) ... \u001b[?25ldone\n",
      "\u001b[?25h  Created wheel for insperautograder: filename=insperautograder-0.2.0-py3-none-any.whl size=4439 sha256=7f7fbf4d037034d9bac6956baa5fcac91f0c81f66ff866dd9b30440a65de8784\n",
      "  Stored in directory: /tmp/pip-ephem-wheel-cache-5q74f_7d/wheels/d0/99/1c/9d39e4f753118014618a414a556a782bf3facf6396735430c6\n",
      "Successfully built insperautograder\n",
      "Installing collected packages: insperautograder\n",
      "Successfully installed insperautograder-0.2.0\n"
     ]
    }
   ],
   "source": [
    "!pip uninstall -y insperautograder\n",
    "!pip install git+https://github.com/macielcalebe/insperautograding.git"
   ]
  },
  {
   "cell_type": "markdown",
   "metadata": {},
   "source": [
    "## Importando as bibliotecas"
   ]
  },
  {
   "cell_type": "code",
   "execution_count": 2,
   "metadata": {},
   "outputs": [],
   "source": [
    "import os\n",
    "import insperautograder.jupyter as ia"
   ]
  },
  {
   "cell_type": "markdown",
   "metadata": {},
   "source": [
    "## Configurar ambiente\n",
    "\n",
    "Execute a célula para configurar nosso ambiente de execução:"
   ]
  },
  {
   "cell_type": "code",
   "execution_count": 3,
   "metadata": {},
   "outputs": [],
   "source": [
    "os.environ[\"IAG_OFFERING\"] = \"24-1\"\n",
    "os.environ[\"IAG_SUBJECT\"] = \"analisetxt\"\n",
    "os.environ[\"IAG_SERVER_URL\"] = \"https://bigdata.insper-comp.com.br/iag\""
   ]
  },
  {
   "cell_type": "markdown",
   "metadata": {},
   "source": [
    "## Me diga quem você é\n",
    "\n",
    "Utilize o **Token** enviado para seu e-mail para que você seja identificado pelo servidor de testes.\n",
    "\n",
    "Substitua `iagtok_xxx...` pelo token enviado para seu e-mail."
   ]
  },
  {
   "cell_type": "code",
   "execution_count": 4,
   "metadata": {},
   "outputs": [],
   "source": [
    "from dotenv import load_dotenv\n",
    "load_dotenv()\n",
    "database_url = os.getenv(\"IAG_TOKEN\")"
   ]
  },
  {
   "cell_type": "code",
   "execution_count": null,
   "metadata": {},
   "outputs": [],
   "source": [
    "# os.environ[\"IAG_TOKEN\"] = \"iagtok_xxxxxxxxxxxxxxxxxxxxxxxxxxxxxxxxxxxxxxxxxxxxxxxx\""
   ]
  },
  {
   "cell_type": "markdown",
   "metadata": {},
   "source": [
    "## Conferir atividades e notas\n",
    "\n",
    "Conferindo quais atividades estão disponíveis!"
   ]
  },
  {
   "cell_type": "code",
   "execution_count": 5,
   "metadata": {},
   "outputs": [
    {
     "data": {
      "text/markdown": [
       "|    | Atividade   | De                        | Até                       |\n",
       "|---:|:------------|:--------------------------|:--------------------------|\n",
       "|  0 | pdf         | 2024-02-17 03:00:00+00:00 | 2024-03-05 02:59:59+00:00 |"
      ],
      "text/plain": [
       "<IPython.core.display.Markdown object>"
      ]
     },
     "metadata": {},
     "output_type": "display_data"
    }
   ],
   "source": [
    "ia.tasks()"
   ]
  },
  {
   "cell_type": "markdown",
   "metadata": {},
   "source": [
    "Conferindo a nota por exercício na atividade:"
   ]
  },
  {
   "cell_type": "code",
   "execution_count": 6,
   "metadata": {},
   "outputs": [
    {
     "data": {
      "text/markdown": [
       "|    | Atividade   | Exercício   |   Peso |   Nota |\n",
       "|---:|:------------|:------------|-------:|-------:|\n",
       "|  0 | pdf         | ex00        |      1 |      0 |\n",
       "|  1 | pdf         | ex01        |     20 |      0 |\n",
       "|  2 | pdf         | ex02        |     20 |      0 |\n",
       "|  3 | pdf         | ex03        |     20 |      0 |\n",
       "|  4 | pdf         | ex04        |     25 |      0 |\n",
       "|  5 | pdf         | ex05        |     20 |      0 |\n",
       "|  6 | pdf         | ex06        |     25 |      0 |\n",
       "|  7 | pdf         | ex07        |     25 |      0 |\n",
       "|  8 | pdf         | ex08        |     30 |      0 |"
      ],
      "text/plain": [
       "<IPython.core.display.Markdown object>"
      ]
     },
     "metadata": {},
     "output_type": "display_data"
    }
   ],
   "source": [
    "ia.grades(task='pdf')"
   ]
  },
  {
   "cell_type": "markdown",
   "metadata": {},
   "source": [
    "Conferindo a nota geral nas atividades"
   ]
  },
  {
   "cell_type": "code",
   "execution_count": 7,
   "metadata": {},
   "outputs": [
    {
     "data": {
      "text/markdown": [
       "|    | Tarefa   |   Nota |\n",
       "|---:|:---------|-------:|\n",
       "|  0 | pdf      |      0 |"
      ],
      "text/plain": [
       "<IPython.core.display.Markdown object>"
      ]
     },
     "metadata": {},
     "output_type": "display_data"
    }
   ],
   "source": [
    "ia.grades(by='TASK')"
   ]
  },
  {
   "cell_type": "markdown",
   "metadata": {},
   "source": [
    "## Exercício de Aquecimento\n",
    "\n",
    "Vamos fazer um Exercício para conferir como funciona o **insper autograding**.\n",
    "\n",
    "### Exercício Zero - Aquecimento\n",
    "\n",
    "Crie uma função em python chamada `minha_soma`. A função recebe dois números inteiros e devolve a soma deles.\n",
    "\n",
    "Edite a função na célula abaixo:"
   ]
  },
  {
   "cell_type": "code",
   "execution_count": 8,
   "metadata": {},
   "outputs": [],
   "source": [
    "def minha_soma(num1, num2):\n",
    "    # Altere AQUI! Modifique este código para fazer o solicitado\n",
    "    return num1+num2"
   ]
  },
  {
   "cell_type": "markdown",
   "metadata": {},
   "source": [
    "Vamos conferir se a função executa:"
   ]
  },
  {
   "cell_type": "code",
   "execution_count": 9,
   "metadata": {},
   "outputs": [
    {
     "data": {
      "text/plain": [
       "8"
      ]
     },
     "execution_count": 9,
     "metadata": {},
     "output_type": "execute_result"
    }
   ],
   "source": [
    "minha_soma(5, 3)"
   ]
  },
  {
   "cell_type": "markdown",
   "metadata": {},
   "source": [
    "Agora, vamos testar sua função localmente antes de enviar ao servidor de correção automática:"
   ]
  },
  {
   "cell_type": "code",
   "execution_count": 10,
   "metadata": {},
   "outputs": [],
   "source": [
    "assert minha_soma(5,3) == 8, \"A soma de 5 e 3 deveria ser 8!\"\n",
    "assert minha_soma(0,3) == 3, \"A soma de 0 e 3 deveria ser 3!\"\n",
    "assert minha_soma(-3,3) == 0, \"A soma de -3 e 3 deveria ser 0!\""
   ]
  },
  {
   "cell_type": "markdown",
   "metadata": {},
   "source": [
    "Como nossa função parece estar correta, clique no botão abaixo para enviá-la ao servidor de correção automática para registrar sua tentativa!\n",
    "\n",
    "Você pode reenviar quantas vezes precisar!"
   ]
  },
  {
   "cell_type": "code",
   "execution_count": 11,
   "metadata": {},
   "outputs": [
    {
     "name": "stderr",
     "output_type": "stream",
     "text": [
      "Widget Javascript not detected.  It may not be installed or enabled properly. Reconnecting the current kernel may help.\n"
     ]
    },
    {
     "data": {
      "application/vnd.jupyter.widget-view+json": {
       "model_id": "e6b9e6f1ca93408c9f57ed651c7f9118"
      }
     },
     "metadata": {},
     "output_type": "display_data"
    }
   ],
   "source": [
    "ia.sender(answer=\"minha_soma\", task=\"pdf\", question=\"ex00\", answer_type=\"pycode\")"
   ]
  },
  {
   "cell_type": "markdown",
   "metadata": {},
   "source": [
    "Vamos conferir se a sua nota foi atualizada!\n",
    "\n",
    "Perceba que a nota é ponderada e que o `ex00` não vale quase nada!\n",
    "\n",
    "Nota por exercício:"
   ]
  },
  {
   "cell_type": "code",
   "execution_count": 12,
   "metadata": {},
   "outputs": [
    {
     "data": {
      "text/markdown": [
       "|    | Atividade   | Exercício   |   Peso |   Nota |\n",
       "|---:|:------------|:------------|-------:|-------:|\n",
       "|  0 | pdf         | ex00        |      1 |     10 |\n",
       "|  1 | pdf         | ex01        |     20 |      0 |\n",
       "|  2 | pdf         | ex02        |     20 |      0 |\n",
       "|  3 | pdf         | ex03        |     20 |      0 |\n",
       "|  4 | pdf         | ex04        |     25 |      0 |\n",
       "|  5 | pdf         | ex05        |     20 |      0 |\n",
       "|  6 | pdf         | ex06        |     25 |      0 |\n",
       "|  7 | pdf         | ex07        |     25 |      0 |\n",
       "|  8 | pdf         | ex08        |     30 |      0 |"
      ],
      "text/plain": [
       "<IPython.core.display.Markdown object>"
      ]
     },
     "metadata": {},
     "output_type": "display_data"
    }
   ],
   "source": [
    "ia.grades(task='pdf')"
   ]
  },
  {
   "cell_type": "markdown",
   "metadata": {},
   "source": [
    "Nota geral na atividade:"
   ]
  },
  {
   "cell_type": "code",
   "execution_count": 13,
   "metadata": {},
   "outputs": [
    {
     "data": {
      "text/markdown": [
       "|    | Tarefa   |   Nota |\n",
       "|---:|:---------|-------:|\n",
       "|  0 | pdf      |   0.05 |"
      ],
      "text/plain": [
       "<IPython.core.display.Markdown object>"
      ]
     },
     "metadata": {},
     "output_type": "display_data"
    }
   ],
   "source": [
    "ia.grades(by='TASK', task='pdf')"
   ]
  },
  {
   "cell_type": "markdown",
   "metadata": {},
   "source": [
    "Modifique a célula que contém a sua função para retornar um valor errado (ex: sempre retorna `8`, ou sempre soma `+1`) e faça o reenvio. Perceba que o corretor retorna o erro!\n",
    "\n",
    "Agora que aprendeu a utilizar a correção automática, siga para os exercícios!"
   ]
  },
  {
   "cell_type": "markdown",
   "metadata": {},
   "source": [
    "## Exercícios\n",
    "\n",
    "Vamos praticar os conteúdos da aula de PDF!\n",
    "\n",
    "Responda os exercício e, quando estiver bastante confiante que a resposta está correta, faça o envio para o servidor clicando no botão indicado para isto. Faça correções em sua solução caso o feedback retornado informe a existência de erros.\n",
    "\n",
    "Confira, nas chamadas acima, se a sua nota é atualizada."
   ]
  },
  {
   "cell_type": "markdown",
   "metadata": {},
   "source": [
    "### Download de arquivos úteis\n",
    "\n",
    "Vamos fazer o *download* de alguns arquivos úteis nos exercícios. O código foi preparado para funcionar no **Google Colab**. Faça o *download* direto pela URL dos arquivos caso não queira utilizar Colab!"
   ]
  },
  {
   "cell_type": "code",
   "execution_count": null,
   "metadata": {},
   "outputs": [],
   "source": [
    "# !wget https://atd-insper.s3.us-east-2.amazonaws.com/aula02/atv/mochileiro.pdf\n",
    "# !wget https://atd-insper.s3.us-east-2.amazonaws.com/aula02/atv/p_value_misconceptions.pdf\n",
    "# !wget https://atd-insper.s3.us-east-2.amazonaws.com/aula02/atv/comunicado_condominio.pdf\n",
    "# !wget https://atd-insper.s3.us-east-2.amazonaws.com/aula02/atv/itau-3q-2022.pdf\n",
    "# !wget https://atd-insper.s3.us-east-2.amazonaws.com/aula02/atv/profissoes.pdf\n",
    "# !wget https://atd-insper.s3.us-east-2.amazonaws.com/aula02/atv/casas_bahia_3t23.pdf\n",
    "# !wget https://atd-insper.s3.us-east-2.amazonaws.com/aula02/relatorio.pdf"
   ]
  },
  {
   "cell_type": "markdown",
   "metadata": {},
   "source": [
    "Instalações necessárias:"
   ]
  },
  {
   "cell_type": "code",
   "execution_count": 14,
   "metadata": {},
   "outputs": [
    {
     "name": "stdout",
     "output_type": "stream",
     "text": [
      "Defaulting to user installation because normal site-packages is not writeable\n",
      "Collecting ghostscript\n",
      "  Downloading ghostscript-0.7-py2.py3-none-any.whl.metadata (4.4 kB)\n",
      "Requirement already satisfied: setuptools>=38.6.0 in /usr/lib/python3/dist-packages (from ghostscript) (59.6.0)\n",
      "Downloading ghostscript-0.7-py2.py3-none-any.whl (25 kB)\n",
      "Installing collected packages: ghostscript\n",
      "Successfully installed ghostscript-0.7\n",
      "Defaulting to user installation because normal site-packages is not writeable\n",
      "Collecting camelot-py[cv]\n",
      "  Downloading camelot_py-0.11.0-py3-none-any.whl.metadata (8.3 kB)\n",
      "Requirement already satisfied: chardet>=3.0.4 in /usr/lib/python3/dist-packages (from camelot-py[cv]) (4.0.0)\n",
      "Requirement already satisfied: click>=6.7 in /usr/lib/python3/dist-packages (from camelot-py[cv]) (8.0.3)\n",
      "Requirement already satisfied: numpy>=1.13.3 in /home/gabrielhso/.local/lib/python3.10/site-packages (from camelot-py[cv]) (1.26.4)\n",
      "Collecting openpyxl>=2.5.8 (from camelot-py[cv])\n",
      "  Downloading openpyxl-3.1.2-py2.py3-none-any.whl.metadata (2.5 kB)\n",
      "Requirement already satisfied: pandas>=0.23.4 in /home/gabrielhso/.local/lib/python3.10/site-packages (from camelot-py[cv]) (2.2.0)\n",
      "Collecting pdfminer.six>=20200726 (from camelot-py[cv])\n",
      "  Downloading pdfminer.six-20231228-py3-none-any.whl.metadata (4.2 kB)\n",
      "Collecting pypdf>=3.0.0 (from camelot-py[cv])\n",
      "  Downloading pypdf-4.0.2-py3-none-any.whl.metadata (7.4 kB)\n",
      "Collecting tabulate>=0.8.9 (from camelot-py[cv])\n",
      "  Downloading tabulate-0.9.0-py3-none-any.whl.metadata (34 kB)\n",
      "Requirement already satisfied: ghostscript>=0.7 in /home/gabrielhso/.local/lib/python3.10/site-packages (from camelot-py[cv]) (0.7)\n",
      "Collecting opencv-python>=3.4.2.17 (from camelot-py[cv])\n",
      "  Downloading opencv_python-4.9.0.80-cp37-abi3-manylinux_2_17_x86_64.manylinux2014_x86_64.whl.metadata (20 kB)\n",
      "INFO: pip is looking at multiple versions of camelot-py[cv] to determine which version is compatible with other requirements. This could take a while.\n",
      "Collecting camelot-py[cv]\n",
      "  Downloading camelot_py-0.10.1-py3-none-any.whl.metadata (8.3 kB)\n",
      "Collecting PyPDF2>=1.26.0 (from camelot-py[cv])\n",
      "  Downloading pypdf2-3.0.1-py3-none-any.whl.metadata (6.8 kB)\n",
      "Collecting camelot-py[cv]\n",
      "  Downloading camelot_py-0.10.0-py3-none-any.whl.metadata (8.3 kB)\n",
      "  Downloading camelot_py-0.9.0-py3-none-any.whl.metadata (7.5 kB)\n",
      "Collecting et-xmlfile (from openpyxl>=2.5.8->camelot-py[cv])\n",
      "  Downloading et_xmlfile-1.1.0-py3-none-any.whl.metadata (1.8 kB)\n",
      "Requirement already satisfied: python-dateutil>=2.8.2 in /home/gabrielhso/.local/lib/python3.10/site-packages (from pandas>=0.23.4->camelot-py[cv]) (2.8.2)\n",
      "Requirement already satisfied: pytz>=2020.1 in /home/gabrielhso/.local/lib/python3.10/site-packages (from pandas>=0.23.4->camelot-py[cv]) (2024.1)\n",
      "Requirement already satisfied: tzdata>=2022.7 in /home/gabrielhso/.local/lib/python3.10/site-packages (from pandas>=0.23.4->camelot-py[cv]) (2024.1)\n",
      "Requirement already satisfied: charset-normalizer>=2.0.0 in /home/gabrielhso/.local/lib/python3.10/site-packages (from pdfminer.six>=20200726->camelot-py[cv]) (3.3.2)\n",
      "Collecting cryptography>=36.0.0 (from pdfminer.six>=20200726->camelot-py[cv])\n",
      "  Downloading cryptography-42.0.5-cp39-abi3-manylinux_2_28_x86_64.whl.metadata (5.3 kB)\n",
      "Collecting cffi>=1.12 (from cryptography>=36.0.0->pdfminer.six>=20200726->camelot-py[cv])\n",
      "  Downloading cffi-1.16.0-cp310-cp310-manylinux_2_17_x86_64.manylinux2014_x86_64.whl.metadata (1.5 kB)\n",
      "Requirement already satisfied: six>=1.5 in /usr/lib/python3/dist-packages (from python-dateutil>=2.8.2->pandas>=0.23.4->camelot-py[cv]) (1.16.0)\n",
      "Collecting pycparser (from cffi>=1.12->cryptography>=36.0.0->pdfminer.six>=20200726->camelot-py[cv])\n",
      "  Downloading pycparser-2.21-py2.py3-none-any.whl.metadata (1.1 kB)\n",
      "Downloading opencv_python-4.9.0.80-cp37-abi3-manylinux_2_17_x86_64.manylinux2014_x86_64.whl (62.2 MB)\n",
      "\u001b[2K   \u001b[38;2;114;156;31m━━━━━━━━━━━━━━━━━━━━━━━━━━━━━━━━━━━━━━━━\u001b[0m \u001b[32m62.2/62.2 MB\u001b[0m \u001b[31m5.9 MB/s\u001b[0m eta \u001b[36m0:00:00\u001b[0mm eta \u001b[36m0:00:01\u001b[0m[36m0:00:01\u001b[0m\n",
      "\u001b[?25hDownloading openpyxl-3.1.2-py2.py3-none-any.whl (249 kB)\n",
      "\u001b[2K   \u001b[38;2;114;156;31m━━━━━━━━━━━━━━━━━━━━━━━━━━━━━━━━━━━━━━━━\u001b[0m \u001b[32m250.0/250.0 kB\u001b[0m \u001b[31m4.7 MB/s\u001b[0m eta \u001b[36m0:00:00\u001b[0m[31m3.8 MB/s\u001b[0m eta \u001b[36m0:00:01\u001b[0m\n",
      "\u001b[?25hDownloading pdfminer.six-20231228-py3-none-any.whl (5.6 MB)\n",
      "\u001b[2K   \u001b[38;2;114;156;31m━━━━━━━━━━━━━━━━━━━━━━━━━━━━━━━━━━━━━━━━\u001b[0m \u001b[32m5.6/5.6 MB\u001b[0m \u001b[31m6.3 MB/s\u001b[0m eta \u001b[36m0:00:00\u001b[0mm eta \u001b[36m0:00:01\u001b[0m0:01\u001b[0m:01\u001b[0m\n",
      "\u001b[?25hDownloading pypdf2-3.0.1-py3-none-any.whl (232 kB)\n",
      "\u001b[2K   \u001b[38;2;114;156;31m━━━━━━━━━━━━━━━━━━━━━━━━━━━━━━━━━━━━━━━━\u001b[0m \u001b[32m232.6/232.6 kB\u001b[0m \u001b[31m5.8 MB/s\u001b[0m eta \u001b[36m0:00:00\u001b[0m[31m7.2 MB/s\u001b[0m eta \u001b[36m0:00:01\u001b[0m\n",
      "\u001b[?25hDownloading camelot_py-0.9.0-py3-none-any.whl (43 kB)\n",
      "\u001b[2K   \u001b[38;2;114;156;31m━━━━━━━━━━━━━━━━━━━━━━━━━━━━━━━━━━━━━━━━\u001b[0m \u001b[32m43.2/43.2 kB\u001b[0m \u001b[31m9.9 MB/s\u001b[0m eta \u001b[36m0:00:00\u001b[0m\n",
      "\u001b[?25hDownloading cryptography-42.0.5-cp39-abi3-manylinux_2_28_x86_64.whl (4.6 MB)\n",
      "\u001b[2K   \u001b[38;2;114;156;31m━━━━━━━━━━━━━━━━━━━━━━━━━━━━━━━━━━━━━━━━\u001b[0m \u001b[32m4.6/4.6 MB\u001b[0m \u001b[31m6.1 MB/s\u001b[0m eta \u001b[36m0:00:00\u001b[0mm eta \u001b[36m0:00:01\u001b[0m[36m0:00:01\u001b[0m\n",
      "\u001b[?25hDownloading et_xmlfile-1.1.0-py3-none-any.whl (4.7 kB)\n",
      "Downloading cffi-1.16.0-cp310-cp310-manylinux_2_17_x86_64.manylinux2014_x86_64.whl (443 kB)\n",
      "\u001b[2K   \u001b[38;2;114;156;31m━━━━━━━━━━━━━━━━━━━━━━━━━━━━━━━━━━━━━━━━\u001b[0m \u001b[32m443.9/443.9 kB\u001b[0m \u001b[31m5.6 MB/s\u001b[0m eta \u001b[36m0:00:00\u001b[0m[31m6.1 MB/s\u001b[0m eta \u001b[36m0:00:01\u001b[0m\n",
      "\u001b[?25hDownloading pycparser-2.21-py2.py3-none-any.whl (118 kB)\n",
      "\u001b[2K   \u001b[38;2;114;156;31m━━━━━━━━━━━━━━━━━━━━━━━━━━━━━━━━━━━━━━━━\u001b[0m \u001b[32m118.7/118.7 kB\u001b[0m \u001b[31m6.0 MB/s\u001b[0m eta \u001b[36m0:00:00\u001b[0m\n",
      "\u001b[?25hInstalling collected packages: PyPDF2, pycparser, opencv-python, et-xmlfile, openpyxl, cffi, cryptography, pdfminer.six, camelot-py\n",
      "Successfully installed PyPDF2-3.0.1 camelot-py-0.9.0 cffi-1.16.0 cryptography-42.0.5 et-xmlfile-1.1.0 opencv-python-4.9.0.80 openpyxl-3.1.2 pdfminer.six-20231228 pycparser-2.21\n",
      "Defaulting to user installation because normal site-packages is not writeable\n",
      "Collecting excalibur-py\n",
      "  Downloading excalibur_py-0.4.3-py3-none-any.whl.metadata (8.1 kB)\n",
      "Requirement already satisfied: camelot-py>=0.7.1 in /home/gabrielhso/.local/lib/python3.10/site-packages (from camelot-py[cv]>=0.7.1->excalibur-py) (0.9.0)\n",
      "Collecting celery>=4.1.1 (from excalibur-py)\n",
      "  Downloading celery-5.3.6-py3-none-any.whl.metadata (21 kB)\n",
      "Requirement already satisfied: Click>=7.0 in /usr/lib/python3/dist-packages (from excalibur-py) (8.0.3)\n",
      "Collecting configparser<3.6.0,>=3.5.0 (from excalibur-py)\n",
      "  Downloading configparser-3.5.3-py3-none-any.whl (21 kB)\n",
      "Collecting Flask>=1.0.2 (from excalibur-py)\n",
      "  Downloading flask-3.0.2-py3-none-any.whl.metadata (3.6 kB)\n",
      "Collecting SQLAlchemy>=1.2.12 (from excalibur-py)\n",
      "  Downloading SQLAlchemy-2.0.27-cp310-cp310-manylinux_2_17_x86_64.manylinux2014_x86_64.whl.metadata (9.6 kB)\n",
      "Collecting Werkzeug<1.0.0 (from excalibur-py)\n",
      "  Downloading Werkzeug-0.16.1-py2.py3-none-any.whl.metadata (4.8 kB)\n",
      "Requirement already satisfied: chardet>=3.0.4 in /usr/lib/python3/dist-packages (from camelot-py>=0.7.1->camelot-py[cv]>=0.7.1->excalibur-py) (4.0.0)\n",
      "Requirement already satisfied: numpy>=1.13.3 in /home/gabrielhso/.local/lib/python3.10/site-packages (from camelot-py>=0.7.1->camelot-py[cv]>=0.7.1->excalibur-py) (1.26.4)\n",
      "Requirement already satisfied: openpyxl>=2.5.8 in /home/gabrielhso/.local/lib/python3.10/site-packages (from camelot-py>=0.7.1->camelot-py[cv]>=0.7.1->excalibur-py) (3.1.2)\n",
      "Requirement already satisfied: pandas>=0.23.4 in /home/gabrielhso/.local/lib/python3.10/site-packages (from camelot-py>=0.7.1->camelot-py[cv]>=0.7.1->excalibur-py) (2.2.0)\n",
      "Requirement already satisfied: pdfminer.six>=20200726 in /home/gabrielhso/.local/lib/python3.10/site-packages (from camelot-py>=0.7.1->camelot-py[cv]>=0.7.1->excalibur-py) (20231228)\n",
      "Requirement already satisfied: PyPDF2>=1.26.0 in /home/gabrielhso/.local/lib/python3.10/site-packages (from camelot-py>=0.7.1->camelot-py[cv]>=0.7.1->excalibur-py) (3.0.1)\n",
      "Requirement already satisfied: opencv-python>=3.4.2.17 in /home/gabrielhso/.local/lib/python3.10/site-packages (from camelot-py[cv]>=0.7.1->excalibur-py) (4.9.0.80)\n"
     ]
    },
    {
     "name": "stdout",
     "output_type": "stream",
     "text": [
      "Collecting billiard<5.0,>=4.2.0 (from celery>=4.1.1->excalibur-py)\n",
      "  Downloading billiard-4.2.0-py3-none-any.whl.metadata (4.4 kB)\n",
      "Collecting click-didyoumean>=0.3.0 (from celery>=4.1.1->excalibur-py)\n",
      "  Downloading click_didyoumean-0.3.0-py3-none-any.whl.metadata (495 bytes)\n",
      "Collecting click-plugins>=1.1.1 (from celery>=4.1.1->excalibur-py)\n",
      "  Downloading click_plugins-1.1.1-py2.py3-none-any.whl (7.5 kB)\n",
      "Collecting click-repl>=0.2.0 (from celery>=4.1.1->excalibur-py)\n",
      "  Downloading click_repl-0.3.0-py3-none-any.whl.metadata (3.6 kB)\n",
      "Collecting Click>=7.0 (from excalibur-py)\n",
      "  Downloading click-8.1.7-py3-none-any.whl.metadata (3.0 kB)\n",
      "Collecting kombu<6.0,>=5.3.4 (from celery>=4.1.1->excalibur-py)\n",
      "  Downloading kombu-5.3.5-py3-none-any.whl.metadata (3.1 kB)\n",
      "Requirement already satisfied: python-dateutil>=2.8.2 in /home/gabrielhso/.local/lib/python3.10/site-packages (from celery>=4.1.1->excalibur-py) (2.8.2)\n",
      "Requirement already satisfied: tzdata>=2022.7 in /home/gabrielhso/.local/lib/python3.10/site-packages (from celery>=4.1.1->excalibur-py) (2024.1)\n",
      "Collecting vine<6.0,>=5.1.0 (from celery>=4.1.1->excalibur-py)\n",
      "  Downloading vine-5.1.0-py3-none-any.whl.metadata (2.7 kB)\n",
      "INFO: pip is looking at multiple versions of flask to determine which version is compatible with other requirements. This could take a while.\n",
      "Collecting Flask>=1.0.2 (from excalibur-py)\n",
      "  Downloading flask-3.0.1-py3-none-any.whl.metadata (3.6 kB)\n",
      "  Downloading flask-3.0.0-py3-none-any.whl.metadata (3.6 kB)\n",
      "  Downloading flask-2.3.3-py3-none-any.whl.metadata (3.6 kB)\n",
      "  Downloading Flask-2.3.2-py3-none-any.whl.metadata (3.7 kB)\n",
      "  Downloading Flask-2.3.1-py3-none-any.whl.metadata (3.7 kB)\n",
      "  Downloading Flask-2.3.0-py3-none-any.whl.metadata (3.7 kB)\n",
      "  Downloading Flask-2.2.5-py3-none-any.whl.metadata (3.9 kB)\n",
      "INFO: pip is still looking at multiple versions of flask to determine which version is compatible with other requirements. This could take a while.\n",
      "  Downloading Flask-2.2.4-py3-none-any.whl.metadata (3.9 kB)\n",
      "  Downloading Flask-2.2.3-py3-none-any.whl.metadata (3.9 kB)\n",
      "  Downloading Flask-2.2.2-py3-none-any.whl.metadata (3.9 kB)\n",
      "  Downloading Flask-2.2.1-py3-none-any.whl.metadata (3.9 kB)\n",
      "  Downloading Flask-2.2.0-py3-none-any.whl.metadata (3.9 kB)\n",
      "INFO: This is taking longer than usual. You might need to provide the dependency resolver with stricter constraints to reduce runtime. See https://pip.pypa.io/warnings/backtracking for guidance. If you want to abort this run, press Ctrl + C.\n",
      "  Downloading Flask-2.1.3-py3-none-any.whl.metadata (3.9 kB)\n",
      "  Downloading Flask-2.1.2-py3-none-any.whl.metadata (3.9 kB)\n",
      "  Downloading Flask-2.1.1-py3-none-any.whl.metadata (3.9 kB)\n",
      "  Downloading Flask-2.1.0-py3-none-any.whl.metadata (3.9 kB)\n",
      "  Downloading Flask-2.0.3-py3-none-any.whl.metadata (3.8 kB)\n",
      "  Downloading Flask-2.0.2-py3-none-any.whl.metadata (3.8 kB)\n",
      "  Downloading Flask-2.0.1-py3-none-any.whl.metadata (3.8 kB)\n",
      "  Downloading Flask-2.0.0-py3-none-any.whl.metadata (3.8 kB)\n",
      "  Downloading Flask-1.1.4-py2.py3-none-any.whl.metadata (4.6 kB)\n",
      "Collecting Jinja2<3.0,>=2.10.1 (from Flask>=1.0.2->excalibur-py)\n",
      "  Downloading Jinja2-2.11.3-py2.py3-none-any.whl.metadata (3.5 kB)\n",
      "Collecting itsdangerous<2.0,>=0.24 (from Flask>=1.0.2->excalibur-py)\n",
      "  Downloading itsdangerous-1.1.0-py2.py3-none-any.whl (16 kB)\n",
      "Collecting Flask>=1.0.2 (from excalibur-py)\n",
      "  Downloading Flask-1.1.3-py2.py3-none-any.whl.metadata (4.6 kB)\n",
      "  Downloading Flask-1.1.2-py2.py3-none-any.whl.metadata (4.6 kB)\n",
      "Requirement already satisfied: Jinja2>=2.10.1 in /usr/lib/python3/dist-packages (from Flask>=1.0.2->excalibur-py) (3.0.3)\n",
      "Collecting itsdangerous>=0.24 (from Flask>=1.0.2->excalibur-py)\n",
      "  Downloading itsdangerous-2.1.2-py3-none-any.whl.metadata (2.9 kB)\n",
      "Collecting typing-extensions>=4.6.0 (from SQLAlchemy>=1.2.12->excalibur-py)\n",
      "  Downloading typing_extensions-4.10.0-py3-none-any.whl.metadata (3.0 kB)\n",
      "Collecting greenlet!=0.4.17 (from SQLAlchemy>=1.2.12->excalibur-py)\n",
      "  Downloading greenlet-3.0.3-cp310-cp310-manylinux_2_24_x86_64.manylinux_2_28_x86_64.whl.metadata (3.8 kB)\n",
      "Collecting prompt-toolkit>=3.0.36 (from click-repl>=0.2.0->celery>=4.1.1->excalibur-py)\n",
      "  Downloading prompt_toolkit-3.0.43-py3-none-any.whl.metadata (6.5 kB)\n",
      "Collecting amqp<6.0.0,>=5.1.1 (from kombu<6.0,>=5.3.4->celery>=4.1.1->excalibur-py)\n",
      "  Downloading amqp-5.2.0-py3-none-any.whl.metadata (8.9 kB)\n",
      "Requirement already satisfied: et-xmlfile in /home/gabrielhso/.local/lib/python3.10/site-packages (from openpyxl>=2.5.8->camelot-py>=0.7.1->camelot-py[cv]>=0.7.1->excalibur-py) (1.1.0)\n",
      "Requirement already satisfied: pytz>=2020.1 in /home/gabrielhso/.local/lib/python3.10/site-packages (from pandas>=0.23.4->camelot-py>=0.7.1->camelot-py[cv]>=0.7.1->excalibur-py) (2024.1)\n",
      "Requirement already satisfied: charset-normalizer>=2.0.0 in /home/gabrielhso/.local/lib/python3.10/site-packages (from pdfminer.six>=20200726->camelot-py>=0.7.1->camelot-py[cv]>=0.7.1->excalibur-py) (3.3.2)\n",
      "Requirement already satisfied: cryptography>=36.0.0 in /home/gabrielhso/.local/lib/python3.10/site-packages (from pdfminer.six>=20200726->camelot-py>=0.7.1->camelot-py[cv]>=0.7.1->excalibur-py) (42.0.5)\n",
      "Requirement already satisfied: six>=1.5 in /usr/lib/python3/dist-packages (from python-dateutil>=2.8.2->celery>=4.1.1->excalibur-py) (1.16.0)\n",
      "Requirement already satisfied: cffi>=1.12 in /home/gabrielhso/.local/lib/python3.10/site-packages (from cryptography>=36.0.0->pdfminer.six>=20200726->camelot-py>=0.7.1->camelot-py[cv]>=0.7.1->excalibur-py) (1.16.0)\n",
      "Requirement already satisfied: wcwidth in /usr/lib/python3/dist-packages (from prompt-toolkit>=3.0.36->click-repl>=0.2.0->celery>=4.1.1->excalibur-py) (0.2.5)\n",
      "Requirement already satisfied: pycparser in /home/gabrielhso/.local/lib/python3.10/site-packages (from cffi>=1.12->cryptography>=36.0.0->pdfminer.six>=20200726->camelot-py>=0.7.1->camelot-py[cv]>=0.7.1->excalibur-py) (2.21)\n",
      "Downloading excalibur_py-0.4.3-py3-none-any.whl (1.5 MB)\n",
      "\u001b[2K   \u001b[38;2;114;156;31m━━━━━━━━━━━━━━━━━━━━━━━━━━━━━━━━━━━━━━━━\u001b[0m \u001b[32m1.5/1.5 MB\u001b[0m \u001b[31m2.7 MB/s\u001b[0m eta \u001b[36m0:00:00\u001b[0mm eta \u001b[36m0:00:01\u001b[0m[36m0:00:01\u001b[0m0m\n",
      "\u001b[?25hDownloading celery-5.3.6-py3-none-any.whl (422 kB)\n",
      "\u001b[2K   \u001b[38;2;114;156;31m━━━━━━━━━━━━━━━━━━━━━━━━━━━━━━━━━━━━━━━━\u001b[0m \u001b[32m422.0/422.0 kB\u001b[0m \u001b[31m7.9 MB/s\u001b[0m eta \u001b[36m0:00:00\u001b[0m0 MB/s\u001b[0m eta \u001b[36m0:00:01\u001b[0m\n",
      "\u001b[?25hDownloading click-8.1.7-py3-none-any.whl (97 kB)\n",
      "\u001b[2K   \u001b[38;2;114;156;31m━━━━━━━━━━━━━━━━━━━━━━━━━━━━━━━━━━━━━━━━\u001b[0m \u001b[32m97.9/97.9 kB\u001b[0m \u001b[31m6.5 MB/s\u001b[0m eta \u001b[36m0:00:00\u001b[0m\n",
      "\u001b[?25hDownloading Flask-1.1.2-py2.py3-none-any.whl (94 kB)\n",
      "\u001b[2K   \u001b[38;2;114;156;31m━━━━━━━━━━━━━━━━━━━━━━━━━━━━━━━━━━━━━━━━\u001b[0m \u001b[32m94.6/94.6 kB\u001b[0m \u001b[31m8.1 MB/s\u001b[0m eta \u001b[36m0:00:00\u001b[0m\n",
      "\u001b[?25hDownloading SQLAlchemy-2.0.27-cp310-cp310-manylinux_2_17_x86_64.manylinux2014_x86_64.whl (3.1 MB)\n",
      "\u001b[2K   \u001b[38;2;114;156;31m━━━━━━━━━━━━━━━━━━━━━━━━━━━━━━━━━━━━━━━━\u001b[0m \u001b[32m3.1/3.1 MB\u001b[0m \u001b[31m7.1 MB/s\u001b[0m eta \u001b[36m0:00:00\u001b[0m MB/s\u001b[0m eta \u001b[36m0:00:01\u001b[0m:01\u001b[0mm\n",
      "\u001b[?25hDownloading Werkzeug-0.16.1-py2.py3-none-any.whl (327 kB)\n",
      "\u001b[2K   \u001b[38;2;114;156;31m━━━━━━━━━━━━━━━━━━━━━━━━━━━━━━━━━━━━━━━━\u001b[0m \u001b[32m327.4/327.4 kB\u001b[0m \u001b[31m8.7 MB/s\u001b[0m eta \u001b[36m0:00:00\u001b[0m[31m11.0 MB/s\u001b[0m eta \u001b[36m0:00:01\u001b[0m\n",
      "\u001b[?25hDownloading billiard-4.2.0-py3-none-any.whl (86 kB)\n",
      "\u001b[2K   \u001b[38;2;114;156;31m━━━━━━━━━━━━━━━━━━━━━━━━━━━━━━━━━━━━━━━━\u001b[0m \u001b[32m86.7/86.7 kB\u001b[0m \u001b[31m5.2 MB/s\u001b[0m eta \u001b[36m0:00:00\u001b[0m\n",
      "\u001b[?25hDownloading click_didyoumean-0.3.0-py3-none-any.whl (2.7 kB)\n",
      "Downloading click_repl-0.3.0-py3-none-any.whl (10 kB)\n",
      "Downloading greenlet-3.0.3-cp310-cp310-manylinux_2_24_x86_64.manylinux_2_28_x86_64.whl (616 kB)\n",
      "\u001b[2K   \u001b[38;2;114;156;31m━━━━━━━━━━━━━━━━━━━━━━━━━━━━━━━━━━━━━━━━\u001b[0m \u001b[32m616.0/616.0 kB\u001b[0m \u001b[31m9.0 MB/s\u001b[0m eta \u001b[36m0:00:00\u001b[0m[31m11.5 MB/s\u001b[0m eta \u001b[36m0:00:01\u001b[0m\n",
      "\u001b[?25hDownloading itsdangerous-2.1.2-py3-none-any.whl (15 kB)\n",
      "Downloading kombu-5.3.5-py3-none-any.whl (200 kB)\n",
      "\u001b[2K   \u001b[38;2;114;156;31m━━━━━━━━━━━━━━━━━━━━━━━━━━━━━━━━━━━━━━━━\u001b[0m \u001b[32m200.0/200.0 kB\u001b[0m \u001b[31m10.5 MB/s\u001b[0m eta \u001b[36m0:00:00\u001b[0m\n",
      "\u001b[?25hDownloading typing_extensions-4.10.0-py3-none-any.whl (33 kB)\n",
      "Downloading vine-5.1.0-py3-none-any.whl (9.6 kB)\n",
      "Downloading amqp-5.2.0-py3-none-any.whl (50 kB)\n",
      "\u001b[2K   \u001b[38;2;114;156;31m━━━━━━━━━━━━━━━━━━━━━━━━━━━━━━━━━━━━━━━━\u001b[0m \u001b[32m50.9/50.9 kB\u001b[0m \u001b[31m11.0 MB/s\u001b[0m eta \u001b[36m0:00:00\u001b[0m\n"
     ]
    },
    {
     "name": "stdout",
     "output_type": "stream",
     "text": [
      "\u001b[?25hDownloading prompt_toolkit-3.0.43-py3-none-any.whl (386 kB)\n",
      "\u001b[2K   \u001b[38;2;114;156;31m━━━━━━━━━━━━━━━━━━━━━━━━━━━━━━━━━━━━━━━━\u001b[0m \u001b[32m386.1/386.1 kB\u001b[0m \u001b[31m9.0 MB/s\u001b[0m eta \u001b[36m0:00:00\u001b[0m[31m9.2 MB/s\u001b[0m eta \u001b[36m0:00:01\u001b[0m\n",
      "\u001b[?25hInstalling collected packages: Werkzeug, vine, typing-extensions, prompt-toolkit, itsdangerous, greenlet, configparser, Click, billiard, SQLAlchemy, Flask, click-repl, click-plugins, click-didyoumean, amqp, kombu, celery, excalibur-py\n",
      "Successfully installed Click-8.1.7 Flask-1.1.2 SQLAlchemy-2.0.27 Werkzeug-0.16.1 amqp-5.2.0 billiard-4.2.0 celery-5.3.6 click-didyoumean-0.3.0 click-plugins-1.1.1 click-repl-0.3.0 configparser-3.5.3 excalibur-py-0.4.3 greenlet-3.0.3 itsdangerous-2.1.2 kombu-5.3.5 prompt-toolkit-3.0.43 typing-extensions-4.10.0 vine-5.1.0\n",
      "Defaulting to user installation because normal site-packages is not writeable\n",
      "Collecting PyPDF2<3.0\n",
      "  Downloading pypdf2-2.12.1-py3-none-any.whl.metadata (6.6 kB)\n",
      "Downloading pypdf2-2.12.1-py3-none-any.whl (222 kB)\n",
      "\u001b[2K   \u001b[38;2;114;156;31m━━━━━━━━━━━━━━━━━━━━━━━━━━━━━━━━━━━━━━━\u001b[0m \u001b[32m222.8/222.8 kB\u001b[0m \u001b[31m621.0 kB/s\u001b[0m eta \u001b[36m0:00:00\u001b[0m1m630.1 kB/s\u001b[0m eta \u001b[36m0:00:01\u001b[0m\n",
      "\u001b[?25hInstalling collected packages: PyPDF2\n",
      "  Attempting uninstall: PyPDF2\n",
      "    Found existing installation: PyPDF2 3.0.1\n",
      "    Uninstalling PyPDF2-3.0.1:\n",
      "      Successfully uninstalled PyPDF2-3.0.1\n",
      "Successfully installed PyPDF2-2.12.1\n",
      "\u001b[1;31mE: \u001b[0mCould not open lock file /var/lib/dpkg/lock-frontend - open (13: Permission denied)\u001b[0m\n",
      "\u001b[1;31mE: \u001b[0mUnable to acquire the dpkg frontend lock (/var/lib/dpkg/lock-frontend), are you root?\u001b[0m\n"
     ]
    }
   ],
   "source": [
    "!pip install ghostscript\n",
    "!pip install camelot-py[cv]\n",
    "!pip install excalibur-py\n",
    "!pip install 'PyPDF2<3.0'\n",
    "!apt install ghostscript python3-tk"
   ]
  },
  {
   "cell_type": "markdown",
   "metadata": {},
   "source": [
    "### Exercício 1\n",
    "\n",
    "Crie uma função em Python que receba o nome de um arquivo PDF e retorne a quantidade de páginas que o arquivo contém.\n",
    "\n",
    "Responda alterando o código da função abaixo.\n",
    "\n",
    "Obs:\n",
    "\n",
    "- O nome e argumentos da função não devem ser alterados.\n",
    "- Considere que o código de correção já tem um import assim: `import PyPDF2`."
   ]
  },
  {
   "cell_type": "code",
   "execution_count": null,
   "metadata": {},
   "outputs": [],
   "source": [
    "# Altere esta função\n",
    "import PyPDF2\n",
    "\n",
    "def contar_paginas(caminho_arquivo):\n",
    "    caminho_arquivo\n",
    "    return 0"
   ]
  },
  {
   "cell_type": "markdown",
   "metadata": {},
   "source": [
    "Vamos conferir um exemplo de execução (esperamos obter `3` como retorno da função):"
   ]
  },
  {
   "cell_type": "code",
   "execution_count": null,
   "metadata": {},
   "outputs": [],
   "source": [
    "contar_paginas(\"mochileiro.pdf\")"
   ]
  },
  {
   "cell_type": "markdown",
   "metadata": {},
   "source": [
    "Abaixo, seguem alguns testes que rodam localmente e verificam sua resposta."
   ]
  },
  {
   "cell_type": "code",
   "execution_count": null,
   "metadata": {},
   "outputs": [],
   "source": [
    "assert contar_paginas(\"mochileiro.pdf\") == 3, \"O número de páginas esperado era 3\"\n",
    "assert contar_paginas(\"p_value_misconceptions.pdf\") == 6, \"O número de páginas esperado era 6\""
   ]
  },
  {
   "cell_type": "markdown",
   "metadata": {},
   "source": [
    "Quando estiver confiante que sua resposta está correta, clique no botão abaixo para fazer o envio."
   ]
  },
  {
   "cell_type": "code",
   "execution_count": null,
   "metadata": {},
   "outputs": [],
   "source": [
    "ia.sender(answer=\"contar_paginas\", task=\"pdf\", question=\"ex01\", answer_type=\"pycode\")"
   ]
  },
  {
   "cell_type": "markdown",
   "metadata": {},
   "source": [
    "### Exercício 2\n",
    "\n",
    "Crie uma função em Python que recebe como entrada:\n",
    "- o caminho de um arquivo PDF\n",
    "- o número de uma página\n",
    "\n",
    "A função deve retornar todo texto contido na página indicada.\n",
    "\n",
    "Responda alterando o código da função abaixo.\n",
    "\n",
    "Obs:\n",
    "\n",
    "- O nome e argumentos da função não devem ser alterados.\n",
    "- Considere que o código de correção já tem um import assim: `import PyPDF2`."
   ]
  },
  {
   "cell_type": "code",
   "execution_count": null,
   "metadata": {},
   "outputs": [],
   "source": [
    "# Altere esta função\n",
    "import PyPDF2\n",
    "\n",
    "def extrair_texto_pagina(caminho_arquivo, num_pagina):\n",
    "    return \"\""
   ]
  },
  {
   "cell_type": "markdown",
   "metadata": {},
   "source": [
    "Veja um exemplo de execução da função:"
   ]
  },
  {
   "cell_type": "code",
   "execution_count": null,
   "metadata": {},
   "outputs": [],
   "source": [
    "extrair_texto_pagina(\"comunicado_condominio.pdf\", 1)"
   ]
  },
  {
   "cell_type": "markdown",
   "metadata": {},
   "source": [
    "Confira se obteve o resultado correto:\n",
    "\n",
    "```python\n",
    "\"Atenciosamente,\\nAna Melo\\nSíndico do Condomínio das Acacias\"\n",
    "```"
   ]
  },
  {
   "cell_type": "markdown",
   "metadata": {},
   "source": [
    "Abaixo, seguem alguns testes que rodam localmente e verificam sua resposta."
   ]
  },
  {
   "cell_type": "code",
   "execution_count": null,
   "metadata": {},
   "outputs": [],
   "source": [
    "assert extrair_texto_pagina(\"mochileiro.pdf\", 0) == \"\", f\"Para o arquivo mochileiro.pdf, página zero, era esperado que retornasse string vazia (a página contém imagens apenas)\"\n",
    "\n",
    "esperado = \"Atenciosamente,\\nAna Melo\\nSíndico do Condomínio das Acacias\"\n",
    "obtido = extrair_texto_pagina(\"comunicado_condominio.pdf\", 1)\n",
    "assert  obtido == esperado, f\"\\nEsperava: {esperado}\\n\\nObteve: {obtido}\""
   ]
  },
  {
   "cell_type": "markdown",
   "metadata": {},
   "source": [
    "Quando estiver confiante que sua resposta está correta, clique no botão abaixo para fazer o envio."
   ]
  },
  {
   "cell_type": "code",
   "execution_count": null,
   "metadata": {},
   "outputs": [],
   "source": [
    "ia.sender(answer=\"extrair_texto_pagina\", task=\"pdf\", question=\"ex02\", answer_type=\"pycode\")"
   ]
  },
  {
   "cell_type": "markdown",
   "metadata": {},
   "source": [
    "### Exercício 3\n",
    "\n",
    "Crie uma função em Python que recebe como entrada:\n",
    "- o caminho de um arquivo PDF\n",
    "\n",
    "A função deve contar o número de palavras contidas no PDF.\n",
    "\n",
    "Responda alterando o código da função abaixo.\n",
    "\n",
    "Obs:\n",
    "\n",
    "- O nome e argumentos da função não devem ser alterados.\n",
    "- Considere que o código de correção já tem um import assim: `import PyPDF2`."
   ]
  },
  {
   "cell_type": "code",
   "execution_count": null,
   "metadata": {},
   "outputs": [],
   "source": [
    "# Altere esta função\n",
    "import PyPDF2\n",
    "\n",
    "def contar_palavras(caminho_arquivo):\n",
    "    return \"\""
   ]
  },
  {
   "cell_type": "markdown",
   "metadata": {},
   "source": [
    "Veja um exemplo de execução da função (o resultado esperado é `698`)"
   ]
  },
  {
   "cell_type": "code",
   "execution_count": null,
   "metadata": {},
   "outputs": [],
   "source": [
    "contar_palavras(\"mochileiro.pdf\")"
   ]
  },
  {
   "cell_type": "markdown",
   "metadata": {},
   "source": [
    "Abaixo, seguem alguns testes que rodam localmente e verificam sua resposta."
   ]
  },
  {
   "cell_type": "code",
   "execution_count": null,
   "metadata": {},
   "outputs": [],
   "source": [
    "obtido = contar_palavras(\"mochileiro.pdf\")\n",
    "assert obtido == 698, f\"Esperava 698 para o mochileiro.pdf, obteve {obtido}\"\n",
    "\n",
    "obtido = contar_palavras(\"comunicado_condominio.pdf\")\n",
    "assert obtido == 279, f\"Esperava 279 para o comunicado_condominio.pdf, obteve {obtido}\""
   ]
  },
  {
   "cell_type": "markdown",
   "metadata": {},
   "source": [
    "Quando estiver confiante que sua resposta está correta, clique no botão abaixo para fazer o envio."
   ]
  },
  {
   "cell_type": "code",
   "execution_count": null,
   "metadata": {},
   "outputs": [],
   "source": [
    "ia.sender(answer=\"contar_palavras\", task=\"pdf\", question=\"ex03\", answer_type=\"pycode\")"
   ]
  },
  {
   "cell_type": "markdown",
   "metadata": {},
   "source": [
    "### Exercício 4\n",
    "\n",
    "É importante conseguir fazer buscas em arquivos PDF. Assim, podemos criar rotinas que automatizem a identificação de oportunidades para uma empresa. Por exemplo, ao invés de um humano ler todas as páginas de um diário oficial, podemos criar uma rotina python que identifique as páginas que falam de processos de licitação.\n",
    "\n",
    "Crie um a função que recebe\n",
    "- O caminho de um arquivo PDF\n",
    "- Uma lista de palavras\n",
    "\n",
    "A função deve identificar em quais páginas cada uma das palavras é mencionada (de maneira completa ou substring).\n",
    "\n",
    "Retorne um dicionário onde as chaves são as palavras e os valores são uma lista com o ID das páginas onde a palavra foi identificada.\n",
    "\n",
    "Exemplo de entrada:\n",
    " - arquivo: `mochileiro.pdf`\n",
    " - palavras: `[\"genialidade\", \"lucro\", \"humor\"]`\n",
    "\n",
    "Saída esperada:\n",
    "\n",
    "```python\n",
    "{'humor': [1, 2], 'genialidade': [2]}\n",
    "```\n",
    "\n",
    "Responda alterando o código da função abaixo.\n",
    "\n",
    "Obs:\n",
    "\n",
    "- O nome e argumentos da função não devem ser alterados.\n",
    "- Considere que o código de correção já tem um import assim: `import PyPDF2`.\n",
    "- Palavras sem ocorrência não devem aparecer no dicionário de resposta.\n",
    "- Ignore o case (maiúsculo / minúsculo), compare como quiser mas retorne tudo em minúsculo."
   ]
  },
  {
   "cell_type": "code",
   "execution_count": null,
   "metadata": {},
   "outputs": [],
   "source": [
    "# Altere esta função\n",
    "import PyPDF2\n",
    "\n",
    "def identificar_palavras(caminho_arquivo, palavras):\n",
    "    return {}"
   ]
  },
  {
   "cell_type": "markdown",
   "metadata": {},
   "source": [
    "Veja um exemplo de execução:"
   ]
  },
  {
   "cell_type": "code",
   "execution_count": null,
   "metadata": {},
   "outputs": [],
   "source": [
    "identificar_palavras(\"mochileiro.pdf\", [\"genialidade\", \"lucro\", \"humor\"])"
   ]
  },
  {
   "cell_type": "markdown",
   "metadata": {},
   "source": [
    "Abaixo, seguem alguns testes que rodam localmente e verificam sua resposta."
   ]
  },
  {
   "cell_type": "code",
   "execution_count": null,
   "metadata": {},
   "outputs": [],
   "source": [
    "assert identificar_palavras(\n",
    "            \"mochileiro.pdf\", [\"genialidade\", \"lucro\", \"humor\"]\n",
    "        ) == {\"humor\": [1, 2], \"genialidade\": [2]}"
   ]
  },
  {
   "cell_type": "markdown",
   "metadata": {},
   "source": [
    "Quando estiver confiante que sua resposta está correta, clique no botão abaixo para fazer o envio."
   ]
  },
  {
   "cell_type": "code",
   "execution_count": null,
   "metadata": {},
   "outputs": [],
   "source": [
    "ia.sender(answer=\"identificar_palavras\", task=\"pdf\", question=\"ex04\", answer_type=\"pycode\")"
   ]
  },
  {
   "cell_type": "markdown",
   "metadata": {},
   "source": [
    "### Exercício 5\n",
    "\n",
    "Crie uma função que retorne a primeira tabela lida de um PDF.\n",
    "\n",
    "A função recebe como entrada o caminho de um arquivo PDF e deve retornar um **DataFrame**.\n",
    "\n",
    "Obs:\n",
    "\n",
    "- O nome e argumentos da função não devem ser alterados.\n",
    "- Considere que o código de correção já tem um import assim: `import camelot`.\n",
    "- Você precisará tratar o cabeçalho da tabela (nome das colunas).\n",
    "- Não é necessário fazer limpezas ou conversões de tipos."
   ]
  },
  {
   "cell_type": "code",
   "execution_count": null,
   "metadata": {},
   "outputs": [],
   "source": [
    "# Altere esta função\n",
    "import camelot\n",
    "\n",
    "def ler_tabela(caminho_arquivo):\n",
    "    return {}"
   ]
  },
  {
   "cell_type": "markdown",
   "metadata": {},
   "source": [
    "Veja um exemplo da execução da função:"
   ]
  },
  {
   "cell_type": "code",
   "execution_count": null,
   "metadata": {},
   "outputs": [],
   "source": [
    "ler_tabela(\"profissoes.pdf\")"
   ]
  },
  {
   "cell_type": "markdown",
   "metadata": {},
   "source": [
    "É esperado que ela retorne o **DataFrame** assim:\n",
    "\n",
    "|    | Profissão   |   Salário Médio |   Percentil 25% (R$) |   Percentil 75% (R$) |\n",
    "|---:|:------------|----------------:|---------------------:|---------------------:|\n",
    "|  1 | Engenheiro  |           8.500 |                7.000 |               10.000 |\n",
    "|  2 | Médico      |          12.000 |               10.000 |               14.000 |\n",
    "|  3 | Professor   |           5.000 |                4.000 |                6.000 |\n",
    "|  4 | Advogado    |           9.200 |                7.500 |               11.000 |\n",
    "|  5 | Programador |           7.000 |                6.000 |                8.000 |"
   ]
  },
  {
   "cell_type": "markdown",
   "metadata": {},
   "source": [
    "Quando estiver confiante que sua resposta está correta, clique no botão abaixo para fazer o envio."
   ]
  },
  {
   "cell_type": "code",
   "execution_count": null,
   "metadata": {},
   "outputs": [],
   "source": [
    "ia.sender(answer=\"ler_tabela\", task=\"pdf\", question=\"ex05\", answer_type=\"pycode\")"
   ]
  },
  {
   "cell_type": "markdown",
   "metadata": {},
   "source": [
    "### Exercício 6\n",
    "\n",
    "Crie uma função que retorne a soma de uma coluna da primeira tabela lida de um PDF.\n",
    "\n",
    "A função recebe como entrada:\n",
    "- O caminho de um arquivo PDF.\n",
    "- O número `k` de uma coluna (começando em zero).\n",
    "\n",
    "A função deve retornar a soma dos valores da coluna `k` da tabela.\n",
    "\n",
    "Obs:\n",
    "\n",
    "- O nome e argumentos da função não devem ser alterados.\n",
    "- Considere que o código de correção já tem um import assim: `import camelot`.\n",
    "- Você precisará tratar o cabeçalho da tabela (nome das colunas).\n",
    "- Pode ser necessário realizar conversões de tipos.\n",
    "- Retorne um valor **inteiro**, ignorando a parte decimal do resultado da soma."
   ]
  },
  {
   "cell_type": "code",
   "execution_count": null,
   "metadata": {},
   "outputs": [],
   "source": [
    "# Altere esta função\n",
    "import camelot\n",
    "\n",
    "def somar_coluna(caminho_arquivo, k_col):\n",
    "    return {}"
   ]
  },
  {
   "cell_type": "markdown",
   "metadata": {},
   "source": [
    "Veja um exemplo da execução da função (o resultado esperado é `41700`):"
   ]
  },
  {
   "cell_type": "code",
   "execution_count": null,
   "metadata": {},
   "outputs": [],
   "source": [
    "somar_coluna(\"profissoes.pdf\", 1)"
   ]
  },
  {
   "cell_type": "markdown",
   "metadata": {},
   "source": [
    "Abaixo, seguem alguns testes que rodam localmente e verificam sua resposta."
   ]
  },
  {
   "cell_type": "code",
   "execution_count": null,
   "metadata": {},
   "outputs": [],
   "source": [
    "assert somar_coluna(\"profissoes.pdf\", 1) == 41700, \"Retornou o valor errado para a soma!\""
   ]
  },
  {
   "cell_type": "markdown",
   "metadata": {},
   "source": [
    "Quando estiver confiante que sua resposta está correta, clique no botão abaixo para fazer o envio."
   ]
  },
  {
   "cell_type": "code",
   "execution_count": null,
   "metadata": {},
   "outputs": [],
   "source": [
    "ia.sender(answer=\"somar_coluna\", task=\"pdf\", question=\"ex06\", answer_type=\"pycode\")"
   ]
  },
  {
   "cell_type": "markdown",
   "metadata": {},
   "source": [
    "### Exercício 7\n",
    "\n",
    "Crie uma função que retorne uma lista com o tamanho (quantidade de linhas, quantidade de colunas) de todas as tabelas lidas em um PDF.\n",
    "\n",
    "A função recebe como entrada o caminho de um arquivo PDF.\n",
    "\n",
    "A função deve retornar uma lista onde cada elemento é uma sublista com a quantidade de linhas e quantidade de colunas (nesta ordem) de cada tabela.\n",
    "\n",
    "Obs:\n",
    "\n",
    "- O nome e argumentos da função não devem ser alterados.\n",
    "- Considere que o código de correção já tem um import assim: `import camelot`."
   ]
  },
  {
   "cell_type": "code",
   "execution_count": null,
   "metadata": {},
   "outputs": [],
   "source": [
    "# Altere esta função\n",
    "import camelot\n",
    "\n",
    "def obter_dimensoes_tabelas(caminho_arquivo):\n",
    "    return {}"
   ]
  },
  {
   "cell_type": "markdown",
   "metadata": {},
   "source": [
    "Veja um exemplo da execução da função:"
   ]
  },
  {
   "cell_type": "code",
   "execution_count": null,
   "metadata": {},
   "outputs": [],
   "source": [
    "obter_dimensoes_tabelas(\"profissoes.pdf\")"
   ]
  },
  {
   "cell_type": "markdown",
   "metadata": {},
   "source": [
    "É esperado que o retorno obtido seja:\n",
    "\n",
    "```python\n",
    "[[5, 4], [5, 2]]\n",
    "```"
   ]
  },
  {
   "cell_type": "markdown",
   "metadata": {},
   "source": [
    "Abaixo, seguem alguns testes que rodam localmente e verificam sua resposta."
   ]
  },
  {
   "cell_type": "code",
   "execution_count": null,
   "metadata": {},
   "outputs": [],
   "source": [
    "assert obter_dimensoes_tabelas(\"profissoes.pdf\") == [[5, 4], [5, 2]], \"Retorno incorreto!\""
   ]
  },
  {
   "cell_type": "markdown",
   "metadata": {},
   "source": [
    "Quando estiver confiante que sua resposta está correta, clique no botão abaixo para fazer o envio."
   ]
  },
  {
   "cell_type": "code",
   "execution_count": null,
   "metadata": {},
   "outputs": [],
   "source": [
    "ia.sender(answer=\"obter_dimensoes_tabelas\", task=\"pdf\", question=\"ex07\", answer_type=\"pycode\")"
   ]
  },
  {
   "cell_type": "markdown",
   "metadata": {},
   "source": [
    "### Exercício 8\n",
    "\n",
    "Por enquanto, trabalhamos apenas com PDFs com tabelas contendo bordas bem definidas, por exemplo:\n",
    "\n",
    "<img src=\"https://atd-insper.s3.us-east-2.amazonaws.com/aula02/relatorio_aula02.png\">\n",
    "\n",
    "O desenvolvimento de extração de dados de PDF demanda soluções personalizadas para cada fonte de dados. Os arquivos PDF possuem uma estrutura complexa e podem ser criados de maneiras diferentes. Cada fonte de dados pode adotar diferentes métodos de formatação, layout e organização em seus documentos PDF.\n",
    "\n",
    "Isso resulta em variações significativas na forma como os dados estão estruturados dentro desses arquivos. Portanto, é essencial adaptar as soluções de extração para cada fonte específica, a fim de interpretar corretamente a estrutura do PDF e extrair os dados desejados.\n",
    "\n",
    "Veja, por exemplo, parte do relatório 3T23 do Grupo Casas Bahia. Tente extrair a primeira tabela com o mesmo código utilizado no exercício 05. Irá funcionar?!\n",
    "\n",
    "<img src=\"https://atd-insper.s3.us-east-2.amazonaws.com/aula02/report_casas_bahia_3t23.png\">\n",
    "\n",
    "\n",
    "Neste exercícios, você deve trabalhar com parâmetros no `camelot` para conseguir fazer a extração de uma tabela sem bordas bem definidas.\n",
    "\n",
    "Crie uma função que recebe:\n",
    "- O caminho de um PDF.\n",
    "- O número `n` de uma página.\n",
    "\n",
    "A função deve retornar um **DataFrame** referente à primeira tabela da `n`-ésima página do PDF.\n",
    "\n",
    "Obs:\n",
    "\n",
    "- O nome e argumentos da função não devem ser alterados.\n",
    "- Considere que o código de correção já tem um import assim: `import camelot`.\n",
    "- Faça limpezas necessárias\n",
    "- Leia a documentação https://camelot-py.readthedocs.io/en/master/api.html#camelot.read_pdf e explore, dentre outros, o parâmetro `flavor`."
   ]
  },
  {
   "cell_type": "code",
   "execution_count": null,
   "metadata": {},
   "outputs": [],
   "source": [
    "# Altere esta função\n",
    "import camelot\n",
    "\n",
    "def ler_tabela_sem_bordas(caminho_arquivo, n_pag):\n",
    "    return {}"
   ]
  },
  {
   "cell_type": "markdown",
   "metadata": {},
   "source": [
    "Veja um exemplo da execução da função:"
   ]
  },
  {
   "cell_type": "code",
   "execution_count": null,
   "metadata": {},
   "outputs": [],
   "source": [
    "ler_tabela_sem_bordas(\"casas_bahia_3t23.pdf\", 3)"
   ]
  },
  {
   "cell_type": "markdown",
   "metadata": {},
   "source": [
    "É esperado que o retorno obtido seja:\n",
    "\n",
    "\n",
    "|    | R$ milhões              |   3T23 |   3T22 | %       |   9M23 |   9M22 | %       |\n",
    "|---:|:------------------------|-------:|-------:|:--------|-------:|-------:|:--------|\n",
    "|  2 | GMV Total Bruto         |  9.814 | 10.23  | (4,1%)  | 31.773 | 31.909 | (0,4%)  |\n",
    "|  3 | GMV Omnicanal (1P)      |  8.508 |  9.082 | (6,3%)  | 27.538 | 28.251 | (2,5%)  |\n",
    "|  4 | GMV Lojas Físicas Bruto |  5.619 |  5.606 | 0,2%    | 17.73  | 17.063 | 3,9%    |\n",
    "|  5 | GMV Bruto (1P Online)   |  2.889 |  3.476 | (16,9%) |  9.808 | 11.188 | (12,3%) |\n",
    "|  6 | GMV Omnicanal (3P)      |  1.306 |  1.148 | 13,8%   |  4.235 |  3.658 | 15,8%   |"
   ]
  },
  {
   "cell_type": "markdown",
   "metadata": {},
   "source": [
    "Abaixo, seguem alguns testes que rodam localmente e verificam sua resposta."
   ]
  },
  {
   "cell_type": "code",
   "execution_count": null,
   "metadata": {},
   "outputs": [],
   "source": [
    "assert obter_dimensoes_tabelas(\"profissoes.pdf\") == [[5, 4], [5, 2]], \"Retorno incorreto!\""
   ]
  },
  {
   "cell_type": "markdown",
   "metadata": {},
   "source": [
    "Quando estiver confiante que sua resposta está correta, clique no botão abaixo para fazer o envio."
   ]
  },
  {
   "cell_type": "code",
   "execution_count": null,
   "metadata": {},
   "outputs": [],
   "source": [
    "ia.sender(answer=\"ler_tabela_sem_bordas\", task=\"pdf\", question=\"ex08\", answer_type=\"pycode\")"
   ]
  },
  {
   "cell_type": "markdown",
   "metadata": {},
   "source": [
    "## Conferir notas\n",
    "\n",
    "Vamos verificar se as notas foram gravadas nos exercícios!"
   ]
  },
  {
   "cell_type": "code",
   "execution_count": null,
   "metadata": {},
   "outputs": [],
   "source": [
    "ia.grades(task=\"pdf\")"
   ]
  },
  {
   "cell_type": "markdown",
   "metadata": {},
   "source": [
    "Vamos verificar se a nota da atividade está ok:"
   ]
  },
  {
   "cell_type": "code",
   "execution_count": null,
   "metadata": {},
   "outputs": [],
   "source": [
    "ia.grades(by=\"TASK\", task=\"pdf\")"
   ]
  },
  {
   "cell_type": "markdown",
   "metadata": {},
   "source": [
    "## Finalizando o trabalho"
   ]
  },
  {
   "cell_type": "markdown",
   "metadata": {},
   "source": [
    "Por hoje é só!"
   ]
  },
  {
   "cell_type": "markdown",
   "metadata": {},
   "source": [
    "## Referências\n",
    "\n",
    "- https://www.editoraarqueiro.com.br/media/upload/livros/GuiadefinitivoMochileiroGalaxias_Trecho.pdf\n",
    "- https://sixsigmadsi.com/wp-content/uploads/2020/10/A-Dirty-Dozen-Twelve-P-Value-Misconceptions.pdf\n",
    "- https://static.poder360.com.br/2022/11/Itau-3Q-2022.pdf\n",
    "- https://api.mziq.com/mzfilemanager/v2/d/ce9bff9f-fb19-49b9-9588-c4c6b7052c9c/37d12eba-956f-2252-6a57-4f2b9ff9ae8a?origin=2"
   ]
  }
 ],
 "metadata": {
  "kernelspec": {
   "display_name": "Python 3 (ipykernel)",
   "language": "python",
   "name": "python3"
  },
  "language_info": {
   "codemirror_mode": {
    "name": "ipython",
    "version": 3
   },
   "file_extension": ".py",
   "mimetype": "text/x-python",
   "name": "python",
   "nbconvert_exporter": "python",
   "pygments_lexer": "ipython3",
   "version": "3.10.12"
  }
 },
 "nbformat": 4,
 "nbformat_minor": 4
}
