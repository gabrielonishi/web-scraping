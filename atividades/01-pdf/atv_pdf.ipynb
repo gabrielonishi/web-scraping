{
 "cells": [
  {
   "cell_type": "markdown",
   "metadata": {},
   "source": [
    "# ATV PDF - Atividade para Entrega\n",
    "\n",
    "Nesta atividade, iremos extrair textos e tabelas de PDFs. Estes exercícios são para entrega e contam como uma atividade (**ATV**)."
   ]
  },
  {
   "cell_type": "markdown",
   "metadata": {
    "jp-MarkdownHeadingCollapsed": true
   },
   "source": [
    "## Insper Autograding\n",
    "\n",
    "Iremos utilizar uma ferramenta para correção automática. Ao responder os exercícios, será possível enviar a solução para um servidor, que dará feedback quase que instantâneo sobre a resposta.\n",
    "\n",
    "Além de já ter uma boa ideia sobre seu desempenho na atividade, não será necessário fazer a entrega do notebook pelo Blackboard pois o corretor já armazena suas soluções.\n",
    "\n",
    "Siga os passos deste notebook para realizar a instalação da biblioteca de correção de exercícios nos notebooks da disciplina!"
   ]
  },
  {
   "cell_type": "markdown",
   "metadata": {},
   "source": [
    "## Instalação\n",
    "\n",
    "Vamos instalar a biblioteca (este passo só precisa ser executado uma vez):"
   ]
  },
  {
   "cell_type": "code",
   "execution_count": 1,
   "metadata": {},
   "outputs": [
    {
     "name": "stdout",
     "output_type": "stream",
     "text": [
      "\u001b[33mWARNING: Skipping insperautograder as it is not installed.\u001b[0m\u001b[33m\n",
      "\u001b[0mCollecting git+https://github.com/macielcalebe/insperautograding.git\n",
      "  Cloning https://github.com/macielcalebe/insperautograding.git to /tmp/pip-req-build-zjr5k7zp\n",
      "  Running command git clone --filter=blob:none --quiet https://github.com/macielcalebe/insperautograding.git /tmp/pip-req-build-zjr5k7zp\n",
      "  Resolved https://github.com/macielcalebe/insperautograding.git to commit acdda51152774d9e1a979b426e41daa7a8a7793c\n",
      "  Preparing metadata (setup.py) ... \u001b[?25ldone\n",
      "\u001b[?25hRequirement already satisfied: ipython in /home/gabrielhso/Desktop/insper/2024.1/coding-interviews/class-repo/env/lib/python3.10/site-packages (from insperautograder==0.2.0) (8.22.1)\n",
      "Collecting ipywidgets\n",
      "  Downloading ipywidgets-8.1.2-py3-none-any.whl (139 kB)\n",
      "\u001b[2K     \u001b[38;2;114;156;31m━━━━━━━━━━━━━━━━━━━━━━━━━━━━━━━━━━━━━━━\u001b[0m \u001b[32m139.4/139.4 KB\u001b[0m \u001b[31m3.6 MB/s\u001b[0m eta \u001b[36m0:00:00\u001b[0m MB/s\u001b[0m eta \u001b[36m0:00:01\u001b[0m\n",
      "\u001b[?25hCollecting python-dotenv\n",
      "  Using cached python_dotenv-1.0.1-py3-none-any.whl (19 kB)\n",
      "Collecting requests\n",
      "  Using cached requests-2.31.0-py3-none-any.whl (62 kB)\n",
      "Requirement already satisfied: prompt-toolkit<3.1.0,>=3.0.41 in /home/gabrielhso/Desktop/insper/2024.1/coding-interviews/class-repo/env/lib/python3.10/site-packages (from ipython->insperautograder==0.2.0) (3.0.43)\n",
      "Requirement already satisfied: stack-data in /home/gabrielhso/Desktop/insper/2024.1/coding-interviews/class-repo/env/lib/python3.10/site-packages (from ipython->insperautograder==0.2.0) (0.6.3)\n",
      "Requirement already satisfied: jedi>=0.16 in /home/gabrielhso/Desktop/insper/2024.1/coding-interviews/class-repo/env/lib/python3.10/site-packages (from ipython->insperautograder==0.2.0) (0.19.1)\n",
      "Requirement already satisfied: traitlets>=5.13.0 in /home/gabrielhso/Desktop/insper/2024.1/coding-interviews/class-repo/env/lib/python3.10/site-packages (from ipython->insperautograder==0.2.0) (5.14.1)\n",
      "Requirement already satisfied: pexpect>4.3 in /home/gabrielhso/Desktop/insper/2024.1/coding-interviews/class-repo/env/lib/python3.10/site-packages (from ipython->insperautograder==0.2.0) (4.9.0)\n",
      "Requirement already satisfied: matplotlib-inline in /home/gabrielhso/Desktop/insper/2024.1/coding-interviews/class-repo/env/lib/python3.10/site-packages (from ipython->insperautograder==0.2.0) (0.1.6)\n",
      "Requirement already satisfied: pygments>=2.4.0 in /home/gabrielhso/Desktop/insper/2024.1/coding-interviews/class-repo/env/lib/python3.10/site-packages (from ipython->insperautograder==0.2.0) (2.17.2)\n",
      "Requirement already satisfied: decorator in /home/gabrielhso/Desktop/insper/2024.1/coding-interviews/class-repo/env/lib/python3.10/site-packages (from ipython->insperautograder==0.2.0) (5.1.1)\n",
      "Requirement already satisfied: exceptiongroup in /home/gabrielhso/Desktop/insper/2024.1/coding-interviews/class-repo/env/lib/python3.10/site-packages (from ipython->insperautograder==0.2.0) (1.2.0)\n",
      "Requirement already satisfied: comm>=0.1.3 in /home/gabrielhso/Desktop/insper/2024.1/coding-interviews/class-repo/env/lib/python3.10/site-packages (from ipywidgets->insperautograder==0.2.0) (0.2.1)\n",
      "Collecting widgetsnbextension~=4.0.10\n",
      "  Downloading widgetsnbextension-4.0.10-py3-none-any.whl (2.3 MB)\n",
      "\u001b[2K     \u001b[38;2;114;156;31m━━━━━━━━━━━━━━━━━━━━━━━━━━━━━━━━━━━━━━━━\u001b[0m \u001b[32m2.3/2.3 MB\u001b[0m \u001b[31m7.8 MB/s\u001b[0m eta \u001b[36m0:00:00\u001b[0m[36m0:00:01\u001b[0m[36m0:00:01\u001b[0m:01\u001b[0m\n",
      "\u001b[?25hCollecting jupyterlab-widgets~=3.0.10\n",
      "  Downloading jupyterlab_widgets-3.0.10-py3-none-any.whl (215 kB)\n",
      "\u001b[2K     \u001b[38;2;114;156;31m━━━━━━━━━━━━━━━━━━━━━━━━━━━━━━━━━━━━━━━\u001b[0m \u001b[32m215.0/215.0 KB\u001b[0m \u001b[31m8.6 MB/s\u001b[0m eta \u001b[36m0:00:00\u001b[0m\n",
      "\u001b[?25hCollecting certifi>=2017.4.17\n",
      "  Using cached certifi-2024.2.2-py3-none-any.whl (163 kB)\n",
      "Collecting idna<4,>=2.5\n",
      "  Downloading idna-3.6-py3-none-any.whl (61 kB)\n",
      "\u001b[2K     \u001b[38;2;114;156;31m━━━━━━━━━━━━━━━━━━━━━━━━━━━━━━━━━━━━━━━━\u001b[0m \u001b[32m61.6/61.6 KB\u001b[0m \u001b[31m8.0 MB/s\u001b[0m eta \u001b[36m0:00:00\u001b[0m\n",
      "\u001b[?25hCollecting charset-normalizer<4,>=2\n",
      "  Using cached charset_normalizer-3.3.2-cp310-cp310-manylinux_2_17_x86_64.manylinux2014_x86_64.whl (142 kB)\n",
      "Collecting urllib3<3,>=1.21.1\n",
      "  Downloading urllib3-2.2.1-py3-none-any.whl (121 kB)\n",
      "\u001b[2K     \u001b[38;2;114;156;31m━━━━━━━━━━━━━━━━━━━━━━━━━━━━━━━━━━━━━━━\u001b[0m \u001b[32m121.1/121.1 KB\u001b[0m \u001b[31m9.1 MB/s\u001b[0m eta \u001b[36m0:00:00\u001b[0m\n",
      "\u001b[?25hRequirement already satisfied: parso<0.9.0,>=0.8.3 in /home/gabrielhso/Desktop/insper/2024.1/coding-interviews/class-repo/env/lib/python3.10/site-packages (from jedi>=0.16->ipython->insperautograder==0.2.0) (0.8.3)\n",
      "Requirement already satisfied: ptyprocess>=0.5 in /home/gabrielhso/Desktop/insper/2024.1/coding-interviews/class-repo/env/lib/python3.10/site-packages (from pexpect>4.3->ipython->insperautograder==0.2.0) (0.7.0)\n",
      "Requirement already satisfied: wcwidth in /home/gabrielhso/Desktop/insper/2024.1/coding-interviews/class-repo/env/lib/python3.10/site-packages (from prompt-toolkit<3.1.0,>=3.0.41->ipython->insperautograder==0.2.0) (0.2.13)\n",
      "Requirement already satisfied: executing>=1.2.0 in /home/gabrielhso/Desktop/insper/2024.1/coding-interviews/class-repo/env/lib/python3.10/site-packages (from stack-data->ipython->insperautograder==0.2.0) (2.0.1)\n",
      "Requirement already satisfied: asttokens>=2.1.0 in /home/gabrielhso/Desktop/insper/2024.1/coding-interviews/class-repo/env/lib/python3.10/site-packages (from stack-data->ipython->insperautograder==0.2.0) (2.4.1)\n",
      "Requirement already satisfied: pure-eval in /home/gabrielhso/Desktop/insper/2024.1/coding-interviews/class-repo/env/lib/python3.10/site-packages (from stack-data->ipython->insperautograder==0.2.0) (0.2.2)\n",
      "Requirement already satisfied: six>=1.12.0 in /home/gabrielhso/Desktop/insper/2024.1/coding-interviews/class-repo/env/lib/python3.10/site-packages (from asttokens>=2.1.0->stack-data->ipython->insperautograder==0.2.0) (1.16.0)\n",
      "Using legacy 'setup.py install' for insperautograder, since package 'wheel' is not installed.\n",
      "Installing collected packages: widgetsnbextension, urllib3, python-dotenv, jupyterlab-widgets, idna, charset-normalizer, certifi, requests, ipywidgets, insperautograder\n",
      "  Running setup.py install for insperautograder ... \u001b[?25ldone\n",
      "\u001b[?25hSuccessfully installed certifi-2024.2.2 charset-normalizer-3.3.2 idna-3.6 insperautograder-0.2.0 ipywidgets-8.1.2 jupyterlab-widgets-3.0.10 python-dotenv-1.0.1 requests-2.31.0 urllib3-2.2.1 widgetsnbextension-4.0.10\n"
     ]
    }
   ],
   "source": [
    "!pip uninstall -y insperautograder\n",
    "!pip install git+https://github.com/macielcalebe/insperautograding.git"
   ]
  },
  {
   "cell_type": "markdown",
   "metadata": {},
   "source": [
    "## Importando as bibliotecas"
   ]
  },
  {
   "cell_type": "code",
   "execution_count": 2,
   "metadata": {},
   "outputs": [],
   "source": [
    "import os\n",
    "import insperautograder.jupyter as ia"
   ]
  },
  {
   "cell_type": "markdown",
   "metadata": {},
   "source": [
    "## Configurar ambiente\n",
    "\n",
    "Execute a célula para configurar nosso ambiente de execução:"
   ]
  },
  {
   "cell_type": "code",
   "execution_count": 3,
   "metadata": {},
   "outputs": [],
   "source": [
    "os.environ[\"IAG_OFFERING\"] = \"24-1\"\n",
    "os.environ[\"IAG_SUBJECT\"] = \"analisetxt\"\n",
    "os.environ[\"IAG_SERVER_URL\"] = \"https://bigdata.insper-comp.com.br/iag\""
   ]
  },
  {
   "cell_type": "markdown",
   "metadata": {},
   "source": [
    "## Me diga quem você é\n",
    "\n",
    "Utilize o **Token** enviado para seu e-mail para que você seja identificado pelo servidor de testes.\n",
    "\n",
    "Substitua `iagtok_xxx...` pelo token enviado para seu e-mail."
   ]
  },
  {
   "cell_type": "code",
   "execution_count": 4,
   "metadata": {},
   "outputs": [],
   "source": [
    "from dotenv import load_dotenv\n",
    "load_dotenv()\n",
    "database_url = os.getenv(\"IAG_TOKEN\")"
   ]
  },
  {
   "cell_type": "code",
   "execution_count": 5,
   "metadata": {},
   "outputs": [],
   "source": [
    "# os.environ[\"IAG_TOKEN\"] = \"iagtok_xxxxxxxxxxxxxxxxxxxxxxxxxxxxxxxxxxxxxxxxxxxxxxxx\""
   ]
  },
  {
   "cell_type": "markdown",
   "metadata": {},
   "source": [
    "## Conferir atividades e notas\n",
    "\n",
    "Conferindo quais atividades estão disponíveis!"
   ]
  },
  {
   "cell_type": "code",
   "execution_count": 6,
   "metadata": {},
   "outputs": [
    {
     "data": {
      "text/markdown": [
       "|    | Atividade   | De                        | Até                       |\n",
       "|---:|:------------|:--------------------------|:--------------------------|\n",
       "|  0 | pdf         | 2024-02-17 03:00:00+00:00 | 2024-03-05 02:59:59+00:00 |"
      ],
      "text/plain": [
       "<IPython.core.display.Markdown object>"
      ]
     },
     "metadata": {},
     "output_type": "display_data"
    }
   ],
   "source": [
    "ia.tasks()"
   ]
  },
  {
   "cell_type": "markdown",
   "metadata": {},
   "source": [
    "Conferindo a nota por exercício na atividade:"
   ]
  },
  {
   "cell_type": "code",
   "execution_count": 7,
   "metadata": {},
   "outputs": [
    {
     "data": {
      "text/markdown": [
       "|    | Atividade   | Exercício   |   Peso |   Nota |\n",
       "|---:|:------------|:------------|-------:|-------:|\n",
       "|  0 | pdf         | ex00        |      1 |     10 |\n",
       "|  1 | pdf         | ex01        |     20 |      0 |\n",
       "|  2 | pdf         | ex02        |     20 |      0 |\n",
       "|  3 | pdf         | ex03        |     20 |      0 |\n",
       "|  4 | pdf         | ex04        |     25 |      0 |\n",
       "|  5 | pdf         | ex05        |     20 |      0 |\n",
       "|  6 | pdf         | ex06        |     25 |      0 |\n",
       "|  7 | pdf         | ex07        |     25 |      0 |\n",
       "|  8 | pdf         | ex08        |     30 |      0 |"
      ],
      "text/plain": [
       "<IPython.core.display.Markdown object>"
      ]
     },
     "metadata": {},
     "output_type": "display_data"
    }
   ],
   "source": [
    "ia.grades(task='pdf')"
   ]
  },
  {
   "cell_type": "markdown",
   "metadata": {},
   "source": [
    "Conferindo a nota geral nas atividades"
   ]
  },
  {
   "cell_type": "code",
   "execution_count": 8,
   "metadata": {},
   "outputs": [
    {
     "data": {
      "text/markdown": [
       "|    | Tarefa   |   Nota |\n",
       "|---:|:---------|-------:|\n",
       "|  0 | pdf      |   0.05 |"
      ],
      "text/plain": [
       "<IPython.core.display.Markdown object>"
      ]
     },
     "metadata": {},
     "output_type": "display_data"
    }
   ],
   "source": [
    "ia.grades(by='TASK')"
   ]
  },
  {
   "cell_type": "markdown",
   "metadata": {},
   "source": [
    "## Exercício de Aquecimento\n",
    "\n",
    "Vamos fazer um Exercício para conferir como funciona o **insper autograding**.\n",
    "\n",
    "### Exercício Zero - Aquecimento\n",
    "\n",
    "Crie uma função em python chamada `minha_soma`. A função recebe dois números inteiros e devolve a soma deles.\n",
    "\n",
    "Edite a função na célula abaixo:"
   ]
  },
  {
   "cell_type": "code",
   "execution_count": 9,
   "metadata": {},
   "outputs": [],
   "source": [
    "def minha_soma(num1, num2):\n",
    "    # Altere AQUI! Modifique este código para fazer o solicitado\n",
    "    return num1+num2"
   ]
  },
  {
   "cell_type": "markdown",
   "metadata": {},
   "source": [
    "Vamos conferir se a função executa:"
   ]
  },
  {
   "cell_type": "code",
   "execution_count": 10,
   "metadata": {},
   "outputs": [
    {
     "data": {
      "text/plain": [
       "8"
      ]
     },
     "execution_count": 10,
     "metadata": {},
     "output_type": "execute_result"
    }
   ],
   "source": [
    "minha_soma(5, 3)"
   ]
  },
  {
   "cell_type": "markdown",
   "metadata": {},
   "source": [
    "Agora, vamos testar sua função localmente antes de enviar ao servidor de correção automática:"
   ]
  },
  {
   "cell_type": "code",
   "execution_count": 11,
   "metadata": {},
   "outputs": [],
   "source": [
    "assert minha_soma(5,3) == 8, \"A soma de 5 e 3 deveria ser 8!\"\n",
    "assert minha_soma(0,3) == 3, \"A soma de 0 e 3 deveria ser 3!\"\n",
    "assert minha_soma(-3,3) == 0, \"A soma de -3 e 3 deveria ser 0!\""
   ]
  },
  {
   "cell_type": "markdown",
   "metadata": {},
   "source": [
    "Como nossa função parece estar correta, clique no botão abaixo para enviá-la ao servidor de correção automática para registrar sua tentativa!\n",
    "\n",
    "Você pode reenviar quantas vezes precisar!"
   ]
  },
  {
   "cell_type": "code",
   "execution_count": 13,
   "metadata": {},
   "outputs": [
    {
     "data": {
      "application/vnd.jupyter.widget-view+json": {
       "model_id": "ea9630552df144929c5584d225bc5e61",
       "version_major": 2,
       "version_minor": 0
      },
      "text/plain": [
       "interactive(children=(Button(description='Enviar ex00', style=ButtonStyle()), Output()), _dom_classes=('widget…"
      ]
     },
     "execution_count": 13,
     "metadata": {},
     "output_type": "execute_result"
    }
   ],
   "source": [
    "ia.sender(answer=\"minha_soma\", task=\"pdf\", question=\"ex00\", answer_type=\"pycode\")"
   ]
  },
  {
   "cell_type": "markdown",
   "metadata": {},
   "source": [
    "Vamos conferir se a sua nota foi atualizada!\n",
    "\n",
    "Perceba que a nota é ponderada e que o `ex00` não vale quase nada!\n",
    "\n",
    "Nota por exercício:"
   ]
  },
  {
   "cell_type": "code",
   "execution_count": 14,
   "metadata": {},
   "outputs": [
    {
     "data": {
      "text/markdown": [
       "|    | Atividade   | Exercício   |   Peso |   Nota |\n",
       "|---:|:------------|:------------|-------:|-------:|\n",
       "|  0 | pdf         | ex00        |      1 |     10 |\n",
       "|  1 | pdf         | ex01        |     20 |      0 |\n",
       "|  2 | pdf         | ex02        |     20 |      0 |\n",
       "|  3 | pdf         | ex03        |     20 |      0 |\n",
       "|  4 | pdf         | ex04        |     25 |      0 |\n",
       "|  5 | pdf         | ex05        |     20 |      0 |\n",
       "|  6 | pdf         | ex06        |     25 |      0 |\n",
       "|  7 | pdf         | ex07        |     25 |      0 |\n",
       "|  8 | pdf         | ex08        |     30 |      0 |"
      ],
      "text/plain": [
       "<IPython.core.display.Markdown object>"
      ]
     },
     "metadata": {},
     "output_type": "display_data"
    }
   ],
   "source": [
    "ia.grades(task='pdf')"
   ]
  },
  {
   "cell_type": "markdown",
   "metadata": {},
   "source": [
    "Nota geral na atividade:"
   ]
  },
  {
   "cell_type": "code",
   "execution_count": 15,
   "metadata": {},
   "outputs": [
    {
     "data": {
      "text/markdown": [
       "|    | Tarefa   |   Nota |\n",
       "|---:|:---------|-------:|\n",
       "|  0 | pdf      |   0.05 |"
      ],
      "text/plain": [
       "<IPython.core.display.Markdown object>"
      ]
     },
     "metadata": {},
     "output_type": "display_data"
    }
   ],
   "source": [
    "ia.grades(by='TASK', task='pdf')"
   ]
  },
  {
   "cell_type": "markdown",
   "metadata": {},
   "source": [
    "Modifique a célula que contém a sua função para retornar um valor errado (ex: sempre retorna `8`, ou sempre soma `+1`) e faça o reenvio. Perceba que o corretor retorna o erro!\n",
    "\n",
    "Agora que aprendeu a utilizar a correção automática, siga para os exercícios!"
   ]
  },
  {
   "cell_type": "markdown",
   "metadata": {},
   "source": [
    "## Exercícios\n",
    "\n",
    "Vamos praticar os conteúdos da aula de PDF!\n",
    "\n",
    "Responda os exercício e, quando estiver bastante confiante que a resposta está correta, faça o envio para o servidor clicando no botão indicado para isto. Faça correções em sua solução caso o feedback retornado informe a existência de erros.\n",
    "\n",
    "Confira, nas chamadas acima, se a sua nota é atualizada."
   ]
  },
  {
   "cell_type": "markdown",
   "metadata": {},
   "source": [
    "### Download de arquivos úteis\n",
    "\n",
    "Vamos fazer o *download* de alguns arquivos úteis nos exercícios. O código foi preparado para funcionar no **Google Colab**. Faça o *download* direto pela URL dos arquivos caso não queira utilizar Colab!"
   ]
  },
  {
   "cell_type": "code",
   "execution_count": 16,
   "metadata": {},
   "outputs": [],
   "source": [
    "# !wget https://atd-insper.s3.us-east-2.amazonaws.com/aula02/atv/mochileiro.pdf\n",
    "# !wget https://atd-insper.s3.us-east-2.amazonaws.com/aula02/atv/p_value_misconceptions.pdf\n",
    "# !wget https://atd-insper.s3.us-east-2.amazonaws.com/aula02/atv/comunicado_condominio.pdf\n",
    "# !wget https://atd-insper.s3.us-east-2.amazonaws.com/aula02/atv/itau-3q-2022.pdf\n",
    "# !wget https://atd-insper.s3.us-east-2.amazonaws.com/aula02/atv/profissoes.pdf\n",
    "# !wget https://atd-insper.s3.us-east-2.amazonaws.com/aula02/atv/casas_bahia_3t23.pdf\n",
    "# !wget https://atd-insper.s3.us-east-2.amazonaws.com/aula02/relatorio.pdf"
   ]
  },
  {
   "cell_type": "markdown",
   "metadata": {},
   "source": [
    "Instalações necessárias:"
   ]
  },
  {
   "cell_type": "code",
   "execution_count": 17,
   "metadata": {},
   "outputs": [],
   "source": [
    "# !pip install ghostscript\n",
    "# !pip install camelot-py[cv]\n",
    "# !pip install excalibur-py\n",
    "# !pip install 'PyPDF2<3.0'\n",
    "# !apt install ghostscript python3-tk"
   ]
  },
  {
   "cell_type": "markdown",
   "metadata": {},
   "source": [
    "### Exercício 1\n",
    "\n",
    "Crie uma função em Python que receba o nome de um arquivo PDF e retorne a quantidade de páginas que o arquivo contém.\n",
    "\n",
    "Responda alterando o código da função abaixo.\n",
    "\n",
    "Obs:\n",
    "\n",
    "- O nome e argumentos da função não devem ser alterados.\n",
    "- Considere que o código de correção já tem um import assim: `import PyPDF2`."
   ]
  },
  {
   "cell_type": "code",
   "execution_count": 18,
   "metadata": {},
   "outputs": [
    {
     "name": "stdout",
     "output_type": "stream",
     "text": [
      "Collecting PyPDF2<3.0\n",
      "  Downloading pypdf2-2.12.1-py3-none-any.whl (222 kB)\n",
      "\u001b[2K     \u001b[38;2;114;156;31m━━━━━━━━━━━━━━━━━━━━━━━━━━━━━━━━━━━━━━━\u001b[0m \u001b[32m222.8/222.8 KB\u001b[0m \u001b[31m4.5 MB/s\u001b[0m eta \u001b[36m0:00:00\u001b[0m MB/s\u001b[0m eta \u001b[36m0:00:01\u001b[0m\n",
      "\u001b[?25hInstalling collected packages: PyPDF2\n",
      "Successfully installed PyPDF2-2.12.1\n"
     ]
    }
   ],
   "source": [
    "!pip install 'PyPDF2<3.0'\n"
   ]
  },
  {
   "cell_type": "code",
   "execution_count": 19,
   "metadata": {},
   "outputs": [],
   "source": [
    "# Altere esta função\n",
    "import PyPDF2\n",
    "\n",
    "def contar_paginas(caminho_arquivo):\n",
    "    with open(caminho_arquivo, 'rb') as f:\n",
    "        pdf_reader = PyPDF2.PdfFileReader(f)\n",
    "        return pdf_reader.numPages"
   ]
  },
  {
   "cell_type": "markdown",
   "metadata": {},
   "source": [
    "Vamos conferir um exemplo de execução (esperamos obter `3` como retorno da função):"
   ]
  },
  {
   "cell_type": "code",
   "execution_count": 26,
   "metadata": {},
   "outputs": [
    {
     "name": "stderr",
     "output_type": "stream",
     "text": [
      "Xref table not zero-indexed. ID numbers for objects will be corrected.\n"
     ]
    },
    {
     "data": {
      "text/plain": [
       "6"
      ]
     },
     "execution_count": 26,
     "metadata": {},
     "output_type": "execute_result"
    }
   ],
   "source": [
    "contar_paginas(\"media/p_value_misconceptions.pdf\")"
   ]
  },
  {
   "cell_type": "markdown",
   "metadata": {},
   "source": [
    "Abaixo, seguem alguns testes que rodam localmente e verificam sua resposta."
   ]
  },
  {
   "cell_type": "code",
   "execution_count": 22,
   "metadata": {},
   "outputs": [
    {
     "name": "stderr",
     "output_type": "stream",
     "text": [
      "Xref table not zero-indexed. ID numbers for objects will be corrected.\n"
     ]
    }
   ],
   "source": [
    "assert contar_paginas(\"media/mochileiro.pdf\") == 3, \"O número de páginas esperado era 3\"\n",
    "assert contar_paginas(\"media/p_value_misconceptions.pdf\") == 6, \"O número de páginas esperado era 6\""
   ]
  },
  {
   "cell_type": "markdown",
   "metadata": {},
   "source": [
    "Quando estiver confiante que sua resposta está correta, clique no botão abaixo para fazer o envio."
   ]
  },
  {
   "cell_type": "code",
   "execution_count": 24,
   "metadata": {},
   "outputs": [
    {
     "data": {
      "application/vnd.jupyter.widget-view+json": {
       "model_id": "becd50266fa942eea56adafd204844e5",
       "version_major": 2,
       "version_minor": 0
      },
      "text/plain": [
       "interactive(children=(Button(description='Enviar ex01', style=ButtonStyle()), Output()), _dom_classes=('widget…"
      ]
     },
     "execution_count": 24,
     "metadata": {},
     "output_type": "execute_result"
    }
   ],
   "source": [
    "ia.sender(answer=\"contar_paginas\", task=\"pdf\", question=\"ex01\", answer_type=\"pycode\")"
   ]
  },
  {
   "cell_type": "code",
   "execution_count": 25,
   "metadata": {},
   "outputs": [
    {
     "data": {
      "text/markdown": [
       "|    | Atividade   | Exercício   |   Peso |   Nota |\n",
       "|---:|:------------|:------------|-------:|-------:|\n",
       "|  0 | pdf         | ex00        |      1 |     10 |\n",
       "|  1 | pdf         | ex01        |     20 |      0 |\n",
       "|  2 | pdf         | ex02        |     20 |      0 |\n",
       "|  3 | pdf         | ex03        |     20 |      0 |\n",
       "|  4 | pdf         | ex04        |     25 |      0 |\n",
       "|  5 | pdf         | ex05        |     20 |      0 |\n",
       "|  6 | pdf         | ex06        |     25 |      0 |\n",
       "|  7 | pdf         | ex07        |     25 |      0 |\n",
       "|  8 | pdf         | ex08        |     30 |      0 |"
      ],
      "text/plain": [
       "<IPython.core.display.Markdown object>"
      ]
     },
     "metadata": {},
     "output_type": "display_data"
    }
   ],
   "source": [
    "ia.grades(task='pdf')"
   ]
  },
  {
   "cell_type": "markdown",
   "metadata": {},
   "source": [
    "### Exercício 2\n",
    "\n",
    "Crie uma função em Python que recebe como entrada:\n",
    "- o caminho de um arquivo PDF\n",
    "- o número de uma página\n",
    "\n",
    "A função deve retornar todo texto contido na página indicada.\n",
    "\n",
    "Responda alterando o código da função abaixo.\n",
    "\n",
    "Obs:\n",
    "\n",
    "- O nome e argumentos da função não devem ser alterados.\n",
    "- Considere que o código de correção já tem um import assim: `import PyPDF2`."
   ]
  },
  {
   "cell_type": "code",
   "execution_count": null,
   "metadata": {},
   "outputs": [],
   "source": [
    "# Altere esta função\n",
    "import PyPDF2\n",
    "\n",
    "def extrair_texto_pagina(caminho_arquivo, num_pagina):\n",
    "    return \"\""
   ]
  },
  {
   "cell_type": "markdown",
   "metadata": {},
   "source": [
    "Veja um exemplo de execução da função:"
   ]
  },
  {
   "cell_type": "code",
   "execution_count": null,
   "metadata": {},
   "outputs": [],
   "source": [
    "extrair_texto_pagina(\"comunicado_condominio.pdf\", 1)"
   ]
  },
  {
   "cell_type": "markdown",
   "metadata": {},
   "source": [
    "Confira se obteve o resultado correto:\n",
    "\n",
    "```python\n",
    "\"Atenciosamente,\\nAna Melo\\nSíndico do Condomínio das Acacias\"\n",
    "```"
   ]
  },
  {
   "cell_type": "markdown",
   "metadata": {},
   "source": [
    "Abaixo, seguem alguns testes que rodam localmente e verificam sua resposta."
   ]
  },
  {
   "cell_type": "code",
   "execution_count": null,
   "metadata": {},
   "outputs": [],
   "source": [
    "assert extrair_texto_pagina(\"mochileiro.pdf\", 0) == \"\", f\"Para o arquivo mochileiro.pdf, página zero, era esperado que retornasse string vazia (a página contém imagens apenas)\"\n",
    "\n",
    "esperado = \"Atenciosamente,\\nAna Melo\\nSíndico do Condomínio das Acacias\"\n",
    "obtido = extrair_texto_pagina(\"comunicado_condominio.pdf\", 1)\n",
    "assert  obtido == esperado, f\"\\nEsperava: {esperado}\\n\\nObteve: {obtido}\""
   ]
  },
  {
   "cell_type": "markdown",
   "metadata": {},
   "source": [
    "Quando estiver confiante que sua resposta está correta, clique no botão abaixo para fazer o envio."
   ]
  },
  {
   "cell_type": "code",
   "execution_count": null,
   "metadata": {},
   "outputs": [],
   "source": [
    "ia.sender(answer=\"extrair_texto_pagina\", task=\"pdf\", question=\"ex02\", answer_type=\"pycode\")"
   ]
  },
  {
   "cell_type": "markdown",
   "metadata": {},
   "source": [
    "### Exercício 3\n",
    "\n",
    "Crie uma função em Python que recebe como entrada:\n",
    "- o caminho de um arquivo PDF\n",
    "\n",
    "A função deve contar o número de palavras contidas no PDF.\n",
    "\n",
    "Responda alterando o código da função abaixo.\n",
    "\n",
    "Obs:\n",
    "\n",
    "- O nome e argumentos da função não devem ser alterados.\n",
    "- Considere que o código de correção já tem um import assim: `import PyPDF2`."
   ]
  },
  {
   "cell_type": "code",
   "execution_count": null,
   "metadata": {},
   "outputs": [],
   "source": [
    "# Altere esta função\n",
    "import PyPDF2\n",
    "\n",
    "def contar_palavras(caminho_arquivo):\n",
    "    return \"\""
   ]
  },
  {
   "cell_type": "markdown",
   "metadata": {},
   "source": [
    "Veja um exemplo de execução da função (o resultado esperado é `698`)"
   ]
  },
  {
   "cell_type": "code",
   "execution_count": null,
   "metadata": {},
   "outputs": [],
   "source": [
    "contar_palavras(\"mochileiro.pdf\")"
   ]
  },
  {
   "cell_type": "markdown",
   "metadata": {},
   "source": [
    "Abaixo, seguem alguns testes que rodam localmente e verificam sua resposta."
   ]
  },
  {
   "cell_type": "code",
   "execution_count": null,
   "metadata": {},
   "outputs": [],
   "source": [
    "obtido = contar_palavras(\"mochileiro.pdf\")\n",
    "assert obtido == 698, f\"Esperava 698 para o mochileiro.pdf, obteve {obtido}\"\n",
    "\n",
    "obtido = contar_palavras(\"comunicado_condominio.pdf\")\n",
    "assert obtido == 279, f\"Esperava 279 para o comunicado_condominio.pdf, obteve {obtido}\""
   ]
  },
  {
   "cell_type": "markdown",
   "metadata": {},
   "source": [
    "Quando estiver confiante que sua resposta está correta, clique no botão abaixo para fazer o envio."
   ]
  },
  {
   "cell_type": "code",
   "execution_count": null,
   "metadata": {},
   "outputs": [],
   "source": [
    "ia.sender(answer=\"contar_palavras\", task=\"pdf\", question=\"ex03\", answer_type=\"pycode\")"
   ]
  },
  {
   "cell_type": "markdown",
   "metadata": {},
   "source": [
    "### Exercício 4\n",
    "\n",
    "É importante conseguir fazer buscas em arquivos PDF. Assim, podemos criar rotinas que automatizem a identificação de oportunidades para uma empresa. Por exemplo, ao invés de um humano ler todas as páginas de um diário oficial, podemos criar uma rotina python que identifique as páginas que falam de processos de licitação.\n",
    "\n",
    "Crie um a função que recebe\n",
    "- O caminho de um arquivo PDF\n",
    "- Uma lista de palavras\n",
    "\n",
    "A função deve identificar em quais páginas cada uma das palavras é mencionada (de maneira completa ou substring).\n",
    "\n",
    "Retorne um dicionário onde as chaves são as palavras e os valores são uma lista com o ID das páginas onde a palavra foi identificada.\n",
    "\n",
    "Exemplo de entrada:\n",
    " - arquivo: `mochileiro.pdf`\n",
    " - palavras: `[\"genialidade\", \"lucro\", \"humor\"]`\n",
    "\n",
    "Saída esperada:\n",
    "\n",
    "```python\n",
    "{'humor': [1, 2], 'genialidade': [2]}\n",
    "```\n",
    "\n",
    "Responda alterando o código da função abaixo.\n",
    "\n",
    "Obs:\n",
    "\n",
    "- O nome e argumentos da função não devem ser alterados.\n",
    "- Considere que o código de correção já tem um import assim: `import PyPDF2`.\n",
    "- Palavras sem ocorrência não devem aparecer no dicionário de resposta.\n",
    "- Ignore o case (maiúsculo / minúsculo), compare como quiser mas retorne tudo em minúsculo."
   ]
  },
  {
   "cell_type": "code",
   "execution_count": null,
   "metadata": {},
   "outputs": [],
   "source": [
    "# Altere esta função\n",
    "import PyPDF2\n",
    "\n",
    "def identificar_palavras(caminho_arquivo, palavras):\n",
    "    return {}"
   ]
  },
  {
   "cell_type": "markdown",
   "metadata": {},
   "source": [
    "Veja um exemplo de execução:"
   ]
  },
  {
   "cell_type": "code",
   "execution_count": null,
   "metadata": {},
   "outputs": [],
   "source": [
    "identificar_palavras(\"mochileiro.pdf\", [\"genialidade\", \"lucro\", \"humor\"])"
   ]
  },
  {
   "cell_type": "markdown",
   "metadata": {},
   "source": [
    "Abaixo, seguem alguns testes que rodam localmente e verificam sua resposta."
   ]
  },
  {
   "cell_type": "code",
   "execution_count": null,
   "metadata": {},
   "outputs": [],
   "source": [
    "assert identificar_palavras(\n",
    "            \"mochileiro.pdf\", [\"genialidade\", \"lucro\", \"humor\"]\n",
    "        ) == {\"humor\": [1, 2], \"genialidade\": [2]}"
   ]
  },
  {
   "cell_type": "markdown",
   "metadata": {},
   "source": [
    "Quando estiver confiante que sua resposta está correta, clique no botão abaixo para fazer o envio."
   ]
  },
  {
   "cell_type": "code",
   "execution_count": null,
   "metadata": {},
   "outputs": [],
   "source": [
    "ia.sender(answer=\"identificar_palavras\", task=\"pdf\", question=\"ex04\", answer_type=\"pycode\")"
   ]
  },
  {
   "cell_type": "markdown",
   "metadata": {},
   "source": [
    "### Exercício 5\n",
    "\n",
    "Crie uma função que retorne a primeira tabela lida de um PDF.\n",
    "\n",
    "A função recebe como entrada o caminho de um arquivo PDF e deve retornar um **DataFrame**.\n",
    "\n",
    "Obs:\n",
    "\n",
    "- O nome e argumentos da função não devem ser alterados.\n",
    "- Considere que o código de correção já tem um import assim: `import camelot`.\n",
    "- Você precisará tratar o cabeçalho da tabela (nome das colunas).\n",
    "- Não é necessário fazer limpezas ou conversões de tipos."
   ]
  },
  {
   "cell_type": "code",
   "execution_count": null,
   "metadata": {},
   "outputs": [],
   "source": [
    "# Altere esta função\n",
    "import camelot\n",
    "\n",
    "def ler_tabela(caminho_arquivo):\n",
    "    return {}"
   ]
  },
  {
   "cell_type": "markdown",
   "metadata": {},
   "source": [
    "Veja um exemplo da execução da função:"
   ]
  },
  {
   "cell_type": "code",
   "execution_count": null,
   "metadata": {},
   "outputs": [],
   "source": [
    "ler_tabela(\"profissoes.pdf\")"
   ]
  },
  {
   "cell_type": "markdown",
   "metadata": {},
   "source": [
    "É esperado que ela retorne o **DataFrame** assim:\n",
    "\n",
    "|    | Profissão   |   Salário Médio |   Percentil 25% (R$) |   Percentil 75% (R$) |\n",
    "|---:|:------------|----------------:|---------------------:|---------------------:|\n",
    "|  1 | Engenheiro  |           8.500 |                7.000 |               10.000 |\n",
    "|  2 | Médico      |          12.000 |               10.000 |               14.000 |\n",
    "|  3 | Professor   |           5.000 |                4.000 |                6.000 |\n",
    "|  4 | Advogado    |           9.200 |                7.500 |               11.000 |\n",
    "|  5 | Programador |           7.000 |                6.000 |                8.000 |"
   ]
  },
  {
   "cell_type": "markdown",
   "metadata": {},
   "source": [
    "Quando estiver confiante que sua resposta está correta, clique no botão abaixo para fazer o envio."
   ]
  },
  {
   "cell_type": "code",
   "execution_count": null,
   "metadata": {},
   "outputs": [],
   "source": [
    "ia.sender(answer=\"ler_tabela\", task=\"pdf\", question=\"ex05\", answer_type=\"pycode\")"
   ]
  },
  {
   "cell_type": "markdown",
   "metadata": {},
   "source": [
    "### Exercício 6\n",
    "\n",
    "Crie uma função que retorne a soma de uma coluna da primeira tabela lida de um PDF.\n",
    "\n",
    "A função recebe como entrada:\n",
    "- O caminho de um arquivo PDF.\n",
    "- O número `k` de uma coluna (começando em zero).\n",
    "\n",
    "A função deve retornar a soma dos valores da coluna `k` da tabela.\n",
    "\n",
    "Obs:\n",
    "\n",
    "- O nome e argumentos da função não devem ser alterados.\n",
    "- Considere que o código de correção já tem um import assim: `import camelot`.\n",
    "- Você precisará tratar o cabeçalho da tabela (nome das colunas).\n",
    "- Pode ser necessário realizar conversões de tipos.\n",
    "- Retorne um valor **inteiro**, ignorando a parte decimal do resultado da soma."
   ]
  },
  {
   "cell_type": "code",
   "execution_count": null,
   "metadata": {},
   "outputs": [],
   "source": [
    "# Altere esta função\n",
    "import camelot\n",
    "\n",
    "def somar_coluna(caminho_arquivo, k_col):\n",
    "    return {}"
   ]
  },
  {
   "cell_type": "markdown",
   "metadata": {},
   "source": [
    "Veja um exemplo da execução da função (o resultado esperado é `41700`):"
   ]
  },
  {
   "cell_type": "code",
   "execution_count": null,
   "metadata": {},
   "outputs": [],
   "source": [
    "somar_coluna(\"profissoes.pdf\", 1)"
   ]
  },
  {
   "cell_type": "markdown",
   "metadata": {},
   "source": [
    "Abaixo, seguem alguns testes que rodam localmente e verificam sua resposta."
   ]
  },
  {
   "cell_type": "code",
   "execution_count": null,
   "metadata": {},
   "outputs": [],
   "source": [
    "assert somar_coluna(\"profissoes.pdf\", 1) == 41700, \"Retornou o valor errado para a soma!\""
   ]
  },
  {
   "cell_type": "markdown",
   "metadata": {},
   "source": [
    "Quando estiver confiante que sua resposta está correta, clique no botão abaixo para fazer o envio."
   ]
  },
  {
   "cell_type": "code",
   "execution_count": null,
   "metadata": {},
   "outputs": [],
   "source": [
    "ia.sender(answer=\"somar_coluna\", task=\"pdf\", question=\"ex06\", answer_type=\"pycode\")"
   ]
  },
  {
   "cell_type": "markdown",
   "metadata": {},
   "source": [
    "### Exercício 7\n",
    "\n",
    "Crie uma função que retorne uma lista com o tamanho (quantidade de linhas, quantidade de colunas) de todas as tabelas lidas em um PDF.\n",
    "\n",
    "A função recebe como entrada o caminho de um arquivo PDF.\n",
    "\n",
    "A função deve retornar uma lista onde cada elemento é uma sublista com a quantidade de linhas e quantidade de colunas (nesta ordem) de cada tabela.\n",
    "\n",
    "Obs:\n",
    "\n",
    "- O nome e argumentos da função não devem ser alterados.\n",
    "- Considere que o código de correção já tem um import assim: `import camelot`."
   ]
  },
  {
   "cell_type": "code",
   "execution_count": null,
   "metadata": {},
   "outputs": [],
   "source": [
    "# Altere esta função\n",
    "import camelot\n",
    "\n",
    "def obter_dimensoes_tabelas(caminho_arquivo):\n",
    "    return {}"
   ]
  },
  {
   "cell_type": "markdown",
   "metadata": {},
   "source": [
    "Veja um exemplo da execução da função:"
   ]
  },
  {
   "cell_type": "code",
   "execution_count": null,
   "metadata": {},
   "outputs": [],
   "source": [
    "obter_dimensoes_tabelas(\"profissoes.pdf\")"
   ]
  },
  {
   "cell_type": "markdown",
   "metadata": {},
   "source": [
    "É esperado que o retorno obtido seja:\n",
    "\n",
    "```python\n",
    "[[5, 4], [5, 2]]\n",
    "```"
   ]
  },
  {
   "cell_type": "markdown",
   "metadata": {},
   "source": [
    "Abaixo, seguem alguns testes que rodam localmente e verificam sua resposta."
   ]
  },
  {
   "cell_type": "code",
   "execution_count": null,
   "metadata": {},
   "outputs": [],
   "source": [
    "assert obter_dimensoes_tabelas(\"profissoes.pdf\") == [[5, 4], [5, 2]], \"Retorno incorreto!\""
   ]
  },
  {
   "cell_type": "markdown",
   "metadata": {},
   "source": [
    "Quando estiver confiante que sua resposta está correta, clique no botão abaixo para fazer o envio."
   ]
  },
  {
   "cell_type": "code",
   "execution_count": null,
   "metadata": {},
   "outputs": [],
   "source": [
    "ia.sender(answer=\"obter_dimensoes_tabelas\", task=\"pdf\", question=\"ex07\", answer_type=\"pycode\")"
   ]
  },
  {
   "cell_type": "markdown",
   "metadata": {},
   "source": [
    "### Exercício 8\n",
    "\n",
    "Por enquanto, trabalhamos apenas com PDFs com tabelas contendo bordas bem definidas, por exemplo:\n",
    "\n",
    "<img src=\"https://atd-insper.s3.us-east-2.amazonaws.com/aula02/relatorio_aula02.png\">\n",
    "\n",
    "O desenvolvimento de extração de dados de PDF demanda soluções personalizadas para cada fonte de dados. Os arquivos PDF possuem uma estrutura complexa e podem ser criados de maneiras diferentes. Cada fonte de dados pode adotar diferentes métodos de formatação, layout e organização em seus documentos PDF.\n",
    "\n",
    "Isso resulta em variações significativas na forma como os dados estão estruturados dentro desses arquivos. Portanto, é essencial adaptar as soluções de extração para cada fonte específica, a fim de interpretar corretamente a estrutura do PDF e extrair os dados desejados.\n",
    "\n",
    "Veja, por exemplo, parte do relatório 3T23 do Grupo Casas Bahia. Tente extrair a primeira tabela com o mesmo código utilizado no exercício 05. Irá funcionar?!\n",
    "\n",
    "<img src=\"https://atd-insper.s3.us-east-2.amazonaws.com/aula02/report_casas_bahia_3t23.png\">\n",
    "\n",
    "\n",
    "Neste exercícios, você deve trabalhar com parâmetros no `camelot` para conseguir fazer a extração de uma tabela sem bordas bem definidas.\n",
    "\n",
    "Crie uma função que recebe:\n",
    "- O caminho de um PDF.\n",
    "- O número `n` de uma página.\n",
    "\n",
    "A função deve retornar um **DataFrame** referente à primeira tabela da `n`-ésima página do PDF.\n",
    "\n",
    "Obs:\n",
    "\n",
    "- O nome e argumentos da função não devem ser alterados.\n",
    "- Considere que o código de correção já tem um import assim: `import camelot`.\n",
    "- Faça limpezas necessárias\n",
    "- Leia a documentação https://camelot-py.readthedocs.io/en/master/api.html#camelot.read_pdf e explore, dentre outros, o parâmetro `flavor`."
   ]
  },
  {
   "cell_type": "code",
   "execution_count": null,
   "metadata": {},
   "outputs": [],
   "source": [
    "# Altere esta função\n",
    "import camelot\n",
    "\n",
    "def ler_tabela_sem_bordas(caminho_arquivo, n_pag):\n",
    "    return {}"
   ]
  },
  {
   "cell_type": "markdown",
   "metadata": {},
   "source": [
    "Veja um exemplo da execução da função:"
   ]
  },
  {
   "cell_type": "code",
   "execution_count": null,
   "metadata": {},
   "outputs": [],
   "source": [
    "ler_tabela_sem_bordas(\"casas_bahia_3t23.pdf\", 3)"
   ]
  },
  {
   "cell_type": "markdown",
   "metadata": {},
   "source": [
    "É esperado que o retorno obtido seja:\n",
    "\n",
    "\n",
    "|    | R$ milhões              |   3T23 |   3T22 | %       |   9M23 |   9M22 | %       |\n",
    "|---:|:------------------------|-------:|-------:|:--------|-------:|-------:|:--------|\n",
    "|  2 | GMV Total Bruto         |  9.814 | 10.23  | (4,1%)  | 31.773 | 31.909 | (0,4%)  |\n",
    "|  3 | GMV Omnicanal (1P)      |  8.508 |  9.082 | (6,3%)  | 27.538 | 28.251 | (2,5%)  |\n",
    "|  4 | GMV Lojas Físicas Bruto |  5.619 |  5.606 | 0,2%    | 17.73  | 17.063 | 3,9%    |\n",
    "|  5 | GMV Bruto (1P Online)   |  2.889 |  3.476 | (16,9%) |  9.808 | 11.188 | (12,3%) |\n",
    "|  6 | GMV Omnicanal (3P)      |  1.306 |  1.148 | 13,8%   |  4.235 |  3.658 | 15,8%   |"
   ]
  },
  {
   "cell_type": "markdown",
   "metadata": {},
   "source": [
    "Abaixo, seguem alguns testes que rodam localmente e verificam sua resposta."
   ]
  },
  {
   "cell_type": "code",
   "execution_count": null,
   "metadata": {},
   "outputs": [],
   "source": [
    "assert obter_dimensoes_tabelas(\"profissoes.pdf\") == [[5, 4], [5, 2]], \"Retorno incorreto!\""
   ]
  },
  {
   "cell_type": "markdown",
   "metadata": {},
   "source": [
    "Quando estiver confiante que sua resposta está correta, clique no botão abaixo para fazer o envio."
   ]
  },
  {
   "cell_type": "code",
   "execution_count": null,
   "metadata": {},
   "outputs": [],
   "source": [
    "ia.sender(answer=\"ler_tabela_sem_bordas\", task=\"pdf\", question=\"ex08\", answer_type=\"pycode\")"
   ]
  },
  {
   "cell_type": "markdown",
   "metadata": {},
   "source": [
    "## Conferir notas\n",
    "\n",
    "Vamos verificar se as notas foram gravadas nos exercícios!"
   ]
  },
  {
   "cell_type": "code",
   "execution_count": null,
   "metadata": {},
   "outputs": [],
   "source": [
    "ia.grades(task=\"pdf\")"
   ]
  },
  {
   "cell_type": "markdown",
   "metadata": {},
   "source": [
    "Vamos verificar se a nota da atividade está ok:"
   ]
  },
  {
   "cell_type": "code",
   "execution_count": null,
   "metadata": {},
   "outputs": [],
   "source": [
    "ia.grades(by=\"TASK\", task=\"pdf\")"
   ]
  },
  {
   "cell_type": "markdown",
   "metadata": {},
   "source": [
    "## Finalizando o trabalho"
   ]
  },
  {
   "cell_type": "markdown",
   "metadata": {},
   "source": [
    "Por hoje é só!"
   ]
  },
  {
   "cell_type": "markdown",
   "metadata": {},
   "source": [
    "## Referências\n",
    "\n",
    "- https://www.editoraarqueiro.com.br/media/upload/livros/GuiadefinitivoMochileiroGalaxias_Trecho.pdf\n",
    "- https://sixsigmadsi.com/wp-content/uploads/2020/10/A-Dirty-Dozen-Twelve-P-Value-Misconceptions.pdf\n",
    "- https://static.poder360.com.br/2022/11/Itau-3Q-2022.pdf\n",
    "- https://api.mziq.com/mzfilemanager/v2/d/ce9bff9f-fb19-49b9-9588-c4c6b7052c9c/37d12eba-956f-2252-6a57-4f2b9ff9ae8a?origin=2"
   ]
  }
 ],
 "metadata": {
  "kernelspec": {
   "display_name": "Python 3 (ipykernel)",
   "language": "python",
   "name": "python3"
  },
  "language_info": {
   "codemirror_mode": {
    "name": "ipython",
    "version": 3
   },
   "file_extension": ".py",
   "mimetype": "text/x-python",
   "name": "python",
   "nbconvert_exporter": "python",
   "pygments_lexer": "ipython3",
   "version": "3.10.12"
  }
 },
 "nbformat": 4,
 "nbformat_minor": 4
}
