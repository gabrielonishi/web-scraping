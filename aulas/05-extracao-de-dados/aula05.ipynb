{
 "cells": [
  {
   "cell_type": "markdown",
   "id": "comprehensive-turkey",
   "metadata": {},
   "source": [
    "# Análise de texto de fontes desestruturadas e Web\n",
    "\n",
    "## Aula 05\n",
    "\n",
    "Nesta aula iremos aprender como extrair informações de páginas Web!\n",
    "\n",
    "\n",
    "A biblioteca utilizada será a **BeautifulSoup**, além da **requests** já vista na aula anterior.\n",
    "\n",
    "Para conhecer mais sobre ela, acesse https://beautiful-soup-4.readthedocs.io/en/latest/"
   ]
  },
  {
   "cell_type": "markdown",
   "id": "decimal-turtle",
   "metadata": {},
   "source": [
    "## HTML\n",
    "\n",
    "As páginas Web são construídas utilizando uma linguagem de marcação, a **HyperText Markup Language**. Nela, são utilizadas *tags* para definir alterações em partes da página, como criação de imagens, *hyperlinks*, tabelas, listas, cabeçalhos, parágrafos, etc.\n",
    "\n",
    "Muito do conteúdo produzido por empresas e clientes acabam sendo disponibilizados em páginas Web. Hoje podemos comprar, vender, interagir, etc utilizando navegadores, que interpretam páginas HTML.\n",
    "\n",
    "Do ponto de vista dos programadores, queremos percorrer tais páginas e extrair conteúdos de interesse (notícia, preço de um produto, uma imagem, etc.). Estas informações de interesse estarão distribuídas em um emaranhado de *tags*, portanto, as páginas Web são consideradas como sendo semi-estruturadas ou desestruturadas.\n",
    "\n",
    "Para acessar este conteúdo de interesse com facilidade, podemos utilizar ferramentas de *Web scraping* e *parsers*, que conseguem entender a estrutura da linguagem que define as páginas e possuem recursos que facilitam a extração de conteúdos específicos. Em nossa aula, utilizaremos o **BeautifulSoup** como ferramenta de *scraping*. Podemos personalizar o *parser* mas esta informação fica para depois!"
   ]
  },
  {
   "cell_type": "markdown",
   "id": "aerial-arlington",
   "metadata": {},
   "source": [
    "## Instalando a biblioteca *BeautifulSoup*\n",
    "\n",
    "Primeiro, vamos instalar a principal biblioteca de nossa aula!"
   ]
  },
  {
   "cell_type": "code",
   "execution_count": null,
   "id": "lined-polymer",
   "metadata": {},
   "outputs": [],
   "source": [
    "!pip install BeautifulSoup4"
   ]
  },
  {
   "cell_type": "markdown",
   "id": "defensive-capacity",
   "metadata": {},
   "source": [
    "Caso a biblioteca já esteja instalada, porém com uma versão antiga, podemos atualizá-la com:"
   ]
  },
  {
   "cell_type": "code",
   "execution_count": null,
   "id": "improved-focus",
   "metadata": {},
   "outputs": [],
   "source": [
    "!pip install -U BeautifulSoup4"
   ]
  },
  {
   "cell_type": "markdown",
   "id": "weird-patrol",
   "metadata": {},
   "source": [
    "## Importando as bibliotecas necessárias\n",
    "\n",
    "Agora, vamos importar as bibliotecas necessárias:"
   ]
  },
  {
   "cell_type": "code",
   "execution_count": null,
   "id": "unlike-france",
   "metadata": {},
   "outputs": [],
   "source": [
    "# para trabalhar com diretórios / sistema operacional\n",
    "import os\n",
    "\n",
    "# para nos comunicarmos com a Web\n",
    "import requests\n",
    "\n",
    "# para extrair informações de páginas HTML\n",
    "import bs4\n",
    "from bs4 import BeautifulSoup\n",
    "\n",
    "# utilizada para nos indicar o caminho do executável do Python\n",
    "import sys\n",
    "\n",
    "# Para criar um Data Frame\n",
    "import pandas as pd\n",
    "\n",
    "# Renderizar HTML\n",
    "import IPython"
   ]
  },
  {
   "cell_type": "markdown",
   "id": "acquired-regard",
   "metadata": {},
   "source": [
    "Caso obtenha algum erro, utilize o **!pip install** para instalar a biblioteca ausente!\n",
    "\n",
    "Vamos conferir com qual versão da biblioteca **xxxx** estamos trabalhando?"
   ]
  },
  {
   "cell_type": "code",
   "execution_count": null,
   "id": "removable-calvin",
   "metadata": {},
   "outputs": [],
   "source": [
    "print(bs4.__version__)"
   ]
  },
  {
   "cell_type": "markdown",
   "id": "fewer-voluntary",
   "metadata": {},
   "source": [
    "Você também pode conferir de onde está executando o Python e qual a versão"
   ]
  },
  {
   "cell_type": "code",
   "execution_count": null,
   "id": "aggregate-secondary",
   "metadata": {},
   "outputs": [],
   "source": [
    "print('Executável:')\n",
    "print(sys.executable)\n",
    "\n",
    "print('\\nVersão do Python:')\n",
    "print(sys.version)"
   ]
  },
  {
   "cell_type": "markdown",
   "id": "multiple-premium",
   "metadata": {},
   "source": [
    "Vamos conferir em qual diretório iremos trabalhar (é o diretório do notebook)"
   ]
  },
  {
   "cell_type": "code",
   "execution_count": null,
   "id": "revolutionary-quantity",
   "metadata": {},
   "outputs": [],
   "source": [
    "print('O seu notebook está na pasta:')\n",
    "print(os.getcwd())"
   ]
  },
  {
   "cell_type": "markdown",
   "id": "detected-vulnerability",
   "metadata": {},
   "source": [
    "## Interagindo com HTML\n",
    "\n",
    "Iremos utilizar o arquivo **amostra.html** para nos familiarizarmos com as *tags* HTML.\n",
    "\n",
    "Primeiro, vamos baixar o arquivo amostra.html para a mesma pasta do nosso Jupyter notebook."
   ]
  },
  {
   "cell_type": "code",
   "execution_count": null,
   "id": "trying-incentive",
   "metadata": {},
   "outputs": [],
   "source": [
    "url = 'https://atd-insper.s3.us-east-2.amazonaws.com/aula04/amostra.html'\n",
    "\n",
    "# Faça aqui o get da página!"
   ]
  },
  {
   "cell_type": "markdown",
   "id": "angry-juice",
   "metadata": {},
   "source": [
    "Conferindo o código de resposta"
   ]
  },
  {
   "cell_type": "code",
   "execution_count": null,
   "id": "organized-outline",
   "metadata": {},
   "outputs": [],
   "source": [
    "# Seu código AQUI!"
   ]
  },
  {
   "cell_type": "markdown",
   "id": "mediterranean-fluid",
   "metadata": {},
   "source": [
    "e o texto de resposta"
   ]
  },
  {
   "cell_type": "code",
   "execution_count": null,
   "id": "catholic-damage",
   "metadata": {},
   "outputs": [],
   "source": [
    "# Seu código AQUI!"
   ]
  },
  {
   "cell_type": "code",
   "execution_count": null,
   "id": "39bc1186",
   "metadata": {},
   "outputs": [],
   "source": [
    "IPython.display.HTML(resposta.text)"
   ]
  },
  {
   "cell_type": "markdown",
   "id": "worthy-resolution",
   "metadata": {},
   "source": [
    "Agora, vamos salvar a resposta em um arquivo"
   ]
  },
  {
   "cell_type": "code",
   "execution_count": null,
   "id": "dressed-tobacco",
   "metadata": {},
   "outputs": [],
   "source": [
    "# Seu código AQUI!"
   ]
  },
  {
   "cell_type": "markdown",
   "id": "directed-privilege",
   "metadata": {},
   "source": [
    "Pronto! Confira se foi criado um arquivo **amostra.html** na pasta onde está o seu Jupyter notebook."
   ]
  },
  {
   "cell_type": "code",
   "execution_count": null,
   "id": "cloudy-creek",
   "metadata": {},
   "outputs": [],
   "source": [
    "!dir #Para listar conteúdo na pasta atual"
   ]
  },
  {
   "cell_type": "code",
   "execution_count": null,
   "id": "f49abb2c",
   "metadata": {},
   "outputs": [],
   "source": [
    "!ls #Para listar conteúdo na pasta atual"
   ]
  },
  {
   "cell_type": "markdown",
   "id": "liberal-facility",
   "metadata": {},
   "source": [
    "Agora você pode abrir este arquivo no navegador. Confira como a página é exibida.\n",
    "\n",
    "Você também pode abrir o arquivo **amostra.html** em um editor de textos qualquer (bloco de notas, sublime, notepad++, vcode) para realizar alterações."
   ]
  },
  {
   "cell_type": "markdown",
   "id": "brief-statement",
   "metadata": {},
   "source": [
    "## Extraindo informações dos arquivos HTML\n",
    "\n",
    "Vamos aprender como utilizar o **BeautifulSoup** para extrair informações de interesse dos arquivos HTML?"
   ]
  },
  {
   "cell_type": "markdown",
   "id": "tender-battle",
   "metadata": {},
   "source": [
    "Para obter o código HTML, podemos abrir o arquivo **amostra.html** caso ele já esteja em nossa máquina:"
   ]
  },
  {
   "cell_type": "code",
   "execution_count": null,
   "id": "removed-excuse",
   "metadata": {},
   "outputs": [],
   "source": [
    "# Seu código AQUI!"
   ]
  },
  {
   "cell_type": "markdown",
   "id": "1834b338",
   "metadata": {},
   "source": [
    "Caso contrário, podemos fazer uma requisição para obter seu conteúdo:"
   ]
  },
  {
   "cell_type": "code",
   "execution_count": null,
   "id": "a57ccf78",
   "metadata": {},
   "outputs": [],
   "source": [
    "url = 'https://atd-insper.s3.us-east-2.amazonaws.com/aula04/amostra.html'\n",
    "\n",
    "# Seu código AQUI!"
   ]
  },
  {
   "cell_type": "markdown",
   "id": "secure-fusion",
   "metadata": {},
   "source": [
    "Agora, vamos configurar o BeautifulSoup para uso com o conteúdo da página de amostra. Precisamos informar a *string* contendo o código HTML e também o *parser*, que faz a separação dos *tags* de marcação utilizadas."
   ]
  },
  {
   "cell_type": "code",
   "execution_count": null,
   "id": "sharing-council",
   "metadata": {},
   "outputs": [],
   "source": [
    "soup = # Seu código AQUI!"
   ]
  },
  {
   "cell_type": "markdown",
   "id": "dominican-catch",
   "metadata": {},
   "source": [
    "Agora, podemos encontrar uma tag qualquer, por exêmplo **\\<h2\\>**:"
   ]
  },
  {
   "cell_type": "code",
   "execution_count": null,
   "id": "catholic-tribute",
   "metadata": {},
   "outputs": [],
   "source": [
    "# Seu código AQUI!"
   ]
  },
  {
   "cell_type": "markdown",
   "id": "regular-delight",
   "metadata": {},
   "source": [
    "Caso queira exibir apenas o texto da tag encontrada, faça:"
   ]
  },
  {
   "cell_type": "code",
   "execution_count": null,
   "id": "classical-particular",
   "metadata": {},
   "outputs": [],
   "source": [
    "h2 = # Seu código AQUI!\n",
    "print('O conteúdo do título é: {}'.format(h2.text))"
   ]
  },
  {
   "cell_type": "markdown",
   "id": "facial-ukraine",
   "metadata": {},
   "source": [
    "Podemos também procurar por todas as ocorrências de uma tag:"
   ]
  },
  {
   "cell_type": "code",
   "execution_count": null,
   "id": "incoming-provider",
   "metadata": {},
   "outputs": [],
   "source": [
    "# Seu código AQUI!"
   ]
  },
  {
   "cell_type": "markdown",
   "id": "authentic-grove",
   "metadata": {},
   "source": [
    "Agora, vamos encontrar um link:"
   ]
  },
  {
   "cell_type": "code",
   "execution_count": null,
   "id": "prescribed-sweet",
   "metadata": {},
   "outputs": [],
   "source": [
    "link = # Seu código AQUI!\n",
    "link"
   ]
  },
  {
   "cell_type": "markdown",
   "id": "provincial-suffering",
   "metadata": {},
   "source": [
    "Será que conseguimos extrair o texto que aparece para o usuário?"
   ]
  },
  {
   "cell_type": "code",
   "execution_count": null,
   "id": "quiet-concord",
   "metadata": {},
   "outputs": [],
   "source": [
    "# Seu código AQUI!"
   ]
  },
  {
   "cell_type": "markdown",
   "id": "sapphire-visitor",
   "metadata": {},
   "source": [
    "E como fazemos para extrair a URL do link?"
   ]
  },
  {
   "cell_type": "code",
   "execution_count": null,
   "id": "million-oxygen",
   "metadata": {},
   "outputs": [],
   "source": [
    "# Seu código AQUI!"
   ]
  },
  {
   "cell_type": "markdown",
   "id": "operating-armor",
   "metadata": {},
   "source": [
    "## Exemplo de aplicação\n",
    "\n",
    "Suponha que tenhamos uma página Web com diversos produtos listados.\n",
    "\n",
    "Acesse https://atd-insper.s3.us-east-2.amazonaws.com/aula05/produtos.html\n",
    "\n",
    "Vamos utilizar o BeautifulSoup para extrair as informações da página, construindo um **pandas DataFrame** contendo o **`produto`**, **`descrição`** e **`preço`**.\n",
    "\n",
    "Primeiro, vamos extrair a página com o *requests*:"
   ]
  },
  {
   "cell_type": "code",
   "execution_count": null,
   "id": "rental-algeria",
   "metadata": {},
   "outputs": [],
   "source": [
    "url = 'https://atd-insper.s3.us-east-2.amazonaws.com/aula05/produtos.html'\n",
    "pag_prod = requests.get(url)\n",
    "\n",
    "pag_prod.encoding = 'utf-8'\n",
    "\n",
    "print(pag_prod.text)"
   ]
  },
  {
   "cell_type": "markdown",
   "id": "3d385fe6",
   "metadata": {},
   "source": [
    "Podemos abrir diretamente a URL em um navegador para verificar seu conteúdo, ou então renderizar dentro do notebook com:"
   ]
  },
  {
   "cell_type": "code",
   "execution_count": null,
   "id": "ca888c2c",
   "metadata": {},
   "outputs": [],
   "source": [
    "IPython.display.HTML(pag_prod.text)"
   ]
  },
  {
   "cell_type": "markdown",
   "id": "established-evidence",
   "metadata": {},
   "source": [
    "Vamos utilizar o BeautifulSoup"
   ]
  },
  {
   "cell_type": "code",
   "execution_count": null,
   "id": "ancient-advancement",
   "metadata": {},
   "outputs": [],
   "source": [
    "soup = BeautifulSoup(pag_prod.content, 'html.parser')"
   ]
  },
  {
   "cell_type": "markdown",
   "id": "standing-elevation",
   "metadata": {},
   "source": [
    "E extrair a lista de produtos. Podemos perceber que os produtos estão separados em `div` com classe `produto`. Assim, podemos utilizar o método `find_all` para obter uma lista de *tags* encontradas no HTML."
   ]
  },
  {
   "cell_type": "code",
   "execution_count": null,
   "id": "laughing-islam",
   "metadata": {},
   "outputs": [],
   "source": [
    "lista_produto = # Seu código AQUI!\n",
    "lista_produto"
   ]
  },
  {
   "cell_type": "markdown",
   "id": "introductory-poland",
   "metadata": {},
   "source": [
    "Podemos obter um produto qualquer da lista ao informar o índice:"
   ]
  },
  {
   "cell_type": "code",
   "execution_count": null,
   "id": "fifty-milan",
   "metadata": {},
   "outputs": [],
   "source": [
    "produto = # Seu código AQUI!\n",
    "produto"
   ]
  },
  {
   "cell_type": "markdown",
   "id": "undefined-advertising",
   "metadata": {},
   "source": [
    "Então, podemos obter as informações de **PRODUTO**, **DESCRIÇÃO** e **PREÇO** ao procurar pelas *tags* que os identificam!"
   ]
  },
  {
   "cell_type": "code",
   "execution_count": null,
   "id": "sacred-relation",
   "metadata": {},
   "outputs": [],
   "source": [
    "produto_titulo = # Seu código AQUI!\n",
    "descricao = # Seu código AQUI!\n",
    "preco = # Seu código AQUI!\n",
    "\n",
    "print('Produto....: ', produto_titulo)\n",
    "print('\\nDescrição..: ', descricao)\n",
    "print('\\nPreço......: ', preco)"
   ]
  },
  {
   "cell_type": "markdown",
   "id": "comprehensive-tomorrow",
   "metadata": {},
   "source": [
    "### Obter todos os produtos e construir o DataFrame!\n",
    "\n",
    "Para obter as informações de todos os produtos de forma fácil, podemos iterar (laço, estrutura de repetição **for**) sobre as *divs* de todos os produtos e extrair as informações para cada uma delas.\n",
    "\n",
    "Podemos guardar cada produto, descrição e preço em uma **lista**, o que facilitará a construção do DataFrame."
   ]
  },
  {
   "cell_type": "code",
   "execution_count": null,
   "id": "instructional-closer",
   "metadata": {},
   "outputs": [],
   "source": [
    "# Cria listas vazias.\n",
    "lista_prod_titulo = []\n",
    "lista_descricao = []\n",
    "lista_preco = []\n",
    "\n",
    "# Um laço FOR pela lista de produtos\n",
    "for produto in soup.find_all('div', class_='produto'):\n",
    "    \n",
    "    # Extrai cada informação do produto\n",
    "    produto_titulo = produto.find('h4').text\n",
    "    descricao = produto.find('p').text\n",
    "    preco = produto.find('span').text\n",
    "    \n",
    "    preco = preco.replace('R$\\xa0', '')\n",
    "    preco = float(preco.replace(\".\", \"\").replace(\",\", \".\"))\n",
    "\n",
    "    \n",
    "    lista_prod_titulo.append(produto_titulo)\n",
    "    lista_descricao.append(descricao)\n",
    "    lista_preco.append(preco)"
   ]
  },
  {
   "cell_type": "markdown",
   "id": "olive-means",
   "metadata": {},
   "source": [
    "Agora, com as listas de produto, descrição e preço, podemos construir o DataFrame!"
   ]
  },
  {
   "cell_type": "code",
   "execution_count": null,
   "id": "solved-preliminary",
   "metadata": {},
   "outputs": [],
   "source": [
    "df = pd.DataFrame({'Produto': lista_prod_titulo,\n",
    "                   'Descrição': lista_descricao,\n",
    "                   'Preço': lista_preco\n",
    "                  })\n",
    "df"
   ]
  },
  {
   "cell_type": "markdown",
   "id": "unusual-square",
   "metadata": {},
   "source": [
    "Você conseguiria pensar em alguma aplicação prática feita a partir deste exemplo?"
   ]
  },
  {
   "cell_type": "markdown",
   "id": "unavailable-romantic",
   "metadata": {},
   "source": [
    "R:"
   ]
  },
  {
   "cell_type": "code",
   "execution_count": null,
   "id": "16b1f847",
   "metadata": {},
   "outputs": [],
   "source": []
  },
  {
   "cell_type": "markdown",
   "id": "0e94414d",
   "metadata": {},
   "source": [
    "**Exercício 1)** Abra o arquivo **amostra.html** em um editor de textos de sua preferência:\n",
    "\n",
    "**a)** altere o título da página.\n",
    "\n",
    "**b)** Adicione, antes da seção de links, mais três subtítulos (todos nível 2, com a tag \\<h2\\>).\n",
    "\n",
    "**c)** Adicione, ao final da página, link para três páginas quaisquer de seu interesse."
   ]
  },
  {
   "cell_type": "code",
   "execution_count": null,
   "id": "8838e2fe",
   "metadata": {},
   "outputs": [],
   "source": [
    "%pycat amostra.html"
   ]
  },
  {
   "cell_type": "code",
   "execution_count": null,
   "id": "0da8dcce",
   "metadata": {},
   "outputs": [],
   "source": [
    "%%writefile amostra2.html\n",
    "# coloque aqui o conteúdo a ser salvo no novo arquivo"
   ]
  },
  {
   "cell_type": "code",
   "execution_count": null,
   "id": "cba23af9",
   "metadata": {},
   "outputs": [],
   "source": [
    "IPython.display.HTML(filename='amostra2.html')"
   ]
  },
  {
   "cell_type": "markdown",
   "id": "8e8cf3ca",
   "metadata": {},
   "source": [
    "**Exercício 2)** Crie um novo arquivo HTML chamado **noticia.html** no editor de textos.\n",
    "\n",
    "**a)** Crie um título para a página.\n",
    "\n",
    "**b)** Crie um cabeçalho no arquivo (título, tag \\<h1\\>), contendo o texto \"**`A missão do século 19 que deu início à oceanografia`**\".\n",
    "\n",
    "**c)** Adicione parágrafos contendo os textos:\n",
    "\n",
    "*`Ela já foi uma casa residencial, mas atualmente a imponente estrutura de pedra na Boswall Road, na costa sul de Edimburgo, na Escócia, faz parte de uma clínica de cuidados paliativos.`*\n",
    "\n",
    "*`A construção tem o mesmo nome da parte mais profunda do oceano e de duas espaçonaves da Nasa, agência espacial americana. Uma era o módulo de comando da missão Apollo 17, enquanto a outra era um ônibus espacial, que explodiu em pleno ar após o lançamento — Challenger.`*\n",
    "\n",
    "*`Challenger Lodge já foi propriedade de John Murray, célebre precursor da oceanografia, cujas expedições o levaram aos lugares mais longínquos de Edimburgo, mas ainda no planeta Terra.`*\n",
    "\n",
    "*`A embarcação em que viveu por três anos na década de 1870 é o que une a casa na costa escocesa, a parte mais profunda do oceano e as espaçonaves da Nasa.`*\n",
    "\n",
    "*`O HMS Challenger era um navio da Marinha Real Britânica construído na década de 1850. Ele entrou para a história não pelo histórico de combates, mas graças a uma reputação conquistada por algo muito mais minucioso.`*\n",
    "\n",
    "**d)** Entre o texto e o cabeçalho, adicione uma imagem para a seguinte URL:\n",
    "https://ichef.bbci.co.uk/news/800/cpsprodpb/12746/production/_117309557_foto_01.jpg\n",
    "\n",
    "Dica: utilize a tag \\<img src=\"URL_DA_IMAGEM\"\\>\n",
    "\n",
    "**e)** escolha três palavras para deixar em negrito.\n",
    "\n",
    "**f)** No texto, no último parágrafo, deixe \"Marinha Real Britânica\" em itálico. Ainda, deixe \"Britânica\" também em negrito.\n"
   ]
  },
  {
   "cell_type": "code",
   "execution_count": null,
   "id": "82cea3ce",
   "metadata": {},
   "outputs": [],
   "source": [
    "%%writefile noticia.html\n",
    "# coloque aqui o conteúdo a ser salvo no novo arquivo"
   ]
  },
  {
   "cell_type": "code",
   "execution_count": null,
   "id": "24d5482b",
   "metadata": {},
   "outputs": [],
   "source": [
    "IPython.display.HTML(filename='noticia.html')"
   ]
  },
  {
   "cell_type": "markdown",
   "id": "9a81595e",
   "metadata": {},
   "source": [
    "### Exercícios com noticia.html"
   ]
  },
  {
   "cell_type": "markdown",
   "id": "bedc56d3",
   "metadata": {},
   "source": [
    "**Exercício 3)** Abra o arquivo **noticia.html** e exiba seu conteúdo:"
   ]
  },
  {
   "cell_type": "code",
   "execution_count": null,
   "id": "dc1e8bf4",
   "metadata": {},
   "outputs": [],
   "source": [
    "# Seu código AQUI!"
   ]
  },
  {
   "cell_type": "markdown",
   "id": "aa256742",
   "metadata": {},
   "source": [
    "**Exercício 4)** Extraia a URL da imagem exibida na notícia:"
   ]
  },
  {
   "cell_type": "code",
   "execution_count": null,
   "id": "c52080cd",
   "metadata": {},
   "outputs": [],
   "source": [
    "# Seu código AQUI!"
   ]
  },
  {
   "cell_type": "markdown",
   "id": "2cf53732",
   "metadata": {},
   "source": [
    "**Exercício 5)** Procure todas as ocorrências de negrito:"
   ]
  },
  {
   "cell_type": "code",
   "execution_count": null,
   "id": "58a779a1",
   "metadata": {},
   "outputs": [],
   "source": [
    "# Seu código AQUI!"
   ]
  },
  {
   "cell_type": "markdown",
   "id": "b0c59710",
   "metadata": {},
   "source": [
    "**Exercício 6)** Procure todas as ocorrências de itálico. Dos termos em itálico, um também está em negrito. Extraia apenas a palavra em negrito desta ocorrência."
   ]
  },
  {
   "cell_type": "code",
   "execution_count": null,
   "id": "281567ff",
   "metadata": {},
   "outputs": [],
   "source": [
    "# Seu código AQUI!"
   ]
  },
  {
   "cell_type": "markdown",
   "id": "spread-winning",
   "metadata": {},
   "source": [
    "# Referências\n",
    "\n",
    "O conteúdo para o exercício do arquivo noticia.html foi extraído de https://www.bbc.com/portuguese/vert-fut-56209925"
   ]
  }
 ],
 "metadata": {
  "kernelspec": {
   "display_name": "Python 3 (ipykernel)",
   "language": "python",
   "name": "python3"
  },
  "language_info": {
   "codemirror_mode": {
    "name": "ipython",
    "version": 3
   },
   "file_extension": ".py",
   "mimetype": "text/x-python",
   "name": "python",
   "nbconvert_exporter": "python",
   "pygments_lexer": "ipython3",
   "version": "3.8.16"
  }
 },
 "nbformat": 4,
 "nbformat_minor": 5
}
