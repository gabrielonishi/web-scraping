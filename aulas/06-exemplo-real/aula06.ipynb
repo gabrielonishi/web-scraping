{
 "cells": [
  {
   "cell_type": "markdown",
   "id": "comprehensive-turkey",
   "metadata": {},
   "source": [
    "# Análise de texto de fontes desestruturadas e Web\n",
    "\n",
    "## Aula 06\n",
    "\n",
    "Nesta aula iremos continuar a extrair informações de páginas Web! Primeiro, iremos realizar a extração de informações de produtos de uma página sintética. Em seguida, realizaremos buscas nos sites do InstoÉDinheiro e Magazine Luiza e extrair informações dos resultados.\n",
    "\n",
    "A biblioteca utilizada será a **BeautifulSoup**, além da **requests**.\n",
    "\n",
    "Para conhecer mais sobre ela, acesse https://beautiful-soup-4.readthedocs.io/en/latest/"
   ]
  },
  {
   "cell_type": "markdown",
   "id": "aerial-arlington",
   "metadata": {},
   "source": [
    "## Instalando a biblioteca *BeautifulSoup*\n",
    "\n",
    "Primeiro, vamos instalar a principal biblioteca de nossa aula!"
   ]
  },
  {
   "cell_type": "code",
   "execution_count": null,
   "id": "lined-polymer",
   "metadata": {},
   "outputs": [],
   "source": [
    "# !pip install BeautifulSoup4"
   ]
  },
  {
   "cell_type": "markdown",
   "id": "defensive-capacity",
   "metadata": {},
   "source": [
    "Caso a biblioteca já esteja instalada, porém com uma versão antiga, podemos atualizá-la com:"
   ]
  },
  {
   "cell_type": "code",
   "execution_count": null,
   "id": "improved-focus",
   "metadata": {},
   "outputs": [],
   "source": [
    "# !pip install BeautifulSoup4 -U"
   ]
  },
  {
   "cell_type": "markdown",
   "id": "weird-patrol",
   "metadata": {},
   "source": [
    "## Importando as bibliotecas necessárias\n",
    "\n",
    "Agora, vamos importar as bibliotecas necessárias:"
   ]
  },
  {
   "cell_type": "code",
   "execution_count": null,
   "id": "unlike-france",
   "metadata": {},
   "outputs": [],
   "source": [
    "# para trabalhar com diretórios / sistema operacional\n",
    "import os\n",
    "\n",
    "# para nos comunicarmos com a Web\n",
    "import requests\n",
    "\n",
    "# para extrair informações de páginas HTML\n",
    "import bs4\n",
    "from bs4 import BeautifulSoup\n",
    "\n",
    "# utilizada para nos indicar o caminho do executável do Python\n",
    "import sys\n",
    "\n",
    "# Para criar um Data Frame\n",
    "import pandas as pd\n",
    "\n",
    "# Controlar espera entre requisições\n",
    "import time\n",
    "\n",
    "# Gerar valores aleatórios\n",
    "import random\n",
    "\n",
    "# Produto cartesiano\n",
    "from sklearn.utils.extmath import cartesian\n",
    "\n",
    "# Renderizar HTML\n",
    "import IPython"
   ]
  },
  {
   "cell_type": "markdown",
   "id": "acquired-regard",
   "metadata": {},
   "source": [
    "Caso obtenha algum erro, utilize o **!pip install** para instalar a biblioteca ausente!\n",
    "\n",
    "Vamos conferir com qual versão da biblioteca **xxxx** estamos trabalhando?"
   ]
  },
  {
   "cell_type": "code",
   "execution_count": null,
   "id": "removable-calvin",
   "metadata": {},
   "outputs": [],
   "source": [
    "print(bs4.__version__)"
   ]
  },
  {
   "cell_type": "markdown",
   "id": "fewer-voluntary",
   "metadata": {},
   "source": [
    "Você também pode conferir de onde está executando o Python e qual a versão"
   ]
  },
  {
   "cell_type": "code",
   "execution_count": null,
   "id": "aggregate-secondary",
   "metadata": {},
   "outputs": [],
   "source": [
    "print('Executável:')\n",
    "print(sys.executable)\n",
    "\n",
    "print('\\nVersão do Python:')\n",
    "print(sys.version)"
   ]
  },
  {
   "cell_type": "markdown",
   "id": "multiple-premium",
   "metadata": {},
   "source": [
    "Vamos conferir em qual diretório iremos trabalhar (é o diretório do notebook)"
   ]
  },
  {
   "cell_type": "code",
   "execution_count": null,
   "id": "revolutionary-quantity",
   "metadata": {},
   "outputs": [],
   "source": [
    "print('O seu notebook está na pasta:')\n",
    "print(os.getcwd())"
   ]
  },
  {
   "cell_type": "markdown",
   "id": "interim-museum",
   "metadata": {},
   "source": [
    "## Exemplo de aplicação\n",
    "\n",
    "Suponha que tenhamos uma página Web com diversos produtos listados.\n",
    "\n",
    "Acesse https://atd-insper.s3.us-east-2.amazonaws.com/aula05/produtos.html\n",
    "\n",
    "Vamos utilizar o BeautifulSoup para extrair as informações da página, construindo um **pandas DataFrame** contendo o **`produto`**, **`descrição`** e **`preço`**.\n",
    "\n",
    "Primeiro, vamos extrair a página com o *requests*:"
   ]
  },
  {
   "cell_type": "code",
   "execution_count": null,
   "id": "foster-penny",
   "metadata": {},
   "outputs": [],
   "source": [
    "url = 'https://atd-insper.s3.us-east-2.amazonaws.com/aula05/produtos.html'\n",
    "\n",
    "pag_prod = requests.get(url)\n",
    "\n",
    "pag_prod.encoding = 'utf-8'\n",
    "\n",
    "print(pag_prod.text)"
   ]
  },
  {
   "cell_type": "markdown",
   "id": "0b40fcf7",
   "metadata": {},
   "source": [
    "Podemos abrir diretamente a URL em um navegador para verificar seu conteúdo, ou então renderizar dentro do notebook com:"
   ]
  },
  {
   "cell_type": "code",
   "execution_count": null,
   "id": "22afaf01",
   "metadata": {},
   "outputs": [],
   "source": [
    "IPython.display.HTML(pag_prod.text)"
   ]
  },
  {
   "cell_type": "markdown",
   "id": "fresh-hypothesis",
   "metadata": {},
   "source": [
    "Vamos utilizar o BeautifulSoup"
   ]
  },
  {
   "cell_type": "code",
   "execution_count": null,
   "id": "appointed-reduction",
   "metadata": {},
   "outputs": [],
   "source": [
    "soup = BeautifulSoup(pag_prod.text, 'html.parser')"
   ]
  },
  {
   "cell_type": "markdown",
   "id": "fifth-banana",
   "metadata": {},
   "source": [
    "E extrair a lista de produtos"
   ]
  },
  {
   "cell_type": "code",
   "execution_count": null,
   "id": "painted-evans",
   "metadata": {},
   "outputs": [],
   "source": [
    "lista_produto = soup.find_all('div', class_='produto')\n",
    "lista_produto"
   ]
  },
  {
   "cell_type": "markdown",
   "id": "psychological-arizona",
   "metadata": {},
   "source": [
    "Podemos obter um produto qualquer da lista, bastando informar o índice da lista"
   ]
  },
  {
   "cell_type": "code",
   "execution_count": null,
   "id": "international-montana",
   "metadata": {},
   "outputs": [],
   "source": [
    "produto = lista_produto[0]\n",
    "produto"
   ]
  },
  {
   "cell_type": "markdown",
   "id": "sized-poker",
   "metadata": {},
   "source": [
    "Então, podemos obter as informações de **PRODUTO**, **DESCRIÇÃO** e **PREÇO**!"
   ]
  },
  {
   "cell_type": "code",
   "execution_count": null,
   "id": "amino-wrist",
   "metadata": {},
   "outputs": [],
   "source": [
    "produto_titulo = produto.find('h4').text\n",
    "descricao = produto.find('p').text\n",
    "preco = produto.find('span').text\n",
    "\n",
    "print('Produto....: ', produto_titulo)\n",
    "print('\\nDescrição..: ', descricao)\n",
    "print('\\nPreço......: ', preco)"
   ]
  },
  {
   "cell_type": "markdown",
   "id": "greenhouse-baptist",
   "metadata": {},
   "source": [
    "### Obter todos os produtos e construir o DataFrame!\n",
    "\n",
    "Para obter as informações de todos os produtos de forma fácil, podemos iterar (laço, estrutura de repetição **for**) sobre as *div*'s de todos os produtos e extrair as informações para cada uma delas.\n",
    "\n",
    "Podemos guardar cada produto, descrição e preço em uma lista, o que facilitará a construção do DataFrame."
   ]
  },
  {
   "cell_type": "code",
   "execution_count": null,
   "id": "monetary-wichita",
   "metadata": {},
   "outputs": [],
   "source": [
    "lista_prod_titulo = []\n",
    "lista_descricao = []\n",
    "lista_preco = []\n",
    "\n",
    "for produto in soup.find_all('div', class_='produto'):\n",
    "    produto_titulo = produto.find('h4').text\n",
    "    descricao = produto.find('p').text\n",
    "    preco = produto.find('span').text\n",
    "    \n",
    "    preco = preco.replace('R$\\xa0', '')\n",
    "    preco = float(preco.replace(\".\", \"\").replace(\",\", \".\"))\n",
    "\n",
    "    \n",
    "    lista_prod_titulo.append(produto_titulo)\n",
    "    lista_descricao.append(descricao)\n",
    "    lista_preco.append(preco)"
   ]
  },
  {
   "cell_type": "markdown",
   "id": "vulnerable-checkout",
   "metadata": {},
   "source": [
    "Agora, com as listas de produto, descrição e preço, podemos construir o DataFrame!"
   ]
  },
  {
   "cell_type": "code",
   "execution_count": null,
   "id": "broad-currency",
   "metadata": {
    "scrolled": true
   },
   "outputs": [],
   "source": [
    "df = pd.DataFrame({'Produto': lista_prod_titulo,\n",
    "                   'Descrição': lista_descricao,\n",
    "                   'Preço': lista_preco\n",
    "                  })\n",
    "df"
   ]
  },
  {
   "cell_type": "markdown",
   "id": "received-bidder",
   "metadata": {},
   "source": [
    "Você conseguiria pensar em alguma aplicação prática feita a partir deste exemplo?"
   ]
  },
  {
   "cell_type": "markdown",
   "id": "natural-journey",
   "metadata": {},
   "source": [
    "<div class=\"alert alert-success\">\n",
    "\n",
    "Sua resposta aqui! Dê dois cliques e edite.\n",
    "\n",
    "</div>"
   ]
  },
  {
   "cell_type": "markdown",
   "id": "55c44561",
   "metadata": {},
   "source": [
    "## IstoÉDinheiro\n",
    "\n",
    "Vamos utilizar `requests` para baixar (`get`) notícias do site da **IstoÉDinheiro** e `BeautifulSoup` para extrair informações e construir um Pandas `DataFrame` de títulos e descrições.\n",
    "\n",
    "### Definindo qual página buscar\n",
    "\n",
    "Faremos algumas configurações (cabeçalho, seção e URL):"
   ]
  },
  {
   "cell_type": "code",
   "execution_count": null,
   "id": "e426551d",
   "metadata": {},
   "outputs": [],
   "source": [
    "headers = ({'User-Agent':\n",
    "            'Mozilla/5.0 (Windows NT 6.1) AppleWebKit/537.36 (KHTML, like Gecko) Chrome/41.0.2228.0 Safari/537.36'})\n",
    "\n",
    "secao = 'economia'\n",
    "\n",
    "url = # SEU CÓDIGO AQUI"
   ]
  },
  {
   "cell_type": "markdown",
   "id": "e2bc01ff",
   "metadata": {},
   "source": [
    "### Utilizando *requests* para baixar a página de notícias\n",
    "\n",
    "E utilizar `requests` para baixar a página de notícias:"
   ]
  },
  {
   "cell_type": "code",
   "execution_count": null,
   "id": "a144161d",
   "metadata": {},
   "outputs": [],
   "source": [
    "resposta = requests.get(url=url, headers=headers)\n",
    "\n",
    "resposta.encoding = 'utf-8'\n",
    "\n",
    "resposta.text"
   ]
  },
  {
   "cell_type": "markdown",
   "id": "7f3b5d0f",
   "metadata": {},
   "source": [
    "### Extraindo informações relevantes com *BeautifulSoup*\n",
    "Perceba que o HTML inclui uma grande quantidade de tags, o que dificulta identificar informações relevantes de forma direta. Com o auxílio da biblioteca **BeautifulSoup** podemos extrair facilmente as informações que desejamos."
   ]
  },
  {
   "cell_type": "code",
   "execution_count": null,
   "id": "275ad827",
   "metadata": {},
   "outputs": [],
   "source": [
    "soup = BeautifulSoup(resposta.text, 'html.parser')"
   ]
  },
  {
   "cell_type": "markdown",
   "id": "718eb25c",
   "metadata": {},
   "source": [
    "Então, vamos obter uma lista com todos os trechos HTML que contém uma **notícia**.\n",
    "\n",
    "Para identificar as tags corretas, é preciso ir até a página Web que desejamos extrair informações, dar botão direito e ir em **inspecionar elemento**, navegando pelo HTML até identificar as tags necessárias\n",
    "\n",
    "Ex: https://www.istoedinheiro.com.br/categoria/economia/"
   ]
  },
  {
   "cell_type": "code",
   "execution_count": null,
   "id": "2a56623b",
   "metadata": {},
   "outputs": [],
   "source": [
    "lista_tag_noticia = # SEU CÓDIGO AQUI!\n",
    "lista_tag_noticia"
   ]
  },
  {
   "cell_type": "markdown",
   "id": "133cf9f0",
   "metadata": {},
   "source": [
    "Agora, podemos passar por cada uma das chamadas de notícias, extraindo informações de interesse, como o título, descrição e data."
   ]
  },
  {
   "cell_type": "code",
   "execution_count": null,
   "id": "a4e30424",
   "metadata": {},
   "outputs": [],
   "source": [
    "lista_titulo = []\n",
    "lista_desc = []\n",
    "lista_data = []\n",
    "\n",
    "for i in range(0, len(lista_tag_noticia)):\n",
    "    \n",
    "    tag_noticia = lista_tag_noticia[i]\n",
    "\n",
    "\n",
    "    titulo = # SEU CÓDIGO AQUI!\n",
    "    titulo = titulo.replace('\\n', '') #limpa os ENTERS a esquerda e direita\n",
    "    lista_titulo.append(titulo)\n",
    "\n",
    "    descricao = # SEU CÓDIGO AQUI!\n",
    "    lista_desc.append(descricao)\n",
    "    \n",
    "    data_hora = # SEU CÓDIGO AQUI!\n",
    "    lista_data.append(data_hora)"
   ]
  },
  {
   "cell_type": "markdown",
   "id": "615a6bac",
   "metadata": {},
   "source": [
    "## Criando um DataFrame\n",
    "\n",
    "As informações que consideramos foram extraídas na repetição **for** e armazenadas em listas. Podemos utilizar estas listas para construir um Pandas DataFrame:"
   ]
  },
  {
   "cell_type": "code",
   "execution_count": null,
   "id": "a135043f",
   "metadata": {},
   "outputs": [],
   "source": [
    "df = pd.DataFrame({'Secao': secao,\n",
    "                   'Titulo': lista_titulo,\n",
    "                   'Descrição': lista_desc,\n",
    "                   'Data': lista_data\n",
    "                  })\n",
    "df"
   ]
  },
  {
   "cell_type": "markdown",
   "id": "087ee8c0",
   "metadata": {},
   "source": [
    "### Salvando o DataFrame em CSV\n",
    "\n",
    "É interessante armazenar o Dataframe em **CSV** (ou **xlsx**) para que ele possa ser análisado em algum momento posterior. Você poderia, por exemplo, extrair as notícias todos os dias de uma semana e analisar somente após ter todos estes dados."
   ]
  },
  {
   "cell_type": "code",
   "execution_count": null,
   "id": "9db69569",
   "metadata": {},
   "outputs": [],
   "source": [
    "df.to_csv(f'noticias_{secao}_160323.csv', index=False)"
   ]
  },
  {
   "cell_type": "markdown",
   "id": "8c5260fc",
   "metadata": {},
   "source": [
    "# Exercícios\n",
    "\n",
    "\n",
    "**Exercício 1)** Altere o código de extração das informações das notícias para trazer também o **link da notícia**. Rode todo o código novamente."
   ]
  },
  {
   "cell_type": "code",
   "execution_count": null,
   "id": "9e6969fa",
   "metadata": {},
   "outputs": [],
   "source": [
    "# SEU CÓDIGO AQUI!"
   ]
  },
  {
   "cell_type": "markdown",
   "id": "a366d9f7",
   "metadata": {},
   "source": [
    "**Exercício 2)** Crie um CSV (pesquise e salve) com as notícias das seções de **economia**, **política** e **finanças**.\n",
    "\n",
    "Faça a pesquisa e gere o `DataFrame` e **CSV** com cada uma das seções. Observe como a IstoÉ as nomeia em seu site.\n",
    "\n",
    "Em seguida, abra os três arquivos e os concatene, gerando apenas um DataFrame contendo todas as notícias das três seções (dica: pd.concat)."
   ]
  },
  {
   "cell_type": "code",
   "execution_count": null,
   "id": "d3074435",
   "metadata": {},
   "outputs": [],
   "source": [
    "# SEU CÓDIGO AQUI!"
   ]
  },
  {
   "cell_type": "markdown",
   "id": "d16f1fd9",
   "metadata": {},
   "source": [
    "**Exercício 3)** Crie uma solução em Python que faça o download de várias páginas (1, 2, 3, ...) de notícias do IstoÉDinheiro. Defina no inicio do código variáveis de **página inicial** e **página** final.\n",
    "\n",
    "Como resultado, produza um `DataFrame` contendo todas as notícias. Adicione uma coluna com o número da página onde a notícia aparece."
   ]
  },
  {
   "cell_type": "code",
   "execution_count": null,
   "id": "48fd398d",
   "metadata": {},
   "outputs": [],
   "source": [
    "# SEU CÓDIGO AQUI!"
   ]
  },
  {
   "cell_type": "markdown",
   "id": "detected-vulnerability",
   "metadata": {},
   "source": [
    "## Magazine Luiza\n",
    "\n",
    "Iremos utilizar o BeautifulSoup para extrair informações sobre produtos de um site do varejo brasileiro!\n",
    "\n",
    "Vamos descobrir como funciona o site da Magazine Luiza? Iremos acessar https://www.magazineluiza.com.br. Após acessar o site, clique com o botão direito do mouse e selecione **Inspecionar Elemento**.\n",
    "\n",
    "Faça uma busca no site utilizando algum termo como **'smartphone 128gb'**.\n",
    "\n",
    "Tente inspecionar vários elementos até encontrar padrões:\n",
    "- Onde está a **lista de produtos** retornada pela busca?\n",
    "- Como obter do produto:\n",
    "    - A **descrição**\n",
    "    - O **preço**\n",
    "    - A URL da **imagem**\n",
    "    - Etc."
   ]
  },
  {
   "cell_type": "markdown",
   "id": "quantitative-depression",
   "metadata": {},
   "source": [
    "### Arquivos `robots.txt`\n",
    "\n",
    "Os sites costumam deixar no arquivo robots.txt as informações de boas práticas de web **crawling** e **scraping**.\n",
    "\n",
    "Vamos conferir o robots.txt da Magazine Luiza?\n",
    "\n",
    "Acesse https://www.magazineluiza.com.br/robots.txt ou faça um requests.\n",
    "\n",
    "Acesse https://developers.google.com/search/docs/advanced/robots/create-robots-txt?hl=pt-br para saber mais."
   ]
  },
  {
   "cell_type": "markdown",
   "id": "successful-technology",
   "metadata": {},
   "source": [
    "### User-agent\n",
    "\n",
    "Alguns sites bloqueiam requisições identificadas como não realizadas por usuários em navegadores. Para prevenir bloqueios e extrair informações destes sites, uma prática é criar um cabeçalho com **User-Agent**."
   ]
  },
  {
   "cell_type": "code",
   "execution_count": null,
   "id": "least-jackson",
   "metadata": {},
   "outputs": [],
   "source": [
    "# headers = ({'User-Agent':\n",
    "#             'Mozilla/5.0 (X11; Linux x86_64) AppleWebKit/537.36 (KHTML, like Gecko) Chrome/51.0.2704.103 Safari/537.36'})\n",
    "\n",
    "headers = {\n",
    "     'user-agent': 'Mozilla/5.0 (Windows NT 10.0; Win64; x64) AppleWebKit/537.35 (KHTML, like Gecko) Chrome/75.0.3770.142 Safari/537.35'\n",
    "}"
   ]
  },
  {
   "cell_type": "markdown",
   "id": "voluntary-imaging",
   "metadata": {},
   "source": [
    "Você também pode alterar o **User-Agent** a cada nova requisição. O cabeçalho também pode ter informações de login por exemplo, mas isso foge do escopo da disciplina!"
   ]
  },
  {
   "cell_type": "markdown",
   "id": "409a89b3",
   "metadata": {},
   "source": [
    "### Buscando um produto\n",
    "\n",
    "Vamos acessar o site https://www.magazineluiza.com.br e realizar a busca manual por algum produto.\n",
    "\n",
    "Digite algo no campo de busca e realize a busca. Observe que a URL irá ser alterada e conter os seus termos de busca.\n",
    "\n",
    "Edite a URL diretamente para realizar a busca por outros produtos (direto na barra de endereços do navegador ao invés de utilizar o campo de buscas do site)."
   ]
  },
  {
   "cell_type": "markdown",
   "id": "e820024f",
   "metadata": {},
   "source": [
    "Alguns exemplos de busca:\n",
    "\n",
    "- https://www.magazineluiza.com.br/busca/smartphone+128gb/\n",
    "- https://www.magazineluiza.com.br/busca/smartphone+256gb/"
   ]
  },
  {
   "cell_type": "code",
   "execution_count": null,
   "id": "caring-international",
   "metadata": {},
   "outputs": [],
   "source": [
    "busca = 'smarpthone 256GB'\n",
    "busca = busca.replace(' ', '+')\n",
    "\n",
    "url = f'https://www.magazineluiza.com.br/busca/{busca}/'\n",
    "\n",
    "resposta = requests.get(url=url, headers=headers)\n",
    "\n",
    "resposta.encoding = 'utf-8'\n",
    "\n",
    "resposta.text"
   ]
  },
  {
   "cell_type": "code",
   "execution_count": null,
   "id": "ffe038a3",
   "metadata": {},
   "outputs": [],
   "source": [
    "resposta.request.headers"
   ]
  },
  {
   "cell_type": "markdown",
   "id": "angry-juice",
   "metadata": {},
   "source": [
    "Conferindo o código de resposta"
   ]
  },
  {
   "cell_type": "code",
   "execution_count": null,
   "id": "organized-outline",
   "metadata": {},
   "outputs": [],
   "source": [
    "print('Código de status da resposta: {}'.format(resposta.status_code))"
   ]
  },
  {
   "cell_type": "markdown",
   "id": "mediterranean-fluid",
   "metadata": {},
   "source": [
    "e o texto de resposta"
   ]
  },
  {
   "cell_type": "code",
   "execution_count": null,
   "id": "catholic-damage",
   "metadata": {},
   "outputs": [],
   "source": [
    "print('Texto de resposta:')\n",
    "print(resposta.text)"
   ]
  },
  {
   "cell_type": "markdown",
   "id": "2421b92d",
   "metadata": {},
   "source": [
    "Podemos verificar se a o texto de resposta possui algum termo com"
   ]
  },
  {
   "cell_type": "code",
   "execution_count": null,
   "id": "50f7905d",
   "metadata": {},
   "outputs": [],
   "source": [
    "'128GB' in resposta.text"
   ]
  },
  {
   "cell_type": "markdown",
   "id": "antique-boundary",
   "metadata": {},
   "source": [
    "Vamos criar um soup para conseguir extrair informações a partir do HTML"
   ]
  },
  {
   "cell_type": "code",
   "execution_count": null,
   "id": "collect-return",
   "metadata": {},
   "outputs": [],
   "source": [
    "soup = BeautifulSoup(resposta.text, 'html.parser')"
   ]
  },
  {
   "cell_type": "markdown",
   "id": "powerful-julian",
   "metadata": {},
   "source": [
    "Qual a tag que identifica um produto? Vamos procurar o primeiro produto da lista"
   ]
  },
  {
   "cell_type": "code",
   "execution_count": null,
   "id": "622eac5e",
   "metadata": {},
   "outputs": [],
   "source": [
    "lista_prod = soup.find('div', attrs={'data-testid': 'mod-productlist'})\n",
    "lista_prod"
   ]
  },
  {
   "cell_type": "code",
   "execution_count": null,
   "id": "personalized-journal",
   "metadata": {},
   "outputs": [],
   "source": [
    "tag_produto = lista_prod.find('li')\n",
    "tag_produto"
   ]
  },
  {
   "cell_type": "markdown",
   "id": "piano-designer",
   "metadata": {},
   "source": [
    "Como podemos extrair a Descrição?"
   ]
  },
  {
   "cell_type": "code",
   "execution_count": null,
   "id": "written-jordan",
   "metadata": {},
   "outputs": [],
   "source": [
    "desc_produto = tag_produto.find(#SEU CODIGO AQUI!)\n",
    "desc_produto.text"
   ]
  },
  {
   "cell_type": "markdown",
   "id": "polished-hobby",
   "metadata": {},
   "source": [
    "E para extrair o Preço?"
   ]
  },
  {
   "cell_type": "code",
   "execution_count": null,
   "id": "emotional-library",
   "metadata": {},
   "outputs": [],
   "source": [
    "preco_produto = tag_produto.find(#SEU CODIGO AQUI!)\n",
    "print(preco_produto.text)"
   ]
  },
  {
   "cell_type": "markdown",
   "id": "stretch-romantic",
   "metadata": {},
   "source": [
    "### Procurando por todos os produtos\n",
    "\n",
    "Vamos extrair a lista de produtos (suas tags) e iterar sobre elas para extrair informações de vários produtos. Por enquanto, considere a extração das duas primeiras linhas de informação no site (oito produtos)."
   ]
  },
  {
   "cell_type": "code",
   "execution_count": null,
   "id": "colored-drive",
   "metadata": {},
   "outputs": [],
   "source": [
    "lista_prod = soup.find('div', attrs={'data-testid': 'mod-productlist'})\n",
    "lista_tag_produto = lista_prod.find_all('li')"
   ]
  },
  {
   "cell_type": "code",
   "execution_count": null,
   "id": "219a64a0",
   "metadata": {},
   "outputs": [],
   "source": [
    "qt_prod = len(lista_tag_produto)\n",
    "qt_prod"
   ]
  },
  {
   "cell_type": "code",
   "execution_count": null,
   "id": "agreed-decision",
   "metadata": {},
   "outputs": [],
   "source": [
    "lista_desc = []\n",
    "lista_preco = []\n",
    "for i in range(8):\n",
    "    tag_produto = lista_tag_produto[i]\n",
    "\n",
    "    desc_produto = tag_produto.#SEU CODIGO AQUI!\n",
    "    lista_desc.append(desc_produto.text)\n",
    "\n",
    "    preco_produto = tag_produto.#SEU CODIGO AQUI!\n",
    "\n",
    "    if preco_produto == None:\n",
    "        preco_produto = None\n",
    "    else:    \n",
    "        preco_clean = preco_produto.text.replace('\\n', '')\n",
    "        preco_clean = preco_clean.strip()\n",
    "        preco_clean = preco_clean.replace('R$', '')\n",
    "        preco_clean = preco_clean.replace(\".\", \"\").replace(\",\", \".\")\n",
    "        preco_clean = float(preco_clean)\n",
    "    \n",
    "    lista_preco.append(preco_clean)\n",
    "\n",
    "    \n",
    "lista_preco"
   ]
  },
  {
   "cell_type": "code",
   "execution_count": null,
   "id": "48e25fa0",
   "metadata": {},
   "outputs": [],
   "source": [
    "tag_produto"
   ]
  },
  {
   "cell_type": "code",
   "execution_count": null,
   "id": "interstate-facility",
   "metadata": {},
   "outputs": [],
   "source": [
    "lista_desc"
   ]
  },
  {
   "cell_type": "markdown",
   "id": "stylish-chile",
   "metadata": {},
   "source": [
    "#### Criar DataFrame\n",
    "\n",
    "Então, podemos facilmente transformar as listas extraídas em um DataFrame do pandas"
   ]
  },
  {
   "cell_type": "code",
   "execution_count": null,
   "id": "rough-denmark",
   "metadata": {},
   "outputs": [],
   "source": [
    "busca = 'smarpthone 64GB'\n",
    "df = pd.DataFrame({'Busca': busca,\n",
    "                   'Descrição': lista_desc,\n",
    "                   'Preço': lista_preco\n",
    "                  })\n",
    "df"
   ]
  },
  {
   "cell_type": "markdown",
   "id": "civic-universe",
   "metadata": {},
   "source": [
    "## Criando funções\n",
    "\n",
    "Vamos criar funções para fazer uma busca, tratar os dados obter um DataFrame.\n",
    "\n",
    "Função que pesquisa por um termo no site e retorna o HTML como um texto"
   ]
  },
  {
   "cell_type": "code",
   "execution_count": null,
   "id": "encouraging-ownership",
   "metadata": {},
   "outputs": [],
   "source": [
    "\n",
    "\n",
    "def pesquisa(termo):\n",
    "    \n",
    "    s1 = random.randint(1,40)\n",
    "    s2 = random.randint(1,140)\n",
    "    \n",
    "    headers = {\n",
    "         'user-agent': f'Mozilla/5.0  (Windows NT 10.0; Win64; x64) AppleWebKit/537.{s1} (KHTML, like Gecko) Chrome/75.0.3770.{s2} Safari/537.{s1}'\n",
    "    }\n",
    "    \n",
    "    url = f'https://www.magazineluiza.com.br/busca/smartphone+{termo}/'\n",
    "    \n",
    "    time.sleep(abs(random.gauss(2,1)))\n",
    "\n",
    "    resposta = requests.get(url = url, headers=headers)\n",
    "\n",
    "    resposta.encoding = 'utf-8'\n",
    "\n",
    "    return resposta.text"
   ]
  },
  {
   "cell_type": "markdown",
   "id": "musical-ridge",
   "metadata": {},
   "source": [
    "Função que processa o HTML e extrai a descrição, preço e demais informações necessárias"
   ]
  },
  {
   "cell_type": "code",
   "execution_count": null,
   "id": "european-release",
   "metadata": {},
   "outputs": [],
   "source": [
    "def processa(resposta, qtde_produto):\n",
    "    \n",
    "    soup = BeautifulSoup(resposta, 'html.parser')\n",
    "    \n",
    "    lista_prod = #SEU CODIGO AQUI!\n",
    "    lista_tag_produto = lista_prod.find_all('li')\n",
    "    \n",
    "    lista_desc = []\n",
    "    lista_preco = []\n",
    "    lista_ranking = []\n",
    "    \n",
    "    for i in range(qtde_produto):\n",
    "        tag_produto = lista_tag_produto[i]\n",
    "        desc_produto = #SEU CODIGO AQUI!\n",
    "        lista_desc.append(desc_produto.text)\n",
    "\n",
    "        preco_produto = #SEU CODIGO AQUI!\n",
    "\n",
    "        if preco_produto == None:\n",
    "            preco_produto = None\n",
    "        else:    \n",
    "            preco_clean = preco_produto.text.replace('\\n', '')\n",
    "            preco_clean = preco_clean.strip()\n",
    "            preco_clean = preco_clean.replace('R$', '')\n",
    "            preco_clean = preco_clean.replace(\".\", \"\").replace(\",\", \".\")\n",
    "            preco_clean = float(preco_clean)\n",
    "\n",
    "        lista_preco.append(preco_clean)\n",
    "        \n",
    "        lista_ranking.append(i+1)\n",
    "        \n",
    "    return lista_desc, lista_preco, lista_ranking"
   ]
  },
  {
   "cell_type": "markdown",
   "id": "configured-covering",
   "metadata": {},
   "source": [
    "Função que gera um DataFrame a partir de listas de informações dos produtos"
   ]
  },
  {
   "cell_type": "code",
   "execution_count": null,
   "id": "nearby-noise",
   "metadata": {},
   "outputs": [],
   "source": [
    "def gera_df(termo, lista_desc, lista_preco, lista_ranking):\n",
    "    df = pd.DataFrame({'Pesquisa': termo,\n",
    "                       'Ranking': lista_ranking,\n",
    "                       'Descrição': lista_desc,\n",
    "                       'Preço': lista_preco\n",
    "                      })\n",
    "    return df"
   ]
  },
  {
   "cell_type": "markdown",
   "id": "electrical-preservation",
   "metadata": {},
   "source": [
    "Função para chamar as demais funções e retornar um DataFrame"
   ]
  },
  {
   "cell_type": "code",
   "execution_count": null,
   "id": "orange-diabetes",
   "metadata": {},
   "outputs": [],
   "source": [
    "def pesquisa_estruturada(termo, qtde_produto):\n",
    "    texto = pesquisa(termo)\n",
    "    lista_desc, lista_preco, lista_ranking = processa(texto, qtde_produto)\n",
    "    return gera_df(termo, lista_desc, lista_preco, lista_ranking)"
   ]
  },
  {
   "cell_type": "code",
   "execution_count": null,
   "id": "micro-bristol",
   "metadata": {},
   "outputs": [],
   "source": [
    "df = pesquisa_estruturada('64gb', 8)\n",
    "df"
   ]
  },
  {
   "cell_type": "markdown",
   "id": "southern-amsterdam",
   "metadata": {},
   "source": [
    "Como concatenar DataFrames para juntar o resultado de diversas buscas?"
   ]
  },
  {
   "cell_type": "code",
   "execution_count": null,
   "id": "bottom-syndicate",
   "metadata": {},
   "outputs": [],
   "source": [
    "pd.concat([pesquisa_estruturada('64gb', 4), pesquisa_estruturada('128gb', 4)])"
   ]
  },
  {
   "cell_type": "markdown",
   "id": "major-pride",
   "metadata": {},
   "source": [
    "Então, podemos criar uma função que recebe uma lista de termos de busca, efetua a pesquisa de cada termo e junta os DataFrames ao final!"
   ]
  },
  {
   "cell_type": "code",
   "execution_count": null,
   "id": "bulgarian-drunk",
   "metadata": {},
   "outputs": [],
   "source": [
    "def multi_pesquisa(lista_busca, qtde_produto):\n",
    "    time.sleep(random.randint(3,6))\n",
    "    lista_df = []\n",
    "    for termo in lista_busca:\n",
    "        df = pesquisa_estruturada(termo, qtde_produto)\n",
    "        lista_df.append(df)\n",
    "        time.sleep(0.5)\n",
    "    df_full = pd.concat(lista_df)\n",
    "    return df_full.reset_index(drop=True)"
   ]
  },
  {
   "cell_type": "code",
   "execution_count": null,
   "id": "rapid-static",
   "metadata": {},
   "outputs": [],
   "source": [
    "# Termos a serem pesquisados\n",
    "lista_busca = ['32Gb', '64Gb', '128Gb', '256Gb']\n",
    "\n",
    "df = multi_pesquisa(lista_busca, 50)\n",
    "df.head()"
   ]
  },
  {
   "cell_type": "code",
   "execution_count": null,
   "id": "assumed-pride",
   "metadata": {},
   "outputs": [],
   "source": [
    "df.tail()"
   ]
  },
  {
   "cell_type": "code",
   "execution_count": null,
   "id": "3f555be3",
   "metadata": {},
   "outputs": [],
   "source": [
    "df"
   ]
  },
  {
   "cell_type": "markdown",
   "id": "killing-identity",
   "metadata": {},
   "source": [
    "# Exercícios\n",
    "\n",
    "Utilizando os dados obtidos no Magalu:\n",
    "\n",
    "**Exercício 4)** Calcule o preço médio produtos:\n",
    "\n",
    "a) Geral"
   ]
  },
  {
   "cell_type": "code",
   "execution_count": null,
   "id": "robust-repeat",
   "metadata": {},
   "outputs": [],
   "source": [
    "#SEU CODIGO AQUI!"
   ]
  },
  {
   "cell_type": "markdown",
   "id": "liable-shape",
   "metadata": {},
   "source": [
    "b) Por termo de busca\n",
    "\n",
    "Dica: groupby"
   ]
  },
  {
   "cell_type": "code",
   "execution_count": null,
   "id": "alternate-freight",
   "metadata": {},
   "outputs": [],
   "source": [
    "#SEU CODIGO AQUI!"
   ]
  },
  {
   "cell_type": "markdown",
   "id": "tight-reserve",
   "metadata": {},
   "source": [
    "a) Os preços médios obtidos fazem sentido?"
   ]
  },
  {
   "cell_type": "markdown",
   "id": "rational-murray",
   "metadata": {},
   "source": [
    "R:"
   ]
  },
  {
   "cell_type": "markdown",
   "id": "concrete-empty",
   "metadata": {},
   "source": [
    "b) Produza um gráfico de barras com os preços médios"
   ]
  },
  {
   "cell_type": "code",
   "execution_count": null,
   "id": "unnecessary-entrepreneur",
   "metadata": {},
   "outputs": [],
   "source": [
    "#SEU CODIGO AQUI!"
   ]
  },
  {
   "cell_type": "markdown",
   "id": "positive-participation",
   "metadata": {},
   "source": [
    "**Exercício 5)** Crie uma coluna que informe se o produto é de cor discreta ou não.\n",
    "\n",
    "Dica: pesquise pelos termos *black*, *preto*, *gray*, *branco*, etc."
   ]
  },
  {
   "cell_type": "code",
   "execution_count": null,
   "id": "successful-reply",
   "metadata": {},
   "outputs": [],
   "source": [
    "#SEU CODIGO AQUI!"
   ]
  },
  {
   "cell_type": "markdown",
   "id": "alone-bishop",
   "metadata": {},
   "source": [
    "a) Compare o preço médio dos produtos que são e não são de cor discreta."
   ]
  },
  {
   "cell_type": "code",
   "execution_count": null,
   "id": "exotic-grass",
   "metadata": {},
   "outputs": [],
   "source": [
    "#SEU CODIGO AQUI!"
   ]
  },
  {
   "cell_type": "markdown",
   "id": "initial-taste",
   "metadata": {},
   "source": [
    "**Exercício 6)** Conte quantos produtos são das marcas **Samsung**, **Motorola** e **LG**."
   ]
  },
  {
   "cell_type": "code",
   "execution_count": null,
   "id": "administrative-conviction",
   "metadata": {},
   "outputs": [],
   "source": [
    "#SEU CODIGO AQUI!"
   ]
  },
  {
   "cell_type": "markdown",
   "id": "instrumental-symbol",
   "metadata": {},
   "source": [
    "**Exercício 7)** Crie uma coluna de Marca no DataFrame, informando se é **Samsung**, **Motorola**, **LG** ou **Outra**."
   ]
  },
  {
   "cell_type": "code",
   "execution_count": null,
   "id": "different-england",
   "metadata": {},
   "outputs": [],
   "source": [
    "#SEU CODIGO AQUI!"
   ]
  },
  {
   "cell_type": "markdown",
   "id": "upset-disease",
   "metadata": {},
   "source": [
    "**Exercício 8)** Altere o código que processa os dados de resposta para retornar também (até o DataFrame) uma coluna de **ranking**, informando se o produto aparece na primeira, segunda, n-ésima posição da busca.\n",
    "\n",
    "a) Calcule o preço médio dos produtos das primeiras quatro posições de busca."
   ]
  },
  {
   "cell_type": "code",
   "execution_count": null,
   "id": "beginning-parker",
   "metadata": {},
   "outputs": [],
   "source": [
    "#SEU CODIGO AQUI!"
   ]
  },
  {
   "cell_type": "markdown",
   "id": "enclosed-venture",
   "metadata": {},
   "source": [
    "b) Calcule a probabilidade de cada Marca aparecer em cada uma das quatro primeiras posições de busca.\n",
    "\n",
    "Dica: você precisa de uma tabela cruzada normalizada"
   ]
  },
  {
   "cell_type": "code",
   "execution_count": null,
   "id": "integrated-christopher",
   "metadata": {},
   "outputs": [],
   "source": [
    "#SEU CODIGO AQUI!"
   ]
  },
  {
   "cell_type": "markdown",
   "id": "otherwise-boutique",
   "metadata": {},
   "source": [
    "c) Exiba a informação anterior em um mapa de calor.\n",
    "\n",
    "Dica: utilize a função **heatmap** da biblioteca **seaborn**, ou a função **imshow** da biblioteca **plotly.express**."
   ]
  },
  {
   "cell_type": "code",
   "execution_count": null,
   "id": "reliable-anchor",
   "metadata": {},
   "outputs": [],
   "source": [
    "#SEU CODIGO AQUI!"
   ]
  },
  {
   "cell_type": "markdown",
   "id": "alien-patio",
   "metadata": {},
   "source": [
    "d) Calcule o preço médio cruzando ranking e marca.\n",
    "\n",
    "Dica: você precisa de uma pivot_table"
   ]
  },
  {
   "cell_type": "code",
   "execution_count": null,
   "id": "packed-arbor",
   "metadata": {},
   "outputs": [],
   "source": [
    "#SEU CODIGO AQUI!"
   ]
  },
  {
   "cell_type": "markdown",
   "id": "7e0ede17",
   "metadata": {},
   "source": [
    "**Exercício 9)** Escolha um site de seu interesse e tente fazer o Web scraping dos seus dados. Gere e exporte para CSV um `DataFrame` contendo informações de interesse do site."
   ]
  },
  {
   "cell_type": "code",
   "execution_count": null,
   "id": "7a3fda09",
   "metadata": {},
   "outputs": [],
   "source": [
    "#SEU CODIGO AQUI!"
   ]
  },
  {
   "cell_type": "markdown",
   "id": "british-colon",
   "metadata": {},
   "source": [
    "## Combinando termos de busca\n",
    "\n",
    "Uma outra abordagem de busca poderia ser pesquisar utilizando diversas características.\n",
    "\n",
    "Tendo os termos separados em listas, existe uma forma de combinar todos eles de forma fácil (produto cartesiano)"
   ]
  },
  {
   "cell_type": "code",
   "execution_count": null,
   "id": "28bfd724",
   "metadata": {},
   "outputs": [],
   "source": [
    "# !pip install sklearn"
   ]
  },
  {
   "cell_type": "code",
   "execution_count": null,
   "id": "ecological-petite",
   "metadata": {},
   "outputs": [],
   "source": [
    "lista_marca = ['Samsung', 'Motorola', 'LG', 'Xiaomi', 'Apple']\n",
    "lista_mem = ['64Gb', '128Gb', '256Gb']\n",
    "lista_cor = ['Gold', 'Preto', 'Azul']\n",
    "\n",
    "df_busca = pd.DataFrame(cartesian((lista_marca, lista_mem, lista_cor)), columns=['Marca', 'Memória', 'Cor'])\n",
    "df_busca"
   ]
  },
  {
   "cell_type": "markdown",
   "id": "palestinian-license",
   "metadata": {},
   "source": [
    "Seria necessário alterar o código de pesquisa para concatenar os termos de busca e retorná-los também no DataFrame. Não precisa fazer! Esta é apenas uma sugestão."
   ]
  }
 ],
 "metadata": {
  "kernelspec": {
   "display_name": "Python 3 (ipykernel)",
   "language": "python",
   "name": "python3"
  },
  "language_info": {
   "codemirror_mode": {
    "name": "ipython",
    "version": 3
   },
   "file_extension": ".py",
   "mimetype": "text/x-python",
   "name": "python",
   "nbconvert_exporter": "python",
   "pygments_lexer": "ipython3",
   "version": "3.8.16"
  }
 },
 "nbformat": 4,
 "nbformat_minor": 5
}
