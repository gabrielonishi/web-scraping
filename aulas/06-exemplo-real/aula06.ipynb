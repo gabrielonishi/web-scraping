{
 "cells": [
  {
   "cell_type": "markdown",
   "id": "comprehensive-turkey",
   "metadata": {},
   "source": [
    "# Análise de texto de fontes desestruturadas e Web\n",
    "\n",
    "## Aula 06\n",
    "\n",
    "Nesta aula iremos continuar a extrair informações de páginas Web! Primeiro, iremos realizar a extração de informações de produtos de uma página sintética. Em seguida, realizaremos buscas nos sites do InstoÉDinheiro e Magazine Luiza e extrair informações dos resultados.\n",
    "\n",
    "A biblioteca utilizada será a **BeautifulSoup**, além da **requests**.\n",
    "\n",
    "Para conhecer mais sobre ela, acesse https://beautiful-soup-4.readthedocs.io/en/latest/"
   ]
  },
  {
   "cell_type": "markdown",
   "id": "aerial-arlington",
   "metadata": {},
   "source": [
    "## Instalando a biblioteca *BeautifulSoup*\n",
    "\n",
    "Primeiro, vamos instalar a principal biblioteca de nossa aula!"
   ]
  },
  {
   "cell_type": "code",
   "execution_count": 2,
   "id": "lined-polymer",
   "metadata": {},
   "outputs": [],
   "source": [
    "# !pip install BeautifulSoup4"
   ]
  },
  {
   "cell_type": "markdown",
   "id": "defensive-capacity",
   "metadata": {},
   "source": [
    "Caso a biblioteca já esteja instalada, porém com uma versão antiga, podemos atualizá-la com:"
   ]
  },
  {
   "cell_type": "code",
   "execution_count": 3,
   "id": "improved-focus",
   "metadata": {},
   "outputs": [],
   "source": [
    "# !pip install BeautifulSoup4 -U"
   ]
  },
  {
   "cell_type": "markdown",
   "id": "weird-patrol",
   "metadata": {},
   "source": [
    "## Importando as bibliotecas necessárias\n",
    "\n",
    "Agora, vamos importar as bibliotecas necessárias:"
   ]
  },
  {
   "cell_type": "code",
   "execution_count": 2,
   "id": "unlike-france",
   "metadata": {},
   "outputs": [
    {
     "name": "stderr",
     "output_type": "stream",
     "text": [
      "/usr/lib/python3/dist-packages/scipy/__init__.py:146: UserWarning: A NumPy version >=1.17.3 and <1.25.0 is required for this version of SciPy (detected version 1.26.4\n",
      "  warnings.warn(f\"A NumPy version >={np_minversion} and <{np_maxversion}\"\n"
     ]
    }
   ],
   "source": [
    "# para trabalhar com diretórios / sistema operacional\n",
    "import os\n",
    "\n",
    "# para nos comunicarmos com a Web\n",
    "import requests\n",
    "\n",
    "# para extrair informações de páginas HTML\n",
    "import bs4\n",
    "from bs4 import BeautifulSoup\n",
    "\n",
    "# utilizada para nos indicar o caminho do executável do Python\n",
    "import sys\n",
    "\n",
    "# Para criar um Data Frame\n",
    "import pandas as pd\n",
    "\n",
    "# Controlar espera entre requisições\n",
    "import time\n",
    "\n",
    "# Gerar valores aleatórios\n",
    "import random\n",
    "\n",
    "# Produto cartesiano\n",
    "from sklearn.utils.extmath import cartesian\n",
    "\n",
    "# Renderizar HTML\n",
    "import IPython"
   ]
  },
  {
   "cell_type": "markdown",
   "id": "acquired-regard",
   "metadata": {},
   "source": [
    "Caso obtenha algum erro, utilize o **!pip install** para instalar a biblioteca ausente!\n",
    "\n",
    "Vamos conferir com qual versão da biblioteca **xxxx** estamos trabalhando?"
   ]
  },
  {
   "cell_type": "code",
   "execution_count": 3,
   "id": "removable-calvin",
   "metadata": {},
   "outputs": [
    {
     "name": "stdout",
     "output_type": "stream",
     "text": [
      "4.12.3\n"
     ]
    }
   ],
   "source": [
    "print(bs4.__version__)"
   ]
  },
  {
   "cell_type": "markdown",
   "id": "fewer-voluntary",
   "metadata": {},
   "source": [
    "Você também pode conferir de onde está executando o Python e qual a versão"
   ]
  },
  {
   "cell_type": "code",
   "execution_count": 4,
   "id": "aggregate-secondary",
   "metadata": {},
   "outputs": [
    {
     "name": "stdout",
     "output_type": "stream",
     "text": [
      "Executável:\n",
      "/bin/python3\n",
      "\n",
      "Versão do Python:\n",
      "3.10.12 (main, Nov 20 2023, 15:14:05) [GCC 11.4.0]\n"
     ]
    }
   ],
   "source": [
    "print('Executável:')\n",
    "print(sys.executable)\n",
    "\n",
    "print('\\nVersão do Python:')\n",
    "print(sys.version)"
   ]
  },
  {
   "cell_type": "markdown",
   "id": "multiple-premium",
   "metadata": {},
   "source": [
    "Vamos conferir em qual diretório iremos trabalhar (é o diretório do notebook)"
   ]
  },
  {
   "cell_type": "code",
   "execution_count": 5,
   "id": "revolutionary-quantity",
   "metadata": {},
   "outputs": [
    {
     "name": "stdout",
     "output_type": "stream",
     "text": [
      "O seu notebook está na pasta:\n",
      "/home/gabrielhso/Desktop/insper/2024.1/web-scraping/class-repo/aulas/06-exemplo-real\n"
     ]
    }
   ],
   "source": [
    "print('O seu notebook está na pasta:')\n",
    "print(os.getcwd())"
   ]
  },
  {
   "cell_type": "markdown",
   "id": "interim-museum",
   "metadata": {},
   "source": [
    "## Exemplo de aplicação\n",
    "\n",
    "Suponha que tenhamos uma página Web com diversos produtos listados.\n",
    "\n",
    "Acesse https://atd-insper.s3.us-east-2.amazonaws.com/aula05/produtos.html\n",
    "\n",
    "Vamos utilizar o BeautifulSoup para extrair as informações da página, construindo um **pandas DataFrame** contendo o **`produto`**, **`descrição`** e **`preço`**.\n",
    "\n",
    "Primeiro, vamos extrair a página com o *requests*:"
   ]
  },
  {
   "cell_type": "code",
   "execution_count": 6,
   "id": "foster-penny",
   "metadata": {},
   "outputs": [
    {
     "name": "stdout",
     "output_type": "stream",
     "text": [
      "\n",
      "<!DOCTYPE html>\n",
      "<html>\n",
      "\t<head>\n",
      "        <meta charset=\"UTF-8\">\n",
      "        <title>Exemplo Produtos</title>\n",
      "    </head>\n",
      "<body>\n",
      "\n",
      "<div class=\"menu\" id=\"my_menu\" align=\"right\">\n",
      "\t<a href=\"#\">HOME</a> | <a href=\"macielcv@insper.edu.br\">CONTATO</a> | <a href=\"https://www.google.com\">GOOGLE</a>\n",
      "</div>\n",
      "\n",
      "\n",
      "<div class=\"produto\" id=\"produto_1\" align=\"left\" style=\"width:600px;height:160px; background-color:rgb(115, 185, 174);\">\n",
      "\t<h4>Notebook Dell Core i5-8265U 8GB 1TB Tela 15.6” Windows 10 Inspiron I15-3583-A3XP</h4>\n",
      "\t<p>Com o notebook Dell Inspiron I15-3583-A3XP você conta com todos os recursos essenciais para o seu dia a dia. Sua estrutura leve e fina garante a portabilidade ideal para levar aonde quiser.</p>\n",
      "    <span class=\"preco_produto\" id=\"preco_produto_1\">R$&nbsp;4.299,00</span>\n",
      "</div>\n",
      "\n",
      "\n",
      "<div class=\"produto\" id=\"produto_2\" align=\"left\" style=\"width:600px;height:160px; background-color:rgb(115, 185, 174);\">\n",
      "\t<h4>Notebook Dell Core i7-8565U 8GB 2TB Placa de Vídeo 2GB Tela Full HD 15.6” Windows 10 Inspiron I15-3583-A40B</h4>\n",
      "\t<p>Intel® Core™ i7-8565U Quad Core 1.8 GHz com Turbo Max até 4.6 GHz. Windows 10 Home Single Language 64 bits.</p>\n",
      "    <span class=\"preco_produto\" id=\"preco_produto_2\">R$&nbsp;5.499,00</span>\n",
      "</div>\n",
      "\n",
      "\n",
      "<div class=\"produto\" id=\"produto_3\" align=\"left\" style=\"width:600px;height:160px; background-color:rgb(115, 185, 174);\">\n",
      "\t<h4>Notebook Gamer Dell G3 3500-U10P</h4>\n",
      "\t<p>Sua EXPERIÊNCIA Gamer Ainda Mais Intensa E Real: GRÁFICOS Poderosos, Desempenho Extremamente RÁPIDO E Sistema TÉRMICO Especial. Com o novo notebook Dell G3, você terá uma incrível experiência em um notebook com um design fino, leve e com uma performance incrível.</p>\n",
      "    <span class=\"preco_produto\" id=\"preco_produto_3\">R$&nbsp;6.049,00</span>\n",
      "</div>\n",
      "\n",
      "\n",
      "<div class=\"produto\" id=\"produto_4\" align=\"left\" style=\"width:600px;height:160px; background-color:rgb(115, 185, 174);\">\n",
      "\t<h4>Notebook Lenovo Core i3-8130U 4GB 1TB Tela 15.6” Windows 10 Ideapad S145</h4>\n",
      "\t<p>Design sofisticado leve e compacto, possui tela antirreflexo de 15.6\" para mais conforto visual e definição de imagem. Um notebook perfeito para produtividade e entretenimento com WiFi AC ultrarrápido e teclado numérico.</p>\n",
      "    <span class=\"preco_produto\" id=\"preco_produto_4\">R$&nbsp;3.199,00</span>\n",
      "</div>\n",
      "\n",
      "\n",
      "<div class=\"produto\" id=\"produto_5\" align=\"left\" style=\"width:600px;height:160px; background-color:rgb(115, 185, 174);\">\n",
      "\t<h4>Notebook Lenovo BS145 Intel Core I5 4Gb 256Gb SSD W10 Pro</h4>\n",
      "\t<p>O teclado numérico BS145 integrado garante uma digitação mais rápida e ergonômica, especialmente para facilitar o trabalho com cálculos e planilhas. Tela anti-reflexo de 15,6 polegadas que pode ser aberta em 180 °, dando a você mais flexibilidade no ajuste do ângulo de visão e tornando a integridade da dobradiça mais segura.</p>\n",
      "    <span class=\"preco_produto\" id=\"preco_produto_5\">R$&nbsp;6.781,00</span>\n",
      "</div>\n",
      "\n",
      "</body>\n",
      "</html>\n"
     ]
    }
   ],
   "source": [
    "url = 'https://atd-insper.s3.us-east-2.amazonaws.com/aula05/produtos.html'\n",
    "\n",
    "pag_prod = requests.get(url)\n",
    "\n",
    "pag_prod.encoding = 'utf-8'\n",
    "\n",
    "print(pag_prod.text)"
   ]
  },
  {
   "cell_type": "markdown",
   "id": "0b40fcf7",
   "metadata": {},
   "source": [
    "Podemos abrir diretamente a URL em um navegador para verificar seu conteúdo, ou então renderizar dentro do notebook com:"
   ]
  },
  {
   "cell_type": "code",
   "execution_count": 7,
   "id": "22afaf01",
   "metadata": {},
   "outputs": [
    {
     "data": {
      "text/html": [
       "\n",
       "<!DOCTYPE html>\n",
       "<html>\n",
       "\t<head>\n",
       "        <meta charset=\"UTF-8\">\n",
       "        <title>Exemplo Produtos</title>\n",
       "    </head>\n",
       "<body>\n",
       "\n",
       "<div class=\"menu\" id=\"my_menu\" align=\"right\">\n",
       "\t<a href=\"#\">HOME</a> | <a href=\"macielcv@insper.edu.br\">CONTATO</a> | <a href=\"https://www.google.com\">GOOGLE</a>\n",
       "</div>\n",
       "\n",
       "\n",
       "<div class=\"produto\" id=\"produto_1\" align=\"left\" style=\"width:600px;height:160px; background-color:rgb(115, 185, 174);\">\n",
       "\t<h4>Notebook Dell Core i5-8265U 8GB 1TB Tela 15.6” Windows 10 Inspiron I15-3583-A3XP</h4>\n",
       "\t<p>Com o notebook Dell Inspiron I15-3583-A3XP você conta com todos os recursos essenciais para o seu dia a dia. Sua estrutura leve e fina garante a portabilidade ideal para levar aonde quiser.</p>\n",
       "    <span class=\"preco_produto\" id=\"preco_produto_1\">R$&nbsp;4.299,00</span>\n",
       "</div>\n",
       "\n",
       "\n",
       "<div class=\"produto\" id=\"produto_2\" align=\"left\" style=\"width:600px;height:160px; background-color:rgb(115, 185, 174);\">\n",
       "\t<h4>Notebook Dell Core i7-8565U 8GB 2TB Placa de Vídeo 2GB Tela Full HD 15.6” Windows 10 Inspiron I15-3583-A40B</h4>\n",
       "\t<p>Intel® Core™ i7-8565U Quad Core 1.8 GHz com Turbo Max até 4.6 GHz. Windows 10 Home Single Language 64 bits.</p>\n",
       "    <span class=\"preco_produto\" id=\"preco_produto_2\">R$&nbsp;5.499,00</span>\n",
       "</div>\n",
       "\n",
       "\n",
       "<div class=\"produto\" id=\"produto_3\" align=\"left\" style=\"width:600px;height:160px; background-color:rgb(115, 185, 174);\">\n",
       "\t<h4>Notebook Gamer Dell G3 3500-U10P</h4>\n",
       "\t<p>Sua EXPERIÊNCIA Gamer Ainda Mais Intensa E Real: GRÁFICOS Poderosos, Desempenho Extremamente RÁPIDO E Sistema TÉRMICO Especial. Com o novo notebook Dell G3, você terá uma incrível experiência em um notebook com um design fino, leve e com uma performance incrível.</p>\n",
       "    <span class=\"preco_produto\" id=\"preco_produto_3\">R$&nbsp;6.049,00</span>\n",
       "</div>\n",
       "\n",
       "\n",
       "<div class=\"produto\" id=\"produto_4\" align=\"left\" style=\"width:600px;height:160px; background-color:rgb(115, 185, 174);\">\n",
       "\t<h4>Notebook Lenovo Core i3-8130U 4GB 1TB Tela 15.6” Windows 10 Ideapad S145</h4>\n",
       "\t<p>Design sofisticado leve e compacto, possui tela antirreflexo de 15.6\" para mais conforto visual e definição de imagem. Um notebook perfeito para produtividade e entretenimento com WiFi AC ultrarrápido e teclado numérico.</p>\n",
       "    <span class=\"preco_produto\" id=\"preco_produto_4\">R$&nbsp;3.199,00</span>\n",
       "</div>\n",
       "\n",
       "\n",
       "<div class=\"produto\" id=\"produto_5\" align=\"left\" style=\"width:600px;height:160px; background-color:rgb(115, 185, 174);\">\n",
       "\t<h4>Notebook Lenovo BS145 Intel Core I5 4Gb 256Gb SSD W10 Pro</h4>\n",
       "\t<p>O teclado numérico BS145 integrado garante uma digitação mais rápida e ergonômica, especialmente para facilitar o trabalho com cálculos e planilhas. Tela anti-reflexo de 15,6 polegadas que pode ser aberta em 180 °, dando a você mais flexibilidade no ajuste do ângulo de visão e tornando a integridade da dobradiça mais segura.</p>\n",
       "    <span class=\"preco_produto\" id=\"preco_produto_5\">R$&nbsp;6.781,00</span>\n",
       "</div>\n",
       "\n",
       "</body>\n",
       "</html>"
      ],
      "text/plain": [
       "<IPython.core.display.HTML object>"
      ]
     },
     "execution_count": 7,
     "metadata": {},
     "output_type": "execute_result"
    }
   ],
   "source": [
    "IPython.display.HTML(pag_prod.text)"
   ]
  },
  {
   "cell_type": "markdown",
   "id": "fresh-hypothesis",
   "metadata": {},
   "source": [
    "Vamos utilizar o BeautifulSoup"
   ]
  },
  {
   "cell_type": "code",
   "execution_count": 8,
   "id": "appointed-reduction",
   "metadata": {},
   "outputs": [],
   "source": [
    "soup = BeautifulSoup(pag_prod.text, 'html.parser')"
   ]
  },
  {
   "cell_type": "markdown",
   "id": "fifth-banana",
   "metadata": {},
   "source": [
    "E extrair a lista de produtos"
   ]
  },
  {
   "cell_type": "code",
   "execution_count": 9,
   "id": "painted-evans",
   "metadata": {},
   "outputs": [
    {
     "data": {
      "text/plain": [
       "[<div align=\"left\" class=\"produto\" id=\"produto_1\" style=\"width:600px;height:160px; background-color:rgb(115, 185, 174);\">\n",
       " <h4>Notebook Dell Core i5-8265U 8GB 1TB Tela 15.6” Windows 10 Inspiron I15-3583-A3XP</h4>\n",
       " <p>Com o notebook Dell Inspiron I15-3583-A3XP você conta com todos os recursos essenciais para o seu dia a dia. Sua estrutura leve e fina garante a portabilidade ideal para levar aonde quiser.</p>\n",
       " <span class=\"preco_produto\" id=\"preco_produto_1\">R$ 4.299,00</span>\n",
       " </div>,\n",
       " <div align=\"left\" class=\"produto\" id=\"produto_2\" style=\"width:600px;height:160px; background-color:rgb(115, 185, 174);\">\n",
       " <h4>Notebook Dell Core i7-8565U 8GB 2TB Placa de Vídeo 2GB Tela Full HD 15.6” Windows 10 Inspiron I15-3583-A40B</h4>\n",
       " <p>Intel® Core™ i7-8565U Quad Core 1.8 GHz com Turbo Max até 4.6 GHz. Windows 10 Home Single Language 64 bits.</p>\n",
       " <span class=\"preco_produto\" id=\"preco_produto_2\">R$ 5.499,00</span>\n",
       " </div>,\n",
       " <div align=\"left\" class=\"produto\" id=\"produto_3\" style=\"width:600px;height:160px; background-color:rgb(115, 185, 174);\">\n",
       " <h4>Notebook Gamer Dell G3 3500-U10P</h4>\n",
       " <p>Sua EXPERIÊNCIA Gamer Ainda Mais Intensa E Real: GRÁFICOS Poderosos, Desempenho Extremamente RÁPIDO E Sistema TÉRMICO Especial. Com o novo notebook Dell G3, você terá uma incrível experiência em um notebook com um design fino, leve e com uma performance incrível.</p>\n",
       " <span class=\"preco_produto\" id=\"preco_produto_3\">R$ 6.049,00</span>\n",
       " </div>,\n",
       " <div align=\"left\" class=\"produto\" id=\"produto_4\" style=\"width:600px;height:160px; background-color:rgb(115, 185, 174);\">\n",
       " <h4>Notebook Lenovo Core i3-8130U 4GB 1TB Tela 15.6” Windows 10 Ideapad S145</h4>\n",
       " <p>Design sofisticado leve e compacto, possui tela antirreflexo de 15.6\" para mais conforto visual e definição de imagem. Um notebook perfeito para produtividade e entretenimento com WiFi AC ultrarrápido e teclado numérico.</p>\n",
       " <span class=\"preco_produto\" id=\"preco_produto_4\">R$ 3.199,00</span>\n",
       " </div>,\n",
       " <div align=\"left\" class=\"produto\" id=\"produto_5\" style=\"width:600px;height:160px; background-color:rgb(115, 185, 174);\">\n",
       " <h4>Notebook Lenovo BS145 Intel Core I5 4Gb 256Gb SSD W10 Pro</h4>\n",
       " <p>O teclado numérico BS145 integrado garante uma digitação mais rápida e ergonômica, especialmente para facilitar o trabalho com cálculos e planilhas. Tela anti-reflexo de 15,6 polegadas que pode ser aberta em 180 °, dando a você mais flexibilidade no ajuste do ângulo de visão e tornando a integridade da dobradiça mais segura.</p>\n",
       " <span class=\"preco_produto\" id=\"preco_produto_5\">R$ 6.781,00</span>\n",
       " </div>]"
      ]
     },
     "execution_count": 9,
     "metadata": {},
     "output_type": "execute_result"
    }
   ],
   "source": [
    "lista_produto = soup.find_all('div', class_='produto')\n",
    "lista_produto"
   ]
  },
  {
   "cell_type": "markdown",
   "id": "psychological-arizona",
   "metadata": {},
   "source": [
    "Podemos obter um produto qualquer da lista, bastando informar o índice da lista"
   ]
  },
  {
   "cell_type": "code",
   "execution_count": 10,
   "id": "international-montana",
   "metadata": {},
   "outputs": [
    {
     "data": {
      "text/plain": [
       "<div align=\"left\" class=\"produto\" id=\"produto_1\" style=\"width:600px;height:160px; background-color:rgb(115, 185, 174);\">\n",
       "<h4>Notebook Dell Core i5-8265U 8GB 1TB Tela 15.6” Windows 10 Inspiron I15-3583-A3XP</h4>\n",
       "<p>Com o notebook Dell Inspiron I15-3583-A3XP você conta com todos os recursos essenciais para o seu dia a dia. Sua estrutura leve e fina garante a portabilidade ideal para levar aonde quiser.</p>\n",
       "<span class=\"preco_produto\" id=\"preco_produto_1\">R$ 4.299,00</span>\n",
       "</div>"
      ]
     },
     "execution_count": 10,
     "metadata": {},
     "output_type": "execute_result"
    }
   ],
   "source": [
    "produto = lista_produto[0]\n",
    "produto"
   ]
  },
  {
   "cell_type": "markdown",
   "id": "sized-poker",
   "metadata": {},
   "source": [
    "Então, podemos obter as informações de **PRODUTO**, **DESCRIÇÃO** e **PREÇO**!"
   ]
  },
  {
   "cell_type": "code",
   "execution_count": 11,
   "id": "amino-wrist",
   "metadata": {},
   "outputs": [
    {
     "name": "stdout",
     "output_type": "stream",
     "text": [
      "Produto....:  Notebook Dell Core i5-8265U 8GB 1TB Tela 15.6” Windows 10 Inspiron I15-3583-A3XP\n",
      "\n",
      "Descrição..:  Com o notebook Dell Inspiron I15-3583-A3XP você conta com todos os recursos essenciais para o seu dia a dia. Sua estrutura leve e fina garante a portabilidade ideal para levar aonde quiser.\n",
      "\n",
      "Preço......:  R$ 4.299,00\n"
     ]
    }
   ],
   "source": [
    "produto_titulo = produto.find('h4').text\n",
    "descricao = produto.find('p').text\n",
    "preco = produto.find('span').text\n",
    "\n",
    "print('Produto....: ', produto_titulo)\n",
    "print('\\nDescrição..: ', descricao)\n",
    "print('\\nPreço......: ', preco)"
   ]
  },
  {
   "cell_type": "markdown",
   "id": "greenhouse-baptist",
   "metadata": {},
   "source": [
    "### Obter todos os produtos e construir o DataFrame!\n",
    "\n",
    "Para obter as informações de todos os produtos de forma fácil, podemos iterar (laço, estrutura de repetição **for**) sobre as *div*'s de todos os produtos e extrair as informações para cada uma delas.\n",
    "\n",
    "Podemos guardar cada produto, descrição e preço em uma lista, o que facilitará a construção do DataFrame."
   ]
  },
  {
   "cell_type": "code",
   "execution_count": 12,
   "id": "monetary-wichita",
   "metadata": {},
   "outputs": [],
   "source": [
    "lista_prod_titulo = []\n",
    "lista_descricao = []\n",
    "lista_preco = []\n",
    "\n",
    "for produto in soup.find_all('div', class_='produto'):\n",
    "    produto_titulo = produto.find('h4').text\n",
    "    descricao = produto.find('p').text\n",
    "    preco = produto.find('span').text\n",
    "    \n",
    "    preco = preco.replace('R$\\xa0', '')\n",
    "    preco = float(preco.replace(\".\", \"\").replace(\",\", \".\"))\n",
    "\n",
    "    \n",
    "    lista_prod_titulo.append(produto_titulo)\n",
    "    lista_descricao.append(descricao)\n",
    "    lista_preco.append(preco)"
   ]
  },
  {
   "cell_type": "markdown",
   "id": "vulnerable-checkout",
   "metadata": {},
   "source": [
    "Agora, com as listas de produto, descrição e preço, podemos construir o DataFrame!"
   ]
  },
  {
   "cell_type": "code",
   "execution_count": 13,
   "id": "broad-currency",
   "metadata": {
    "scrolled": true
   },
   "outputs": [
    {
     "data": {
      "text/html": [
       "<div>\n",
       "<style scoped>\n",
       "    .dataframe tbody tr th:only-of-type {\n",
       "        vertical-align: middle;\n",
       "    }\n",
       "\n",
       "    .dataframe tbody tr th {\n",
       "        vertical-align: top;\n",
       "    }\n",
       "\n",
       "    .dataframe thead th {\n",
       "        text-align: right;\n",
       "    }\n",
       "</style>\n",
       "<table border=\"1\" class=\"dataframe\">\n",
       "  <thead>\n",
       "    <tr style=\"text-align: right;\">\n",
       "      <th></th>\n",
       "      <th>Produto</th>\n",
       "      <th>Descrição</th>\n",
       "      <th>Preço</th>\n",
       "    </tr>\n",
       "  </thead>\n",
       "  <tbody>\n",
       "    <tr>\n",
       "      <th>0</th>\n",
       "      <td>Notebook Dell Core i5-8265U 8GB 1TB Tela 15.6”...</td>\n",
       "      <td>Com o notebook Dell Inspiron I15-3583-A3XP voc...</td>\n",
       "      <td>4299.0</td>\n",
       "    </tr>\n",
       "    <tr>\n",
       "      <th>1</th>\n",
       "      <td>Notebook Dell Core i7-8565U 8GB 2TB Placa de V...</td>\n",
       "      <td>Intel® Core™ i7-8565U Quad Core 1.8 GHz com Tu...</td>\n",
       "      <td>5499.0</td>\n",
       "    </tr>\n",
       "    <tr>\n",
       "      <th>2</th>\n",
       "      <td>Notebook Gamer Dell G3 3500-U10P</td>\n",
       "      <td>Sua EXPERIÊNCIA Gamer Ainda Mais Intensa E Rea...</td>\n",
       "      <td>6049.0</td>\n",
       "    </tr>\n",
       "    <tr>\n",
       "      <th>3</th>\n",
       "      <td>Notebook Lenovo Core i3-8130U 4GB 1TB Tela 15....</td>\n",
       "      <td>Design sofisticado leve e compacto, possui tel...</td>\n",
       "      <td>3199.0</td>\n",
       "    </tr>\n",
       "    <tr>\n",
       "      <th>4</th>\n",
       "      <td>Notebook Lenovo BS145 Intel Core I5 4Gb 256Gb ...</td>\n",
       "      <td>O teclado numérico BS145 integrado garante uma...</td>\n",
       "      <td>6781.0</td>\n",
       "    </tr>\n",
       "  </tbody>\n",
       "</table>\n",
       "</div>"
      ],
      "text/plain": [
       "                                             Produto  \\\n",
       "0  Notebook Dell Core i5-8265U 8GB 1TB Tela 15.6”...   \n",
       "1  Notebook Dell Core i7-8565U 8GB 2TB Placa de V...   \n",
       "2                   Notebook Gamer Dell G3 3500-U10P   \n",
       "3  Notebook Lenovo Core i3-8130U 4GB 1TB Tela 15....   \n",
       "4  Notebook Lenovo BS145 Intel Core I5 4Gb 256Gb ...   \n",
       "\n",
       "                                           Descrição   Preço  \n",
       "0  Com o notebook Dell Inspiron I15-3583-A3XP voc...  4299.0  \n",
       "1  Intel® Core™ i7-8565U Quad Core 1.8 GHz com Tu...  5499.0  \n",
       "2  Sua EXPERIÊNCIA Gamer Ainda Mais Intensa E Rea...  6049.0  \n",
       "3  Design sofisticado leve e compacto, possui tel...  3199.0  \n",
       "4  O teclado numérico BS145 integrado garante uma...  6781.0  "
      ]
     },
     "execution_count": 13,
     "metadata": {},
     "output_type": "execute_result"
    }
   ],
   "source": [
    "df = pd.DataFrame({'Produto': lista_prod_titulo,\n",
    "                   'Descrição': lista_descricao,\n",
    "                   'Preço': lista_preco\n",
    "                  })\n",
    "df"
   ]
  },
  {
   "cell_type": "markdown",
   "id": "received-bidder",
   "metadata": {},
   "source": [
    "Você conseguiria pensar em alguma aplicação prática feita a partir deste exemplo?"
   ]
  },
  {
   "cell_type": "markdown",
   "id": "natural-journey",
   "metadata": {},
   "source": [
    "<div class=\"alert alert-success\">\n",
    "\n",
    "Sua resposta aqui! Dê dois cliques e edite.\n",
    "\n",
    "</div>"
   ]
  },
  {
   "cell_type": "markdown",
   "id": "55c44561",
   "metadata": {},
   "source": [
    "## IstoÉDinheiro\n",
    "\n",
    "Vamos utilizar `requests` para baixar (`get`) notícias do site da **IstoÉDinheiro** e `BeautifulSoup` para extrair informações e construir um Pandas `DataFrame` de títulos e descrições.\n",
    "\n",
    "### Definindo qual página buscar\n",
    "\n",
    "Faremos algumas configurações (cabeçalho, seção e URL):"
   ]
  },
  {
   "cell_type": "code",
   "execution_count": 15,
   "id": "e426551d",
   "metadata": {},
   "outputs": [],
   "source": [
    "headers = ({'User-Agent':\n",
    "            'Mozilla/5.0 (Windows NT 6.1) AppleWebKit/537.36 (KHTML, like Gecko) Chrome/41.0.2228.0 Safari/537.36'})\n",
    "\n",
    "secao = 'economia'\n",
    "\n",
    "url = f\"https://istoedinheiro.com.br/{secao}\""
   ]
  },
  {
   "cell_type": "markdown",
   "id": "e2bc01ff",
   "metadata": {},
   "source": [
    "### Utilizando *requests* para baixar a página de notícias\n",
    "\n",
    "E utilizar `requests` para baixar a página de notícias:"
   ]
  },
  {
   "cell_type": "code",
   "execution_count": 16,
   "id": "a144161d",
   "metadata": {},
   "outputs": [
    {
     "data": {
      "text/plain": [
       "'<!DOCTYPE html><html lang=pt-br><head><style>img.lazy{min-height:1px}</style><link rel=preload href=https://istoedinheiro.com.br/wp-content/plugins/w3-total-cache/pub/js/lazyload.min.js?x46096 as=script><meta charset=\"UTF-8\"><meta name=\"viewport\" content=\"width=device-width, initial-scale=1.0\"><meta http-equiv=\"X-UA-Compatible\" content=\"ie=edge\"><title>ISTOÉ DINHEIRO</title><meta name=\"description\" content=\"Portal de notícias e análises de economia, negócios, finanças, tecnologia e investimentos\"><meta name=\"twitter:site\" content=\"@RevistaISTOE\"><meta name=\"twitter:creator\" content=\"@RevistaISTOE\"><meta property=\"og:url\" content=\"https://istoedinheiro.com.br/\"><meta property=\"og:type\" content=\"website\"><meta property=\"og:title\" content=\"Home\"><meta property=\"og:description\" content=\"\"><meta name=\"twitter:card\" content=\"summary_large_image\"><meta property=\"twitter:url\" content=\"https://istoedinheiro.com.br/\"><meta name=\"twitter:title\" content=\"Home\"><meta name=\"twitter:description\" content=\"\"> <script>var width=window.innerWidth||document.documentElement.clientWidth;</script>   <script>(function(w,d,s,l,i){w[l]=w[l]||[];w[l].push({\\'gtm.start\\':new Date().getTime(),event:\\'gtm.js\\'});var f=d.getElementsByTagName(s)[0],j=d.createElement(s),dl=l!=\\'dataLayer\\'?\\'&l=\\'+l:\\'\\';j.async=true;j.src=\\'https://www.googletagmanager.com/gtm.js?id=\\'+i+dl;f.parentNode.insertBefore(j,f);})(window,document,\\'script\\',\\'dataLayer\\',\\'GTM-5SBJPR8\\');</script>  <script>(function(w,d,s,l,i){w[l]=w[l]||[];w[l].push({\\'gtm.start\\':new Date().getTime(),event:\\'gtm.js\\'});var f=d.getElementsByTagName(s)[0],j=d.createElement(s),dl=l!=\\'dataLayer\\'?\\'&l=\\'+l:\\'\\';j.async=true;j.src=\\'https://www.googletagmanager.com/gtm.js?id=\\'+i+dl;f.parentNode.insertBefore(j,f);})(window,document,\\'script\\',\\'dataLayer\\',\\'GTM-W49TKK2\\');</script>  <script async src=\"https://fundingchoicesmessages.google.com/i/pub-5917799092808187?ers=1\" nonce=Xbi0ljZamefecy0bKQI2XQ></script><script nonce=Xbi0ljZamefecy0bKQI2XQ>(function(){function signalGooglefcPresent(){if(!window.frames[\\'googlefcPresent\\']){if(document.body){const iframe=document.createElement(\\'iframe\\');iframe.style=\\'width: 0; height: 0; border: none; z-index: -1000; left: -1000px; top: -1000px;\\';iframe.style.display=\\'none\\';iframe.name=\\'googlefcPresent\\';document.body.appendChild(iframe);}else{setTimeout(signalGooglefcPresent,0);}}}signalGooglefcPresent();})();</script> <script>(function(){\\'use strict\\';function aa(a){var b=0;return function(){return b<a.length?{done:!1,value:a[b++]}:{done:!0}}}var ba=\"function\"==typeof Object.defineProperties?Object.defineProperty:function(a,b,c){if(a==Array.prototype||a==Object.prototype)return a;a[b]=c.value;return a};function ea(a){a=[\"object\"==typeof globalThis&&globalThis,a,\"object\"==typeof window&&window,\"object\"==typeof self&&self,\"object\"==typeof global&&global];for(var b=0;b<a.length;++b){var c=a[b];if(c&&c.Math==Math)return c}throw Error(\"Cannot find global object\");}var fa=ea(this);function ha(a,b){if(b)a:{var c=fa;a=a.split(\".\");for(var d=0;d<a.length-1;d++){var e=a[d];if(!(e in c))break a;c=c[e]}a=a[a.length-1];d=c[a];b=b(d);b!=d&&null!=b&&ba(c,a,{configurable:!0,writable:!0,value:b})}}\\nvar ia=\"function\"==typeof Object.create?Object.create:function(a){function b(){}b.prototype=a;return new b},l;if(\"function\"==typeof Object.setPrototypeOf)l=Object.setPrototypeOf;else{var m;a:{var ja={a:!0},ka={};try{ka.__proto__=ja;m=ka.a;break a}catch(a){}m=!1}l=m?function(a,b){a.__proto__=b;if(a.__proto__!==b)throw new TypeError(a+\" is not extensible\");return a}:null}var la=l;function n(a,b){a.prototype=ia(b.prototype);a.prototype.constructor=a;if(la)la(a,b);else for(var c in b)if(\"prototype\"!=c)if(Object.defineProperties){var d=Object.getOwnPropertyDescriptor(b,c);d&&Object.defineProperty(a,c,d)}else a[c]=b[c];a.A=b.prototype}function ma(){for(var a=Number(this),b=[],c=a;c<arguments.length;c++)b[c-a]=arguments[c];return b}\\nvar na=\"function\"==typeof Object.assign?Object.assign:function(a,b){for(var c=1;c<arguments.length;c++){var d=arguments[c];if(d)for(var e in d)Object.prototype.hasOwnProperty.call(d,e)&&(a[e]=d[e])}return a};ha(\"Object.assign\",function(a){return a||na});var p=this||self;function q(a){return a};var t,u;a:{for(var oa=[\"CLOSURE_FLAGS\"],v=p,x=0;x<oa.length;x++)if(v=v[oa[x]],null==v){u=null;break a}u=v}var pa=u&&u[610401301];t=null!=pa?pa:!1;var z,qa=p.navigator;z=qa?qa.userAgentData||null:null;function A(a){return t?z?z.brands.some(function(b){return(b=b.brand)&&-1!=b.indexOf(a)}):!1:!1}function B(a){var b;a:{if(b=p.navigator)if(b=b.userAgent)break a;b=\"\"}return-1!=b.indexOf(a)};function C(){return t?!!z&&0<z.brands.length:!1}function D(){return C()?A(\"Chromium\"):(B(\"Chrome\")||B(\"CriOS\"))&&!(C()?0:B(\"Edge\"))||B(\"Silk\")};var ra=C()?!1:B(\"Trident\")||B(\"MSIE\");!B(\"Android\")||D();D();B(\"Safari\")&&(D()||(C()?0:B(\"Coast\"))||(C()?0:B(\"Opera\"))||(C()?0:B(\"Edge\"))||(C()?A(\"Microsoft Edge\"):B(\"Edg/\"))||C()&&A(\"Opera\"));var sa={},E=null;var ta=\"undefined\"!==typeof Uint8Array,ua=!ra&&\"function\"===typeof btoa;var F=\"function\"===typeof Symbol&&\"symbol\"===typeof Symbol()?Symbol():void 0,G=F?function(a,b){a[F]|=b}:function(a,b){void 0!==a.g?a.g|=b:Object.defineProperties(a,{g:{value:b,configurable:!0,writable:!0,enumerable:!1}})};function va(a){var b=H(a);1!==(b&1)&&(Object.isFrozen(a)&&(a=Array.prototype.slice.call(a)),I(a,b|1))}\\nvar H=F?function(a){return a[F]|0}:function(a){return a.g|0},J=F?function(a){return a[F]}:function(a){return a.g},I=F?function(a,b){a[F]=b}:function(a,b){void 0!==a.g?a.g=b:Object.defineProperties(a,{g:{value:b,configurable:!0,writable:!0,enumerable:!1}})};function wa(){var a=[];G(a,1);return a}function xa(a,b){I(b,(a|0)&-99)}function K(a,b){I(b,(a|34)&-73)}function L(a){a=a>>11&1023;return 0===a?536870912:a};var M={};function N(a){return null!==a&&\"object\"===typeof a&&!Array.isArray(a)&&a.constructor===Object}var O,ya=[];I(ya,39);O=Object.freeze(ya);var P;function Q(a,b){P=b;a=new a(b);P=void 0;return a}\\nfunction R(a,b,c){null==a&&(a=P);P=void 0;if(null==a){var d=96;c?(a=[c],d|=512):a=[];b&&(d=d&-2095105|(b&1023)<<11)}else{if(!Array.isArray(a))throw Error();d=H(a);if(d&64)return a;d|=64;if(c&&(d|=512,c!==a[0]))throw Error();a:{c=a;var e=c.length;if(e){var f=e-1,g=c[f];if(N(g)){d|=256;b=(d>>9&1)-1;e=f-b;1024<=e&&(za(c,b,g),e=1023);d=d&-2095105|(e&1023)<<11;break a}}b&&(g=(d>>9&1)-1,b=Math.max(b,e-g),1024<b&&(za(c,g,{}),d|=256,b=1023),d=d&-2095105|(b&1023)<<11)}}I(a,d);return a}\\nfunction za(a,b,c){for(var d=1023+b,e=a.length,f=d;f<e;f++){var g=a[f];null!=g&&g!==c&&(c[f-b]=g)}a.length=d+1;a[d]=c};function Aa(a){switch(typeof a){case\"number\":return isFinite(a)?a:String(a);case\"boolean\":return a?1:0;case\"object\":if(a&&!Array.isArray(a)&&ta&&null!=a&&a instanceof Uint8Array){if(ua){for(var b=\"\",c=0,d=a.length-10240;c<d;)b+=String.fromCharCode.apply(null,a.subarray(c,c+=10240));b+=String.fromCharCode.apply(null,c?a.subarray(c):a);a=btoa(b)}else{void 0===b&&(b=0);if(!E){E={};c=\"ABCDEFGHIJKLMNOPQRSTUVWXYZabcdefghijklmnopqrstuvwxyz0123456789\".split(\"\");d=[\"+/=\",\"+/\",\"-_=\",\"-_.\",\"-_\"];for(var e=0;5>e;e++){var f=c.concat(d[e].split(\"\"));sa[e]=f;for(var g=0;g<f.length;g++){var h=f[g];void 0===E[h]&&(E[h]=g)}}}b=sa[b];c=Array(Math.floor(a.length/3));d=b[64]||\"\";for(e=f=0;f<a.length-2;f+=3){var k=a[f],w=a[f+1];h=a[f+2];g=b[k>>2];k=b[(k&3)<<4|w>>4];w=b[(w&15)<<2|h>>6];h=b[h&63];c[e++]=g+k+w+h}g=0;h=d;switch(a.length-f){case 2:g=a[f+1],h=b[(g&15)<<2]||d;case 1:a=a[f],c[e]=b[a>>2]+b[(a&3)<<4|g>>4]+h+d}a=c.join(\"\")}return a}}return a};function Ba(a,b,c){a=Array.prototype.slice.call(a);var d=a.length,e=b&256?a[d-1]:void 0;d+=e?-1:0;for(b=b&512?1:0;b<d;b++)a[b]=c(a[b]);if(e){b=a[b]={};for(var f in e)Object.prototype.hasOwnProperty.call(e,f)&&(b[f]=c(e[f]))}return a}function Da(a,b,c,d,e,f){if(null!=a){if(Array.isArray(a))a=e&&0==a.length&&H(a)&1?void 0:f&&H(a)&2?a:Ea(a,b,c,void 0!==d,e,f);else if(N(a)){var g={},h;for(h in a)Object.prototype.hasOwnProperty.call(a,h)&&(g[h]=Da(a[h],b,c,d,e,f));a=g}else a=b(a,d);return a}}\\nfunction Ea(a,b,c,d,e,f){var g=d||c?H(a):0;d=d?!!(g&32):void 0;a=Array.prototype.slice.call(a);for(var h=0;h<a.length;h++)a[h]=Da(a[h],b,c,d,e,f);c&&c(g,a);return a}function Fa(a){return a.s===M?a.toJSON():Aa(a)};function Ga(a,b,c){c=void 0===c?K:c;if(null!=a){if(ta&&a instanceof Uint8Array)return b?a:new Uint8Array(a);if(Array.isArray(a)){var d=H(a);if(d&2)return a;if(b&&!(d&64)&&(d&32||0===d))return I(a,d|34),a;a=Ea(a,Ga,d&4?K:c,!0,!1,!0);b=H(a);b&4&&b&2&&Object.freeze(a);return a}a.s===M&&(b=a.h,c=J(b),a=c&2?a:Q(a.constructor,Ha(b,c,!0)));return a}}function Ha(a,b,c){var d=c||b&2?K:xa,e=!!(b&32);a=Ba(a,b,function(f){return Ga(f,e,d)});G(a,32|(c?2:0));return a};function Ia(a,b){a=a.h;return Ja(a,J(a),b)}function Ja(a,b,c,d){if(-1===c)return null;if(c>=L(b)){if(b&256)return a[a.length-1][c]}else{var e=a.length;if(d&&b&256&&(d=a[e-1][c],null!=d))return d;b=c+((b>>9&1)-1);if(b<e)return a[b]}}function Ka(a,b,c,d,e){var f=L(b);if(c>=f||e){e=b;if(b&256)f=a[a.length-1];else{if(null==d)return;f=a[f+((b>>9&1)-1)]={};e|=256}f[c]=d;e&=-1025;e!==b&&I(a,e)}else a[c+((b>>9&1)-1)]=d,b&256&&(d=a[a.length-1],c in d&&delete d[c]),b&1024&&I(a,b&-1025)}\\nfunction La(a,b){var c=Ma;var d=void 0===d?!1:d;var e=a.h;var f=J(e),g=Ja(e,f,b,d);var h=!1;if(null==g||\"object\"!==typeof g||(h=Array.isArray(g))||g.s!==M)if(h){var k=h=H(g);0===k&&(k|=f&32);k|=f&2;k!==h&&I(g,k);c=new c(g)}else c=void 0;else c=g;c!==g&&null!=c&&Ka(e,f,b,c,d);e=c;if(null==e)return e;a=a.h;f=J(a);f&2||(g=e,c=g.h,h=J(c),g=h&2?Q(g.constructor,Ha(c,h,!1)):g,g!==e&&(e=g,Ka(a,f,b,e,d)));return e}function Na(a,b){a=Ia(a,b);return null==a||\"string\"===typeof a?a:void 0}\\nfunction Oa(a,b){a=Ia(a,b);return null!=a?a:0}function S(a,b){a=Na(a,b);return null!=a?a:\"\"};function T(a,b,c){this.h=R(a,b,c)}T.prototype.toJSON=function(){var a=Ea(this.h,Fa,void 0,void 0,!1,!1);return Pa(this,a,!0)};T.prototype.s=M;T.prototype.toString=function(){return Pa(this,this.h,!1).toString()};function Pa(a,b,c){var d=a.constructor.v,e=L(J(c?a.h:b)),f=!1;if(d){if(!c){b=Array.prototype.slice.call(b);var g;if(b.length&&N(g=b[b.length-1]))for(f=0;f<d.length;f++)if(d[f]>=e){Object.assign(b[b.length-1]={},g);break}f=!0}e=b;c=!c;g=J(a.h);a=L(g);g=(g>>9&1)-1;for(var h,k,w=0;w<d.length;w++)if(k=d[w],k<a){k+=g;var r=e[k];null==r?e[k]=c?O:wa():c&&r!==O&&va(r)}else h||(r=void 0,e.length&&N(r=e[e.length-1])?h=r:e.push(h={})),r=h[k],null==h[k]?h[k]=c?O:wa():c&&r!==O&&va(r)}d=b.length;if(!d)return b;var Ca;if(N(h=b[d-1])){a:{var y=h;e={};c=!1;for(var ca in y)Object.prototype.hasOwnProperty.call(y,ca)&&(a=y[ca],Array.isArray(a)&&a!=a&&(c=!0),null!=a?e[ca]=a:c=!0);if(c){for(var rb in e){y=e;break a}y=null}}y!=h&&(Ca=!0);d--}for(;0<d;d--){h=b[d-1];if(null!=h)break;var cb=!0}if(!Ca&&!cb)return b;var da;f?da=b:da=Array.prototype.slice.call(b,0,d);b=da;f&&(b.length=d);y&&b.push(y);return b};function Qa(a){return function(b){if(null==b||\"\"==b)b=new a;else{b=JSON.parse(b);if(!Array.isArray(b))throw Error(void 0);G(b,32);b=Q(a,b)}return b}};function Ra(a){this.h=R(a)}n(Ra,T);var Sa=Qa(Ra);var U;function V(a){this.g=a}V.prototype.toString=function(){return this.g+\"\"};var Ta={};function Ua(){return Math.floor(2147483648*Math.random()).toString(36)+Math.abs(Math.floor(2147483648*Math.random())^Date.now()).toString(36)};function Va(a,b){b=String(b);\"application/xhtml+xml\"===a.contentType&&(b=b.toLowerCase());return a.createElement(b)}function Wa(a){this.g=a||p.document||document}Wa.prototype.appendChild=function(a,b){a.appendChild(b)};function Xa(a,b){a.src=b instanceof V&&b.constructor===V?b.g:\"type_error:TrustedResourceUrl\";var c,d;(c=(b=null==(d=(c=(a.ownerDocument&&a.ownerDocument.defaultView||window).document).querySelector)?void 0:d.call(c,\"script[nonce]\"))?b.nonce||b.getAttribute(\"nonce\")||\"\":\"\")&&a.setAttribute(\"nonce\",c)};function Ya(a){a=void 0===a?document:a;return a.createElement(\"script\")};function Za(a,b,c,d,e,f){try{var g=a.g,h=Ya(g);h.async=!0;Xa(h,b);g.head.appendChild(h);h.addEventListener(\"load\",function(){e();d&&g.head.removeChild(h)});h.addEventListener(\"error\",function(){0<c?Za(a,b,c-1,d,e,f):(d&&g.head.removeChild(h),f())})}catch(k){f()}};var $a=p.atob(\"aHR0cHM6Ly93d3cuZ3N0YXRpYy5jb20vaW1hZ2VzL2ljb25zL21hdGVyaWFsL3N5c3RlbS8xeC93YXJuaW5nX2FtYmVyXzI0ZHAucG5n\"),ab=p.atob(\"WW91IGFyZSBzZWVpbmcgdGhpcyBtZXNzYWdlIGJlY2F1c2UgYWQgb3Igc2NyaXB0IGJsb2NraW5nIHNvZnR3YXJlIGlzIGludGVyZmVyaW5nIHdpdGggdGhpcyBwYWdlLg==\"),bb=p.atob(\"RGlzYWJsZSBhbnkgYWQgb3Igc2NyaXB0IGJsb2NraW5nIHNvZnR3YXJlLCB0aGVuIHJlbG9hZCB0aGlzIHBhZ2Uu\");function db(a,b,c){this.i=a;this.l=new Wa(this.i);this.g=null;this.j=[];this.m=!1;this.u=b;this.o=c}\\nfunction eb(a){if(a.i.body&&!a.m){var b=function(){fb(a);p.setTimeout(function(){return gb(a,3)},50)};Za(a.l,a.u,2,!0,function(){p[a.o]||b()},b);a.m=!0}}\\nfunction fb(a){for(var b=W(1,5),c=0;c<b;c++){var d=X(a);a.i.body.appendChild(d);a.j.push(d)}b=X(a);b.style.bottom=\"0\";b.style.left=\"0\";b.style.position=\"fixed\";b.style.width=W(100,110).toString()+\"%\";b.style.zIndex=W(2147483544,2147483644).toString();b.style[\"background-color\"]=hb(249,259,242,252,219,229);b.style[\"box-shadow\"]=\"0 0 12px #888\";b.style.color=hb(0,10,0,10,0,10);b.style.display=\"flex\";b.style[\"justify-content\"]=\"center\";b.style[\"font-family\"]=\"Roboto, Arial\";c=X(a);c.style.width=W(80,85).toString()+\"%\";c.style.maxWidth=W(750,775).toString()+\"px\";c.style.margin=\"24px\";c.style.display=\"flex\";c.style[\"align-items\"]=\"flex-start\";c.style[\"justify-content\"]=\"center\";d=Va(a.l.g,\"IMG\");d.className=Ua();d.src=$a;d.alt=\"Warning icon\";d.style.height=\"24px\";d.style.width=\"24px\";d.style[\"padding-right\"]=\"16px\";var e=X(a),f=X(a);f.style[\"font-weight\"]=\"bold\";f.textContent=ab;var g=X(a);g.textContent=bb;Y(a,e,f);Y(a,e,g);Y(a,c,d);Y(a,c,e);Y(a,b,c);a.g=b;a.i.body.appendChild(a.g);b=W(1,5);for(c=0;c<b;c++)d=X(a),a.i.body.appendChild(d),a.j.push(d)}function Y(a,b,c){for(var d=W(1,5),e=0;e<d;e++){var f=X(a);b.appendChild(f)}b.appendChild(c);c=W(1,5);for(d=0;d<c;d++)e=X(a),b.appendChild(e)}function W(a,b){return Math.floor(a+Math.random()*(b-a))}function hb(a,b,c,d,e,f){return\"rgb(\"+W(Math.max(a,0),Math.min(b,255)).toString()+\",\"+W(Math.max(c,0),Math.min(d,255)).toString()+\",\"+W(Math.max(e,0),Math.min(f,255)).toString()+\")\"}function X(a){a=Va(a.l.g,\"DIV\");a.className=Ua();return a}\\nfunction gb(a,b){0>=b||null!=a.g&&0!=a.g.offsetHeight&&0!=a.g.offsetWidth||(ib(a),fb(a),p.setTimeout(function(){return gb(a,b-1)},50))}\\nfunction ib(a){var b=a.j;var c=\"undefined\"!=typeof Symbol&&Symbol.iterator&&b[Symbol.iterator];if(c)b=c.call(b);else if(\"number\"==typeof b.length)b={next:aa(b)};else throw Error(String(b)+\" is not an iterable or ArrayLike\");for(c=b.next();!c.done;c=b.next())(c=c.value)&&c.parentNode&&c.parentNode.removeChild(c);a.j=[];(b=a.g)&&b.parentNode&&b.parentNode.removeChild(b);a.g=null};function jb(a,b,c,d,e){function f(k){document.body?g(document.body):0<k?p.setTimeout(function(){f(k-1)},e):b()}function g(k){k.appendChild(h);p.setTimeout(function(){h?(0!==h.offsetHeight&&0!==h.offsetWidth?b():a(),h.parentNode&&h.parentNode.removeChild(h)):a()},d)}var h=kb(c);f(3)}function kb(a){var b=document.createElement(\"div\");b.className=a;b.style.width=\"1px\";b.style.height=\"1px\";b.style.position=\"absolute\";b.style.left=\"-10000px\";b.style.top=\"-10000px\";b.style.zIndex=\"-10000\";return b};function Ma(a){this.h=R(a)}n(Ma,T);function lb(a){this.h=R(a)}n(lb,T);var mb=Qa(lb);function nb(a){a=Na(a,4)||\"\";if(void 0===U){var b=null;var c=p.trustedTypes;if(c&&c.createPolicy){try{b=c.createPolicy(\"goog#html\",{createHTML:q,createScript:q,createScriptURL:q})}catch(d){p.console&&p.console.error(d.message)}U=b}else U=b}a=(b=U)?b.createScriptURL(a):a;return new V(a,Ta)};function ob(a,b){this.m=a;this.o=new Wa(a.document);this.g=b;this.j=S(this.g,1);this.u=nb(La(this.g,2));this.i=!1;b=nb(La(this.g,13));this.l=new db(a.document,b,S(this.g,12))}ob.prototype.start=function(){pb(this)};function pb(a){qb(a);Za(a.o,a.u,3,!1,function(){a:{var b=a.j;var c=p.btoa(b);if(c=p[c]){try{var d=Sa(p.atob(c))}catch(e){b=!1;break a}b=b===Na(d,1)}else b=!1}b?Z(a,S(a.g,14)):(Z(a,S(a.g,8)),eb(a.l))},function(){jb(function(){Z(a,S(a.g,7));eb(a.l)},function(){return Z(a,S(a.g,6))},S(a.g,9),Oa(a.g,10),Oa(a.g,11))})}function Z(a,b){a.i||(a.i=!0,a=new a.m.XMLHttpRequest,a.open(\"GET\",b,!0),a.send())}function qb(a){var b=p.btoa(a.j);a.m[b]&&Z(a,S(a.g,5))};(function(a,b){p[a]=function(){var c=ma.apply(0,arguments);p[a]=function(){};b.apply(null,c)}})(\"__h82AlnkH6D91__\",function(a){\"function\"===typeof window.atob&&(new ob(window,mb(window.atob(a)))).start()});}).call(this);window.__h82AlnkH6D91__(\"WyJwdWItNTkxNzc5OTA5MjgwODE4NyIsW251bGwsbnVsbCxudWxsLCJodHRwczovL2Z1bmRpbmdjaG9pY2VzbWVzc2FnZXMuZ29vZ2xlLmNvbS9iL3B1Yi01OTE3Nzk5MDkyODA4MTg3Il0sbnVsbCxudWxsLCJodHRwczovL2Z1bmRpbmdjaG9pY2VzbWVzc2FnZXMuZ29vZ2xlLmNvbS9lbC9BR1NLV3hVbTZmWVNlR1B1Z2laOXVCWTNpTTJySkN5YlFwTHM0Y2xna0xDb1NPb0l6VTdiUS0xcWpuWkUzaVVRNEZ1dzFIQ3hmWkpQa01EcnJRWjZsNkhRdHhYSHNBXHUwMDNkXHUwMDNkP3RlXHUwMDNkVE9LRU5fRVhQT1NFRCIsImh0dHBzOi8vZnVuZGluZ2Nob2ljZXNtZXNzYWdlcy5nb29nbGUuY29tL2VsL0FHU0tXeFVhU3U3M3QteDdWT2ZTU0pzVTJZSWo1T0hQcHVoUkxsdy1DTXh5RWpFLWRRUFM3ay1OeFg5eUE3ckhYRFVxelFOaDczaFppWnZBX1RMYWpkSHNTTlBnaEFcdTAwM2RcdTAwM2Q/YWJcdTAwM2QxXHUwMDI2c2JmXHUwMDNkMSIsImh0dHBzOi8vZnVuZGluZ2Nob2ljZXNtZXNzYWdlcy5nb29nbGUuY29tL2VsL0FHU0tXeFVUNnExSGgxRE5JcldZYUdPb0t0SFdOLVNFSkNqVDRiUDNyakpGbmtLOU1HYXp1QmZWN0VpX2ZDVmE4ZWJLTTJROGdvSkNZT2V4U0diYjc0T1I4UFRrWndcdTAwM2RcdTAwM2Q/YWJcdTAwM2QyXHUwMDI2c2JmXHUwMDNkMSIsImh0dHBzOi8vZnVuZGluZ2Nob2ljZXNtZXNzYWdlcy5nb29nbGUuY29tL2VsL0FHU0tXeFZHREhZbjgxYVdBSmZ0VzdlbG1RRGprdmFrVWQyQXJUNEExU2NxSjFzVXROOWdvRlZ3Uk5QQWVJNmhrYmJGYS1UaGFfMjFXQUUwcngwem9mWUtiU0lPSFFcdTAwM2RcdTAwM2Q/c2JmXHUwMDNkMiIsImRpdi1ncHQtYWQiLDIwLDEwMCwiY0hWaUxUVTVNVGMzT1Rrd09USTRNRGd4T0RjXHUwMDNkIixbbnVsbCxudWxsLG51bGwsImh0dHBzOi8vd3d3LmdzdGF0aWMuY29tLzBlbW4vZi9wL3B1Yi01OTE3Nzk5MDkyODA4MTg3LmpzP3VzcXBcdTAwM2RDQTAiXSwiaHR0cHM6Ly9mdW5kaW5nY2hvaWNlc21lc3NhZ2VzLmdvb2dsZS5jb20vZWwvQUdTS1d4VXFpY1k1ZkUyX2FuSklWTkJMTHM2SVlUclpUUnhTRjdFSndlVEtSSTIzOEp3ZnN1X0FhR3dCNl9LMy1LV0JqVXVjb3VaNXVJZmd3UV9naWtpWFRZcmkyQVx1MDAzZFx1MDAzZCJd\");</script> <link rel=preconnect href=https://fonts.googleapis.com crossorigin><link href=\"https://fonts.googleapis.com/css2?family=Inter:wght@100;200;300;400;500;600;700;800;900&display=swap\" rel=stylesheet><link href=\"https://fonts.googleapis.com/css2?family=Merriweather:ital,wght@0,300;0,400;0,700;0,900;1,300;1,400;1,700;1,900&display=swap\" rel=stylesheet> <script src=https://www.googletagservices.com/tag/js/gpt.js></script> <meta name=\"robots\" content=\"index, follow, max-snippet:-1, max-video-preview:-1, max-image-preview:large\"><link rel=canonical href=https://istoedinheiro.com.br><meta property=\"og:locale\" content=\"pt_BR\"><meta property=\"og:type\" content=\"website\"><meta property=\"og:title\" content=\"Home - ISTOÉ DINHEIRO\"><meta property=\"og:url\" content=\"https://istoedinheiro.com.br\"><meta property=\"og:site_name\" content=\"IstoÉ Dinheiro\"><meta property=\"og:updated_time\" content=\"2017-01-20T13:41:10-02:00\"><meta property=\"fb:app_id\" content=\"897801760242827\"><meta property=\"og:image\" content=\"https://istoedinheiro.com.br/wp-content/uploads/sites/17/2021/10/thumbnail-istoedinheirologo.png\"><meta property=\"og:image:secure_url\" content=\"https://istoedinheiro.com.br/wp-content/uploads/sites/17/2021/10/thumbnail-istoedinheirologo.png\"><meta property=\"og:image:width\" content=\"1200\"><meta property=\"og:image:height\" content=\"306\"><meta property=\"og:image:alt\" content=\"Home\"><meta property=\"og:image:type\" content=\"image/png\"><meta property=\"article:published_time\" content=\"2016-12-08T15:13:54-02:00\"><meta property=\"article:modified_time\" content=\"2017-01-20T13:41:10-02:00\"><meta name=\"twitter:card\" content=\"summary_large_image\"><meta name=\"twitter:title\" content=\"Home - ISTOÉ DINHEIRO\"><meta name=\"twitter:site\" content=\"@RevistaDinheiro\"><meta name=\"twitter:creator\" content=\"@RevistaDinheiro\"><meta name=\"twitter:image\" content=\"https://istoedinheiro.com.br/wp-content/uploads/sites/17/2021/10/thumbnail-istoedinheirologo.png\"> <script type=application/ld+json class=rank-math-schema-pro>{\"@context\":\"https://schema.org\",\"@graph\":[{\"@type\":[\"NewsMediaOrganization\",\"Organization\"],\"@id\":\"https://istoedinheiro.com.br/#organization\",\"name\":\"Isto\\\\u00c9 Dinheiro\",\"url\":\"https://istoedinheiro.com.br\",\"sameAs\":[\"https://www.facebook.com/istoedinheiro\",\"https://twitter.com/RevistaDinheiro\"],\"logo\":{\"@type\":\"ImageObject\",\"@id\":\"https://istoedinheiro.com.br/#logo\",\"url\":\"https://istoedinheiro.com.br/wp-content/uploads/sites/17/2021/10/thumbnail-istoedinheirologo.png\",\"contentUrl\":\"https://istoedinheiro.com.br/wp-content/uploads/sites/17/2021/10/thumbnail-istoedinheirologo.png\",\"caption\":\"Isto\\\\u00c9 Dinheiro\",\"inLanguage\":\"pt-BR\",\"width\":\"1200\",\"height\":\"306\"}},{\"@type\":\"WebSite\",\"@id\":\"https://istoedinheiro.com.br/#website\",\"url\":\"https://istoedinheiro.com.br\",\"name\":\"Isto\\\\u00c9 Dinheiro\",\"alternateName\":\"Isto\\\\u00c9Dinheiro\",\"publisher\":{\"@id\":\"https://istoedinheiro.com.br/#organization\"},\"inLanguage\":\"pt-BR\",\"potentialAction\":{\"@type\":\"SearchAction\",\"target\":\"https://istoedinheiro.com.br/?s={search_term_string}\",\"query-input\":\"required name=search_term_string\"}},{\"@type\":\"ImageObject\",\"@id\":\"https://istoedinheiro.com.br/wp-content/uploads/sites/17/2021/10/thumbnail-istoedinheirologo.png\",\"url\":\"https://istoedinheiro.com.br/wp-content/uploads/sites/17/2021/10/thumbnail-istoedinheirologo.png\",\"width\":\"1200\",\"height\":\"306\",\"inLanguage\":\"pt-BR\"},{\"@type\":\"WebPage\",\"@id\":\"https://istoedinheiro.com.br#webpage\",\"url\":\"https://istoedinheiro.com.br\",\"name\":\"Home - ISTO\\\\u00c9 DINHEIRO\",\"datePublished\":\"2016-12-08T15:13:54-02:00\",\"dateModified\":\"2017-01-20T13:41:10-02:00\",\"about\":{\"@id\":\"https://istoedinheiro.com.br/#organization\"},\"isPartOf\":{\"@id\":\"https://istoedinheiro.com.br/#website\"},\"primaryImageOfPage\":{\"@id\":\"https://istoedinheiro.com.br/wp-content/uploads/sites/17/2021/10/thumbnail-istoedinheirologo.png\"},\"inLanguage\":\"pt-BR\"},{\"@type\":\"Person\",\"@id\":\"https://istoedinheiro.com.br/author/iuato/\",\"name\":\"iuato\",\"url\":\"https://istoedinheiro.com.br/author/iuato/\",\"image\":{\"@type\":\"ImageObject\",\"@id\":\"https://secure.gravatar.com/avatar/8dfb7fecd4ac8895f253e53d81a594c2?s=96&amp;d=mm&amp;r=g\",\"url\":\"https://secure.gravatar.com/avatar/8dfb7fecd4ac8895f253e53d81a594c2?s=96&amp;d=mm&amp;r=g\",\"caption\":\"iuato\",\"inLanguage\":\"pt-BR\"},\"worksFor\":{\"@id\":\"https://istoedinheiro.com.br/#organization\"}},{\"@type\":\"Article\",\"headline\":\"Home - ISTO\\\\u00c9 DINHEIRO\",\"datePublished\":\"2016-12-08T15:13:54-02:00\",\"dateModified\":\"2017-01-20T13:41:10-02:00\",\"author\":{\"@id\":\"https://istoedinheiro.com.br/author/iuato/\",\"name\":\"iuato\"},\"publisher\":{\"@id\":\"https://istoedinheiro.com.br/#organization\"},\"name\":\"Home - ISTO\\\\u00c9 DINHEIRO\",\"@id\":\"https://istoedinheiro.com.br#richSnippet\",\"isPartOf\":{\"@id\":\"https://istoedinheiro.com.br#webpage\"},\"image\":{\"@id\":\"https://istoedinheiro.com.br/wp-content/uploads/sites/17/2021/10/thumbnail-istoedinheirologo.png\"},\"inLanguage\":\"pt-BR\",\"mainEntityOfPage\":{\"@id\":\"https://istoedinheiro.com.br#webpage\"}}]}</script> <link rel=dns-prefetch href=//istoedinheiro.com.br><link rel=dns-prefetch href=//cdn.jsdelivr.net><link rel=stylesheet id=wp-block-library-css href=\\'https://istoedinheiro.com.br/wp-includes/css/dist/block-library/style.min.css?x46096&amp;ver=6.2.2\\' type=text/css media=all><link rel=stylesheet id=embedpress_blocks-cgb-style-css-css href=\\'https://istoedinheiro.com.br/wp-content/plugins/embedpress/Gutenberg/dist/blocks.style.build.css?x46096&amp;ver=1695073450\\' type=text/css media=all><link rel=stylesheet id=classic-theme-styles-css href=\\'https://istoedinheiro.com.br/wp-includes/css/classic-themes.min.css?x46096&amp;ver=6.2.2\\' type=text/css media=all><style id=global-styles-inline-css>/*<![CDATA[*/body{--wp--preset--color--black:#000;--wp--preset--color--cyan-bluish-gray:#abb8c3;--wp--preset--color--white:#fff;--wp--preset--color--pale-pink:#f78da7;--wp--preset--color--vivid-red:#cf2e2e;--wp--preset--color--luminous-vivid-orange:#ff6900;--wp--preset--color--luminous-vivid-amber:#fcb900;--wp--preset--color--light-green-cyan:#7bdcb5;--wp--preset--color--vivid-green-cyan:#00d084;--wp--preset--color--pale-cyan-blue:#8ed1fc;--wp--preset--color--vivid-cyan-blue:#0693e3;--wp--preset--color--vivid-purple:#9b51e0;--wp--preset--gradient--vivid-cyan-blue-to-vivid-purple:linear-gradient(135deg,rgba(6,147,227,1) 0%,rgb(155,81,224) 100%);--wp--preset--gradient--light-green-cyan-to-vivid-green-cyan:linear-gradient(135deg,rgb(122,220,180) 0%,rgb(0,208,130) 100%);--wp--preset--gradient--luminous-vivid-amber-to-luminous-vivid-orange:linear-gradient(135deg,rgba(252,185,0,1) 0%,rgba(255,105,0,1) 100%);--wp--preset--gradient--luminous-vivid-orange-to-vivid-red:linear-gradient(135deg,rgba(255,105,0,1) 0%,rgb(207,46,46) 100%);--wp--preset--gradient--very-light-gray-to-cyan-bluish-gray:linear-gradient(135deg,rgb(238,238,238) 0%,rgb(169,184,195) 100%);--wp--preset--gradient--cool-to-warm-spectrum:linear-gradient(135deg,rgb(74,234,220) 0%,rgb(151,120,209) 20%,rgb(207,42,186) 40%,rgb(238,44,130) 60%,rgb(251,105,98) 80%,rgb(254,248,76) 100%);--wp--preset--gradient--blush-light-purple:linear-gradient(135deg,rgb(255,206,236) 0%,rgb(152,150,240) 100%);--wp--preset--gradient--blush-bordeaux:linear-gradient(135deg,rgb(254,205,165) 0%,rgb(254,45,45) 50%,rgb(107,0,62) 100%);--wp--preset--gradient--luminous-dusk:linear-gradient(135deg,rgb(255,203,112) 0%,rgb(199,81,192) 50%,rgb(65,88,208) 100%);--wp--preset--gradient--pale-ocean:linear-gradient(135deg,rgb(255,245,203) 0%,rgb(182,227,212) 50%,rgb(51,167,181) 100%);--wp--preset--gradient--electric-grass:linear-gradient(135deg,rgb(202,248,128) 0%,rgb(113,206,126) 100%);--wp--preset--gradient--midnight:linear-gradient(135deg,rgb(2,3,129) 0%,rgb(40,116,252) 100%);--wp--preset--duotone--dark-grayscale:url(\\'#wp-duotone-dark-grayscale\\');--wp--preset--duotone--grayscale:url(\\'#wp-duotone-grayscale\\');--wp--preset--duotone--purple-yellow:url(\\'#wp-duotone-purple-yellow\\');--wp--preset--duotone--blue-red:url(\\'#wp-duotone-blue-red\\');--wp--preset--duotone--midnight:url(\\'#wp-duotone-midnight\\');--wp--preset--duotone--magenta-yellow:url(\\'#wp-duotone-magenta-yellow\\');--wp--preset--duotone--purple-green:url(\\'#wp-duotone-purple-green\\');--wp--preset--duotone--blue-orange:url(\\'#wp-duotone-blue-orange\\');--wp--preset--font-size--small:13px;--wp--preset--font-size--medium:20px;--wp--preset--font-size--large:36px;--wp--preset--font-size--x-large:42px;--wp--preset--spacing--20:0.44rem;--wp--preset--spacing--30:0.67rem;--wp--preset--spacing--40:1rem;--wp--preset--spacing--50:1.5rem;--wp--preset--spacing--60:2.25rem;--wp--preset--spacing--70:3.38rem;--wp--preset--spacing--80:5.06rem;--wp--preset--shadow--natural:6px 6px 9px rgba(0, 0, 0, 0.2);--wp--preset--shadow--deep:12px 12px 50px rgba(0, 0, 0, 0.4);--wp--preset--shadow--sharp:6px 6px 0px rgba(0, 0, 0, 0.2);--wp--preset--shadow--outlined:6px 6px 0px -3px rgba(255, 255, 255, 1), 6px 6px rgba(0, 0, 0, 1);--wp--preset--shadow--crisp:6px 6px 0px rgba(0, 0, 0, 1)}:where(.is-layout-flex){gap:0.5em}body .is-layout-flow>.alignleft{float:left;margin-inline-start:0;margin-inline-end:2em}body .is-layout-flow>.alignright{float:right;margin-inline-start:2em;margin-inline-end:0}body .is-layout-flow>.aligncenter{margin-left:auto !important;margin-right:auto !important}body .is-layout-constrained>.alignleft{float:left;margin-inline-start:0;margin-inline-end:2em}body .is-layout-constrained>.alignright{float:right;margin-inline-start:2em;margin-inline-end:0}body .is-layout-constrained>.aligncenter{margin-left:auto !important;margin-right:auto !important}body .is-layout-constrained>:where(:not(.alignleft):not(.alignright):not(.alignfull)){max-width:var(--wp--style--global--content-size);margin-left:auto !important;margin-right:auto !important}body .is-layout-constrained>.alignwide{max-width:var(--wp--style--global--wide-size)}body .is-layout-flex{display:flex}body .is-layout-flex{flex-wrap:wrap;align-items:center}body .is-layout-flex>*{margin:0}:where(.wp-block-columns.is-layout-flex){gap:2em}.has-black-color{color:var(--wp--preset--color--black) !important}.has-cyan-bluish-gray-color{color:var(--wp--preset--color--cyan-bluish-gray) !important}.has-white-color{color:var(--wp--preset--color--white) !important}.has-pale-pink-color{color:var(--wp--preset--color--pale-pink) !important}.has-vivid-red-color{color:var(--wp--preset--color--vivid-red) !important}.has-luminous-vivid-orange-color{color:var(--wp--preset--color--luminous-vivid-orange) !important}.has-luminous-vivid-amber-color{color:var(--wp--preset--color--luminous-vivid-amber) !important}.has-light-green-cyan-color{color:var(--wp--preset--color--light-green-cyan) !important}.has-vivid-green-cyan-color{color:var(--wp--preset--color--vivid-green-cyan) !important}.has-pale-cyan-blue-color{color:var(--wp--preset--color--pale-cyan-blue) !important}.has-vivid-cyan-blue-color{color:var(--wp--preset--color--vivid-cyan-blue) !important}.has-vivid-purple-color{color:var(--wp--preset--color--vivid-purple) !important}.has-black-background-color{background-color:var(--wp--preset--color--black) !important}.has-cyan-bluish-gray-background-color{background-color:var(--wp--preset--color--cyan-bluish-gray) !important}.has-white-background-color{background-color:var(--wp--preset--color--white) !important}.has-pale-pink-background-color{background-color:var(--wp--preset--color--pale-pink) !important}.has-vivid-red-background-color{background-color:var(--wp--preset--color--vivid-red) !important}.has-luminous-vivid-orange-background-color{background-color:var(--wp--preset--color--luminous-vivid-orange) !important}.has-luminous-vivid-amber-background-color{background-color:var(--wp--preset--color--luminous-vivid-amber) !important}.has-light-green-cyan-background-color{background-color:var(--wp--preset--color--light-green-cyan) !important}.has-vivid-green-cyan-background-color{background-color:var(--wp--preset--color--vivid-green-cyan) !important}.has-pale-cyan-blue-background-color{background-color:var(--wp--preset--color--pale-cyan-blue) !important}.has-vivid-cyan-blue-background-color{background-color:var(--wp--preset--color--vivid-cyan-blue) !important}.has-vivid-purple-background-color{background-color:var(--wp--preset--color--vivid-purple) !important}.has-black-border-color{border-color:var(--wp--preset--color--black) !important}.has-cyan-bluish-gray-border-color{border-color:var(--wp--preset--color--cyan-bluish-gray) !important}.has-white-border-color{border-color:var(--wp--preset--color--white) !important}.has-pale-pink-border-color{border-color:var(--wp--preset--color--pale-pink) !important}.has-vivid-red-border-color{border-color:var(--wp--preset--color--vivid-red) !important}.has-luminous-vivid-orange-border-color{border-color:var(--wp--preset--color--luminous-vivid-orange) !important}.has-luminous-vivid-amber-border-color{border-color:var(--wp--preset--color--luminous-vivid-amber) !important}.has-light-green-cyan-border-color{border-color:var(--wp--preset--color--light-green-cyan) !important}.has-vivid-green-cyan-border-color{border-color:var(--wp--preset--color--vivid-green-cyan) !important}.has-pale-cyan-blue-border-color{border-color:var(--wp--preset--color--pale-cyan-blue) !important}.has-vivid-cyan-blue-border-color{border-color:var(--wp--preset--color--vivid-cyan-blue) !important}.has-vivid-purple-border-color{border-color:var(--wp--preset--color--vivid-purple) !important}.has-vivid-cyan-blue-to-vivid-purple-gradient-background{background:var(--wp--preset--gradient--vivid-cyan-blue-to-vivid-purple) !important}.has-light-green-cyan-to-vivid-green-cyan-gradient-background{background:var(--wp--preset--gradient--light-green-cyan-to-vivid-green-cyan) !important}.has-luminous-vivid-amber-to-luminous-vivid-orange-gradient-background{background:var(--wp--preset--gradient--luminous-vivid-amber-to-luminous-vivid-orange) !important}.has-luminous-vivid-orange-to-vivid-red-gradient-background{background:var(--wp--preset--gradient--luminous-vivid-orange-to-vivid-red) !important}.has-very-light-gray-to-cyan-bluish-gray-gradient-background{background:var(--wp--preset--gradient--very-light-gray-to-cyan-bluish-gray) !important}.has-cool-to-warm-spectrum-gradient-background{background:var(--wp--preset--gradient--cool-to-warm-spectrum) !important}.has-blush-light-purple-gradient-background{background:var(--wp--preset--gradient--blush-light-purple) !important}.has-blush-bordeaux-gradient-background{background:var(--wp--preset--gradient--blush-bordeaux) !important}.has-luminous-dusk-gradient-background{background:var(--wp--preset--gradient--luminous-dusk) !important}.has-pale-ocean-gradient-background{background:var(--wp--preset--gradient--pale-ocean) !important}.has-electric-grass-gradient-background{background:var(--wp--preset--gradient--electric-grass) !important}.has-midnight-gradient-background{background:var(--wp--preset--gradient--midnight) !important}.has-small-font-size{font-size:var(--wp--preset--font-size--small) !important}.has-medium-font-size{font-size:var(--wp--preset--font-size--medium) !important}.has-large-font-size{font-size:var(--wp--preset--font-size--large) !important}.has-x-large-font-size{font-size:var(--wp--preset--font-size--x-large) !important}.wp-block-navigation a:where(:not(.wp-element-button)){color:inherit}:where(.wp-block-columns.is-layout-flex){gap:2em}.wp-block-pullquote{font-size:1.5em;line-height:1.6}/*]]>*/</style><link rel=stylesheet id=contact-form-7-css href=\\'https://istoedinheiro.com.br/wp-content/plugins/contact-form-7/includes/css/styles.css?x46096&amp;ver=5.8\\' type=text/css media=all><link rel=stylesheet id=embedpress-css href=\\'https://istoedinheiro.com.br/wp-content/plugins/embedpress/assets/css/embedpress.css?x46096&amp;ver=6.2.2\\' type=text/css media=all><link rel=stylesheet id=bootstrap-css-css href=https://cdn.jsdelivr.net/npm/bootstrap@4.5.3/dist/css/bootstrap.min.css type=text/css media=all><link rel=stylesheet id=style-css href=https://istoedinheiro.com.br/wp-content/themes/dinheiro-wp-theme/assets/css/style.css?x46096 type=text/css media=all><link rel=stylesheet id=styletemp-css href=https://istoedinheiro.com.br/wp-content/themes/dinheiro-wp-theme/assets/css/styletemporario.css?x46096 type=text/css media=all><link rel=stylesheet id=dashicons-css href=\\'https://istoedinheiro.com.br/wp-includes/css/dashicons.min.css?x46096&amp;ver=6.2.2\\' type=text/css media=all><link rel=stylesheet id=plyr-css href=\\'https://istoedinheiro.com.br/wp-content/plugins/embedpress/assets/css/plyr.css?x46096&amp;ver=6.2.2\\' type=text/css media=all> <script src=\\'https://istoedinheiro.com.br/wp-includes/js/jquery/jquery.min.js?x46096&amp;ver=3.6.4\\' id=jquery-core-js></script> <script src=\\'https://istoedinheiro.com.br/wp-includes/js/jquery/jquery-migrate.min.js?x46096&amp;ver=3.4.0\\' id=jquery-migrate-js></script> <script src=\\'https://istoedinheiro.com.br/wp-content/plugins/embedpress/assets/js/plyr.polyfilled.js?x46096&amp;ver=1\\' id=plyr.polyfilled-js></script> <script src=\\'https://cdn.jsdelivr.net/npm/jquery@3.4.1/dist/jquery.min.js?ver=1\\' id=esc-jquery-js></script> <link rel=https://api.w.org/ href=https://istoedinheiro.com.br/wp-json/ ><link rel=alternate type=application/json href=https://istoedinheiro.com.br/wp-json/wp/v2/pages/372793><link rel=EditURI type=application/rsd+xml title=RSD href=https://istoedinheiro.com.br/xmlrpc.php?rsd><link rel=wlwmanifest type=application/wlwmanifest+xml href=https://istoedinheiro.com.br/wp-includes/wlwmanifest.xml><meta name=\"generator\" content=\"WordPress 6.2.2\"><link rel=shortlink href=https://istoedinheiro.com.br/ ><link rel=icon href=https://istoedinheiro.com.br/wp-content/uploads/sites/17/2023/06/cropped-icone-512x512-1-32x32.png?x46096 sizes=32x32><link rel=icon href=https://istoedinheiro.com.br/wp-content/uploads/sites/17/2023/06/cropped-icone-512x512-1-192x192.png?x46096 sizes=192x192><link rel=apple-touch-icon href=https://istoedinheiro.com.br/wp-content/uploads/sites/17/2023/06/cropped-icone-512x512-1-180x180.png?x46096><meta name=\"msapplication-TileImage\" content=\"https://istoedinheiro.com.br/wp-content/uploads/sites/17/2023/06/cropped-icone-512x512-1-270x270.png\"><meta property=\"fb:pages\" content=\"239837762723938\"><meta name=\"page\" content=\"home\"><meta name=\"if\" content=\"is_front_page\"><meta name=\"category\" content=\"home\">  <script async src=https://nave2.istoe.com.br/@nave/client/eef0ff46-01e5-11ec-acda-53613212d6c6/home></script> <style>@media screen and (max-width: 782px){html\\n#wpadminbar{display:none !important}}.banner_arroba{margin:20px\\nauto;text-align:center}.banner_arroba_250{margin:0px\\nauto;text-align:center}.banner_mobile{margin:30px\\nauto;text-align:center}.banner_mobile_topo{margin:0\\nauto;text-align:center;width:320px !important;height:auto !important}.banner_super_topo,.banner_super{margin:0\\nauto;text-align:center}.banner_desktop{margin:40px\\nauto;text-align:center}.banner_desktop_topo{margin:0\\nauto;text-align:center}.banner_desktop_arroba{margin:20px\\nauto;text-align:center}.banner_desktop_arroba_250{margin:0px\\nauto;text-align:center}</style><style>.section-week-phrases .col-3 article a\\nimg{width:100% !important}.section-materia .main-content article\\nh1{letter-spacing:-0.6px}@media screen and (min-width: 768px){.banner_super_topo{margin:0\\nauto}}</style> <script>var _comscore=_comscore||[];_comscore.push({c1:\"2\",c2:\"36204834\"});(function(){var s=document.createElement(\"script\"),el=document.getElementsByTagName(\"script\")[0];s.async=true;s.src=\"https://sb.scorecardresearch.com/cs/36204834/beacon.js\";el.parentNode.insertBefore(s,el);})();</script> <noscript> <img class=lazy src=\"data:image/svg+xml,%3Csvg%20xmlns=\\'http://www.w3.org/2000/svg\\'%20viewBox=\\'0%200%201%201\\'%3E%3C/svg%3E\" data-src=\"https://sb.scorecardresearch.com/p?c1=2&amp;c2=36204834&amp;cv=3.6.0&amp;cj=1\"> </noscript><link rel=apple-touch-icon sizes=57x57 href=https://istoedinheiro.com.br/wp-content/themes/dinheiro-wp-theme/assets/images/apple-icon-57x57.png?x46096><link rel=apple-touch-icon sizes=72x72 href=https://istoedinheiro.com.br/wp-content/themes/dinheiro-wp-theme/assets/images/apple-icon-72x72.png?x46096><link rel=apple-touch-icon sizes=114x114 href=https://istoedinheiro.com.br/wp-content/themes/dinheiro-wp-theme/assets/images/apple-icon-114x114.png?x46096><link rel=apple-touch-icon sizes=192x192 href=https://istoedinheiro.com.br/wp-content/themes/dinheiro-wp-theme/assets/images/apple-icon-192x192.png?x46096> <script>!function(f,b,e,v,n,t,s){if(f.fbq)return;n=f.fbq=function(){n.callMethod?n.callMethod.apply(n,arguments):n.queue.push(arguments)};if(!f._fbq)f._fbq=n;n.push=n;n.loaded=!0;n.version=\\'2.0\\';n.queue=[];t=b.createElement(e);t.async=!0;t.src=v;s=b.getElementsByTagName(e)[0];s.parentNode.insertBefore(t,s)}(window,document,\\'script\\',\\'https://connect.facebook.net/en_US/fbevents.js\\');fbq(\\'init\\',\\'2641197072803735\\');fbq(\\'track\\',\\'PageView\\');</script> <noscript><img class=lazy height=1 width=1 style=display:none src=\"data:image/svg+xml,%3Csvg%20xmlns=\\'http://www.w3.org/2000/svg\\'%20viewBox=\\'0%200%201%201\\'%3E%3C/svg%3E\" data-src=\"https://www.facebook.com/tr?id=2641197072803735&ev=PageView&noscript=1\"></noscript>  <script async src=https://www.dataunion.com.br/6793ab22-b32b-4d8e-a8b2-35835c9d4c1b></script> </head><body id=body class=\"page-home page-home-nova\"><noscript><iframe src=\"https://www.googletagmanager.com/ns.html?id=GTM-5SBJPR8\" height=0 width=0 style=display:none;visibility:hidden></iframe></noscript><noscript><iframe src=\"https://www.googletagmanager.com/ns.html?id=GTM-W49TKK2\" height=0 width=0 style=display:none;visibility:hidden></iframe></noscript><div class=content><div id=div-gpt-ad-1567006255544-0 data-hb-position=clever data-hb-type=ads></div><div class=\"shadow-new btn-menu\"></div><div class=sidebar-100><div class=\"last-edition-mobile menu\" style=\"display: none;\"><section data-hb-type=last_edition ><div class=\"wrapper-content menu\" data-hb-model=3><a class=\"titulo-edicao menu\" href=https://istoedinheiro.com.br/edicao/edicao-1366/ > EDIÇÃO Nº 1366 08/03 <span class=menu> </span> </a><a class=\"link-edicoes-anteriores menu\" href=/edicoes title=\"Edições anteriores\"> Ver edições anteriores </a></div></section></div><hr class=\"divisao-linha linha-edicao-mobile\" style=\"display: none;\"><div class=menu-sidebar-100><ul class=\"itens-menu menu-principal\"><div class=menu-menu-principal-container><ul id=menu-menu-principal class=itens-menu><li id=menu-item-2971334 class=\"menu-item menu-item-type-custom menu-item-object-custom menu-item-has-children menu-item-2971334\"><a href=https://istoe.com.br/ >IstoÉ</a><ul class=sub-menu> <li id=menu-item-2971335 class=\"menu-item menu-item-type-custom menu-item-object-custom menu-item-2971335\"><a href=https://istoe.com.br/ultimas/ >Últimas</a></li> <li id=menu-item-2980078 class=\"menu-item menu-item-type-custom menu-item-object-custom menu-item-2980078\"><a href=https://istoe.com.br/categoria/mundo/ >Mundo</a></li> <li id=menu-item-2971336 class=\"menu-item menu-item-type-custom menu-item-object-custom menu-item-2971336\"><a href=https://istoe.com.br/colunas/ >Colunas</a></li> <li id=menu-item-2980079 class=\"menu-item menu-item-type-custom menu-item-object-custom menu-item-2980079\"><a href=https://istoe.com.br/podcasts/ >Podcast</a></li></ul> </li> <li id=menu-item-2971330 class=\"menu-item menu-item-type-post_type menu-item-object-page menu-item-home current-menu-item page_item page-item-372793 current_page_item menu-item-has-children menu-item-2971330\"><a href=https://istoedinheiro.com.br/ aria-current=page>IstoÉ Dinheiro</a><ul class=sub-menu> <li id=menu-item-2971332 class=\"menu-item menu-item-type-post_type menu-item-object-page menu-item-2971332\"><a href=https://istoedinheiro.com.br/ultimas/ >Últimas</a></li></ul> </li> <li id=menu-item-2971337 class=\"menu-item menu-item-type-custom menu-item-object-custom menu-item-has-children menu-item-2971337\"><a href=https://www.dinheirorural.com.br/ >Dinheiro Rural</a><ul class=sub-menu> <li id=menu-item-2971339 class=\"menu-item menu-item-type-custom menu-item-object-custom menu-item-2971339\"><a href=https://www.dinheirorural.com.br/ultimas>Últimas</a></li></ul> </li> <li id=menu-item-2971349 class=\"menu-item menu-item-type-custom menu-item-object-custom menu-item-2971349\"><a href=https://istoe.com.br/popular/ >Popular</a></li> <li id=menu-item-2971341 class=\"menu-item menu-item-type-custom menu-item-object-custom menu-item-2971341\"><a href=https://istoe.com.br/bem-estar/ >Bem-Estar</a></li> <li id=menu-item-2971340 class=\"menu-item menu-item-type-custom menu-item-object-custom menu-item-2971340\"><a href=https://istoe.com.br/categoria/istoe-gente/ >Gente</a></li> <li id=menu-item-3022248 class=\"menu-item menu-item-type-custom menu-item-object-custom menu-item-3022248\"><a href=https://glownews.com.br>Glow News</a></li> <li id=menu-item-2971342 class=\"menu-item menu-item-type-custom menu-item-object-custom menu-item-2971342\"><a href=https://mulher.istoe.com.br/ >Mulher</a></li> <li id=menu-item-2997085 class=\"menu-item menu-item-type-custom menu-item-object-custom menu-item-2997085\"><a href=https://suahistoria.istoe.com.br>Sua História</a></li> <li id=menu-item-2971346 class=\"menu-item menu-item-type-custom menu-item-object-custom menu-item-2971346\"><a href=https://istoe.com.br/esportes/ >Esportes</a></li> <li id=menu-item-2980070 class=\"menu-item menu-item-type-custom menu-item-object-custom menu-item-2980070\"><a href=https://istoe.com.br/categoria/astrologia-2/horoscopo/ >Horóscopo</a></li> <li id=menu-item-2980071 class=\"menu-item menu-item-type-custom menu-item-object-custom menu-item-2980071\"><a href=https://revistamenu.com.br/ >Menu</a></li> <li id=menu-item-2971347 class=\"menu-item menu-item-type-custom menu-item-object-custom menu-item-2971347\"><a href=https://motorshow.com.br/ >Motorshow</a></li> <li id=menu-item-3034917 class=\"menu-item menu-item-type-custom menu-item-object-custom menu-item-3034917\"><a href=https://revistaplaneta.com.br>Planeta</a></li></ul></div><hr> <li> <a href=/anuncie/ title=Anuncie> Anuncie </a> </li><hr></ul><ul class=\"itens-menu menu-revista\" style=display:none;> <li><a href=https://istoedinheiro.com.br/edicao/edicao-1366/ title=\"Revista ISTOÉ\"> Revista IstoE </a> </li> <li> <a href=https://istoedinheiro.com.br/edicao/ title=\"Edições anteriores\"> Edições anteriores </a> </li><hr></ul><ul class=\"itens-menu menu-revistas\" style=display:none;> <li> <a href=/ title=ISTOÉ> ISTOÉ </a><ul class=sub> <li><a href=https://istoedinheiro.com.br/ultimas/ >Ultimas</a></ul> </li> <li> <a href=https://www.istoedinheiro.com.br/ target=_blank title=\"ISTOÉ Dinheiro\"> ISTOÉ Dinheiro </a><ul class=sub> <li><a href=https://www.istoedinheiro.com.br/ultimas/ >Ultimas</a></ul> </li> <li> <a href=https://www.dinheirorural.com.br/ target=_blank title=\"Dinheiro Rural\"> Dinheiro Rural </a><ul class=sub> <li><a href=https://www.dinheirorural.com.br/ultimas/ >Ultimas</a></ul> </li> <li> <a href=https://istoedinheiro.com.br/categoria/istoe-gente title=Gente> Gente </a> </li> <li> <a href=https://istoedinheiro.com.br/bem-estar title=Bem-Estar> Bem-Estar </a> </li> <li> <a href=https://istoedinheiro.com.br/mulher title=Mulher> Mulher </a> </li> <li> <a href=https://www.revistamenu.com.br/ target=_blank title=Menu> Menu </a><ul class=sub> <li><a href=https://www.revistamenu.com.br/ultimas/ >Ultimas</a></ul> </li> <li> <a href=https://motorshow.com.br/ target=_blank title=Motorshow> Motorshow </a> </li> <li> <a href=https://www.revistaplaneta.com.br/ target=_blank title=Planeta> Planeta </a> </li> <li> <a href=https://gooutside.com.br/ target=_blank title=Gooutside> Gooutside </a> </li> <li> <a href=https://hardcore.com.br target=_blank title=Hardcore> Hardcore </a> </li><hr></ul></div></div><header id=header-main class=header-istoe><div class=cabecalho><div class=cabecalho-container><div class=cabecalho-col-1><div class=cabecalho-col-1-linha-1><div class=cabecalho-redes-sociais><a class=\"link-icon icon-menu btn-menu\" style=\"cursor: pointer;\" href=javascript:;> <svg data-gjs-type=svg draggable=true height=32px id=ity1sl version=1.1 viewBox=\"0 0 32 32\" width=32px xmlns=http://www.w3.org/2000/svg xmlns:xlink=http://www.w3.org/1999/xlink> <defs data-gjs-type=svg-in draggable=true id=isl5be> </defs> <rect data-gjs-type=svg-in draggable=true fill=#47474B fill-rule=evenodd height=2 id=Rectangle-1-Copy-29 stroke=none width=18 x=6 y=8> </rect> <rect data-gjs-type=svg-in draggable=true fill=#47474B fill-rule=evenodd height=2 id=Rectangle-1-Copy-41 stroke=none width=18 x=6 y=20> </rect> <rect data-gjs-type=svg-in draggable=true fill=#47474B fill-rule=evenodd height=2 id=Rectangle-1-Copy-42 stroke=none width=14 x=6 y=14> </rect> </svg> <span> Menu </span> </a></div><div class=logo-do-site> <a class=magazine href=https://istoedinheiro.com.br> <img class=\"logo-3-imagens lazy\" src=\"data:image/svg+xml,%3Csvg%20xmlns=\\'http://www.w3.org/2000/svg\\'%20viewBox=\\'0%200%201%201\\'%3E%3C/svg%3E\" data-src=https://istoedinheiro.com.br/wp-content/themes/dinheiro-wp-theme/assets/img/svg/logo-dinheiro.svg?x46096> </a></div><div class=widget-wrap> <a href=https://istoe.com.br/previsao-do-tempo/hoje><div class=widget-temp><figure id=climate-desc class=climate-desc-wrap></figure><h3 id=\"name-city\"></h3><h2 id=\"graus\"></h2> <span id=description class=desc></span></div> </a><a href=https://istoe.com.br/cotacoes/usd><div class=widget-temp><div id=IbovespaV class=cota-wrap></div><div id=DolarV class=cota-wrap></div></div> </a></div> <script>function getStoredFinancialData(){const cachedData=localStorage.getItem(\\'financialData\\');const cachedTimestamp=localStorage.getItem(\\'financialDataTimestamp\\');if(cachedData&&cachedTimestamp){const now=new Date().getTime();const age=now-parseInt(cachedTimestamp);const cacheTimeLimit=5*60*1000;if(age<cacheTimeLimit){return JSON.parse(cachedData);}}\\nreturn null;}\\nfunction storeFinancialData(data){localStorage.setItem(\\'financialData\\',JSON.stringify(data));localStorage.setItem(\\'financialDataTimestamp\\',new Date().getTime().toString());}\\nfunction insertInHtml(json){document.getElementById(\\'name-city\\').innerHTML=json.results.city_name;document.getElementById(\\'graus\\').innerHTML=json.results.temp+\\'°\\';document.getElementById(\\'description\\').innerHTML=json.results.description;document.getElementById(\\'climate-desc\\').innerHTML=`<img src=https://istoedinheiro.com.br/wp-content/themes/dinheiro-wp-theme/assets/img/widgetClimaDolar/${json.results.condition_slug}.png?x46096 alt=${json.results.condition_slug}>`;}\\nfunction getStoredWeatherData(){const cachedData=localStorage.getItem(\\'weatherData\\');const cachedTimestamp=localStorage.getItem(\\'weatherDataTimestamp\\');if(cachedData&&cachedTimestamp){const now=new Date().getTime();const age=now-parseInt(cachedTimestamp);const cacheTimeLimit=2*60*60*1000;if(age<cacheTimeLimit){return JSON.parse(cachedData);}}\\nreturn null;}\\nfunction storeWeatherData(data){localStorage.setItem(\\'weatherData\\',JSON.stringify(data));localStorage.setItem(\\'weatherDataTimestamp\\',new Date().getTime().toString());}\\nfunction searchClimate(latitude,longitude){const baseUrl=`https://api.hgbrasil.com/weather?format=json-cors&key=808df7c5&lat=${latitude}&lon=${longitude}&user_ip=remote`;const cachedData=getStoredWeatherData();if(cachedData){insertInHtml(cachedData);return;}\\nfetch(baseUrl).then(res=>res.json()).then(json=>{storeWeatherData(json);insertInHtml(json);}).catch(err=>console.log(\\'Problema ao buscar dados meteorológicos:\\',err));}\\nfunction displayFinancialData(data){let dolarBuy=data.currencies.USD.buy;let dolarVariation=data.currencies.USD.variation;const dolarRounded=Math.round(dolarBuy*1000)/1000;const dolarBuyStr=dolarRounded.toString().replace(\\'.\\',\\',\\');const dolarStatus=dolarVariation>0?\\'positiva\\':\\'negativa\\';const dolarVElement=document.getElementById(\\'DolarV\\');dolarVElement.innerHTML=`<h3>Dólar</h3> <span class=${dolarStatus}>R$ ${dolarBuyStr}</span>`;let ibovespaVariation=data.stocks.IBOVESPA.variation;let ibovespaStatus=ibovespaVariation>0?\\'positiva\\':\\'negativa\\';let ibovespaVElement=document.getElementById(\\'IbovespaV\\');ibovespaVElement.innerHTML=`<h3>Ibovespa</h3> <span class=${ibovespaStatus}>${ibovespaVariation}%</span>`;}\\nif(\"geolocation\"in navigator){navigator.geolocation.getCurrentPosition(position=>{const latitude=position.coords.latitude;const longitude=position.coords.longitude;searchClimate(latitude,longitude);},error=>{console.log(\\'Permissão de geolocalização negada ou indisponível. Usando coordenadas padrão.\\');searchClimate(-23.550520,-46.633308);});}else{console.log(\\'Geolocalização indisponível. Usando coordenadas padrão.\\');searchClimate(-23.550520,-46.633308);}\\nconst cachedFinancialData=getStoredFinancialData();if(cachedFinancialData){displayFinancialData(cachedFinancialData);}else{fetch(\\'https://istoe.com.br/respFinanse2.php?moeda=resultApi\\').then(response=>response.json()).then(data=>{displayFinancialData(data);storeFinancialData(data);}).catch(err=>console.log(\\'Problema ao buscar dados financeiros:\\',err));}</script> </div></div><section data-hb-type=last_edition class=\"cabecalho-col-2 sectionContainer\"  style=display:none;><div class=assine-box><ul> <li class=anuncie><a href=<https://istoe.com.br/anuncie/ >Anuncie</a></li></ul></div><div data-hb-model=1 class=cabecalho-revista-image > <a href=https://istoedinheiro.com.br/edicao/edicao-1366/ title=\"EDIÇÃO Nº 1366 08/03 - A força da economia feminina\"> <img width=255 height=304 src=\"data:image/svg+xml,%3Csvg%20xmlns=\\'http://www.w3.org/2000/svg\\'%20viewBox=\\'0%200%20255%20304\\'%3E%3C/svg%3E\" data-src=https://istoedinheiro.com.br/wp-content/uploads/sites/17/2024/03/CAPA_1366_banca-255x340-1-255x304.jpg?x46096 class=\"attachment-index-thumb size-index-thumb wp-post-image lazy\" alt decoding=async>  </a></div><div class=cabecalho-revista-description data-hb-model=2><h1 class=\"titleEdition\"> Edição Da Semana</h1> <span> Nº 1366 - 08/03/24 </span> <a href=https://istoedinheiro.com.br/edicao/edicao-1366/ title=\"EDIÇÃO Nº 1366 08/03 - A força da economia feminina\"> Leia mais <svg data-gjs-type=svg draggable=true fill=none height=22 id=iwsved viewBox=\"0 0 22 22\" width=\"22\"xmlns=http://www.w3.org/2000/svg> <rect data-gjs-type=svg-in draggable=true fill=none height=32 id=iwxzki width=32> </rect> <path d=\"M12.9497 16.6694V11.9999L17.8995 16.6694L12.9497 21.339V16.6694Z\" data-gjs-type=\"svg-in\"draggable=true fill=#D00018 id=iqfbpv> </path> </svg> </a></div></section></div></div><nav class=menu-revistas><div class=content-menu><div class=menu-menu-superior-container><ul id=menu-menu-superior class=menucenter><li id=menu-item-2970906 class=\"menu-item menu-item-type-custom menu-item-object-custom menu-item-2970906\"><a href=https://istoe.com.br>IstoÉ</a></li> <li id=menu-item-2970905 class=\"menu-item menu-item-type-post_type menu-item-object-page menu-item-home current-menu-item page_item page-item-372793 current_page_item menu-item-2970905\"><a href=https://istoedinheiro.com.br/ aria-current=page>Dinheiro</a></li> <li id=menu-item-2970907 class=\"menu-item menu-item-type-custom menu-item-object-custom menu-item-2970907\"><a href=https://www.dinheirorural.com.br/ >Dinheiro Rural</a></li> <li id=menu-item-2970913 class=\"menu-item menu-item-type-custom menu-item-object-custom menu-item-2970913\"><a href=https://istoe.com.br/popular/ >Popular</a></li> <li id=menu-item-2970908 class=\"menu-item menu-item-type-custom menu-item-object-custom menu-item-2970908\"><a href=https://istoe.com.br/bem-estar/ >Bem-estar</a></li> <li id=menu-item-2970909 class=\"menu-item menu-item-type-custom menu-item-object-custom menu-item-2970909\"><a href=https://istoe.com.br/categoria/istoe-gente/ >Gente</a></li> <li id=menu-item-3022249 class=\"menu-item menu-item-type-custom menu-item-object-custom menu-item-3022249\"><a href=https://glownews.com.br>Glow News</a></li> <li id=menu-item-2970910 class=\"menu-item menu-item-type-custom menu-item-object-custom menu-item-2970910\"><a href=https://mulher.istoe.com.br/ >Mulher</a></li> <li id=menu-item-2997086 class=\"menu-item menu-item-type-custom menu-item-object-custom menu-item-2997086\"><a href=https://suahistoria.istoe.com.br>Sua História</a></li> <li id=menu-item-2970912 class=\"menu-item menu-item-type-custom menu-item-object-custom menu-item-2970912\"><a href=https://istoe.com.br/esportes/ >Esportes</a></li> <li id=menu-item-2973670 class=\"menu-item menu-item-type-custom menu-item-object-custom menu-item-2973670\"><a href=https://revistamenu.com.br/ >Menu</a></li> <li id=menu-item-2970921 class=\"menu-item menu-item-type-custom menu-item-object-custom menu-item-2970921\"><a href=https://motorshow.com.br/ >Motorshow</a></li></ul></div><div class=assine-box><ul> <li class=anuncie><a href=https://istoe.com.br/anuncie/ >Anuncie</a></li></ul></div></div></nav><nav class=\"sub-menu-revistas main-istoe\"><div class=content-sub-menu><div class=menu-sub-menu-principal-container><ul id=menu-sub-menu-principal class=sub-menucenter><li id=menu-item-2973538 class=\"menu-item menu-item-type-post_type menu-item-object-page menu-item-2973538\"><a href=https://istoedinheiro.com.br/ultimas/ >Últimas</a></li> <li id=menu-item-2974871 class=\"menu-item menu-item-type-taxonomy menu-item-object-category menu-item-2974871\"><a href=https://istoedinheiro.com.br/categoria/carreira/ >Carreira</a></li> <li id=menu-item-2973553 class=\"menu-item menu-item-type-taxonomy menu-item-object-category menu-item-2973553\"><a href=https://istoedinheiro.com.br/categoria/economia/ >Economia</a></li> <li id=menu-item-2973557 class=\"menu-item menu-item-type-taxonomy menu-item-object-category menu-item-2973557\"><a href=https://istoedinheiro.com.br/categoria/negocios/ >Negócios</a></li> <li id=menu-item-2973552 class=\"menu-item menu-item-type-taxonomy menu-item-object-category menu-item-2973552\"><a href=https://istoedinheiro.com.br/categoria/mercado-digital/ >Tecnologia</a></li> <li id=menu-item-2973554 class=\"menu-item menu-item-type-taxonomy menu-item-object-category menu-item-2973554\"><a href=https://istoedinheiro.com.br/categoria/financas/ >Finanças</a></li> <li id=menu-item-2973555 class=\"menu-item menu-item-type-taxonomy menu-item-object-category menu-item-2973555\"><a href=https://istoedinheiro.com.br/categoria/giro/ >Giro</a></li></ul></div></div></nav><nav class=\"sub-menu-revistas main-istoe so-mobile\"><div class=content-sub-menu><div class=menu-sub-menu-principal-mobile-container><ul id=menu-sub-menu-principal-mobile class=sub-menucenter><li id=menu-item-2982744 class=\"menu-item menu-item-type-custom menu-item-object-custom menu-item-2982744\"><a href=https://istoe.com.br/ >IstoÉ</a></li> <li id=menu-item-2982745 class=\"menu-item menu-item-type-custom menu-item-object-custom menu-item-2982745\"><a href=https://www.dinheirorural.com.br/ >Rural</a></li> <li id=menu-item-2982746 class=\"menu-item menu-item-type-custom menu-item-object-custom menu-item-2982746\"><a href=https://istoe.com.br/popular/ >Popular</a></li> <li id=menu-item-2982747 class=\"menu-item menu-item-type-custom menu-item-object-custom menu-item-2982747\"><a href=https://mulher.istoe.com.br/ >Mulher</a></li> <li id=menu-item-2982748 class=\"menu-item menu-item-type-custom menu-item-object-custom menu-item-2982748\"><a href=https://istoe.com.br/bem-estar/ >Bem-estar</a></li> <li id=menu-item-2982749 class=\"menu-item menu-item-type-custom menu-item-object-custom menu-item-2982749\"><a href=https://istoe.com.br/esportes/ >Esportes</a></li></ul></div></div></nav><nav class=\"sub-menu-revistas main-istoe second-row so-mobile\"><div class=content-sub-menu><div class=menu-sub-menu-principal-segunda-linha-container><ul id=menu-sub-menu-principal-segunda-linha class=sub-menucenter><li id=menu-item-3035018 class=\"menu-item menu-item-type-custom menu-item-object-custom menu-item-3035018\"><a href=https://istoe.com.br/categoria/istoe-gente/ >Gente</a></li> <li id=menu-item-3035019 class=\"menu-item menu-item-type-custom menu-item-object-custom menu-item-3035019\"><a href=https://glownews.com.br/ >Glow News</a></li> <li id=menu-item-3035020 class=\"menu-item menu-item-type-custom menu-item-object-custom menu-item-3035020\"><a href=https://motorshow.com.br/ >Motorshow</a></li> <li id=menu-item-3035021 class=\"menu-item menu-item-type-custom menu-item-object-custom menu-item-3035021\"><a href=https://revistamenu.com.br/ >Menu</a></li> <li id=menu-item-3035022 class=\"menu-item menu-item-type-custom menu-item-object-custom menu-item-3035022\"><a href=https://istoe.com.br/podcasts/ >Podcast</a></li></ul></div></div></nav></header><div class=ad-bar-header><section data-gjs-draggable=.ad-bar-header name=adsContainer data-hb-provider=Google data-hb-type=ads data-hb-position=header><div id=top class=banner_super_topo data-google-query-id=CPra3ofL2vcCFd4CuQYdWKQBkA></div></section></div><section id=bloco-1-coluna class=bloco-home-box style=display:none><div class=general data-gjs-selectable=false data-gjs-hoverable=false><div class=\"area-destaque main\" data-gjs-selectable=false data-gjs-hoverable=false></div></div><section style=\"padding-bottom: 1rem;\" data-hb-type=ads data-hb-position=body2 name=adsBody1 data-hb-provider=Google data-gjs-draggable=.main><div id=top2 class=banner_super></div></section></section><section id=bloco-2-coluna class=bloco-home-box><div class=general data-gjs-selectable=false data-gjs-hoverable=false><div class=box-content data-gjs-selectable=false data-gjs-hoverable=false><main class=main data-gjs-selectable=false data-gjs-hoverable=false><div class=widget-container><section class=blocoChamadaUnica name=blocoChamadaUnica data-hb-slug=list data-hb-type=general data-gjs-draggable=.main><div data-gjs-selectable=false data-gjs-hoverable=false class=\"bloco-cabecalho displayNoneTres\" style=\"display: none;\"><header data-gjs-selectable=false data-gjs-hoverable=false><hr data-gjs-selectable=false data-gjs-hoverable=false> <a data-gjs-selectable=false data-gjs-hoverable=false href><h1 data-gjs-selectable=\"false\" data-gjs-hoverable=\"false\">Boletim Focus</h1> </a></header></div><div class=bloco-noticias><div class=bloco-noticias-secundarias><div class=\"bloco-destaque-principal bloco-noticias-area\" data-gjs-selectable=false data-gjs-hoverable=false><article data-hb-model=9 data-hb-type=dynamic name=ArticleNewSingle class=newsWithImage> <a data-gjs-selectable=false data-gjs-hoverable=false href=\" https://istoedinheiro.com.br/vendas-do-comercio-varejista-sobem-25-em-janeiro-ante-dezembro-revela-ibge/\" class=bloco-link-noticia><span data-gjs-selectable=false data-gjs-hoverable=false class=bloco-datatime></span><h1 data-gjs-selectable=\"false\" data-gjs-hoverable=\"false\" style=\"-webkit-box-orient: vertical !important;\"> Vendas do comércio varejista sobem 2,5% em janeiro ante dezembro, mostra IBGE</h1></a></article></div></div><div class=bloco-noticias-relacionadas><ul class=bloco-noticias-relacionadas-ul> <li><article name=blocoChamadaUnicaNoImage data-hb-type=dynamic data-hb-model=2> <a data-gjs-selectable=false data-gjs-hoverable=false href=\" https://istoedinheiro.com.br/inflacao-da-cesta-basica-pesa-nas-capitais-e-valor-ultrapassa-r-1-mil-no-rio/\" class=\"bloco-link-noticia bloco-no-image\"><h1 data-gjs-selectable=\"false\" data-gjs-hoverable=\"false\"> Inflação da cesta básica pesa nas capitais e valor ultrapassa R$ 1 mil no Rio</h1> </a></article> </li></ul></div><div data-gjs-selectable=false data-gjs-hoverable=false class=separador-bloco></div></div></section></div><div class=widget-container><section name=tres-blocos-noticias-img class=tres-blocos-noticias-img data-hb-slug=list data-hb-type=general data-gjs-draggable=.main><div data-gjs-selectable=false data-gjs-hoverable=false class=\"bloco-cabecalho displayNoneTres\" style=\"display: none;\"><header data-gjs-selectable=false data-gjs-hoverable=false><hr data-gjs-selectable=false data-gjs-hoverable=false> <a data-gjs-selectable=false data-gjs-hoverable=false><h1 data-gjs-selectable=\"false\" data-gjs-hoverable=\"false\">Brasil</h1> </a></header></div><div data-gjs-selectable=false data-gjs-hoverable=false class=bloco-noticias><div data-gjs-selectable=false data-gjs-hoverable=false class=bloco-noticia-box><div class=bloco-destaque-principal><article name=ArticleThreeImage data-hb-model=1 data-hb-type=dynamic class=destaque-principal><a data-gjs-selectable=false data-gjs-hoverable=false href=\" https://istoedinheiro.com.br/pis-pasep-2o-lote-do-abono-salarial-comeca-a-ser-pago-nesta-sexta/\" class=bloco-link-noticia><div data-gjs-selectable=false data-gjs-hoverable=false class=bloco-wrapper-imagem> <img class=lazy data-gjs-selectable=false data-gjs-hoverable=false src=\"data:image/svg+xml,%3Csvg%20xmlns=\\'http://www.w3.org/2000/svg\\'%20viewBox=\\'0%200%20942%20628\\'%3E%3C/svg%3E\" data-src=https://istoedinheiro.com.br/wp-content/uploads/sites/17/2024/02/abono-salarial-pis-caixa-banco-do-brasil-divulgacao-1.jpg?x46096 alt=\"PIS/Pasep: 2º lote do abono salarial começa a ser pago nesta sexta\"></div> <span data-gjs-selectable=false data-gjs-hoverable=false class=bloco-datatime></span><h1 data-gjs-selectable=\"false\" data-gjs-hoverable=\"false\"> PIS/Pasep: 2º lote do abono salarial começa a ser pago nesta sexta</h1></a></article></div></div><div data-gjs-selectable=false data-gjs-hoverable=false class=bloco-noticia-box><div class=bloco-destaque-principal><article name=ArticleThreeImage data-hb-model=1 data-hb-type=dynamic class=destaque-principal><a data-gjs-selectable=false data-gjs-hoverable=false href=\" https://istoedinheiro.com.br/prates-diz-que-conselho-da-petrobras-orientado-por-lula-nao-e-intervencao-indevida/?customize_changeset_uuid=943c4cb2-33ff-453e-b151-44479dd8510e&amp;customize_autosaved=on\" class=bloco-link-noticia><div data-gjs-selectable=false data-gjs-hoverable=false class=bloco-wrapper-imagem> <img class=lazy data-gjs-selectable=false data-gjs-hoverable=false src=\"data:image/svg+xml,%3Csvg%20xmlns=\\'http://www.w3.org/2000/svg\\'%20viewBox=\\'0%200%201%201\\'%3E%3C/svg%3E\" data-src=\"https://istoedinheiro.com.br/wp-content/uploads/sites/17/2024/03/prates.jpg \" alt=\"PIS/Pasep: 2º lote do abono salarial começa a ser pago nesta sexta\"></div> <span data-gjs-selectable=false data-gjs-hoverable=false class=bloco-datatime></span><h1 data-gjs-selectable=\"false\" data-gjs-hoverable=\"false\"> Prates diz que conselho da Petrobras ‘orientado’ por Lula não é ‘intervenção indevida’</h1></a></article></div></div><div data-gjs-selectable=false data-gjs-hoverable=false class=bloco-noticia-box><div class=bloco-destaque-principal><article name=ArticleThreeImage data-hb-model=1 data-hb-type=dynamic class=destaque-principal><a data-gjs-selectable=false data-gjs-hoverable=false href=\" https://istoedinheiro.com.br/imposto-de-renda-2024-3-dicas-para-quem-e-mei/\" class=bloco-link-noticia><div data-gjs-selectable=false data-gjs-hoverable=false class=bloco-wrapper-imagem> <img class=lazy data-gjs-selectable=false data-gjs-hoverable=false src=\"data:image/svg+xml,%3Csvg%20xmlns=\\'http://www.w3.org/2000/svg\\'%20viewBox=\\'0%200%20960%20540\\'%3E%3C/svg%3E\" data-src=https://istoedinheiro.com.br/wp-content/uploads/sites/17/2024/03/comomeideclaraoimpostoderendasemcairnamalhafinajpg-1.jpg?x46096 alt=\"Imposto de Renda 2024: 3 dicas para quem é MEI declarar seus rendimentos corretamente\"></div> <span data-gjs-selectable=false data-gjs-hoverable=false class=bloco-datatime></span><h1 data-gjs-selectable=\"false\" data-gjs-hoverable=\"false\"> Imposto de Renda 2024: 3 dicas para quem é MEI declarar seus rendimentos corretamente</h1></a></article></div></div></div><div data-gjs-selectable=false data-gjs-hoverable=false class=separador-bloco></div></section></div><div class=widget-container><section name=tres-blocos-noticias-img class=tres-blocos-noticias-img data-hb-slug=list data-hb-type=general data-gjs-draggable=.main><div data-gjs-selectable=false data-gjs-hoverable=false class=\"bloco-cabecalho displayNoneTres\" style=\"display: none;\"><header data-gjs-selectable=false data-gjs-hoverable=false><hr data-gjs-selectable=false data-gjs-hoverable=false> <a data-gjs-selectable=false data-gjs-hoverable=false><h1 data-gjs-selectable=\"false\" data-gjs-hoverable=\"false\">Economia</h1> </a></header></div><div data-gjs-selectable=false data-gjs-hoverable=false class=bloco-noticias><div data-gjs-selectable=false data-gjs-hoverable=false class=bloco-noticia-box><div class=bloco-destaque-principal><article name=ArticleThreeImage data-hb-model=1 data-hb-type=dynamic class=destaque-principal><a data-gjs-selectable=false data-gjs-hoverable=false href=\" https://istoedinheiro.com.br/casino-anuncia-que-nao-esta-mais-no-controle-da-sociedade-com-o-gpa/\" class=bloco-link-noticia><div data-gjs-selectable=false data-gjs-hoverable=false class=bloco-wrapper-imagem> <img class=lazy data-gjs-selectable=false data-gjs-hoverable=false src=\"data:image/svg+xml,%3Csvg%20xmlns=\\'http://www.w3.org/2000/svg\\'%20viewBox=\\'0%200%20640%20341\\'%3E%3C/svg%3E\" data-src=https://istoedinheiro.com.br/wp-content/uploads/sites/17/2023/04/pao-de-acucar-4.jpg?x46096 alt=\"Casino anuncia que não está mais no controle da sociedade com o GPA\"></div> <span data-gjs-selectable=false data-gjs-hoverable=false class=bloco-datatime></span><h1 data-gjs-selectable=\"false\" data-gjs-hoverable=\"false\"> Quanto rende o prêmio de R$ 50 milhões da Mega-Sena na poupança e no CDI</h1></a></article></div></div><div data-gjs-selectable=false data-gjs-hoverable=false class=bloco-noticia-box><div class=bloco-destaque-principal><article name=ArticleThreeImage data-hb-model=1 data-hb-type=dynamic class=destaque-principal><a data-gjs-selectable=false data-gjs-hoverable=false href=\" https://istoedinheiro.com.br/marcas-mais-valiosas-ultrapassam-412-bilhoes/\" class=bloco-link-noticia><div data-gjs-selectable=false data-gjs-hoverable=false class=bloco-wrapper-imagem> <img class=lazy data-gjs-selectable=false data-gjs-hoverable=false src=\"data:image/svg+xml,%3Csvg%20xmlns=\\'http://www.w3.org/2000/svg\\'%20viewBox=\\'0%200%201024%20682\\'%3E%3C/svg%3E\" data-src=https://istoedinheiro.com.br/wp-content/uploads/sites/17/2024/03/itau-novasagencias-berrini-15-2.jpg?x46096 alt=\"Quais são as marcas mais valiosas do Brasil? Veja ranking\"></div> <span data-gjs-selectable=false data-gjs-hoverable=false class=bloco-datatime></span><h1 data-gjs-selectable=\"false\" data-gjs-hoverable=\"false\"> Quais são as marcas mais valiosas do Brasil? Veja ranking</h1></a></article></div></div><div data-gjs-selectable=false data-gjs-hoverable=false class=bloco-noticia-box><div class=bloco-destaque-principal><article name=ArticleThreeImage data-hb-model=1 data-hb-type=dynamic class=destaque-principal><a data-gjs-selectable=false data-gjs-hoverable=false href=\" https://istoedinheiro.com.br/bancos-mutirao-nacional-renegociacao-dividas/\" class=bloco-link-noticia><div data-gjs-selectable=false data-gjs-hoverable=false class=bloco-wrapper-imagem> <img class=lazy data-gjs-selectable=false data-gjs-hoverable=false src=\"data:image/svg+xml,%3Csvg%20xmlns=\\'http://www.w3.org/2000/svg\\'%20viewBox=\\'0%200%201000%20563\\'%3E%3C/svg%3E\" data-src=https://istoedinheiro.com.br/wp-content/uploads/sites/17/2024/03/2148694497-2-1.jpg?x46096 alt=\"Bancos fazem mutirão nacional de renegociação de dívidas; veja como participar\"></div> <span data-gjs-selectable=false data-gjs-hoverable=false class=bloco-datatime></span><h1 data-gjs-selectable=\"false\" data-gjs-hoverable=\"false\"> Bancos fazem mutirão nacional de renegociação de dívidas; veja como participar</h1></a></article></div></div></div><div data-gjs-selectable=false data-gjs-hoverable=false class=separador-bloco></div></section></div></main></div><div class=container-aside data-gjs-selectable=false data-gjs-hoverable=false><section data-gjs-type=default data-hb-slug=list data-hb-type=general data-highlightable=1 draggable=false id=i27hfw><aside class=sidebar data-gjs-selectable=false data-gjs-hoverable=false><div class=widget-container><div class=card-financeiro-data><section class=section-data><div class=section-data__head><div class=section-data__head__label>Moedas</div><div class=section-data__head__info> <span></span><span id=lastUpdateTime class=data></span></div></div><div class=section-data__body><table class=section-data__table><thead><tr><th>Moeda</th><th>Compra</th><th>Venda</th><th>Variação</th></tr></thead><tbody><tr><td>Dólar</td><td id=dolar-comercial-compra>-</td><td id=dolar-comercial-venda>-</td><td id=dolar-comercial-variacao>-</td></tr><tr><td>Euro</td><td id=euro-comercial-compra>-</td><td id=euro-comercial-venda>-</td><td id=euro-comercial-variacao>-</td></tr></tbody></table></div><div class=section-data__footer> <a href=https://istoe.com.br/cotacoes/usd>Veja a tabela completa >></a></div></section><section class=section-data><div class=section-data__head><div class=section-data__head__label>Bovespa</div><div class=section-data__head__info> <span id=bovespa-variation>-</span> <span id=bovespa-data>-</span></div></div></section><section class=section-data><div class=section-data__head><div class=section-data__head__label>Selic</div><div class=section-data__head__info> <span id=selic-data>-</span> <span id=selic-formattedDate>-</span></div></div></section></div> <script>var isDevMode=false;var jsonData=JSON.parse(atob(\"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\"));console.log(\"Dados originais:\",jsonData);const lastDataPoint=jsonData.data[jsonData.data.length-1];const lastUpdateHour=lastDataPoint.hour;const lastUpdateMinute=lastDataPoint.minute;const lastUpdateDay=lastDataPoint.day;const formattedDate=lastUpdateDay.split(\\'-\\').reverse().join(\\'/\\');document.getElementById(\\'lastUpdateTime\\').textContent=`${formattedDate} - ${lastUpdateHour}h${lastUpdateMinute}`;function displayNewFinancialData(data){console.log(\\'Dados recebidos para exibição:\\',data);let dolarComercialCompra=data.currencies.USD.buy;let dolarComercialVariacao=data.currencies.USD.variation;const dolarComercialCompraStr=dolarComercialCompra.toString().replace(\\'.\\',\\',\\');const dolarComercialVariacaoStr=dolarComercialVariacao>0?`+${dolarComercialVariacao.toFixed(2)}%`:`${dolarComercialVariacao.toFixed(2)}%`;const dolarComercialStatus=dolarComercialVariacao>0?\\'positive-value\\':\\'negative-value\\';document.getElementById(\\'dolar-comercial-compra\\').innerText=dolarComercialCompraStr;document.getElementById(\\'dolar-comercial-venda\\').innerText=dolarComercialCompraStr;document.getElementById(\\'dolar-comercial-variacao\\').innerHTML=`<span class=${dolarComercialStatus}>${dolarComercialVariacaoStr}</span>`;let euroComercialCompra=data.currencies.EUR.buy;let euroComercialVariacao=data.currencies.EUR.variation;const euroComercialCompraStr=euroComercialCompra.toString().replace(\\'.\\',\\',\\');const euroComercialVariacaoStr=euroComercialVariacao>0?`+${euroComercialVariacao.toFixed(2)}%`:`${euroComercialVariacao.toFixed(2)}%`;const euroComercialStatus=euroComercialVariacao>0?\\'positive-value\\':\\'negative-value\\';document.getElementById(\\'euro-comercial-compra\\').innerText=euroComercialCompraStr;document.getElementById(\\'euro-comercial-venda\\').innerText=euroComercialCompraStr;document.getElementById(\\'euro-comercial-variacao\\').innerHTML=`<span class=${euroComercialStatus}>${euroComercialVariacaoStr}</span>`;let bovespaVariation=data.stocks.IBOVESPA.variation;let bovespaData=data.stocks.IBOVESPA.points;const formattedBovespaData=formatNumber(bovespaData);const bovespaStatus=bovespaVariation>0?\\'positive-value\\':\\'negative-value\\';document.getElementById(\\'bovespa-variation\\').innerText=`${bovespaVariation}%`;document.getElementById(\\'bovespa-data\\').innerText=`${formattedBovespaData}pts`;document.getElementById(\\'bovespa-variation\\').classList.add(bovespaStatus);let selicData=data.taxes[0].selic;let rawDate=data.taxes[0].date;let formattedDate=rawDate.split(\\'-\\').reverse().join(\\'/\\');const selicStatus=selicData>0?\\'positive-value\\':\\'negative-value\\';document.getElementById(\\'selic-data\\').innerText=selicData;document.getElementById(\\'selic-formattedDate\\').innerText=formattedDate;document.getElementById(\\'selic-data\\').classList.add(selicStatus);}\\nfetch(\\'https://istoe.com.br/respFinanse2.php?moeda=resultApi\\').then(response=>response.json()).then(data=>{console.log(\\'Dados recebidos da API:\\',data);displayNewFinancialData(data);}).catch(err=>console.log(\\'Problema ao buscar dados financeiros:\\',err));function formatNumber(num){const parts=num.toString().split(\\'.\\');parts[0]=parts[0].replace(/\\\\B(?=(\\\\d{3})+(?!\\\\d))/g,\\'.\\');return parts.join(\\',\\');}</script> </div></aside><section data-hb-type=ads name=adsSidebar data-hb-position=sidebar data-hb-provider=Google data-gjs-draggable=.sidebar><div id=half class=banner_arroba style=\"margin-top:0px !important;\"></div></section></section></div></div><section style=\"padding-bottom: 1rem;\" data-hb-type=ads data-hb-position=body3 name=adsBody2 data-hb-provider=Google data-gjs-draggable=.main><div id=top3 class=banner_super></div></section></section><section id=bloco-3-coluna class=bloco-home-box><div class=general data-gjs-selectable=false data-gjs-hoverable=false><div class=box-content data-gjs-selectable=false data-gjs-hoverable=false><main class=main data-gjs-selectable=false data-gjs-hoverable=false><div class=widget-container><section name=quatro-blocos-noticias-img class=quatro-blocos-noticias-img data-hb-slug=list data-hb-type=general data-gjs-draggable=.main><div data-gjs-selectable=false data-gjs-hoverable=false class=bloco-cabecalho><header data-gjs-selectable=false data-gjs-hoverable=false><hr data-gjs-selectable=false data-gjs-hoverable=false> <a data-gjs-selectable=false data-gjs-hoverable=false><h1 data-gjs-selectable=\"false\" data-gjs-hoverable=\"false\">EM ALTA</h1> </a></header></div><div data-gjs-selectable=false data-gjs-hoverable=false class=bloco-noticias><div data-gjs-selectable=false data-gjs-hoverable=false class=bloco-noticia-box><div class=bloco-destaque-principal><article name=ArticleFourImage data-hb-model=1 data-hb-type=dynamic class=destaque-principal> <a data-gjs-selectable=false data-gjs-hoverable=false href=https://istoedinheiro.com.br/quais-sao-os-bairros-mais-caros-de-sp-para-morar-de-aluguel-veja-ranking/ class=bloco-link-noticia><div data-gjs-selectable=false data-gjs-hoverable=false class=bloco-wrapper-imagem> <img class=lazy data-gjs-selectable=false data-gjs-hoverable=false src=\"data:image/svg+xml,%3Csvg%20xmlns=\\'http://www.w3.org/2000/svg\\'%20viewBox=\\'0%200%20641%20360\\'%3E%3C/svg%3E\" data-src=https://istoedinheiro.com.br/wp-content/uploads/sites/17/2024/03/sp-e1710304721996.jpg?x46096 alt></div> <span data-gjs-selectable=false data-gjs-hoverable=false class=bloco-datatime></span><h1 data-gjs-selectable=\"false\" data-gjs-hoverable=\"false\"> Quais são os bairros mais caros de SP para morar de aluguel? Veja ranking</h1></a></article></div></div><div data-gjs-selectable=false data-gjs-hoverable=false class=bloco-noticia-box><div class=bloco-destaque-principal><article name=ArticleFourImage data-hb-model=1 data-hb-type=dynamic class=destaque-principal> <a data-gjs-selectable=false data-gjs-hoverable=false href=https://istoedinheiro.com.br/o-que-e-o-combustivel-do-futuro-aprovado-pela-camara-dos-deputados/ class=bloco-link-noticia><div data-gjs-selectable=false data-gjs-hoverable=false class=bloco-wrapper-imagem> <img class=lazy data-gjs-selectable=false data-gjs-hoverable=false src=\"data:image/svg+xml,%3Csvg%20xmlns=\\'http://www.w3.org/2000/svg\\'%20viewBox=\\'0%200%20768%20512\\'%3E%3C/svg%3E\" data-src=https://istoedinheiro.com.br/wp-content/uploads/sites/17/2018/01/fef13c49d1ddd8d512cca6bcb48db777e63f99d1.jpg?x46096 alt=\"O que é o &#8216;combustível do futuro&#8217;, aprovado pela Câmara dos Deputados\"></div> <span data-gjs-selectable=false data-gjs-hoverable=false class=bloco-datatime></span><h1 data-gjs-selectable=\"false\" data-gjs-hoverable=\"false\"> O que é o ‘combustível do futuro’, aprovado pela Câmara dos Deputados</h1></a></article></div></div><div data-gjs-selectable=false data-gjs-hoverable=false class=bloco-noticia-box><div class=bloco-destaque-principal><article name=ArticleFourImage data-hb-model=1 data-hb-type=dynamic class=destaque-principal> <a data-gjs-selectable=false data-gjs-hoverable=false href=https://istoedinheiro.com.br/67-milhoes-de-empresas-comecaram-o-ano-inadimplentes-aponta-serasa/ class=bloco-link-noticia><div data-gjs-selectable=false data-gjs-hoverable=false class=bloco-wrapper-imagem> <img class=lazy data-gjs-selectable=false data-gjs-hoverable=false src=\"data:image/svg+xml,%3Csvg%20xmlns=\\'http://www.w3.org/2000/svg\\'%20viewBox=\\'0%200%20812%20540\\'%3E%3C/svg%3E\" data-src=https://istoedinheiro.com.br/wp-content/uploads/sites/17/2023/12/economia-foto-cecilia-bastos-3-812x540-1.jpeg?x46096 alt=\"6,7 milhões de empresas começaram o ano inadimplentes, aponta Serasa\"></div> <span data-gjs-selectable=false data-gjs-hoverable=false class=bloco-datatime></span><h1 data-gjs-selectable=\"false\" data-gjs-hoverable=\"false\"> 6,7 milhões de empresas começaram o ano inadimplentes, aponta Serasa</h1></a></article></div></div><div data-gjs-selectable=false data-gjs-hoverable=false class=bloco-noticia-box><div class=bloco-destaque-principal><article name=ArticleFourImage data-hb-model=1 data-hb-type=dynamic class=destaque-principal> <a data-gjs-selectable=false data-gjs-hoverable=false href=https://istoedinheiro.com.br/boletos-poderao-ser-compensados-no-mesmo-dia-a-partir-de-sexta-feira-entenda/ class=bloco-link-noticia><div data-gjs-selectable=false data-gjs-hoverable=false class=bloco-wrapper-imagem> <img class=lazy data-gjs-selectable=false data-gjs-hoverable=false src=\"data:image/svg+xml,%3Csvg%20xmlns=\\'http://www.w3.org/2000/svg\\'%20viewBox=\\'0%200%20812%20540\\'%3E%3C/svg%3E\" data-src=https://istoedinheiro.com.br/wp-content/uploads/sites/17/2024/03/economia-foto-cecilia-bastos-2-812x540-1.jpg?x46096 alt=\"Boletos poderão ser compensados no mesmo dia a partir de sexta-feira; entenda\"></div> <span data-gjs-selectable=false data-gjs-hoverable=false class=bloco-datatime></span><h1 data-gjs-selectable=\"false\" data-gjs-hoverable=\"false\"> Boletos poderão ser compensados no mesmo dia; entenda</h1></a></article></div></div></div><div data-gjs-selectable=false data-gjs-hoverable=false class=separador-bloco></div></section></div><div class=widget-container><section name=tres-blocos-noticias-img class=tres-blocos-noticias-img data-hb-slug=list data-hb-type=general data-gjs-draggable=.main><div data-gjs-selectable=false data-gjs-hoverable=false class=bloco-cabecalho><header data-gjs-selectable=false data-gjs-hoverable=false><hr data-gjs-selectable=false data-gjs-hoverable=false> <a data-gjs-selectable=false data-gjs-hoverable=false><h1 data-gjs-selectable=\"false\" data-gjs-hoverable=\"false\">NEGÓCIOS</h1> </a></header></div><div data-gjs-selectable=false data-gjs-hoverable=false class=bloco-noticias><div data-gjs-selectable=false data-gjs-hoverable=false class=bloco-noticia-box><div class=bloco-destaque-principal><article name=ArticleThreeImage data-hb-model=1 data-hb-type=dynamic class=destaque-principal><a data-gjs-selectable=false data-gjs-hoverable=false href=\" https://istoedinheiro.com.br/eletrobras-reverte-prejuizo-e-registra-lucro-liquido-de-r-893-milhoes-no-4o-trimestre/\" class=bloco-link-noticia><div data-gjs-selectable=false data-gjs-hoverable=false class=bloco-wrapper-imagem> <img class=lazy data-gjs-selectable=false data-gjs-hoverable=false src=\"data:image/svg+xml,%3Csvg%20xmlns=\\'http://www.w3.org/2000/svg\\'%20viewBox=\\'0%200%201170%20700\\'%3E%3C/svg%3E\" data-src=https://istoedinheiro.com.br/wp-content/uploads/sites/17/2023/08/eletrobras.jpg?x46096 alt=\"Eletrobras reverte prejuízo e registra lucro líquido de R$ 893 milhões no 4º trimestre\"></div> <span data-gjs-selectable=false data-gjs-hoverable=false class=bloco-datatime></span><h1 data-gjs-selectable=\"false\" data-gjs-hoverable=\"false\"> Eletrobras reverte prejuízo e registra lucro líquido de R$ 893 milhões no 4º trimestre</h1></a></article></div></div><div data-gjs-selectable=false data-gjs-hoverable=false class=bloco-noticia-box><div class=bloco-destaque-principal><article name=ArticleThreeImage data-hb-model=1 data-hb-type=dynamic class=destaque-principal><a data-gjs-selectable=false data-gjs-hoverable=false href=\" https://istoedinheiro.com.br/governo-propoe-tac-a-hurb-mas-mantem-suspensos-pacotes-flexiveis-ate-assinatura-de-acordo/\" class=bloco-link-noticia><div data-gjs-selectable=false data-gjs-hoverable=false class=bloco-wrapper-imagem> <img class=lazy data-gjs-selectable=false data-gjs-hoverable=false src=\"data:image/svg+xml,%3Csvg%20xmlns=\\'http://www.w3.org/2000/svg\\'%20viewBox=\\'0%200%201000%20626\\'%3E%3C/svg%3E\" data-src=https://istoedinheiro.com.br/wp-content/uploads/sites/17/2023/06/hurb.jpeg?x46096 alt=\"Governo propõe TAC à Hurb, mas mantém suspensos pacotes flexíveis até assinatura de acordo\"></div> <span data-gjs-selectable=false data-gjs-hoverable=false class=bloco-datatime></span><h1 data-gjs-selectable=\"false\" data-gjs-hoverable=\"false\"> Governo propõe TAC à Hurb, mas mantém suspensos pacotes flexíveis até assinatura de acordo</h1></a></article></div></div><div data-gjs-selectable=false data-gjs-hoverable=false class=bloco-noticia-box><div class=bloco-destaque-principal><article name=ArticleThreeImage data-hb-model=1 data-hb-type=dynamic class=destaque-principal><a data-gjs-selectable=false data-gjs-hoverable=false href=\" https://istoedinheiro.com.br/subway-pede-recuperacao-judicial-no-brasil-dividas-chegam-a-r-482-milhoes/\" class=bloco-link-noticia><div data-gjs-selectable=false data-gjs-hoverable=false class=bloco-wrapper-imagem> <img class=lazy data-gjs-selectable=false data-gjs-hoverable=false src=\"data:image/svg+xml,%3Csvg%20xmlns=\\'http://www.w3.org/2000/svg\\'%20viewBox=\\'0%200%20900%20600\\'%3E%3C/svg%3E\" data-src=https://istoedinheiro.com.br/wp-content/uploads/sites/17/2024/03/subway.jpg?x46096 alt=\"Subway pede recuperação judicial no Brasil; dívidas chegam a R$ 482 milhões\"></div> <span data-gjs-selectable=false data-gjs-hoverable=false class=bloco-datatime></span><h1 data-gjs-selectable=\"false\" data-gjs-hoverable=\"false\"> Subway pede recuperação judicial no Brasil; dívidas chegam a R$ 482 milhões</h1></a></article></div></div></div><div data-gjs-selectable=false data-gjs-hoverable=false class=separador-bloco></div></section></div><div class=widget-container><section name=quatro-blocos-noticias-img class=quatro-blocos-noticias-img data-hb-slug=list data-hb-type=general data-gjs-draggable=.main><div data-gjs-selectable=false data-gjs-hoverable=false class=\"bloco-cabecalho displayNoneTres\" style=\"display: none;\"><header data-gjs-selectable=false data-gjs-hoverable=false><hr data-gjs-selectable=false data-gjs-hoverable=false> <a data-gjs-selectable=false data-gjs-hoverable=false><h1 data-gjs-selectable=\"false\" data-gjs-hoverable=\"false\"></h1> </a></header></div><div data-gjs-selectable=false data-gjs-hoverable=false class=bloco-noticias><div data-gjs-selectable=false data-gjs-hoverable=false class=bloco-noticia-box><div class=bloco-destaque-principal><article name=ArticleFourImage data-hb-model=1 data-hb-type=dynamic class=destaque-principal> <a data-gjs-selectable=false data-gjs-hoverable=false href=https://istoedinheiro.com.br/lembra-dela-aiwa-volta-ao-brasil-e-tera-produtos-vendidos-na-polishop/ class=bloco-link-noticia><div data-gjs-selectable=false data-gjs-hoverable=false class=bloco-wrapper-imagem> <img class=lazy data-gjs-selectable=false data-gjs-hoverable=false src=\"data:image/svg+xml,%3Csvg%20xmlns=\\'http://www.w3.org/2000/svg\\'%20viewBox=\\'0%200%201201%201010\\'%3E%3C/svg%3E\" data-src=https://istoedinheiro.com.br/wp-content/uploads/sites/17/2024/03/aiwapolishop.jpg?x46096 alt></div> <span data-gjs-selectable=false data-gjs-hoverable=false class=bloco-datatime></span><h1 data-gjs-selectable=\"false\" data-gjs-hoverable=\"false\"> Lembra dela? Aiwa volta ao Brasil e terá produtos vendidos na Polishop</h1></a></article></div></div><div data-gjs-selectable=false data-gjs-hoverable=false class=bloco-noticia-box><div class=bloco-destaque-principal><article name=ArticleFourImage data-hb-model=1 data-hb-type=dynamic class=destaque-principal> <a data-gjs-selectable=false data-gjs-hoverable=false href=https://istoedinheiro.com.br/vale-responde-carta-de-renuncia-de-conselheiro-e-diz-que-escolha-de-ceo-segue-estatuto/ class=bloco-link-noticia><div data-gjs-selectable=false data-gjs-hoverable=false class=bloco-wrapper-imagem> <img class=lazy data-gjs-selectable=false data-gjs-hoverable=false src=\"data:image/svg+xml,%3Csvg%20xmlns=\\'http://www.w3.org/2000/svg\\'%20viewBox=\\'0%200%20962%20527\\'%3E%3C/svg%3E\" data-src=https://istoedinheiro.com.br/wp-content/uploads/sites/17/2024/01/vale.jpg?x46096 alt=\"Vale responde carta de renúncia de conselheiro e diz que escolha de CEO segue estatuto\"></div> <span data-gjs-selectable=false data-gjs-hoverable=false class=bloco-datatime></span><h1 data-gjs-selectable=\"false\" data-gjs-hoverable=\"false\"> Vale diz que escolha de CEO segue estatuto</h1></a></article></div></div><div data-gjs-selectable=false data-gjs-hoverable=false class=bloco-noticia-box><div class=bloco-destaque-principal><article name=ArticleFourImage data-hb-model=1 data-hb-type=dynamic class=destaque-principal> <a data-gjs-selectable=false data-gjs-hoverable=false href=https://istoedinheiro.com.br/adidas-regista-primeiro-prejuizo-em-30-anos/ class=bloco-link-noticia><div data-gjs-selectable=false data-gjs-hoverable=false class=bloco-wrapper-imagem> <img class=lazy data-gjs-selectable=false data-gjs-hoverable=false src=\"data:image/svg+xml,%3Csvg%20xmlns=\\'http://www.w3.org/2000/svg\\'%20viewBox=\\'0%200%201250%20713\\'%3E%3C/svg%3E\" data-src=https://istoedinheiro.com.br/wp-content/uploads/sites/17/2024/03/adidas000.jpg?x46096 alt=\"Adidas regista primeiro prejuízo em 30 anos\"></div> <span data-gjs-selectable=false data-gjs-hoverable=false class=bloco-datatime></span><h1 data-gjs-selectable=\"false\" data-gjs-hoverable=\"false\"> Adidas regista primeiro prejuízo em 30 anos</h1></a></article></div></div><div data-gjs-selectable=false data-gjs-hoverable=false class=bloco-noticia-box><div class=bloco-destaque-principal><article name=ArticleFourImage data-hb-model=1 data-hb-type=dynamic class=destaque-principal> <a data-gjs-selectable=false data-gjs-hoverable=false href=https://istoedinheiro.com.br/ex-secretario-do-tesouro-dos-eua-tenta-formar-grupo-de-investidores-para-comprar-tiktok-2/ class=bloco-link-noticia><div data-gjs-selectable=false data-gjs-hoverable=false class=bloco-wrapper-imagem> <img class=lazy data-gjs-selectable=false data-gjs-hoverable=false src=\"data:image/svg+xml,%3Csvg%20xmlns=\\'http://www.w3.org/2000/svg\\'%20viewBox=\\'0%200%201%201\\'%3E%3C/svg%3E\" data-src=\"https://istoedinheiro.com.br/wp-content/uploads/sites/17/Reuters_Direct_Media/BrazilOnlineReportTechnologyNews/tagreuters.com2023binary_LYNXMPEJ2J0W8-BASEIMAGE.jpg \" alt=\"Adidas regista primeiro prejuízo em 30 anos\"></div><span data-gjs-selectable=false data-gjs-hoverable=false class=bloco-datatime></span><h1 data-gjs-selectable=\"false\" data-gjs-hoverable=\"false\"> Ex-secretário do Tesouro dos EUA tenta formar grupo de investidores para comprar TikTok</h1></a></article></div></div></div><div data-gjs-selectable=false data-gjs-hoverable=false class=separador-bloco></div></section></div><div class=widget-container><section class=blocoChamadaUnica name=blocoChamadaUnica data-hb-slug=list data-hb-type=general data-gjs-draggable=.main><div data-gjs-selectable=false data-gjs-hoverable=false class=bloco-cabecalho><header data-gjs-selectable=false data-gjs-hoverable=false><hr data-gjs-selectable=false data-gjs-hoverable=false> <a data-gjs-selectable=false data-gjs-hoverable=false><h1 data-gjs-selectable=\"false\" data-gjs-hoverable=\"false\">TECNOLOGIA</h1> </a></header></div><div class=bloco-noticias><div class=bloco-noticias-secundarias><div class=\"bloco-destaque-principal bloco-noticias-area\" data-gjs-selectable=false data-gjs-hoverable=false><article data-hb-model=9 data-hb-type=dynamic name=ArticleNewSingle class=newsWithImage> <a data-gjs-selectable=false data-gjs-hoverable=false href=\" https://istoedinheiro.com.br/o-que-e-a-bytedance-matriz-do-tiktok-na-mira-dos-eua/\" class=bloco-link-noticia><div data-gjs-selectable=false data-gjs-hoverable=false class=bloco-wrapper-imagem> <img class=lazy data-gjs-selectable=false data-gjs-hoverable=false src=\"data:image/svg+xml,%3Csvg%20xmlns=\\'http://www.w3.org/2000/svg\\'%20viewBox=\\'0%200%201%201\\'%3E%3C/svg%3E\" data-src=\"https://istoedinheiro.com.br/wp-content/uploads/sites/17/2024/01/c321e3338ad241283b9b03906769b21874728219.jpg \" alt></div><span data-gjs-selectable=false data-gjs-hoverable=false class=bloco-datatime></span><h1 data-gjs-selectable=\"false\" data-gjs-hoverable=\"false\" style=\"-webkit-box-orient: vertical !important;\"> O que é a ByteDance, matriz do TikTok na mira dos EUA?</h1></a></article></div></div><div class=bloco-noticias-relacionadas><ul class=bloco-noticias-relacionadas-ul></ul></div><div data-gjs-selectable=false data-gjs-hoverable=false class=separador-bloco></div></div></section></div><div class=widget-container><section class=blocoChamadaUnica name=blocoChamadaUnica data-hb-slug=list data-hb-type=general data-gjs-draggable=.main><div data-gjs-selectable=false data-gjs-hoverable=false class=bloco-cabecalho><header data-gjs-selectable=false data-gjs-hoverable=false><hr data-gjs-selectable=false data-gjs-hoverable=false> <a data-gjs-selectable=false data-gjs-hoverable=false><h1 data-gjs-selectable=\"false\" data-gjs-hoverable=\"false\">IMPOSTO DE RENDA</h1> </a></header></div><div class=bloco-noticias><div class=bloco-noticias-secundarias><div class=\"bloco-destaque-principal bloco-noticias-area\" data-gjs-selectable=false data-gjs-hoverable=false><article data-hb-model=9 data-hb-type=dynamic name=ArticleNewSingle class=newsWithImage> <a data-gjs-selectable=false data-gjs-hoverable=false href=\" https://istoedinheiro.com.br/imposto-de-renda-2024-dicas-evitar-malha-fina/\" class=bloco-link-noticia><div data-gjs-selectable=false data-gjs-hoverable=false class=bloco-wrapper-imagem> <img class=lazy data-gjs-selectable=false data-gjs-hoverable=false src=\"data:image/svg+xml,%3Csvg%20xmlns=\\'http://www.w3.org/2000/svg\\'%20viewBox=\\'0%200%20615%20410\\'%3E%3C/svg%3E\" data-src=https://istoedinheiro.com.br/wp-content/uploads/sites/17/2024/03/rf.jpg?x46096 alt=\"Imposto de Renda 2024: veja erros mais comuns e dicas para não cair na malha fina\"></div><span data-gjs-selectable=false data-gjs-hoverable=false class=bloco-datatime></span><h1 data-gjs-selectable=\"false\" data-gjs-hoverable=\"false\" style=\"-webkit-box-orient: vertical !important;\"> Imposto de Renda 2024: veja erros mais comuns e dicas para não cair na malha fina</h1></a></article></div></div><div class=bloco-noticias-relacionadas><ul class=bloco-noticias-relacionadas-ul></ul></div><div data-gjs-selectable=false data-gjs-hoverable=false class=separador-bloco></div></div></section></div><div class=widget-container><section class=blocoChamadaUnica name=blocoChamadaUnica data-hb-slug=list data-hb-type=general data-gjs-draggable=.main><div data-gjs-selectable=false data-gjs-hoverable=false class=bloco-cabecalho><header data-gjs-selectable=false data-gjs-hoverable=false><hr data-gjs-selectable=false data-gjs-hoverable=false> <a data-gjs-selectable=false data-gjs-hoverable=false><h1 data-gjs-selectable=\"false\" data-gjs-hoverable=\"false\">CARREIRA</h1> </a></header></div><div class=bloco-noticias><div class=bloco-noticias-secundarias><div class=\"bloco-destaque-principal bloco-noticias-area\" data-gjs-selectable=false data-gjs-hoverable=false><article data-hb-model=9 data-hb-type=dynamic name=ArticleNewSingle class=newsWithImage> <a data-gjs-selectable=false data-gjs-hoverable=false href=\" https://istoedinheiro.com.br/raia-drogasil-abre-420-vagas-de-trabalho/\" class=bloco-link-noticia><div data-gjs-selectable=false data-gjs-hoverable=false class=bloco-wrapper-imagem> <img class=lazy data-gjs-selectable=false data-gjs-hoverable=false src=\"data:image/svg+xml,%3Csvg%20xmlns=\\'http://www.w3.org/2000/svg\\'%20viewBox=\\'0%200%202560%201257\\'%3E%3C/svg%3E\" data-src=https://istoedinheiro.com.br/wp-content/uploads/sites/17/2024/03/fachadas-raia-e-drogasil-scaled-1.jpg?x46096 alt=\"Raia Drogasil abre 420 vagas de trabalho em MT, Rio e São Paulo; veja como se inscrever\"></div><span data-gjs-selectable=false data-gjs-hoverable=false class=bloco-datatime></span><h1 data-gjs-selectable=\"false\" data-gjs-hoverable=\"false\" style=\"-webkit-box-orient: vertical !important;\"> Raia Drogasil abre 420 vagas de trabalho em MT, Rio e São Paulo</h1></a></article></div></div><div class=bloco-noticias-relacionadas><ul class=bloco-noticias-relacionadas-ul></ul></div><div data-gjs-selectable=false data-gjs-hoverable=false class=separador-bloco></div></div></section></div><div class=widget-container><section name=blocoChamadaUnica class=dois-blocos-noticias data-hb-slug=list data-hb-type=general data-gjs-draggable=.main><div data-gjs-selectable=false data-gjs-hoverable=false class=\"bloco-cabecalho displayNoneTres\" style=\"display: none;\"><header data-gjs-selectable=false data-gjs-hoverable=false><hr data-gjs-selectable=false data-gjs-hoverable=false> <a data-gjs-selectable=false data-gjs-hoverable=false><h1 data-gjs-selectable=\"false\" data-gjs-hoverable=\"false\">CARREIRA</h1> </a></header></div><div data-gjs-selectable=false data-gjs-hoverable=false class=bloco-noticias><div data-gjs-selectable=false data-gjs-hoverable=false class=bloco-noticia-box><div class=bloco-destaque-principal data-gjs-selectable=false data-gjs-hoverable=false><article name=ArticleNewSingle data-hb-model=1 data-hb-type=dynamic class=destaque-principal> <a data-gjs-selectable=false data-gjs-hoverable=false href=https://istoedinheiro.com.br/como-vai-funcionar-o-programa-do-ciee-com-5-mil-vagas-de-jovem-aprendiz/  class=bloco-link-noticia><div data-gjs-selectable=false data-gjs-hoverable=false class=bloco-wrapper-imagem> <img class=lazy data-gjs-selectable=false data-gjs-hoverable=false src=\"data:image/svg+xml,%3Csvg%20xmlns=\\'http://www.w3.org/2000/svg\\'%20viewBox=\\'0%200%201294%20868\\'%3E%3C/svg%3E\" data-src=https://istoedinheiro.com.br/wp-content/uploads/sites/17/2024/03/jovemaprendiz.jpg?x46096 alt=\"Como vai funcionar o programa do CIEE com 5 mil vagas de jovem aprendiz\"></div> <span data-gjs-selectable=false data-gjs-hoverable=false class=bloco-datatime></span><h1 data-gjs-selectable=\"false\" data-gjs-hoverable=\"false\"> Como vai funcionar o programa do CIEE com 5 mil vagas de jovem aprendiz</h1></a></article></div><div class=bloco-noticias-relacionadas data-gjs-selectable=false data-gjs-hoverable=false><ul class=bloco-noticias-relacionadas-ul data-gjs-selectable=false data-gjs-hoverable=false></ul></div></div><div data-gjs-selectable=false data-gjs-hoverable=false class=bloco-noticia-box><div class=bloco-destaque-principal data-gjs-selectable=false data-gjs-hoverable=false><article name=ArticleNewSingle data-hb-model=1 data-hb-type=dynamic class=destaque-principal> <a data-gjs-selectable=false data-gjs-hoverable=false href=https://istoedinheiro.com.br/ambev-oferece-3-mil-bolsas-de-estudos-de-conhecimento-cervejeiro-a-mulheres/  class=bloco-link-noticia><div data-gjs-selectable=false data-gjs-hoverable=false class=bloco-wrapper-imagem> <img class=lazy data-gjs-selectable=false data-gjs-hoverable=false src=\"data:image/svg+xml,%3Csvg%20xmlns=\\'http://www.w3.org/2000/svg\\'%20viewBox=\\'0%200%20800%20533\\'%3E%3C/svg%3E\" data-src=https://istoedinheiro.com.br/wp-content/uploads/sites/17/2024/03/unnamed-11.jpg?x46096 alt=\"Ambev oferece 3 mil bolsas de estudos de conhecimento cervejeiro a mulheres\"></div> <span data-gjs-selectable=false data-gjs-hoverable=false class=bloco-datatime></span><h1 data-gjs-selectable=\"false\" data-gjs-hoverable=\"false\"> Ambev oferece 3 mil bolsas de estudos de conhecimento cervejeiro a mulheres</h1></a></article></div><div class=bloco-noticias-relacionadas data-gjs-selectable=false data-gjs-hoverable=false><ul class=bloco-noticias-relacionadas-ul data-gjs-selectable=false data-gjs-hoverable=false></ul></div></div></div><div data-gjs-selectable=false data-gjs-hoverable=false class=separador-bloco></div></section></div><div class=widget-container><section class=blocoChamadaUnica name=blocoChamadaUnica data-hb-slug=list data-hb-type=general data-gjs-draggable=.main><div data-gjs-selectable=false data-gjs-hoverable=false class=bloco-cabecalho><header data-gjs-selectable=false data-gjs-hoverable=false><hr data-gjs-selectable=false data-gjs-hoverable=false> <a data-gjs-selectable=false data-gjs-hoverable=false><h1 data-gjs-selectable=\"false\" data-gjs-hoverable=\"false\">FINTECH</h1> </a></header></div><div class=bloco-noticias><div class=bloco-noticias-secundarias><div class=\"bloco-destaque-principal bloco-noticias-area\" data-gjs-selectable=false data-gjs-hoverable=false><article data-hb-model=9 data-hb-type=dynamic name=ArticleNewSingle class=newsWithImage> <a data-gjs-selectable=false data-gjs-hoverable=false href=\" https://istoedinheiro.com.br/conheca-o-buscador-de-emprestimo-istoe-dinheiro-juca-e-veja-quanto-de-credito-voce-tem-pre-aprovado/\" class=bloco-link-noticia><div data-gjs-selectable=false data-gjs-hoverable=false class=bloco-wrapper-imagem> <img class=lazy data-gjs-selectable=false data-gjs-hoverable=false src=\"data:image/svg+xml,%3Csvg%20xmlns=\\'http://www.w3.org/2000/svg\\'%20viewBox=\\'0%200%20612%20344\\'%3E%3C/svg%3E\" data-src=https://istoedinheiro.com.br/wp-content/uploads/sites/17/2022/01/istockphoto-1170816482-612x612-1-e1641817211550.jpg?x46096 alt=\"Conheça o buscador de empréstimo IstoÉ Dinheiro/Juca e veja quanto de crédito você tem pré-aprovado\"></div><span data-gjs-selectable=false data-gjs-hoverable=false class=bloco-datatime></span><h1 data-gjs-selectable=\"false\" data-gjs-hoverable=\"false\" style=\"-webkit-box-orient: vertical !important;\"> Conheça o buscador de empréstimo IstoÉ Dinheiro/Juca</h1></a></article></div></div><div class=bloco-noticias-relacionadas><ul class=bloco-noticias-relacionadas-ul></ul></div><div data-gjs-selectable=false data-gjs-hoverable=false class=separador-bloco></div></div></section></div></main></div><div class=container-aside data-gjs-selectable=false data-gjs-hoverable=false><section data-gjs-type=default data-hb-slug=list data-hb-type=general data-highlightable=1 draggable=false id=i27hfw><aside class=sidebar data-gjs-selectable=false data-gjs-hoverable=false><div class=widget-container><div class=textwidget></div></div><div class=widget-container><section class=blocoChamadaUnica_sidebar name=blocoChamadaUnicaSidebar data-hb-slug=list data-hb-type=general data-gjs-draggable=.main><div class=bloco-noticias><div class=bloco-noticias-secundarias><div class=\"bloco-destaque-principal bloco-noticias-area\" data-gjs-selectable=false data-gjs-hoverable=false><article data-hb-model=1 data-hb-type=dynamic name=ArticleNewSingle class=newsWithImage> <a data-gjs-selectable=false data-gjs-hoverable=false href=\" \" class=bloco-link-noticia><span data-gjs-selectable=false data-gjs-hoverable=false class=bloco-datatime></span><h1 data-gjs-selectable=\"false\" data-gjs-hoverable=\"false\" style=\"-webkit-box-orient: vertical !important;\"></h1></a></article></div></div><div data-gjs-selectable=false data-gjs-hoverable=false class=separador-bloco></div></div></section></div></aside></section></div></div><section style=\"padding-bottom: 1rem;\" data-hb-type=ads data-hb-position=body4 name=adsBody3 data-hb-provider=Google data-gjs-draggable=.main><div id=top4 class=banner_super></div></section></section><section id=bloco-4-coluna class=bloco-home-box><div class=general data-gjs-selectable=false data-gjs-hoverable=false><div class=\"area-destaque main\" data-gjs-selectable=false data-gjs-hoverable=false></div><div class=box-content data-gjs-selectable=false data-gjs-hoverable=false><main class=main data-gjs-selectable=false data-gjs-hoverable=false><div class=widget-container><section class=blocoChamadaUnica name=blocoChamadaUnica data-hb-slug=list data-hb-type=general data-gjs-draggable=.main><div data-gjs-selectable=false data-gjs-hoverable=false class=bloco-cabecalho><header data-gjs-selectable=false data-gjs-hoverable=false><hr data-gjs-selectable=false data-gjs-hoverable=false> <a data-gjs-selectable=false data-gjs-hoverable=false><h1 data-gjs-selectable=\"false\" data-gjs-hoverable=\"false\">CONTEÚDO DE MARCA</h1> </a></header></div><div class=bloco-noticias><div class=bloco-noticias-secundarias><div class=\"bloco-destaque-principal bloco-noticias-area\" data-gjs-selectable=false data-gjs-hoverable=false><article data-hb-model=9 data-hb-type=dynamic name=ArticleNewSingle class=newsWithImage> <a data-gjs-selectable=false data-gjs-hoverable=false href=\" \" class=bloco-link-noticia><span data-gjs-selectable=false data-gjs-hoverable=false class=bloco-datatime></span><h1 data-gjs-selectable=\"false\" data-gjs-hoverable=\"false\" style=\"-webkit-box-orient: vertical !important;\"></h1></a></article></div></div><div class=bloco-noticias-relacionadas><ul class=bloco-noticias-relacionadas-ul></ul></div><div data-gjs-selectable=false data-gjs-hoverable=false class=separador-bloco></div></div></section></div><div class=widget-container><section class=blocoChamadaUnica name=blocoChamadaUnica data-hb-slug=list data-hb-type=general data-gjs-draggable=.main><div data-gjs-selectable=false data-gjs-hoverable=false class=\"bloco-cabecalho displayNoneTres\" style=\"display: none;\"><header data-gjs-selectable=false data-gjs-hoverable=false><hr data-gjs-selectable=false data-gjs-hoverable=false> <a data-gjs-selectable=false data-gjs-hoverable=false href><h1 data-gjs-selectable=\"false\" data-gjs-hoverable=\"false\">CONTEÚDO DE MARCA</h1> </a></header></div><div class=bloco-noticias><div class=bloco-noticias-secundarias><div class=\"bloco-destaque-principal bloco-noticias-area\" data-gjs-selectable=false data-gjs-hoverable=false><article data-hb-model=9 data-hb-type=dynamic name=ArticleNewSingle class=newsWithImage> <a data-gjs-selectable=false data-gjs-hoverable=false href=\" https://istoedinheiro.com.br/o-papel-da-inteligencia-de-dados-na-eficiencia-sustentabilidade-e-seguranca-das-frotas/\" class=bloco-link-noticia><div data-gjs-selectable=false data-gjs-hoverable=false class=bloco-wrapper-imagem> <img class=lazy data-gjs-selectable=false data-gjs-hoverable=false src=\"data:image/svg+xml,%3Csvg%20xmlns=\\'http://www.w3.org/2000/svg\\'%20viewBox=\\'0%200%201424%20801\\'%3E%3C/svg%3E\" data-src=https://istoedinheiro.com.br/wp-content/uploads/sites/17/2023/12/abre-publi-da-geotab.jpg?x46096 alt=\"O papel da inteligência de dados na eficiência, sustentabilidade e segurança das frotas\"></div><span data-gjs-selectable=false data-gjs-hoverable=false class=bloco-datatime></span><h1 data-gjs-selectable=\"false\" data-gjs-hoverable=\"false\" style=\"-webkit-box-orient: vertical !important;\"> O papel da inteligência de dados na eficiência e segurança das frotas</h1></a></article></div></div><div class=bloco-noticias-relacionadas><ul class=bloco-noticias-relacionadas-ul></ul></div><div data-gjs-selectable=false data-gjs-hoverable=false class=separador-bloco></div></div></section></div><div class=widget-container><section class=blocoChamadaUnica name=blocoChamadaUnica data-hb-slug=list data-hb-type=general data-gjs-draggable=.main><div data-gjs-selectable=false data-gjs-hoverable=false class=\"bloco-cabecalho displayNoneTres\" style=\"display: none;\"><header data-gjs-selectable=false data-gjs-hoverable=false><hr data-gjs-selectable=false data-gjs-hoverable=false> <a data-gjs-selectable=false data-gjs-hoverable=false href><h1 data-gjs-selectable=\"false\" data-gjs-hoverable=\"false\">Conteúdo de marca</h1> </a></header></div><div class=bloco-noticias><div class=bloco-noticias-secundarias><div class=\"bloco-destaque-principal bloco-noticias-area\" data-gjs-selectable=false data-gjs-hoverable=false><article data-hb-model=9 data-hb-type=dynamic name=ArticleNewSingle class=newsWithImage> <a data-gjs-selectable=false data-gjs-hoverable=false href=\" https://istoedinheiro.com.br/dias-de-luta-fit-combustiveis-homenageia-frentistas-em-nova-campanha-com-rodrigo-minotauro/\" class=bloco-link-noticia><div data-gjs-selectable=false data-gjs-hoverable=false class=bloco-wrapper-imagem> <img class=lazy data-gjs-selectable=false data-gjs-hoverable=false src=\"data:image/svg+xml,%3Csvg%20xmlns=\\'http://www.w3.org/2000/svg\\'%20viewBox=\\'0%200%201776%20999\\'%3E%3C/svg%3E\" data-src=https://istoedinheiro.com.br/wp-content/uploads/sites/17/2023/11/rodrigo-minotauro-em-campanha-da-fit-combustiveis.jpg?x46096 alt=\"Dias de Luta: Fit Combustíveis homenageia frentistas em nova campanha com Rodrigo Minotauro\"></div><span data-gjs-selectable=false data-gjs-hoverable=false class=bloco-datatime></span><h1 data-gjs-selectable=\"false\" data-gjs-hoverable=\"false\" style=\"-webkit-box-orient: vertical !important;\"> Fit Combustíveis homenageia frentistas em nova campanha com Rodrigo Minotauro</h1></a></article></div></div><div class=bloco-noticias-relacionadas><ul class=bloco-noticias-relacionadas-ul></ul></div><div data-gjs-selectable=false data-gjs-hoverable=false class=separador-bloco></div></div></section></div><div class=widget-container><section class=blocoChamadaUnica name=blocoChamadaUnica data-hb-slug=list data-hb-type=general data-gjs-draggable=.main><div data-gjs-selectable=false data-gjs-hoverable=false class=\"bloco-cabecalho displayNoneTres\" style=\"display: none;\"><header data-gjs-selectable=false data-gjs-hoverable=false><hr data-gjs-selectable=false data-gjs-hoverable=false> <a data-gjs-selectable=false data-gjs-hoverable=false href><h1 data-gjs-selectable=\"false\" data-gjs-hoverable=\"false\">Conteúdo de marca</h1> </a></header></div><div class=bloco-noticias><div class=bloco-noticias-secundarias><div class=\"bloco-destaque-principal bloco-noticias-area\" data-gjs-selectable=false data-gjs-hoverable=false><article data-hb-model=9 data-hb-type=dynamic name=ArticleNewSingle class=newsWithImage> <a data-gjs-selectable=false data-gjs-hoverable=false href=\" https://istoedinheiro.com.br/na-balanca-do-esg-a-ti-e-o-que-mais-pesa/\" class=bloco-link-noticia><div data-gjs-selectable=false data-gjs-hoverable=false class=bloco-wrapper-imagem> <img class=lazy data-gjs-selectable=false data-gjs-hoverable=false src=\"data:image/svg+xml,%3Csvg%20xmlns=\\'http://www.w3.org/2000/svg\\'%20viewBox=\\'0%200%201423%20957\\'%3E%3C/svg%3E\" data-src=https://istoedinheiro.com.br/wp-content/uploads/sites/17/2023/09/foto-abre-publi-redhat-esg-e-ti-dinh-v2.jpg?x46096 alt=\"Na balança do ESG, a TI é o que mais pesa\"></div><span data-gjs-selectable=false data-gjs-hoverable=false class=bloco-datatime></span><h1 data-gjs-selectable=\"false\" data-gjs-hoverable=\"false\" style=\"-webkit-box-orient: vertical !important;\"> Na balança do ESG, a TI é o que mais pesa</h1></a></article></div></div><div class=bloco-noticias-relacionadas><ul class=bloco-noticias-relacionadas-ul></ul></div><div data-gjs-selectable=false data-gjs-hoverable=false class=separador-bloco></div></div></section></div><div class=widget-container><section class=blocoChamadaUnica name=blocoChamadaUnica data-hb-slug=list data-hb-type=general data-gjs-draggable=.main><div data-gjs-selectable=false data-gjs-hoverable=false class=\"bloco-cabecalho displayNoneTres\" style=\"display: none;\"><header data-gjs-selectable=false data-gjs-hoverable=false><hr data-gjs-selectable=false data-gjs-hoverable=false> <a data-gjs-selectable=false data-gjs-hoverable=false href><h1 data-gjs-selectable=\"false\" data-gjs-hoverable=\"false\"></h1> </a></header></div><div class=bloco-noticias><div class=bloco-noticias-secundarias><div class=\"bloco-destaque-principal bloco-noticias-area\" data-gjs-selectable=false data-gjs-hoverable=false><article data-hb-model=9 data-hb-type=dynamic name=ArticleNewSingle class=newsWithImage> <a data-gjs-selectable=false data-gjs-hoverable=false href=\" https://istoedinheiro.com.br/economia-circular-e-regenerativa-e-restaurativa/\" class=bloco-link-noticia><div data-gjs-selectable=false data-gjs-hoverable=false class=bloco-wrapper-imagem> <img class=lazy data-gjs-selectable=false data-gjs-hoverable=false src=\"data:image/svg+xml,%3Csvg%20xmlns=\\'http://www.w3.org/2000/svg\\'%20viewBox=\\'0%200%201158%20773\\'%3E%3C/svg%3E\" data-src=https://istoedinheiro.com.br/wp-content/uploads/sites/17/2023/08/02.jpg?x46096 alt=\"Economia circular é regenerativa  e restaurativa\"></div><span data-gjs-selectable=false data-gjs-hoverable=false class=bloco-datatime></span><h1 data-gjs-selectable=\"false\" data-gjs-hoverable=\"false\" style=\"-webkit-box-orient: vertical !important;\"> Economia circular é regenerativa  e restaurativa</h1></a></article></div></div><div class=bloco-noticias-relacionadas><ul class=bloco-noticias-relacionadas-ul></ul></div><div data-gjs-selectable=false data-gjs-hoverable=false class=separador-bloco></div></div></section></div><div class=widget-container><section class=blocoChamadaUnica name=blocoChamadaUnica data-hb-slug=list data-hb-type=general data-gjs-draggable=.main><div data-gjs-selectable=false data-gjs-hoverable=false class=\"bloco-cabecalho displayNoneTres\" style=\"display: none;\"><header data-gjs-selectable=false data-gjs-hoverable=false><hr data-gjs-selectable=false data-gjs-hoverable=false> <a data-gjs-selectable=false data-gjs-hoverable=false href><h1 data-gjs-selectable=\"false\" data-gjs-hoverable=\"false\"></h1> </a></header></div><div class=bloco-noticias><div class=bloco-noticias-secundarias><div class=\"bloco-destaque-principal bloco-noticias-area\" data-gjs-selectable=false data-gjs-hoverable=false><article data-hb-model=9 data-hb-type=dynamic name=ArticleNewSingle class=newsWithImage> <a data-gjs-selectable=false data-gjs-hoverable=false href=\" https://istoedinheiro.com.br/pesquisa-revela-o-impacto-do-mercado-pago-para-empresarios-e-negocios-brasileiros/\" class=bloco-link-noticia><div data-gjs-selectable=false data-gjs-hoverable=false class=bloco-wrapper-imagem> <img class=lazy data-gjs-selectable=false data-gjs-hoverable=false src=\"data:image/svg+xml,%3Csvg%20xmlns=\\'http://www.w3.org/2000/svg\\'%20viewBox=\\'0%200%201%201\\'%3E%3C/svg%3E\" data-src=\"https://istoedinheiro.com.br/wp-content/uploads/sites/17/2023/07/44.jpg \" alt></div><span data-gjs-selectable=false data-gjs-hoverable=false class=bloco-datatime></span><h1 data-gjs-selectable=\"false\" data-gjs-hoverable=\"false\" style=\"-webkit-box-orient: vertical !important;\"> Pesquisa revela o impacto do Mercado Pago para empresários e negócios brasileiros</h1></a></article></div></div><div class=bloco-noticias-relacionadas><ul class=bloco-noticias-relacionadas-ul></ul></div><div data-gjs-selectable=false data-gjs-hoverable=false class=separador-bloco></div></div></section></div></main></div><div class=container-aside data-gjs-selectable=false data-gjs-hoverable=false><section data-gjs-type=default data-hb-slug=list data-hb-type=general data-highlightable=1 draggable=false id=i27hfw><aside class=sidebar data-gjs-selectable=false data-gjs-hoverable=false></aside></section></div><section style=\"padding-bottom: 1rem;\" data-hb-type=ads data-hb-position=body5 name=adsBody4 data-hb-provider=Google data-gjs-draggable=.main><div id=top5 class=banner_super></div></section></div></section><section id=bloco-5-coluna class=bloco-home-box style=display:none;><div class=general data-gjs-selectable=false data-gjs-hoverable=false><div class=\"area-destaque main\" data-gjs-selectable=false data-gjs-hoverable=false></div><div class=box-content data-gjs-selectable=false data-gjs-hoverable=false><main class=main data-gjs-selectable=false data-gjs-hoverable=false></main></div><div class=container-aside data-gjs-selectable=false data-gjs-hoverable=false><section data-gjs-type=default data-hb-slug=list data-hb-type=general data-highlightable=1 draggable=false id=i27hfw><aside class=sidebar data-gjs-selectable=false data-gjs-hoverable=false></aside></section></div><div class=\"area-destaque main\" data-gjs-selectable=false data-gjs-hoverable=false><section style=\"padding-bottom: 1rem;\" data-hb-type=ads data-hb-position=body6 name=adsBody5 data-hb-provider=Google data-gjs-draggable=.main><div id=top6 class=banner_super></div></section></div></div></section><section id=bloco-6-coluna class=bloco-home-box style=display:none;><div class=general data-gjs-selectable=false data-gjs-hoverable=false><div class=\"area-destaque main\" data-gjs-selectable=false data-gjs-hoverable=false></div><div class=box-content data-gjs-selectable=false data-gjs-hoverable=false><main class=main data-gjs-selectable=false data-gjs-hoverable=false></main></div><div class=container-aside data-gjs-selectable=false data-gjs-hoverable=false><section data-gjs-type=default data-hb-slug=list data-hb-type=general data-highlightable=1 draggable=false id=i27hfw><aside class=sidebar data-gjs-selectable=false data-gjs-hoverable=false></aside></section></div><section style=\"padding-bottom: 1rem;\" data-hb-type=ads data-hb-position=body7 name=adsBody6 data-hb-provider=Google data-gjs-draggable=.main><div id=top7 class=banner_super></div></section></div></section><section id=bloco-7-coluna class=bloco-home-box style=display:none;><div class=general data-gjs-selectable=false data-gjs-hoverable=false><div class=\"area-destaque main\" data-gjs-selectable=false data-gjs-hoverable=false></div><div class=box-content data-gjs-selectable=false data-gjs-hoverable=false><main class=main data-gjs-selectable=false data-gjs-hoverable=false></main></div><div class=container-aside data-gjs-selectable=false data-gjs-hoverable=false><section data-gjs-type=default data-hb-slug=list data-hb-type=general data-highlightable=1 draggable=false id=i27hfw><aside class=sidebar data-gjs-selectable=false data-gjs-hoverable=false></aside></section></div><div class=\"area-destaque main\" data-gjs-selectable=false data-gjs-hoverable=false></div></div></section><section id=bloco-8-coluna class=bloco-home-box style=display:none;><div class=general data-gjs-selectable=false data-gjs-hoverable=false><div class=\"area-destaque main\" data-gjs-selectable=false data-gjs-hoverable=false></div><div class=box-content data-gjs-selectable=false data-gjs-hoverable=false><main class=main data-gjs-selectable=false data-gjs-hoverable=false></main></div><div class=container-aside data-gjs-selectable=false data-gjs-hoverable=false><section data-gjs-type=default data-hb-slug=list data-hb-type=general data-highlightable=1 draggable=false id=i27hfw><aside class=sidebar data-gjs-selectable=false data-gjs-hoverable=false></aside></section></div><div class=\"area-destaque main\" data-gjs-selectable=false data-gjs-hoverable=false></div></div></section><section id=bloco-9-coluna class=bloco-home-box style=display:none;><div class=general data-gjs-selectable=false data-gjs-hoverable=false><div class=\"area-destaque main\" data-gjs-selectable=false data-gjs-hoverable=false></div><div class=box-content data-gjs-selectable=false data-gjs-hoverable=false><main class=main data-gjs-selectable=false data-gjs-hoverable=false></main></div><div class=container-aside data-gjs-selectable=false data-gjs-hoverable=false><section data-gjs-type=default data-hb-slug=list data-hb-type=general data-highlightable=1 draggable=false id=i27hfw><aside class=sidebar data-gjs-selectable=false data-gjs-hoverable=false></aside></section></div><div class=\"area-destaque main\" data-gjs-selectable=false data-gjs-hoverable=false></div></section><section id=bloco-taboola-temp-coluna class=bloco-home-box><div class=general data-gjs-selectable=false data-gjs-hoverable=false><div class=\"area-destaque main\" data-gjs-selectable=false data-gjs-hoverable=false><div data-hb-type=ads data-hb-provider=taboola data-hb-position=footer class=taboola-home-pai></div></div></div></section><footer><div class=cointainer><div class=info-footer><p class=p1 data-hb-type=copyright> Copyright © 2024 - ISTOÉ PUBLICAÇÕES LTDA<br> Todos os direitos reservados.</p><p class=p2> A ISTOÉ PUBLICAÇÕES LTDA é um portal digital independente e sem vinculação editorial e societária com a EDITORA TRES COMÉRCIO DE PUBLICACÕES LTDA (recuperação judicial). Informamos também que não realizamos cobranças e que também não oferecemos cancelamento do contrato de assinatura da revista impressa de nome ISTOÉ, tampouco autorizamos terceiros a fazê-lo, nos responsabilizamos apenas pelo conteúdo digital “<a href=https://istoe.com.br>https://istoe.com.br</a>” e seus respectivos sites.</p> <a href=https://istoedinheiro.com.br/politica-de-privacidade/ target=_blank>Política de privacidade</a></div></div></footer> <script>let ano=document.getElementById(\"ano\");if(ano!==undefined&&ano!==null){let anoAtual=new Date();ano.innerHTML=anoAtual.getFullYear();}</script> <script>var RefreshID;</script> </div><div class=scriptsStartHere style=\"display: none;\"></div> <script src=https://cdn.pn.vg/sites/7f519def-bd8e-4a5f-8960-5c9d648a175d.js data-pn-plugin-url=https://istoedinheiro.com.br/wp-content/plugins/pushnews/ data-pn-wp-plugin-version=3.10.1 async></script><script src=\\'https://istoedinheiro.com.br/wp-content/plugins/contact-form-7/includes/swv/js/index.js?x46096&amp;ver=5.8\\' id=swv-js></script> <script id=contact-form-7-js-extra>var wpcf7={\"api\":{\"root\":\"https:\\\\/\\\\/istoedinheiro.com.br\\\\/wp-json\\\\/\",\"namespace\":\"contact-form-7\\\\/v1\"},\"cached\":\"1\"};</script> <script src=\\'https://istoedinheiro.com.br/wp-content/plugins/contact-form-7/includes/js/index.js?x46096&amp;ver=5.8\\' id=contact-form-7-js></script> <script src=\\'https://istoedinheiro.com.br/wp-content/plugins/embedpress/assets/js/pdfobject.min.js?x46096&amp;ver=3.8.4\\' id=embedpress-pdfobject-js></script> <script src=\\'https://istoedinheiro.com.br/wp-content/plugins/embedpress/assets/js/initplyr.js?x46096&amp;ver=3.8.4\\' id=initplyr-js></script> <script id=embedpress-front-js-extra>var eplocalize={\"ajaxurl\":\"https:\\\\/\\\\/istoedinheiro.com.br\\\\/wp-admin\\\\/admin-ajax.php\"};</script> <script src=\\'https://istoedinheiro.com.br/wp-content/plugins/embedpress/assets/js/front.js?x46096&amp;ver=3.8.4\\' id=embedpress-front-js></script> <script src=\\'https://istoedinheiro.com.br/wp-content/plugins/embedpress/assets/js/documents-viewer-script.js?x46096&amp;ver=3.8.4\\' id=embedpress_documents_viewer_script-js></script> <script src=https://cdn.jsdelivr.net/npm/bootstrap@4.5.3/dist/js/bootstrap.bundle.min.js id=bootstrap-js-js></script> <script src=https://istoedinheiro.com.br/wp-content/themes/dinheiro-wp-theme/assets/js/main.js?x46096 id=main-js></script> <div id=footerDivForTaboola></div> <script>window.w3tc_lazyload=1,window.lazyLoadOptions={elements_selector:\".lazy\",callback_loaded:function(t){var e;try{e=new CustomEvent(\"w3tc_lazyload_loaded\",{detail:{e:t}})}catch(a){(e=document.createEvent(\"CustomEvent\")).initCustomEvent(\"w3tc_lazyload_loaded\",!1,!1,{e:t})}window.dispatchEvent(e)}}</script><script async src=https://istoedinheiro.com.br/wp-content/plugins/w3-total-cache/pub/js/lazyload.min.js?x46096></script></body></html>'"
      ]
     },
     "execution_count": 16,
     "metadata": {},
     "output_type": "execute_result"
    }
   ],
   "source": [
    "resposta = requests.get(url=url, headers=headers)\n",
    "\n",
    "resposta.encoding = 'utf-8'\n",
    "\n",
    "resposta.text"
   ]
  },
  {
   "cell_type": "markdown",
   "id": "7f3b5d0f",
   "metadata": {},
   "source": [
    "### Extraindo informações relevantes com *BeautifulSoup*\n",
    "Perceba que o HTML inclui uma grande quantidade de tags, o que dificulta identificar informações relevantes de forma direta. Com o auxílio da biblioteca **BeautifulSoup** podemos extrair facilmente as informações que desejamos."
   ]
  },
  {
   "cell_type": "code",
   "execution_count": null,
   "id": "275ad827",
   "metadata": {},
   "outputs": [],
   "source": [
    "soup = BeautifulSoup(resposta.text, 'html.parser')"
   ]
  },
  {
   "cell_type": "markdown",
   "id": "718eb25c",
   "metadata": {},
   "source": [
    "Então, vamos obter uma lista com todos os trechos HTML que contém uma **notícia**.\n",
    "\n",
    "Para identificar as tags corretas, é preciso ir até a página Web que desejamos extrair informações, dar botão direito e ir em **inspecionar elemento**, navegando pelo HTML até identificar as tags necessárias\n",
    "\n",
    "Ex: https://www.istoedinheiro.com.br/categoria/economia/"
   ]
  },
  {
   "cell_type": "code",
   "execution_count": null,
   "id": "2a56623b",
   "metadata": {},
   "outputs": [],
   "source": [
    "lista_tag_noticia = # SEU CÓDIGO AQUI!\n",
    "lista_tag_noticia"
   ]
  },
  {
   "cell_type": "markdown",
   "id": "133cf9f0",
   "metadata": {},
   "source": [
    "Agora, podemos passar por cada uma das chamadas de notícias, extraindo informações de interesse, como o título, descrição e data."
   ]
  },
  {
   "cell_type": "code",
   "execution_count": null,
   "id": "a4e30424",
   "metadata": {},
   "outputs": [],
   "source": [
    "lista_titulo = []\n",
    "lista_desc = []\n",
    "lista_data = []\n",
    "\n",
    "for i in range(0, len(lista_tag_noticia)):\n",
    "    \n",
    "    tag_noticia = lista_tag_noticia[i]\n",
    "\n",
    "\n",
    "    titulo = # SEU CÓDIGO AQUI!\n",
    "    titulo = titulo.replace('\\n', '') #limpa os ENTERS a esquerda e direita\n",
    "    lista_titulo.append(titulo)\n",
    "\n",
    "    descricao = # SEU CÓDIGO AQUI!\n",
    "    lista_desc.append(descricao)\n",
    "    \n",
    "    data_hora = # SEU CÓDIGO AQUI!\n",
    "    lista_data.append(data_hora)"
   ]
  },
  {
   "cell_type": "markdown",
   "id": "615a6bac",
   "metadata": {},
   "source": [
    "## Criando um DataFrame\n",
    "\n",
    "As informações que consideramos foram extraídas na repetição **for** e armazenadas em listas. Podemos utilizar estas listas para construir um Pandas DataFrame:"
   ]
  },
  {
   "cell_type": "code",
   "execution_count": null,
   "id": "a135043f",
   "metadata": {},
   "outputs": [],
   "source": [
    "df = pd.DataFrame({'Secao': secao,\n",
    "                   'Titulo': lista_titulo,\n",
    "                   'Descrição': lista_desc,\n",
    "                   'Data': lista_data\n",
    "                  })\n",
    "df"
   ]
  },
  {
   "cell_type": "markdown",
   "id": "087ee8c0",
   "metadata": {},
   "source": [
    "### Salvando o DataFrame em CSV\n",
    "\n",
    "É interessante armazenar o Dataframe em **CSV** (ou **xlsx**) para que ele possa ser análisado em algum momento posterior. Você poderia, por exemplo, extrair as notícias todos os dias de uma semana e analisar somente após ter todos estes dados."
   ]
  },
  {
   "cell_type": "code",
   "execution_count": null,
   "id": "9db69569",
   "metadata": {},
   "outputs": [],
   "source": [
    "df.to_csv(f'noticias_{secao}_160323.csv', index=False)"
   ]
  },
  {
   "cell_type": "markdown",
   "id": "8c5260fc",
   "metadata": {},
   "source": [
    "# Exercícios\n",
    "\n",
    "\n",
    "**Exercício 1)** Altere o código de extração das informações das notícias para trazer também o **link da notícia**. Rode todo o código novamente."
   ]
  },
  {
   "cell_type": "code",
   "execution_count": null,
   "id": "9e6969fa",
   "metadata": {},
   "outputs": [],
   "source": [
    "# SEU CÓDIGO AQUI!"
   ]
  },
  {
   "cell_type": "markdown",
   "id": "a366d9f7",
   "metadata": {},
   "source": [
    "**Exercício 2)** Crie um CSV (pesquise e salve) com as notícias das seções de **economia**, **política** e **finanças**.\n",
    "\n",
    "Faça a pesquisa e gere o `DataFrame` e **CSV** com cada uma das seções. Observe como a IstoÉ as nomeia em seu site.\n",
    "\n",
    "Em seguida, abra os três arquivos e os concatene, gerando apenas um DataFrame contendo todas as notícias das três seções (dica: pd.concat)."
   ]
  },
  {
   "cell_type": "code",
   "execution_count": null,
   "id": "d3074435",
   "metadata": {},
   "outputs": [],
   "source": [
    "# SEU CÓDIGO AQUI!"
   ]
  },
  {
   "cell_type": "markdown",
   "id": "d16f1fd9",
   "metadata": {},
   "source": [
    "**Exercício 3)** Crie uma solução em Python que faça o download de várias páginas (1, 2, 3, ...) de notícias do IstoÉDinheiro. Defina no inicio do código variáveis de **página inicial** e **página** final.\n",
    "\n",
    "Como resultado, produza um `DataFrame` contendo todas as notícias. Adicione uma coluna com o número da página onde a notícia aparece."
   ]
  },
  {
   "cell_type": "code",
   "execution_count": null,
   "id": "48fd398d",
   "metadata": {},
   "outputs": [],
   "source": [
    "# SEU CÓDIGO AQUI!"
   ]
  },
  {
   "cell_type": "markdown",
   "id": "detected-vulnerability",
   "metadata": {},
   "source": [
    "## Magazine Luiza\n",
    "\n",
    "Iremos utilizar o BeautifulSoup para extrair informações sobre produtos de um site do varejo brasileiro!\n",
    "\n",
    "Vamos descobrir como funciona o site da Magazine Luiza? Iremos acessar https://www.magazineluiza.com.br. Após acessar o site, clique com o botão direito do mouse e selecione **Inspecionar Elemento**.\n",
    "\n",
    "Faça uma busca no site utilizando algum termo como **'smartphone 128gb'**.\n",
    "\n",
    "Tente inspecionar vários elementos até encontrar padrões:\n",
    "- Onde está a **lista de produtos** retornada pela busca?\n",
    "- Como obter do produto:\n",
    "    - A **descrição**\n",
    "    - O **preço**\n",
    "    - A URL da **imagem**\n",
    "    - Etc."
   ]
  },
  {
   "cell_type": "markdown",
   "id": "quantitative-depression",
   "metadata": {},
   "source": [
    "### Arquivos `robots.txt`\n",
    "\n",
    "Os sites costumam deixar no arquivo robots.txt as informações de boas práticas de web **crawling** e **scraping**.\n",
    "\n",
    "Vamos conferir o robots.txt da Magazine Luiza?\n",
    "\n",
    "Acesse https://www.magazineluiza.com.br/robots.txt ou faça um requests.\n",
    "\n",
    "Acesse https://developers.google.com/search/docs/advanced/robots/create-robots-txt?hl=pt-br para saber mais."
   ]
  },
  {
   "cell_type": "markdown",
   "id": "successful-technology",
   "metadata": {},
   "source": [
    "### User-agent\n",
    "\n",
    "Alguns sites bloqueiam requisições identificadas como não realizadas por usuários em navegadores. Para prevenir bloqueios e extrair informações destes sites, uma prática é criar um cabeçalho com **User-Agent**."
   ]
  },
  {
   "cell_type": "code",
   "execution_count": null,
   "id": "least-jackson",
   "metadata": {},
   "outputs": [],
   "source": [
    "# headers = ({'User-Agent':\n",
    "#             'Mozilla/5.0 (X11; Linux x86_64) AppleWebKit/537.36 (KHTML, like Gecko) Chrome/51.0.2704.103 Safari/537.36'})\n",
    "\n",
    "headers = {\n",
    "     'user-agent': 'Mozilla/5.0 (Windows NT 10.0; Win64; x64) AppleWebKit/537.35 (KHTML, like Gecko) Chrome/75.0.3770.142 Safari/537.35'\n",
    "}"
   ]
  },
  {
   "cell_type": "markdown",
   "id": "voluntary-imaging",
   "metadata": {},
   "source": [
    "Você também pode alterar o **User-Agent** a cada nova requisição. O cabeçalho também pode ter informações de login por exemplo, mas isso foge do escopo da disciplina!"
   ]
  },
  {
   "cell_type": "markdown",
   "id": "409a89b3",
   "metadata": {},
   "source": [
    "### Buscando um produto\n",
    "\n",
    "Vamos acessar o site https://www.magazineluiza.com.br e realizar a busca manual por algum produto.\n",
    "\n",
    "Digite algo no campo de busca e realize a busca. Observe que a URL irá ser alterada e conter os seus termos de busca.\n",
    "\n",
    "Edite a URL diretamente para realizar a busca por outros produtos (direto na barra de endereços do navegador ao invés de utilizar o campo de buscas do site)."
   ]
  },
  {
   "cell_type": "markdown",
   "id": "e820024f",
   "metadata": {},
   "source": [
    "Alguns exemplos de busca:\n",
    "\n",
    "- https://www.magazineluiza.com.br/busca/smartphone+128gb/\n",
    "- https://www.magazineluiza.com.br/busca/smartphone+256gb/"
   ]
  },
  {
   "cell_type": "code",
   "execution_count": null,
   "id": "caring-international",
   "metadata": {},
   "outputs": [],
   "source": [
    "busca = 'smarpthone 256GB'\n",
    "busca = busca.replace(' ', '+')\n",
    "\n",
    "url = f'https://www.magazineluiza.com.br/busca/{busca}/'\n",
    "\n",
    "resposta = requests.get(url=url, headers=headers)\n",
    "\n",
    "resposta.encoding = 'utf-8'\n",
    "\n",
    "resposta.text"
   ]
  },
  {
   "cell_type": "code",
   "execution_count": null,
   "id": "ffe038a3",
   "metadata": {},
   "outputs": [],
   "source": [
    "resposta.request.headers"
   ]
  },
  {
   "cell_type": "markdown",
   "id": "angry-juice",
   "metadata": {},
   "source": [
    "Conferindo o código de resposta"
   ]
  },
  {
   "cell_type": "code",
   "execution_count": null,
   "id": "organized-outline",
   "metadata": {},
   "outputs": [],
   "source": [
    "print('Código de status da resposta: {}'.format(resposta.status_code))"
   ]
  },
  {
   "cell_type": "markdown",
   "id": "mediterranean-fluid",
   "metadata": {},
   "source": [
    "e o texto de resposta"
   ]
  },
  {
   "cell_type": "code",
   "execution_count": null,
   "id": "catholic-damage",
   "metadata": {},
   "outputs": [],
   "source": [
    "print('Texto de resposta:')\n",
    "print(resposta.text)"
   ]
  },
  {
   "cell_type": "markdown",
   "id": "2421b92d",
   "metadata": {},
   "source": [
    "Podemos verificar se a o texto de resposta possui algum termo com"
   ]
  },
  {
   "cell_type": "code",
   "execution_count": null,
   "id": "50f7905d",
   "metadata": {},
   "outputs": [],
   "source": [
    "'128GB' in resposta.text"
   ]
  },
  {
   "cell_type": "markdown",
   "id": "antique-boundary",
   "metadata": {},
   "source": [
    "Vamos criar um soup para conseguir extrair informações a partir do HTML"
   ]
  },
  {
   "cell_type": "code",
   "execution_count": null,
   "id": "collect-return",
   "metadata": {},
   "outputs": [],
   "source": [
    "soup = BeautifulSoup(resposta.text, 'html.parser')"
   ]
  },
  {
   "cell_type": "markdown",
   "id": "powerful-julian",
   "metadata": {},
   "source": [
    "Qual a tag que identifica um produto? Vamos procurar o primeiro produto da lista"
   ]
  },
  {
   "cell_type": "code",
   "execution_count": null,
   "id": "622eac5e",
   "metadata": {},
   "outputs": [],
   "source": [
    "lista_prod = soup.find('div', attrs={'data-testid': 'mod-productlist'})\n",
    "lista_prod"
   ]
  },
  {
   "cell_type": "code",
   "execution_count": null,
   "id": "personalized-journal",
   "metadata": {},
   "outputs": [],
   "source": [
    "tag_produto = lista_prod.find('li')\n",
    "tag_produto"
   ]
  },
  {
   "cell_type": "markdown",
   "id": "piano-designer",
   "metadata": {},
   "source": [
    "Como podemos extrair a Descrição?"
   ]
  },
  {
   "cell_type": "code",
   "execution_count": null,
   "id": "written-jordan",
   "metadata": {},
   "outputs": [],
   "source": [
    "desc_produto = tag_produto.find(#SEU CODIGO AQUI!)\n",
    "desc_produto.text"
   ]
  },
  {
   "cell_type": "markdown",
   "id": "polished-hobby",
   "metadata": {},
   "source": [
    "E para extrair o Preço?"
   ]
  },
  {
   "cell_type": "code",
   "execution_count": null,
   "id": "emotional-library",
   "metadata": {},
   "outputs": [],
   "source": [
    "preco_produto = tag_produto.find(#SEU CODIGO AQUI!)\n",
    "print(preco_produto.text)"
   ]
  },
  {
   "cell_type": "markdown",
   "id": "stretch-romantic",
   "metadata": {},
   "source": [
    "### Procurando por todos os produtos\n",
    "\n",
    "Vamos extrair a lista de produtos (suas tags) e iterar sobre elas para extrair informações de vários produtos. Por enquanto, considere a extração das duas primeiras linhas de informação no site (oito produtos)."
   ]
  },
  {
   "cell_type": "code",
   "execution_count": null,
   "id": "colored-drive",
   "metadata": {},
   "outputs": [],
   "source": [
    "lista_prod = soup.find('div', attrs={'data-testid': 'mod-productlist'})\n",
    "lista_tag_produto = lista_prod.find_all('li')"
   ]
  },
  {
   "cell_type": "code",
   "execution_count": null,
   "id": "219a64a0",
   "metadata": {},
   "outputs": [],
   "source": [
    "qt_prod = len(lista_tag_produto)\n",
    "qt_prod"
   ]
  },
  {
   "cell_type": "code",
   "execution_count": null,
   "id": "agreed-decision",
   "metadata": {},
   "outputs": [],
   "source": [
    "lista_desc = []\n",
    "lista_preco = []\n",
    "for i in range(8):\n",
    "    tag_produto = lista_tag_produto[i]\n",
    "\n",
    "    desc_produto = tag_produto.#SEU CODIGO AQUI!\n",
    "    lista_desc.append(desc_produto.text)\n",
    "\n",
    "    preco_produto = tag_produto.#SEU CODIGO AQUI!\n",
    "\n",
    "    if preco_produto == None:\n",
    "        preco_produto = None\n",
    "    else:    \n",
    "        preco_clean = preco_produto.text.replace('\\n', '')\n",
    "        preco_clean = preco_clean.strip()\n",
    "        preco_clean = preco_clean.replace('R$', '')\n",
    "        preco_clean = preco_clean.replace(\".\", \"\").replace(\",\", \".\")\n",
    "        preco_clean = float(preco_clean)\n",
    "    \n",
    "    lista_preco.append(preco_clean)\n",
    "\n",
    "    \n",
    "lista_preco"
   ]
  },
  {
   "cell_type": "code",
   "execution_count": null,
   "id": "48e25fa0",
   "metadata": {},
   "outputs": [],
   "source": [
    "tag_produto"
   ]
  },
  {
   "cell_type": "code",
   "execution_count": null,
   "id": "interstate-facility",
   "metadata": {},
   "outputs": [],
   "source": [
    "lista_desc"
   ]
  },
  {
   "cell_type": "markdown",
   "id": "stylish-chile",
   "metadata": {},
   "source": [
    "#### Criar DataFrame\n",
    "\n",
    "Então, podemos facilmente transformar as listas extraídas em um DataFrame do pandas"
   ]
  },
  {
   "cell_type": "code",
   "execution_count": null,
   "id": "rough-denmark",
   "metadata": {},
   "outputs": [],
   "source": [
    "busca = 'smarpthone 64GB'\n",
    "df = pd.DataFrame({'Busca': busca,\n",
    "                   'Descrição': lista_desc,\n",
    "                   'Preço': lista_preco\n",
    "                  })\n",
    "df"
   ]
  },
  {
   "cell_type": "markdown",
   "id": "civic-universe",
   "metadata": {},
   "source": [
    "## Criando funções\n",
    "\n",
    "Vamos criar funções para fazer uma busca, tratar os dados obter um DataFrame.\n",
    "\n",
    "Função que pesquisa por um termo no site e retorna o HTML como um texto"
   ]
  },
  {
   "cell_type": "code",
   "execution_count": null,
   "id": "encouraging-ownership",
   "metadata": {},
   "outputs": [],
   "source": [
    "\n",
    "\n",
    "def pesquisa(termo):\n",
    "    \n",
    "    s1 = random.randint(1,40)\n",
    "    s2 = random.randint(1,140)\n",
    "    \n",
    "    headers = {\n",
    "         'user-agent': f'Mozilla/5.0  (Windows NT 10.0; Win64; x64) AppleWebKit/537.{s1} (KHTML, like Gecko) Chrome/75.0.3770.{s2} Safari/537.{s1}'\n",
    "    }\n",
    "    \n",
    "    url = f'https://www.magazineluiza.com.br/busca/smartphone+{termo}/'\n",
    "    \n",
    "    time.sleep(abs(random.gauss(2,1)))\n",
    "\n",
    "    resposta = requests.get(url = url, headers=headers)\n",
    "\n",
    "    resposta.encoding = 'utf-8'\n",
    "\n",
    "    return resposta.text"
   ]
  },
  {
   "cell_type": "markdown",
   "id": "musical-ridge",
   "metadata": {},
   "source": [
    "Função que processa o HTML e extrai a descrição, preço e demais informações necessárias"
   ]
  },
  {
   "cell_type": "code",
   "execution_count": null,
   "id": "european-release",
   "metadata": {},
   "outputs": [],
   "source": [
    "def processa(resposta, qtde_produto):\n",
    "    \n",
    "    soup = BeautifulSoup(resposta, 'html.parser')\n",
    "    \n",
    "    lista_prod = #SEU CODIGO AQUI!\n",
    "    lista_tag_produto = lista_prod.find_all('li')\n",
    "    \n",
    "    lista_desc = []\n",
    "    lista_preco = []\n",
    "    lista_ranking = []\n",
    "    \n",
    "    for i in range(qtde_produto):\n",
    "        tag_produto = lista_tag_produto[i]\n",
    "        desc_produto = #SEU CODIGO AQUI!\n",
    "        lista_desc.append(desc_produto.text)\n",
    "\n",
    "        preco_produto = #SEU CODIGO AQUI!\n",
    "\n",
    "        if preco_produto == None:\n",
    "            preco_produto = None\n",
    "        else:    \n",
    "            preco_clean = preco_produto.text.replace('\\n', '')\n",
    "            preco_clean = preco_clean.strip()\n",
    "            preco_clean = preco_clean.replace('R$', '')\n",
    "            preco_clean = preco_clean.replace(\".\", \"\").replace(\",\", \".\")\n",
    "            preco_clean = float(preco_clean)\n",
    "\n",
    "        lista_preco.append(preco_clean)\n",
    "        \n",
    "        lista_ranking.append(i+1)\n",
    "        \n",
    "    return lista_desc, lista_preco, lista_ranking"
   ]
  },
  {
   "cell_type": "markdown",
   "id": "configured-covering",
   "metadata": {},
   "source": [
    "Função que gera um DataFrame a partir de listas de informações dos produtos"
   ]
  },
  {
   "cell_type": "code",
   "execution_count": null,
   "id": "nearby-noise",
   "metadata": {},
   "outputs": [],
   "source": [
    "def gera_df(termo, lista_desc, lista_preco, lista_ranking):\n",
    "    df = pd.DataFrame({'Pesquisa': termo,\n",
    "                       'Ranking': lista_ranking,\n",
    "                       'Descrição': lista_desc,\n",
    "                       'Preço': lista_preco\n",
    "                      })\n",
    "    return df"
   ]
  },
  {
   "cell_type": "markdown",
   "id": "electrical-preservation",
   "metadata": {},
   "source": [
    "Função para chamar as demais funções e retornar um DataFrame"
   ]
  },
  {
   "cell_type": "code",
   "execution_count": null,
   "id": "orange-diabetes",
   "metadata": {},
   "outputs": [],
   "source": [
    "def pesquisa_estruturada(termo, qtde_produto):\n",
    "    texto = pesquisa(termo)\n",
    "    lista_desc, lista_preco, lista_ranking = processa(texto, qtde_produto)\n",
    "    return gera_df(termo, lista_desc, lista_preco, lista_ranking)"
   ]
  },
  {
   "cell_type": "code",
   "execution_count": null,
   "id": "micro-bristol",
   "metadata": {},
   "outputs": [],
   "source": [
    "df = pesquisa_estruturada('64gb', 8)\n",
    "df"
   ]
  },
  {
   "cell_type": "markdown",
   "id": "southern-amsterdam",
   "metadata": {},
   "source": [
    "Como concatenar DataFrames para juntar o resultado de diversas buscas?"
   ]
  },
  {
   "cell_type": "code",
   "execution_count": null,
   "id": "bottom-syndicate",
   "metadata": {},
   "outputs": [],
   "source": [
    "pd.concat([pesquisa_estruturada('64gb', 4), pesquisa_estruturada('128gb', 4)])"
   ]
  },
  {
   "cell_type": "markdown",
   "id": "major-pride",
   "metadata": {},
   "source": [
    "Então, podemos criar uma função que recebe uma lista de termos de busca, efetua a pesquisa de cada termo e junta os DataFrames ao final!"
   ]
  },
  {
   "cell_type": "code",
   "execution_count": null,
   "id": "bulgarian-drunk",
   "metadata": {},
   "outputs": [],
   "source": [
    "def multi_pesquisa(lista_busca, qtde_produto):\n",
    "    time.sleep(random.randint(3,6))\n",
    "    lista_df = []\n",
    "    for termo in lista_busca:\n",
    "        df = pesquisa_estruturada(termo, qtde_produto)\n",
    "        lista_df.append(df)\n",
    "        time.sleep(0.5)\n",
    "    df_full = pd.concat(lista_df)\n",
    "    return df_full.reset_index(drop=True)"
   ]
  },
  {
   "cell_type": "code",
   "execution_count": null,
   "id": "rapid-static",
   "metadata": {},
   "outputs": [],
   "source": [
    "# Termos a serem pesquisados\n",
    "lista_busca = ['32Gb', '64Gb', '128Gb', '256Gb']\n",
    "\n",
    "df = multi_pesquisa(lista_busca, 50)\n",
    "df.head()"
   ]
  },
  {
   "cell_type": "code",
   "execution_count": null,
   "id": "assumed-pride",
   "metadata": {},
   "outputs": [],
   "source": [
    "df.tail()"
   ]
  },
  {
   "cell_type": "code",
   "execution_count": null,
   "id": "3f555be3",
   "metadata": {},
   "outputs": [],
   "source": [
    "df"
   ]
  },
  {
   "cell_type": "markdown",
   "id": "killing-identity",
   "metadata": {},
   "source": [
    "# Exercícios\n",
    "\n",
    "Utilizando os dados obtidos no Magalu:\n",
    "\n",
    "**Exercício 4)** Calcule o preço médio produtos:\n",
    "\n",
    "a) Geral"
   ]
  },
  {
   "cell_type": "code",
   "execution_count": null,
   "id": "robust-repeat",
   "metadata": {},
   "outputs": [],
   "source": [
    "#SEU CODIGO AQUI!"
   ]
  },
  {
   "cell_type": "markdown",
   "id": "liable-shape",
   "metadata": {},
   "source": [
    "b) Por termo de busca\n",
    "\n",
    "Dica: groupby"
   ]
  },
  {
   "cell_type": "code",
   "execution_count": null,
   "id": "alternate-freight",
   "metadata": {},
   "outputs": [],
   "source": [
    "#SEU CODIGO AQUI!"
   ]
  },
  {
   "cell_type": "markdown",
   "id": "tight-reserve",
   "metadata": {},
   "source": [
    "a) Os preços médios obtidos fazem sentido?"
   ]
  },
  {
   "cell_type": "markdown",
   "id": "rational-murray",
   "metadata": {},
   "source": [
    "R:"
   ]
  },
  {
   "cell_type": "markdown",
   "id": "concrete-empty",
   "metadata": {},
   "source": [
    "b) Produza um gráfico de barras com os preços médios"
   ]
  },
  {
   "cell_type": "code",
   "execution_count": null,
   "id": "unnecessary-entrepreneur",
   "metadata": {},
   "outputs": [],
   "source": [
    "#SEU CODIGO AQUI!"
   ]
  },
  {
   "cell_type": "markdown",
   "id": "positive-participation",
   "metadata": {},
   "source": [
    "**Exercício 5)** Crie uma coluna que informe se o produto é de cor discreta ou não.\n",
    "\n",
    "Dica: pesquise pelos termos *black*, *preto*, *gray*, *branco*, etc."
   ]
  },
  {
   "cell_type": "code",
   "execution_count": null,
   "id": "successful-reply",
   "metadata": {},
   "outputs": [],
   "source": [
    "#SEU CODIGO AQUI!"
   ]
  },
  {
   "cell_type": "markdown",
   "id": "alone-bishop",
   "metadata": {},
   "source": [
    "a) Compare o preço médio dos produtos que são e não são de cor discreta."
   ]
  },
  {
   "cell_type": "code",
   "execution_count": null,
   "id": "exotic-grass",
   "metadata": {},
   "outputs": [],
   "source": [
    "#SEU CODIGO AQUI!"
   ]
  },
  {
   "cell_type": "markdown",
   "id": "initial-taste",
   "metadata": {},
   "source": [
    "**Exercício 6)** Conte quantos produtos são das marcas **Samsung**, **Motorola** e **LG**."
   ]
  },
  {
   "cell_type": "code",
   "execution_count": null,
   "id": "administrative-conviction",
   "metadata": {},
   "outputs": [],
   "source": [
    "#SEU CODIGO AQUI!"
   ]
  },
  {
   "cell_type": "markdown",
   "id": "instrumental-symbol",
   "metadata": {},
   "source": [
    "**Exercício 7)** Crie uma coluna de Marca no DataFrame, informando se é **Samsung**, **Motorola**, **LG** ou **Outra**."
   ]
  },
  {
   "cell_type": "code",
   "execution_count": null,
   "id": "different-england",
   "metadata": {},
   "outputs": [],
   "source": [
    "#SEU CODIGO AQUI!"
   ]
  },
  {
   "cell_type": "markdown",
   "id": "upset-disease",
   "metadata": {},
   "source": [
    "**Exercício 8)** Altere o código que processa os dados de resposta para retornar também (até o DataFrame) uma coluna de **ranking**, informando se o produto aparece na primeira, segunda, n-ésima posição da busca.\n",
    "\n",
    "a) Calcule o preço médio dos produtos das primeiras quatro posições de busca."
   ]
  },
  {
   "cell_type": "code",
   "execution_count": null,
   "id": "beginning-parker",
   "metadata": {},
   "outputs": [],
   "source": [
    "#SEU CODIGO AQUI!"
   ]
  },
  {
   "cell_type": "markdown",
   "id": "enclosed-venture",
   "metadata": {},
   "source": [
    "b) Calcule a probabilidade de cada Marca aparecer em cada uma das quatro primeiras posições de busca.\n",
    "\n",
    "Dica: você precisa de uma tabela cruzada normalizada"
   ]
  },
  {
   "cell_type": "code",
   "execution_count": null,
   "id": "integrated-christopher",
   "metadata": {},
   "outputs": [],
   "source": [
    "#SEU CODIGO AQUI!"
   ]
  },
  {
   "cell_type": "markdown",
   "id": "otherwise-boutique",
   "metadata": {},
   "source": [
    "c) Exiba a informação anterior em um mapa de calor.\n",
    "\n",
    "Dica: utilize a função **heatmap** da biblioteca **seaborn**, ou a função **imshow** da biblioteca **plotly.express**."
   ]
  },
  {
   "cell_type": "code",
   "execution_count": null,
   "id": "reliable-anchor",
   "metadata": {},
   "outputs": [],
   "source": [
    "#SEU CODIGO AQUI!"
   ]
  },
  {
   "cell_type": "markdown",
   "id": "alien-patio",
   "metadata": {},
   "source": [
    "d) Calcule o preço médio cruzando ranking e marca.\n",
    "\n",
    "Dica: você precisa de uma pivot_table"
   ]
  },
  {
   "cell_type": "code",
   "execution_count": null,
   "id": "packed-arbor",
   "metadata": {},
   "outputs": [],
   "source": [
    "#SEU CODIGO AQUI!"
   ]
  },
  {
   "cell_type": "markdown",
   "id": "7e0ede17",
   "metadata": {},
   "source": [
    "**Exercício 9)** Escolha um site de seu interesse e tente fazer o Web scraping dos seus dados. Gere e exporte para CSV um `DataFrame` contendo informações de interesse do site."
   ]
  },
  {
   "cell_type": "code",
   "execution_count": null,
   "id": "7a3fda09",
   "metadata": {},
   "outputs": [],
   "source": [
    "#SEU CODIGO AQUI!"
   ]
  },
  {
   "cell_type": "markdown",
   "id": "british-colon",
   "metadata": {},
   "source": [
    "## Combinando termos de busca\n",
    "\n",
    "Uma outra abordagem de busca poderia ser pesquisar utilizando diversas características.\n",
    "\n",
    "Tendo os termos separados em listas, existe uma forma de combinar todos eles de forma fácil (produto cartesiano)"
   ]
  },
  {
   "cell_type": "code",
   "execution_count": null,
   "id": "28bfd724",
   "metadata": {},
   "outputs": [],
   "source": [
    "# !pip install sklearn"
   ]
  },
  {
   "cell_type": "code",
   "execution_count": null,
   "id": "ecological-petite",
   "metadata": {},
   "outputs": [],
   "source": [
    "lista_marca = ['Samsung', 'Motorola', 'LG', 'Xiaomi', 'Apple']\n",
    "lista_mem = ['64Gb', '128Gb', '256Gb']\n",
    "lista_cor = ['Gold', 'Preto', 'Azul']\n",
    "\n",
    "df_busca = pd.DataFrame(cartesian((lista_marca, lista_mem, lista_cor)), columns=['Marca', 'Memória', 'Cor'])\n",
    "df_busca"
   ]
  },
  {
   "cell_type": "markdown",
   "id": "palestinian-license",
   "metadata": {},
   "source": [
    "Seria necessário alterar o código de pesquisa para concatenar os termos de busca e retorná-los também no DataFrame. Não precisa fazer! Esta é apenas uma sugestão."
   ]
  }
 ],
 "metadata": {
  "kernelspec": {
   "display_name": "Python 3 (ipykernel)",
   "language": "python",
   "name": "python3"
  },
  "language_info": {
   "codemirror_mode": {
    "name": "ipython",
    "version": 3
   },
   "file_extension": ".py",
   "mimetype": "text/x-python",
   "name": "python",
   "nbconvert_exporter": "python",
   "pygments_lexer": "ipython3",
   "version": "3.10.12"
  }
 },
 "nbformat": 4,
 "nbformat_minor": 5
}
