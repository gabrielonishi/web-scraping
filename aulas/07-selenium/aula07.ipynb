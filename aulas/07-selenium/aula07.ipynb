{
 "cells": [
  {
   "cell_type": "markdown",
   "id": "comprehensive-turkey",
   "metadata": {},
   "source": [
    "# Análise de texto de fontes desestruturadas e Web\n",
    "\n",
    "## Aula 07"
   ]
  },
  {
   "cell_type": "markdown",
   "id": "weird-patrol",
   "metadata": {},
   "source": [
    "## Importando as bibliotecas necessárias"
   ]
  },
  {
   "cell_type": "code",
   "execution_count": 1,
   "id": "unlike-france",
   "metadata": {},
   "outputs": [],
   "source": [
    "# para trabalhar com diretórios / sistema operacional\n",
    "import os\n",
    "\n",
    "# para nos comunicarmos com a Web\n",
    "import requests\n",
    "\n",
    "# para extrair informações de páginas HTML\n",
    "import bs4\n",
    "from bs4 import BeautifulSoup\n",
    "\n",
    "# utilizada para nos indicar o caminho do executável do Python\n",
    "import sys\n",
    "\n",
    "# Para criar um Data Frame\n",
    "import pandas as pd\n",
    "\n",
    "# Controlar espera entre requisições\n",
    "import time\n",
    "\n",
    "# Gerar valores aleatórios\n",
    "import random\n",
    "\n",
    "# Produto cartesiano\n",
    "from sklearn.utils.extmath import cartesian\n",
    "\n",
    "# Renderizar HTML\n",
    "import IPython\n",
    "\n",
    "# Paga digitar senha\n",
    "import getpass"
   ]
  },
  {
   "cell_type": "markdown",
   "id": "acquired-regard",
   "metadata": {},
   "source": [
    "Caso obtenha algum erro, utilize o **!pip install** para instalar a biblioteca ausente!\n",
    "\n",
    "Vamos conferir com qual versão da biblioteca **xxxx** estamos trabalhando?"
   ]
  },
  {
   "cell_type": "code",
   "execution_count": 2,
   "id": "removable-calvin",
   "metadata": {},
   "outputs": [
    {
     "name": "stdout",
     "output_type": "stream",
     "text": [
      "4.12.3\n"
     ]
    }
   ],
   "source": [
    "print(bs4.__version__)"
   ]
  },
  {
   "cell_type": "markdown",
   "id": "fewer-voluntary",
   "metadata": {},
   "source": [
    "Você também pode conferir de onde está executando o Python e qual a versão"
   ]
  },
  {
   "cell_type": "code",
   "execution_count": 3,
   "id": "aggregate-secondary",
   "metadata": {},
   "outputs": [
    {
     "name": "stdout",
     "output_type": "stream",
     "text": [
      "Executável:\n",
      "/home/gabrielhso/Desktop/insper/2024.1/web-scraping/class-repo/env/bin/python\n",
      "\n",
      "Versão do Python:\n",
      "3.10.12 (main, Nov 20 2023, 15:14:05) [GCC 11.4.0]\n"
     ]
    }
   ],
   "source": [
    "print('Executável:')\n",
    "print(sys.executable)\n",
    "\n",
    "print('\\nVersão do Python:')\n",
    "print(sys.version)"
   ]
  },
  {
   "cell_type": "markdown",
   "id": "multiple-premium",
   "metadata": {},
   "source": [
    "Vamos conferir em qual diretório iremos trabalhar (é o diretório do notebook)"
   ]
  },
  {
   "cell_type": "code",
   "execution_count": 4,
   "id": "revolutionary-quantity",
   "metadata": {},
   "outputs": [
    {
     "name": "stdout",
     "output_type": "stream",
     "text": [
      "O seu notebook está na pasta:\n",
      "/home/gabrielhso/Desktop/insper/2024.1/web-scraping/class-repo/aulas/07-selenium\n"
     ]
    }
   ],
   "source": [
    "print('O seu notebook está na pasta:')\n",
    "print(os.getcwd())"
   ]
  },
  {
   "cell_type": "markdown",
   "id": "2ccf4005",
   "metadata": {},
   "source": [
    "## Relembrar\n",
    "\n",
    "Para relembrar a aula passada, vamos fazer o scraping do nome de uma pessoa da página https://atd-insper.s3.us-east-2.amazonaws.com/aula07/mensagem.html\n",
    "\n",
    "Clique no link para visualizar seu conteúdo.\n",
    "\n",
    "Vamos utilizar `requests` para fazer uma requisição `GET` na página e instanciar um objeto `BeautifulSoup` para extrair os dados!"
   ]
  },
  {
   "cell_type": "code",
   "execution_count": 5,
   "id": "0bca2bb2",
   "metadata": {},
   "outputs": [],
   "source": [
    "url = 'https://atd-insper.s3.us-east-2.amazonaws.com/aula07/mensagem.html'\n",
    "\n",
    "pag_msg = requests.get(url)\n",
    "\n",
    "pag_msg.encoding = 'utf-8'\n",
    "\n",
    "soup = BeautifulSoup(pag_msg.text, 'html.parser')"
   ]
  },
  {
   "cell_type": "markdown",
   "id": "e0cdb7dd",
   "metadata": {},
   "source": [
    "Agora, utilize `soup` para buscar o nome!"
   ]
  },
  {
   "cell_type": "code",
   "execution_count": 6,
   "id": "04b69e3f",
   "metadata": {},
   "outputs": [
    {
     "data": {
      "text/plain": [
       "<span id=\"nome\"></span>"
      ]
     },
     "execution_count": 6,
     "metadata": {},
     "output_type": "execute_result"
    }
   ],
   "source": [
    "soup.find('span')"
   ]
  },
  {
   "cell_type": "markdown",
   "id": "4b1e78de",
   "metadata": {},
   "source": [
    "Parece que não funcionou! Vamos tentar encontrar todos os parágrafos?!"
   ]
  },
  {
   "cell_type": "code",
   "execution_count": 7,
   "id": "449cf57f",
   "metadata": {},
   "outputs": [
    {
     "data": {
      "text/plain": [
       "[<p>Faça a extração do nome!</p>,\n",
       " <p>Nome:\n",
       "     <span id=\"nome\"></span>\n",
       " </p>]"
      ]
     },
     "execution_count": 7,
     "metadata": {},
     "output_type": "execute_result"
    }
   ],
   "source": [
    "soup.find_all('p')"
   ]
  },
  {
   "cell_type": "markdown",
   "id": "5e3e9866",
   "metadata": {},
   "source": [
    "**Pergunta**: Você consegue explicar o que aconteceu?!"
   ]
  },
  {
   "cell_type": "markdown",
   "id": "c65b989a",
   "metadata": {},
   "source": [
    "<div class=\"alert alert-success\">\n",
    "\n",
    "Sua resposta AQUI! Dê dois cliques e edite.\n",
    "\n",
    "</div>"
   ]
  },
  {
   "cell_type": "markdown",
   "id": "f52a9a89",
   "metadata": {},
   "source": [
    "### HTML Retornado\n",
    "\n",
    "Vamos verificar o HTML retornado em nossa requisição"
   ]
  },
  {
   "cell_type": "code",
   "execution_count": 8,
   "id": "b16273d2",
   "metadata": {},
   "outputs": [
    {
     "name": "stdout",
     "output_type": "stream",
     "text": [
      "<!DOCTYPE html>\n",
      "<html>\n",
      "    <head>\n",
      "        <meta charset=\"UTF-8\">\n",
      "        <title>Exemplo Mensagem</title>\n",
      "    </head>\n",
      "<body>\n",
      "\n",
      "<h2>Olá!</h2>\n",
      "<p>Faça a extração do nome!</p>\n",
      "<p>Nome:\n",
      "    <span id=\"nome\"></span>\n",
      "</p>\n",
      "\n",
      "\n",
      "<script>\n",
      "// https://www.w3schools.com/html/tryit.asp?filename=tryhtml_script\n",
      "document.getElementById(\"nome\").innerHTML = \"Ana Maria\";\n",
      "</script> \n",
      "\n",
      "</body>\n",
      "</html>\n",
      "\n",
      "\n"
     ]
    }
   ],
   "source": [
    "print(pag_msg.text)"
   ]
  },
  {
   "cell_type": "markdown",
   "id": "1491eae3",
   "metadata": {},
   "source": [
    "Observe a tag\n",
    "```html\n",
    "<span id=\"nome\"></span>\n",
    "```\n",
    "Ela não contém o nome **Ana Maria**! Vá até o site e faça o **inspect** (com botão direito) e confira o HTML. Você verá que no navegador temos a informação do nome corretamente!"
   ]
  },
  {
   "cell_type": "markdown",
   "id": "7317c78f",
   "metadata": {},
   "source": [
    "### Tipos de páginas Web\n",
    "\n",
    "#### Páginas Estáticas\n",
    "\n",
    "Uma página da Web estática é uma página da Web que é entregue ao navegador da Web do usuário exatamente como é armazenada, sem nenhum elemento **dinâmico** ou **interativo**. O conteúdo de uma página da Web estática geralmente é definido em um arquivo HTML fixo que é armazenado no servidor da Web e enviado ao navegador do usuário quando ele solicita a página (`GET`).\n",
    "\n",
    "As páginas da Web estáticas geralmente têm uma estrutura simples e não requerem nenhum script do lado do servidor ou acesso ao banco de dados para gerar o conteúdo. Exemplos de páginas da Web estáticas incluem sites de folhetos que fornecem informações sobre uma empresa ou organização, portfólios, blogs pessoais e outros tipos de sites que não exigem atualizações frequentes ou funcionalidades complexas."
   ]
  },
  {
   "cell_type": "markdown",
   "id": "58684830",
   "metadata": {},
   "source": [
    "#### Páginas Dinâmicas\n",
    "\n",
    "Páginas dinâmicas são páginas da Web capazes de exibir conteúdos diferentes cada vez que são carregadas ou acessadas. O conteúdo exibido nessas páginas geralmente é gerado dinamicamente a partir de um banco de dados ou sistema de gerenciamento de conteúdo (CMS), em vez de ser pré-escrito e armazenado como arquivos HTML estáticos.\n",
    "\n",
    "As páginas dinâmicas podem ser criadas usando várias linguagens de programação, como PHP, Python, Ruby, JavaScript e outras. Eles também podem usar scripts do lado do servidor ou scripts do lado do cliente para manipular o conteúdo da página em resposta à interação do usuário ou outros eventos.\n",
    "\n",
    "- **Client-side Scripting**: a página da Web muda em resposta a uma ação dentro dela (evento do lado do cliente) utilizando scripts que geram “conteúdo do lado do cliente” e no computador do cliente. Aqui, o principal recurso será **Javascript**, que visualizaremos embutido no código HTML!\n",
    "\n",
    "\n",
    "\n",
    "- **Server-side Scripting**: uma página da Web que muda quando é carregada ou visitada, ou com base no que é enviado a ela, utilizando script do lado do servidor. Quando as páginas são carregadas, o conteúdo do lado do servidor é gerado. Exemplos incluem páginas de login, carrinhos de compras e formulários de envio."
   ]
  },
  {
   "cell_type": "markdown",
   "id": "959e5dd2",
   "metadata": {},
   "source": [
    "### Exemplos sintéticos\n",
    "\n",
    "Alguns outros exemplos de páginas que rodam Javascript:\n",
    "- https://atd-insper.s3.us-east-2.amazonaws.com/aula07/horas.html\n",
    "- https://atd-insper.s3.us-east-2.amazonaws.com/aula07/precos.html"
   ]
  },
  {
   "cell_type": "markdown",
   "id": "ba8b32ae",
   "metadata": {},
   "source": [
    "**Exercício 1)** Faça o scraping das páginas de **horas** e **precos** utilizando `requests` e `BeautifulSoup`.\n",
    "- Na página de horas, extraia a hora\n",
    "- Na página de precos, extraia as informações de pelo menos um produto (título, descrição, preço)\n",
    "\n",
    "Você conseguiu extrair as informações? Consegue explicar?!"
   ]
  },
  {
   "cell_type": "code",
   "execution_count": 9,
   "id": "ddbbed1b",
   "metadata": {},
   "outputs": [
    {
     "name": "stdout",
     "output_type": "stream",
     "text": [
      "\n",
      "\n",
      "<!DOCTYPE html>\n",
      "<html>\n",
      "    <head>\n",
      "        <meta charset=\"UTF-8\">\n",
      "        <title>Exemplo Horas</title>\n",
      "    </head>\n",
      "<body>\n",
      "\n",
      "<h2>Que horas são?!</h2>\n",
      "\n",
      "<div id=\"clock\"></div>\n",
      "\n",
      "<script>\n",
      "  // https://flexiple.com/javascript/javascript-clock/\n",
      "  function currentTime() {\n",
      "    let date = new Date(); \n",
      "    let hh = date.getHours();\n",
      "    let mm = date.getMinutes();\n",
      "    let ss = date.getSeconds();\n",
      "    let session = \"AM\";\n",
      "  \n",
      "      \n",
      "    if(hh > 12){\n",
      "        session = \"PM\";\n",
      "     }\n",
      "  \n",
      "     hh = (hh < 10) ? \"0\" + hh : hh;\n",
      "     mm = (mm < 10) ? \"0\" + mm : mm;\n",
      "     ss = (ss < 10) ? \"0\" + ss : ss;\n",
      "      \n",
      "     let time = hh + \":\" + mm + \":\" + ss + \" \" + session;\n",
      "  \n",
      "    document.getElementById(\"clock\").innerText = time; \n",
      "    var t = setTimeout(function(){ currentTime() }, 1000); \n",
      "  \n",
      "  }\n",
      "  \n",
      "  currentTime();\n",
      "</script>\n",
      "\n",
      "</body>\n",
      "</html>\n"
     ]
    }
   ],
   "source": [
    "url = \"https://atd-insper.s3.us-east-2.amazonaws.com/aula07/horas.html\"\n",
    "response = requests.get(url)\n",
    "response.encoding = 'utf-8'\n",
    "print(response.text)"
   ]
  },
  {
   "cell_type": "markdown",
   "id": "7e1eca34",
   "metadata": {},
   "source": [
    "<div class=\"alert alert-success\">\n",
    "\n",
    "Sua explicação AQUI! Dê dois cliques e edite.\n",
    "\n",
    "</div>"
   ]
  },
  {
   "cell_type": "markdown",
   "id": "27435f49",
   "metadata": {},
   "source": [
    "### Exemplos\n",
    "\n",
    "Diversas páginas utilizam de recursos que as tornam dinâmicas.\n",
    "\n",
    "Acesse o site https://imgur.com/ e role a página até a sua parte inferior. Perceba que novas imagens e vídeos serão carregados. Isto ocorreu porque um script faz uma requisição de conteúdo extra assim que a barra de rolagem aproxima-se da parte inferior. Este conteúdo extra é acrescido ao HTML da página.\n",
    "\n",
    "Quando utilizamos `requests` para requisitar conteúdos da Web, acessamos a versão inicial da página, antes que qualquer script seja executado, uma vez que a biblioteca `requests` não emula um navegador. Assim, precisamos de técnicas novas para trabalhar com páginas dinâmicas."
   ]
  },
  {
   "cell_type": "markdown",
   "id": "37dce2d2",
   "metadata": {},
   "source": [
    "### Como resolver?\n",
    "\n",
    "Páginas dinâmicas em muitos casos podem impedir o *scraping* com técnicas vistas até aqui na disciplina.\n",
    "\n",
    "Mas existem algumas situações que podem ser contornadas!\n",
    "\n",
    "- Procurar **API dos dados**: vimos a VIACep como exemplo de API para consulta de endereços. As páginas Web realizam diversas requisições por conteúdo (imagens, JS, HTML, JSON, etc.). Podemos inspecionar o site de nosso interesse e procurar pelas chamadas de API, verificando se alguma delas retorna o conteúdo de nosso interesse. Idealmente encontraremos uma que retorne os dados em formato bastante adequado (JSON), sonhar não custa nada!"
   ]
  },
  {
   "cell_type": "code",
   "execution_count": null,
   "id": "3ab6eb67",
   "metadata": {},
   "outputs": [],
   "source": [
    "url = # Seu código AQUI!\n",
    "\n",
    "pag_msg = requests.get(url)\n",
    "\n",
    "pag_msg.encoding = 'utf-8'\n",
    "\n",
    "soup = BeautifulSoup(pag_msg.text, 'html.parser')\n",
    "print(pag_msg.text)"
   ]
  },
  {
   "cell_type": "code",
   "execution_count": null,
   "id": "307db312",
   "metadata": {},
   "outputs": [],
   "source": [
    "soup.find_all('li')"
   ]
  },
  {
   "cell_type": "markdown",
   "id": "f664135d",
   "metadata": {},
   "source": [
    "- Procurar por **dados não renderizados**: em certas páginas, os dados estão disponíveis na resposta, mas não foram renderizados em suas devidas posições no HTML. Neste caso você pode encontrar os dados, mas não com o localizador identificado no navegador. "
   ]
  },
  {
   "cell_type": "markdown",
   "id": "6c4fc0af",
   "metadata": {},
   "source": [
    "## Selenium\n",
    "\n",
    "<img src=\"https://atd-insper.s3.us-east-2.amazonaws.com/aula07/img/selenium.png\">\n",
    "\n",
    "O Selenium (https://www.selenium.dev/) é um conjunto de tecnologias focadas em automatização de navegadores Web. Para nós, será uma biblioteca Python que utilizaremos para simular um usuário navegando pela Web.\n",
    "\n",
    "Vamos importar as bibliotecas, caso encontre problemas, descomente a linha e faça a instalação:"
   ]
  },
  {
   "cell_type": "code",
   "execution_count": 10,
   "id": "47bbeecb",
   "metadata": {},
   "outputs": [],
   "source": [
    "# !pip install selenium\n",
    "# !pip install webdriver_manager"
   ]
  },
  {
   "cell_type": "markdown",
   "id": "529c79ce",
   "metadata": {},
   "source": [
    " > É necessário ter o chrome instalado para continuar o notebook\n",
    " >\n",
    " > Installe rodando as linhas abaixo no terminal\n"
   ]
  },
  {
   "cell_type": "code",
   "execution_count": 11,
   "id": "b5d95902",
   "metadata": {},
   "outputs": [],
   "source": [
    "# !sudo apt update\n",
    "# !wget https://dl.google.com/linux/direct/google-chrome-stable_current_amd64.deb\n",
    "# !dpkg -i google-chrome-stable_current_amd64.deb\n",
    "# !apt-get -f install\n",
    "# !google-chrome-stable --version"
   ]
  },
  {
   "cell_type": "markdown",
   "id": "903e7fd3",
   "metadata": {},
   "source": [
    "Vamos importar as bibliotecas:"
   ]
  },
  {
   "cell_type": "code",
   "execution_count": 12,
   "id": "45205180",
   "metadata": {},
   "outputs": [],
   "source": [
    "from selenium import webdriver\n",
    "from selenium.webdriver.chrome.options import Options\n",
    "from webdriver_manager.chrome import ChromeDriverManager\n",
    "from selenium.webdriver.chrome.service import Service\n",
    "from selenium.webdriver.common.by import By"
   ]
  },
  {
   "cell_type": "markdown",
   "id": "9352fa13",
   "metadata": {},
   "source": [
    "### Criando um driver\n",
    "\n",
    "Execute a linha abaixo. Você irá perceber que será criada uma janela do navegador Chrome. Deixe esta janela aberta."
   ]
  },
  {
   "cell_type": "code",
   "execution_count": 14,
   "id": "570e2613",
   "metadata": {},
   "outputs": [],
   "source": [
    "driver = webdriver.Chrome(service=Service(ChromeDriverManager().install()))\n",
    "driver.set_page_load_timeout(60)\n",
    "\n",
    "# Se estiver no Colab, comente o código acima e utilize como alternativa\n",
    "# chrome_options = webdriver.ChromeOptions()\n",
    "# chrome_options.add_argument('--headless') # ensure GUI is off\n",
    "# chrome_options.add_argument('--no-sandbox')\n",
    "# chrome_options.add_argument('--disable-dev-shm-usage')\n",
    "# driver = webdriver.Chrome(service=Service(ChromeDriverManager().install()), options=chrome_options)\n",
    "# driver.set_page_load_timeout(60)"
   ]
  },
  {
   "cell_type": "markdown",
   "id": "e8be5e4a",
   "metadata": {},
   "source": [
    "### Navegação\n",
    "\n",
    "Vamos abrir o nosso exemplo das horas no navegador"
   ]
  },
  {
   "cell_type": "code",
   "execution_count": 15,
   "id": "d84c0fdd",
   "metadata": {},
   "outputs": [],
   "source": [
    "url = 'https://atd-insper.s3.us-east-2.amazonaws.com/aula07/horas.html'\n",
    "driver.get(url)\n",
    "driver.implicitly_wait(10)"
   ]
  },
  {
   "cell_type": "markdown",
   "id": "c9778dd2",
   "metadata": {},
   "source": [
    "Vamos recuperar a hora. Para encontrar o elemento, faremos uma busca pelo nome da tag (`div`)"
   ]
  },
  {
   "cell_type": "code",
   "execution_count": 16,
   "id": "400d52a9",
   "metadata": {},
   "outputs": [],
   "source": [
    "horas = driver.find_element(By.TAG_NAME, 'div')"
   ]
  },
  {
   "cell_type": "markdown",
   "id": "2ddb1f5e",
   "metadata": {},
   "source": [
    "Ao acessar `horas.text`, podemos obter o conteúdo exibido em tempo real ao usuário do navegador!\n",
    "\n",
    "Execute a próxima célula múltiplas vezes!"
   ]
  },
  {
   "cell_type": "code",
   "execution_count": 18,
   "id": "f28fe6b7",
   "metadata": {},
   "outputs": [
    {
     "data": {
      "text/plain": [
       "'17:08:02 PM'"
      ]
     },
     "execution_count": 18,
     "metadata": {},
     "output_type": "execute_result"
    }
   ],
   "source": [
    "horas.text"
   ]
  },
  {
   "cell_type": "markdown",
   "id": "8e55c981",
   "metadata": {},
   "source": [
    "Veja mais informações sobre a busca de elementos em https://www.selenium.dev/documentation/webdriver/elements/finders/ "
   ]
  },
  {
   "cell_type": "markdown",
   "id": "19421f22",
   "metadata": {},
   "source": [
    "### Localizadores\n",
    "\n",
    "Os localizadores/seletores do Selenium são ferramentas usadas para localizar elementos em uma página da Web para que possam interagir com eles usando a estrutura de automação do Selenium. Existem vários tipos de seletores que podem ser usados no Selenium, entre eles:\n",
    "\n",
    "- **Seletor CSS**: Um seletor CSS é um padrão usado para selecionar elementos com base em seus atributos CSS, como classe, id, nome, etc.\n",
    "\n",
    "- **Seletor XPath**: Os seletores XPath são usados para localizar elementos com base em sua posição no documento HTML, bem como em seus atributos.\n",
    "\n",
    "- **Seletor de ID**: O seletor de ID é usado para localizar um elemento com base em seu identificador exclusivo.\n",
    "\n",
    "- **Seletor de classe**: O seletor de classe é usado para localizar elementos com base em seu nome de classe.\n",
    "\n",
    "- **Seletor de nome**: O seletor de nome é usado para localizar elementos com base em seu atributo de nome.\n",
    "\n",
    "- **Seletor de tags**: O seletor de tags é usado para localizar elementos com base em seu nome de tag HTML.\n",
    "\n",
    "Esses seletores podem ser usados em combinação com vários métodos fornecidos pela estrutura do Selenium para interagir com os elementos em uma página da Web, como clicar em botões, preencher formulários ou extrair informações da página. É importante escolher o seletor apropriado para cada elemento para garantir uma automação confiável e eficiente.\n",
    "\n",
    "Veja mais em:\n",
    "- Pergunte ao ChatGPT\n",
    "- https://www.tutorialspoint.com/selenium/selenium_locators.htm\n",
    "- https://www.browserstack.com/guide/locators-in-selenium"
   ]
  },
  {
   "cell_type": "markdown",
   "id": "0bfacdc8",
   "metadata": {},
   "source": [
    "### Selenium + BeautifulSoup\n",
    "\n",
    "Uma outra opção é utilizar o Selenium apenas como emulador de navegador, fazendo o scraping com `BeautifulSoup`.\n",
    "\n",
    "Com `driver.page_source` podemos recuperar o HTML atual da página:"
   ]
  },
  {
   "cell_type": "code",
   "execution_count": 20,
   "id": "cf380d88",
   "metadata": {},
   "outputs": [
    {
     "data": {
      "text/plain": [
       "'17:08:34 PM'"
      ]
     },
     "execution_count": 20,
     "metadata": {},
     "output_type": "execute_result"
    }
   ],
   "source": [
    "soup = BeautifulSoup(driver.page_source, 'html.parser')\n",
    "\n",
    "soup.find('div').text"
   ]
  },
  {
   "cell_type": "markdown",
   "id": "b29aed25",
   "metadata": {},
   "source": [
    "### Exemplo: Login no Blackboard com Selenium\n",
    "\n",
    "Vamos utilizar Selenium para acessar e fazer login no Blackboard.\n",
    "\n",
    "Acesso à URL:"
   ]
  },
  {
   "cell_type": "code",
   "execution_count": 21,
   "id": "568253d9",
   "metadata": {},
   "outputs": [],
   "source": [
    "url = 'https://insper.blackboard.com/'\n",
    "driver.get(url)"
   ]
  },
  {
   "cell_type": "markdown",
   "id": "c32a671a",
   "metadata": {},
   "source": [
    "Precisamos encontrar o campo de **Nome**"
   ]
  },
  {
   "cell_type": "code",
   "execution_count": 30,
   "id": "fa4ab717",
   "metadata": {},
   "outputs": [
    {
     "data": {
      "text/plain": [
       "<selenium.webdriver.remote.webelement.WebElement (session=\"58e5aae7f5b3c3c973a42140577a7670\", element=\"f.CB09631CC42888F6B90DE06F953FA3C0.d.940A077D11DE4839A76C0B2633E04771.e.17\")>"
      ]
     },
     "execution_count": 30,
     "metadata": {},
     "output_type": "execute_result"
    }
   ],
   "source": [
    "nome = driver.find_element(By.XPATH, '//*[@id=\"user_id\"]')\n",
    "nome"
   ]
  },
  {
   "cell_type": "markdown",
   "id": "55a254bd",
   "metadata": {},
   "source": [
    "E preencher com nossas informações de login"
   ]
  },
  {
   "cell_type": "code",
   "execution_count": 31,
   "id": "6c65464d",
   "metadata": {},
   "outputs": [],
   "source": [
    "nome.send_keys('gabrielhso')# Seu usuário insper AQUI!"
   ]
  },
  {
   "cell_type": "markdown",
   "id": "bfafce17",
   "metadata": {},
   "source": [
    "Vamos informar nossa senha aqui no notebook"
   ]
  },
  {
   "cell_type": "code",
   "execution_count": 32,
   "id": "e4f9209b",
   "metadata": {},
   "outputs": [],
   "source": [
    "# Digite sua senha, se não funcionar, comentee e use algo no estilo:\n",
    "# senha_blackboard = '123x1456\n",
    "senha_blackboard = getpass.getpass()"
   ]
  },
  {
   "cell_type": "markdown",
   "id": "296ac239",
   "metadata": {},
   "source": [
    "E então preencher na página!"
   ]
  },
  {
   "cell_type": "code",
   "execution_count": 33,
   "id": "02cd4f2a",
   "metadata": {},
   "outputs": [],
   "source": [
    "senha = driver.find_element(By.XPATH, '//*[@id=\"password\"]')\n",
    "senha.send_keys(senha_blackboard)"
   ]
  },
  {
   "cell_type": "markdown",
   "id": "66ab8e8f",
   "metadata": {},
   "source": [
    "Em seguida encontraremos o botão de login"
   ]
  },
  {
   "cell_type": "code",
   "execution_count": 34,
   "id": "027a047e",
   "metadata": {},
   "outputs": [
    {
     "data": {
      "text/plain": [
       "<selenium.webdriver.remote.webelement.WebElement (session=\"58e5aae7f5b3c3c973a42140577a7670\", element=\"f.CB09631CC42888F6B90DE06F953FA3C0.d.940A077D11DE4839A76C0B2633E04771.e.9\")>"
      ]
     },
     "execution_count": 34,
     "metadata": {},
     "output_type": "execute_result"
    }
   ],
   "source": [
    "botao = driver.find_element(By.ID, 'entry-login') # CAMPO AQUI!\n",
    "botao"
   ]
  },
  {
   "cell_type": "markdown",
   "id": "1068452d",
   "metadata": {},
   "source": [
    "E enviar um click!"
   ]
  },
  {
   "cell_type": "code",
   "execution_count": 36,
   "id": "63e906b0",
   "metadata": {},
   "outputs": [],
   "source": [
    "botao.click()"
   ]
  },
  {
   "cell_type": "markdown",
   "id": "45fdcd71",
   "metadata": {},
   "source": [
    "Vamos remover o aviso de privacidade"
   ]
  },
  {
   "cell_type": "code",
   "execution_count": 37,
   "id": "3bbdf72e",
   "metadata": {},
   "outputs": [],
   "source": [
    "driver.find_element(By.CLASS_NAME, 'button-1').click()"
   ]
  },
  {
   "cell_type": "markdown",
   "id": "e1f854fe",
   "metadata": {},
   "source": [
    "Simular um scroll até uma posição fixa"
   ]
  },
  {
   "cell_type": "code",
   "execution_count": 38,
   "id": "14c3a8dc",
   "metadata": {},
   "outputs": [],
   "source": [
    "driver.execute_script('window.scrollTo(0,250)')"
   ]
  },
  {
   "cell_type": "markdown",
   "id": "6e9f18c2",
   "metadata": {},
   "source": [
    "Fazer scrolls sequenciais"
   ]
  },
  {
   "cell_type": "code",
   "execution_count": 39,
   "id": "be5e7a3c",
   "metadata": {},
   "outputs": [],
   "source": [
    "for i in range(200, 1000, 100):\n",
    "    driver.execute_script(f'window.scrollTo(0,{i})')\n",
    "    time.sleep(abs(random.gauss(1.0, 0.2)))"
   ]
  },
  {
   "cell_type": "markdown",
   "id": "e48692dd",
   "metadata": {},
   "source": [
    "Scroll até o final da página"
   ]
  },
  {
   "cell_type": "code",
   "execution_count": 40,
   "id": "7191720a",
   "metadata": {},
   "outputs": [],
   "source": [
    "driver.execute_script(\"window.scrollTo(0,document.body.scrollHeight)\")"
   ]
  },
  {
   "cell_type": "markdown",
   "id": "66df77da",
   "metadata": {},
   "source": [
    "E scroll para tornar algum elemento visível"
   ]
  },
  {
   "cell_type": "code",
   "execution_count": 42,
   "id": "ebf0392a",
   "metadata": {},
   "outputs": [],
   "source": [
    "# plataforma = driver.find_element(By.XPATH, '/html/body/div[5]/div/div/div/div/div[1]/div/div/div[3]/div[4]/div[2]/div/p/a/img')\n",
    "# driver.execute_script(\"arguments[0].scrollIntoView();\", plataforma)"
   ]
  },
  {
   "cell_type": "markdown",
   "id": "8c5260fc",
   "metadata": {},
   "source": [
    "# Exercícios\n",
    "\n",
    "**Exercício 2)** Consider a página de notícias https://www.moneytimes.com.br/ultimas-noticias/: \n",
    "\n",
    "Implemente uma solução de recuperação de notícias utilizando a API de paginação. Retorne notícias das primeiras 10 páginas pelo menos."
   ]
  },
  {
   "cell_type": "code",
   "execution_count": null,
   "id": "a12d2dbe",
   "metadata": {},
   "outputs": [],
   "source": [
    "# Seu código AQUI!"
   ]
  },
  {
   "cell_type": "markdown",
   "id": "416b5157",
   "metadata": {},
   "source": [
    "**Exercício 3)** Escolha um site de seu interesse. Construa um script Python que faça coisas como:\n",
    "- Login no site\n",
    "- Click em botões\n",
    "- Acesso a links\n",
    "- Etc."
   ]
  },
  {
   "cell_type": "code",
   "execution_count": null,
   "id": "9f5e93d6",
   "metadata": {},
   "outputs": [],
   "source": [
    "# Seu código AQUI!"
   ]
  },
  {
   "cell_type": "markdown",
   "id": "eec1f70a",
   "metadata": {},
   "source": [
    "**Exercício 4)** Na aula anterior fizemos a busca no site da Magalu. Agora, tente fazer o scraping de busca por produtos no site www.casasbahia.com.br\n",
    "\n",
    "O preço do site é retornado de forma dinâmica ou estática?\n",
    "\n",
    "Retorne um DataFrame com pelo menos:\n",
    "- Termo de busca\n",
    "- Descrição do produto\n",
    "- Preço\n",
    "- Link para o produto"
   ]
  },
  {
   "cell_type": "code",
   "execution_count": null,
   "id": "94f6a728",
   "metadata": {},
   "outputs": [],
   "source": [
    "# Seu código AQUI!"
   ]
  },
  {
   "cell_type": "markdown",
   "id": "ccf88aaa",
   "metadata": {},
   "source": [
    "## Referências\n",
    "\n",
    "- https://www.packetlabs.net/posts/dynamic-pages/\n",
    "- ChatGPT\n"
   ]
  }
 ],
 "metadata": {
  "kernelspec": {
   "display_name": "Python 3 (ipykernel)",
   "language": "python",
   "name": "python3"
  },
  "language_info": {
   "codemirror_mode": {
    "name": "ipython",
    "version": 3
   },
   "file_extension": ".py",
   "mimetype": "text/x-python",
   "name": "python",
   "nbconvert_exporter": "python",
   "pygments_lexer": "ipython3",
   "version": "3.10.12"
  }
 },
 "nbformat": 4,
 "nbformat_minor": 5
}
