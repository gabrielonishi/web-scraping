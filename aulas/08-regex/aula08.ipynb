{
 "cells": [
  {
   "cell_type": "markdown",
   "id": "comprehensive-turkey",
   "metadata": {},
   "source": [
    "# Análise de texto de fontes desestruturadas e Web\n",
    "\n",
    "## Aula 08\n",
    "\n",
    "Nesta aula iremos trabalhar com **Expressões Regulares**, termo comumente abreviado para **RegEx**. Regex provê uma forma eficiente de encontrar padrões regulares em corpus textuais. \n",
    "\n",
    "A biblioteca utilizada será a **re**.\n",
    "\n",
    "Para conhecer mais sobre ela, acesse https://docs.python.org/3/library/re.html"
   ]
  },
  {
   "cell_type": "markdown",
   "id": "weird-patrol",
   "metadata": {},
   "source": [
    "## Importando as bibliotecas necessárias\n",
    "\n",
    "Agora, vamos importar as bibliotecas necessárias:"
   ]
  },
  {
   "cell_type": "code",
   "execution_count": null,
   "id": "unlike-france",
   "metadata": {},
   "outputs": [],
   "source": [
    "# para trabalhar com diretórios / sistema operacional\n",
    "import os\n",
    "\n",
    "# para trabalhar com expressões regulares\n",
    "import re\n",
    "\n",
    "# utilizada para nos indicar o caminho do executável do Python\n",
    "import sys\n",
    "\n",
    "import re"
   ]
  },
  {
   "cell_type": "markdown",
   "id": "acquired-regard",
   "metadata": {},
   "source": [
    "Caso obtenha algum erro, utilize o **!pip install** para instalar a biblioteca ausente!\n",
    "\n",
    "Vamos conferir com qual versão da biblioteca **re** estamos trabalhando?"
   ]
  },
  {
   "cell_type": "code",
   "execution_count": null,
   "id": "removable-calvin",
   "metadata": {},
   "outputs": [],
   "source": [
    "print(re.__version__)"
   ]
  },
  {
   "cell_type": "markdown",
   "id": "fewer-voluntary",
   "metadata": {},
   "source": [
    "Você também pode conferir de onde está executando o Python e qual a versão"
   ]
  },
  {
   "cell_type": "code",
   "execution_count": null,
   "id": "aggregate-secondary",
   "metadata": {},
   "outputs": [],
   "source": [
    "print('Executável:')\n",
    "print(sys.executable)\n",
    "\n",
    "print('\\nVersão do Python:')\n",
    "print(sys.version)"
   ]
  },
  {
   "cell_type": "markdown",
   "id": "multiple-premium",
   "metadata": {},
   "source": [
    "Vamos conferir em qual diretório iremos trabalhar (é o diretório do notebook)"
   ]
  },
  {
   "cell_type": "code",
   "execution_count": null,
   "id": "revolutionary-quantity",
   "metadata": {},
   "outputs": [],
   "source": [
    "print('O seu notebook está na pasta:')\n",
    "print(os.getcwd())"
   ]
  },
  {
   "cell_type": "markdown",
   "id": "published-acceptance",
   "metadata": {},
   "source": [
    "# Praticando!\n",
    "\n",
    "Vamos ver como utilizar expressões regulares para encontrar padrões em textos.\n",
    "\n",
    "Primeiro, vamos procurar por uma palavra em uma mensagem:"
   ]
  },
  {
   "cell_type": "code",
   "execution_count": null,
   "id": "durable-complex",
   "metadata": {},
   "outputs": [],
   "source": [
    "msg = 'Do total de 18 produtos em estoque, apenas 3 tiveram vendas na última semana!'"
   ]
  },
  {
   "cell_type": "markdown",
   "id": "thermal-detroit",
   "metadata": {},
   "source": [
    "Agora que temos a mensagem, vamos procurar pela palavra **vendas**. Para isto, vamos utilizar a função `re.search`. Veja mais em https://docs.python.org/3/library/re.html#re.search"
   ]
  },
  {
   "cell_type": "code",
   "execution_count": null,
   "id": "decent-missile",
   "metadata": {},
   "outputs": [],
   "source": [
    "exp = r'vendas'\n",
    "resultado = re.search(exp, msg)\n",
    "resultado"
   ]
  },
  {
   "cell_type": "markdown",
   "id": "stretch-honey",
   "metadata": {},
   "source": [
    "será que podemos verificar se algo foi encontrado?"
   ]
  },
  {
   "cell_type": "code",
   "execution_count": null,
   "id": "finished-cancellation",
   "metadata": {},
   "outputs": [],
   "source": [
    "if resultado:\n",
    "    print('Encontrou!')\n",
    "else:\n",
    "    print('Nao encontrou!')"
   ]
  },
  {
   "cell_type": "markdown",
   "id": "eastern-creation",
   "metadata": {},
   "source": [
    "## Utilizando ReGex para substituição\n",
    "\n",
    "Quando realizamos a extração de dados (Web, PDF), é quase mandatório a necessidade da realização de um processo de limpeza e preparação dos dados. A remoção ou alteração da escrita de palavras pode ser realizada por substituições.\n",
    "\n",
    "**Vamos ver como substituir ocorrências?**\n",
    "\n",
    "Suponha que exista um erro em um texto ou você queira substituir uma palavra por outra equivalente:"
   ]
  },
  {
   "cell_type": "code",
   "execution_count": null,
   "id": "hollywood-support",
   "metadata": {},
   "outputs": [],
   "source": [
    "txt = 'Lyft vende unidade de carros automonos para a Toyota. Carros automonos serão a próxima moda!'"
   ]
  },
  {
   "cell_type": "markdown",
   "id": "8f59062b",
   "metadata": {},
   "source": [
    "Vamos substituir `automonos` por `autônomos`. Veja mais em https://docs.python.org/3/library/re.html#re.sub"
   ]
  },
  {
   "cell_type": "code",
   "execution_count": null,
   "id": "changing-protection",
   "metadata": {},
   "outputs": [],
   "source": [
    "re.sub(r'automonos', 'autônomos', txt)"
   ]
  },
  {
   "cell_type": "markdown",
   "id": "loaded-cargo",
   "metadata": {},
   "source": [
    "perceba que a variável não foi alterada, caso queira você precisa fazer uma atribuição *txt = re.sub...*."
   ]
  },
  {
   "cell_type": "code",
   "execution_count": null,
   "id": "extended-rendering",
   "metadata": {},
   "outputs": [],
   "source": [
    "txt"
   ]
  },
  {
   "cell_type": "code",
   "execution_count": null,
   "id": "demographic-awareness",
   "metadata": {},
   "outputs": [],
   "source": [
    "txt_corrigido = re.sub(r'automonos', 'autônomos', txt)"
   ]
  },
  {
   "cell_type": "markdown",
   "id": "informal-halloween",
   "metadata": {},
   "source": [
    "Em algumas situações, é necessário realizar a substituição apenas das primeiras **k** ocorrências. Podemos realizar esta alteração utilizando o parâmetro **count**."
   ]
  },
  {
   "cell_type": "code",
   "execution_count": null,
   "id": "great-hanging",
   "metadata": {},
   "outputs": [],
   "source": [
    "re.sub(r'automonos', 'autônomos', txt, count=1)"
   ]
  },
  {
   "cell_type": "code",
   "execution_count": null,
   "id": "developmental-directory",
   "metadata": {},
   "outputs": [],
   "source": [
    "exp = r'autônomos'\n",
    "resultado = re.search(exp, txt_corrigido)\n",
    "resultado"
   ]
  },
  {
   "cell_type": "markdown",
   "id": "matched-cassette",
   "metadata": {},
   "source": [
    "## Procurando múltiplas ocorrências\n",
    "\n",
    "Para encontrar múltiplas ocorrências, podemos utilizar a função **findall**."
   ]
  },
  {
   "cell_type": "code",
   "execution_count": null,
   "id": "progressive-platform",
   "metadata": {},
   "outputs": [],
   "source": [
    "noticia = '''\n",
    "A Lyft, rival da Uber nos Estados Unidos,\n",
    "vai vender sua unidade de tecnologia de carros autônomos para\n",
    "a Toyota em um acordo de 550 milhões de dólares, anunciaram as\n",
    "empresas nesta segunda-feira. A venda vai ajudar a lyft a se\n",
    "concentrar em parcerias com a ajuda de companhias de direção autônoma que\n",
    "querem disponibilizar tecnologia na plataforma da empresa, em vez\n",
    "da companhia ter de investir pesaaaaaadas somas em desenvolvimento de\n",
    "tecnologia que ainda não foi colocada em uso amplo.\n",
    "'''"
   ]
  },
  {
   "cell_type": "markdown",
   "id": "metropolitan-romance",
   "metadata": {},
   "source": [
    "Vamos procurar por todas as ocorrências de Lyft? Veja mais em https://docs.python.org/3/library/re.html#re.findall"
   ]
  },
  {
   "cell_type": "code",
   "execution_count": null,
   "id": "least-italic",
   "metadata": {},
   "outputs": [],
   "source": [
    "re.findall(r'Lyft', noticia)"
   ]
  },
  {
   "cell_type": "markdown",
   "id": "different-operation",
   "metadata": {},
   "source": [
    "Perceba que apenas ocorrências em maiúsculo foram encontrados. Por padrão, a busca será **case sensitive**\n",
    "\n",
    "Vamos ver como alterar para que a busca seja feita **ignorando o case**:"
   ]
  },
  {
   "cell_type": "code",
   "execution_count": null,
   "id": "brazilian-journal",
   "metadata": {},
   "outputs": [],
   "source": [
    "re.findall(r'lyft', noticia, flags=re.IGNORECASE)"
   ]
  },
  {
   "cell_type": "markdown",
   "id": "collaborative-buying",
   "metadata": {},
   "source": [
    "E se quiséssemos procurar por *Lyft* **OU** *Uber*?"
   ]
  },
  {
   "cell_type": "code",
   "execution_count": null,
   "id": "vulnerable-alabama",
   "metadata": {},
   "outputs": [],
   "source": [
    "re.findall(r'Lyft|Uber', noticia)"
   ]
  },
  {
   "cell_type": "code",
   "execution_count": null,
   "id": "restricted-sheep",
   "metadata": {},
   "outputs": [],
   "source": [
    "re.findall(r'Lyft|Uber|Toyota|Mazda', noticia)"
   ]
  },
  {
   "cell_type": "markdown",
   "id": "aerial-poverty",
   "metadata": {},
   "source": [
    "E se quiséssemos procurar pela palavra milhões?"
   ]
  },
  {
   "cell_type": "code",
   "execution_count": null,
   "id": "numerical-murray",
   "metadata": {},
   "outputs": [],
   "source": [
    "print(noticia)"
   ]
  },
  {
   "cell_type": "code",
   "execution_count": null,
   "id": "statutory-preview",
   "metadata": {},
   "outputs": [],
   "source": [
    "re.findall(r'milhões', noticia)"
   ]
  },
  {
   "cell_type": "markdown",
   "id": "c479dcb0",
   "metadata": {},
   "source": [
    "Como é uma palavra acentuada, podemos procurar também pela variante sem acento, ou utilizar uma alternativa. com o uso de **`.`**, podemos representar \"qualquer caractere\"."
   ]
  },
  {
   "cell_type": "code",
   "execution_count": null,
   "id": "inclusive-triumph",
   "metadata": {},
   "outputs": [],
   "source": [
    "re.findall(r'milh.es', noticia)"
   ]
  },
  {
   "cell_type": "markdown",
   "id": "turkish-italy",
   "metadata": {},
   "source": [
    "Consigo fazer match com qualquer caractere em um conjunto?"
   ]
  },
  {
   "cell_type": "code",
   "execution_count": null,
   "id": "rolled-kruger",
   "metadata": {},
   "outputs": [],
   "source": [
    "print(noticia)"
   ]
  },
  {
   "cell_type": "markdown",
   "id": "empirical-transport",
   "metadata": {},
   "source": [
    "Agora, vamos conferir os quantificadores.\n",
    "\n",
    "Uma ou mais ocorrências de uma letra:"
   ]
  },
  {
   "cell_type": "code",
   "execution_count": null,
   "id": "e2b019ad",
   "metadata": {},
   "outputs": [],
   "source": [
    "re.findall(r'pesada', 'pesda pesada pesaada pesaaada pesaaaaaada')"
   ]
  },
  {
   "cell_type": "code",
   "execution_count": null,
   "id": "72074f82",
   "metadata": {},
   "outputs": [],
   "source": [
    "re.findall(r'ba+\\w*', 'babaneira basquete belisco gelo baaanco')"
   ]
  },
  {
   "cell_type": "markdown",
   "id": "based-elder",
   "metadata": {},
   "source": [
    "zero ou uma ocorrências"
   ]
  },
  {
   "cell_type": "code",
   "execution_count": null,
   "id": "caroline-thailand",
   "metadata": {},
   "outputs": [],
   "source": [
    "re.findall(r'ajudar?', noticia)"
   ]
  },
  {
   "cell_type": "markdown",
   "id": "sound-action",
   "metadata": {},
   "source": [
    "Um número específico de vezes"
   ]
  },
  {
   "cell_type": "code",
   "execution_count": null,
   "id": "tough-modeling",
   "metadata": {},
   "outputs": [],
   "source": [
    "re.findall(r'pesa{,10}das', noticia)"
   ]
  },
  {
   "cell_type": "markdown",
   "id": "recovered-commonwealth",
   "metadata": {},
   "source": [
    "Podemos também procurar números nos textos:"
   ]
  },
  {
   "cell_type": "code",
   "execution_count": null,
   "id": "square-gasoline",
   "metadata": {},
   "outputs": [],
   "source": [
    "re.findall(r'5', noticia)"
   ]
  },
  {
   "cell_type": "code",
   "execution_count": null,
   "id": "phantom-assets",
   "metadata": {},
   "outputs": [],
   "source": [
    "re.findall(r'[0-9]', noticia)"
   ]
  },
  {
   "cell_type": "code",
   "execution_count": null,
   "id": "moved-reaction",
   "metadata": {},
   "outputs": [],
   "source": [
    "re.findall(r'[0-9]+', noticia)"
   ]
  },
  {
   "cell_type": "code",
   "execution_count": null,
   "id": "eastern-square",
   "metadata": {},
   "outputs": [],
   "source": [
    "re.findall(r'\\d+', noticia)"
   ]
  },
  {
   "cell_type": "markdown",
   "id": "christian-threat",
   "metadata": {},
   "source": [
    "Podemos fazer o mesmo com as letras!"
   ]
  },
  {
   "cell_type": "code",
   "execution_count": null,
   "id": "special-stage",
   "metadata": {},
   "outputs": [],
   "source": [
    "print(re.findall(r'[A-Z]', noticia))"
   ]
  },
  {
   "cell_type": "code",
   "execution_count": null,
   "id": "czech-australian",
   "metadata": {},
   "outputs": [],
   "source": [
    "print(re.findall(r'[a-z]+', noticia))"
   ]
  },
  {
   "cell_type": "code",
   "execution_count": null,
   "id": "critical-figure",
   "metadata": {},
   "outputs": [],
   "source": [
    "print(re.findall(r'[a-zA-Z]+', noticia))"
   ]
  },
  {
   "cell_type": "code",
   "execution_count": null,
   "id": "academic-giving",
   "metadata": {},
   "outputs": [],
   "source": [
    "print(re.findall(r'[a-zA-Z0-9]+', noticia))"
   ]
  },
  {
   "cell_type": "code",
   "execution_count": null,
   "id": "impressed-lying",
   "metadata": {},
   "outputs": [],
   "source": [
    "print(re.findall(r'[a-zA-ZÀ-ú0-9]+', noticia))"
   ]
  },
  {
   "cell_type": "code",
   "execution_count": null,
   "id": "pleased-lambda",
   "metadata": {},
   "outputs": [],
   "source": [
    "print(re.findall(r'\\w', noticia))"
   ]
  },
  {
   "cell_type": "code",
   "execution_count": null,
   "id": "modern-yahoo",
   "metadata": {},
   "outputs": [],
   "source": [
    "print(re.findall(r'\\w+', noticia))"
   ]
  },
  {
   "cell_type": "code",
   "execution_count": null,
   "id": "elder-watts",
   "metadata": {},
   "outputs": [],
   "source": [
    "print(re.findall(r'\\s+', noticia))"
   ]
  },
  {
   "cell_type": "code",
   "execution_count": null,
   "id": "settled-offset",
   "metadata": {},
   "outputs": [],
   "source": [
    "print(re.findall(r'\\S+', noticia))"
   ]
  },
  {
   "cell_type": "markdown",
   "id": "equivalent-jimmy",
   "metadata": {},
   "source": [
    "Procurando textos entre parênteses:"
   ]
  },
  {
   "cell_type": "code",
   "execution_count": null,
   "id": "exposed-sucking",
   "metadata": {},
   "outputs": [],
   "source": [
    "texto = 'Foi a Bia (mas não a sua irmã)'\n",
    "\n",
    "re.findall(r'\\(.*\\)', texto)"
   ]
  },
  {
   "cell_type": "code",
   "execution_count": null,
   "id": "17bc3d9f",
   "metadata": {},
   "outputs": [],
   "source": [
    "re.findall(r'[^a-c]+', 'este ano foi o ano 1988')"
   ]
  },
  {
   "cell_type": "markdown",
   "id": "patent-suggestion",
   "metadata": {},
   "source": [
    "# Resumindo\n",
    "\n",
    "**|** ⟶ OU\n",
    "\n",
    "**.** ⟶ Qualquer caractere, exceto quebra de linha\n",
    "\n",
    "**[az]** ⟶ O caractere \"a\" OU \"z\". Pode ser qualquer caractere do conjunto\n",
    "\n",
    "**[a-z]** ⟶ Qualquer caractere de \"a\" até \"z\" minúsculo\n",
    "\n",
    "**[A-Z]** ⟶ Qualquer caractere de \"A\" até \"Z\" maiúsculo\n",
    "\n",
    "**[0-9]** ⟶ Dígitos numéricos de \"0\" até \"9\"\n",
    "\n",
    "**[^a-c]** ⟶ Qualquer caractere, exceto de \"a\" até \"c\"\n",
    "\n",
    "**^[a-z]** ⟶ Qualquer caractere de \"a\" até \"z\". String deve começar com o padrão.\n",
    "\n",
    "**[a-z]*** ⟶ Zero ou mais letras de \"a\" até \"z\"\n",
    "\n",
    "**[A-Z]+** ⟶ Uma ou mais letras de \"A\" até \"Z\"\n",
    "\n",
    "**a{5}** ⟶ Cinco **a**'s\n",
    "\n",
    "**a{2,5}** ⟶ De dois a cinco **a**'s\n",
    "\n",
    "**[a-z]{,3}** ⟶ Até três letras de \"a\" até \"z\"\n",
    "\n",
    "**\\w** ⟶ [a-zA-ZÀ-ú0-9], mas apenas um caractere destes\n",
    "\n",
    "**\\w+** ⟶ um ou mais [a-zA-ZÀ-ú0-9], formando uma palavra\n",
    "\n",
    "**\\s** ⟶ separadores\n"
   ]
  },
  {
   "cell_type": "markdown",
   "id": "medieval-basis",
   "metadata": {},
   "source": [
    "\n",
    "# RegEx tester\n",
    "\n",
    "Uma ferramenta legal para conferir expressões regulares é o https://regex101.com ou https://www.regextester.com\n",
    "\n",
    "Nele, você pode conferir se há, para alguma expressão regular, match com palavras de um texto."
   ]
  },
  {
   "cell_type": "markdown",
   "id": "db760cff",
   "metadata": {},
   "source": [
    "## Atividade para entrega!\n",
    "\n",
    "## Insper Autograding\n",
    "\n",
    "Iremos utilizar uma ferramenta para correção automática. Ao responder os exercícios, será possível enviar a solução para um servidor, que dará feedback quase que instantâneo sobre a resposta.\n",
    "\n",
    "Além de já ter uma boa ideia sobre seu desempenho na atividade, não será necessário fazer a entrega do notebook pelo Blackboard pois o corretor já armazena suas soluções.\n",
    "\n",
    "Siga os passos deste notebook para realizar a instalação da biblioteca de correção de exercícios nos notebooks da disciplina!\n",
    "\n",
    "## Instalação\n",
    "\n",
    "Vamos instalar a biblioteca (este passo só precisa ser executado uma vez):"
   ]
  },
  {
   "cell_type": "code",
   "execution_count": null,
   "id": "e2a3913d",
   "metadata": {},
   "outputs": [],
   "source": [
    "# !pip uninstall -y insperautograder\n",
    "# !pip install git+https://github.com/macielcalebe/insperautograding.git"
   ]
  },
  {
   "cell_type": "markdown",
   "id": "15b3143e",
   "metadata": {},
   "source": [
    "## Importando as bibliotecas"
   ]
  },
  {
   "cell_type": "code",
   "execution_count": null,
   "id": "c7d5aeaa",
   "metadata": {},
   "outputs": [],
   "source": [
    "import os\n",
    "import insperautograder.jupyter as ia"
   ]
  },
  {
   "cell_type": "markdown",
   "id": "e83420f2",
   "metadata": {},
   "source": [
    "## Configurar ambiente\n",
    "\n",
    "Execute a célula para configurar nosso ambiente de execução:"
   ]
  },
  {
   "cell_type": "code",
   "execution_count": null,
   "id": "fae390bf",
   "metadata": {},
   "outputs": [],
   "source": [
    "os.environ[\"IAG_OFFERING\"] = \"24-1\"\n",
    "os.environ[\"IAG_SUBJECT\"] = \"analisetxt\"\n",
    "os.environ[\"IAG_SERVER_URL\"] = \"https://bigdata.insper-comp.com.br/iag\""
   ]
  },
  {
   "cell_type": "markdown",
   "id": "d9be4ba6",
   "metadata": {},
   "source": [
    "## Me diga quem você é\n",
    "\n",
    "Utilize o **Token** enviado para seu e-mail para que você seja identificado pelo servidor de testes.\n",
    "\n",
    "Substitua `iagtok_xxx...` pelo token enviado para seu e-mail."
   ]
  },
  {
   "cell_type": "code",
   "execution_count": null,
   "id": "8349fd9a",
   "metadata": {},
   "outputs": [],
   "source": [
    "os.environ[\"IAG_TOKEN\"] = \"iagtok_xxxxxxxxxxxxxxxxxxxxxxxxxxxxxxxxxxxxxxxxxxxxxxxx\""
   ]
  },
  {
   "cell_type": "markdown",
   "id": "94450de9",
   "metadata": {},
   "source": [
    "## Conferir atividades e notas\n",
    "\n",
    "Conferindo quais atividades estão disponíveis!"
   ]
  },
  {
   "cell_type": "code",
   "execution_count": null,
   "id": "c0fbaf6b",
   "metadata": {},
   "outputs": [],
   "source": [
    "ia.tasks()"
   ]
  },
  {
   "cell_type": "markdown",
   "id": "beb7c149",
   "metadata": {},
   "source": [
    "Conferindo a nota por exercício na atividade:"
   ]
  },
  {
   "cell_type": "code",
   "execution_count": null,
   "id": "caa0fb9c",
   "metadata": {},
   "outputs": [],
   "source": [
    "ia.grades(task=\"regex\")"
   ]
  },
  {
   "cell_type": "markdown",
   "id": "adb65894",
   "metadata": {},
   "source": [
    "Conferindo a nota geral nas atividades"
   ]
  },
  {
   "cell_type": "code",
   "execution_count": null,
   "id": "49e964a8",
   "metadata": {},
   "outputs": [],
   "source": [
    "ia.grades(by=\"TASK\")"
   ]
  },
  {
   "cell_type": "markdown",
   "id": "mexican-definition",
   "metadata": {},
   "source": [
    "# Exercícios"
   ]
  },
  {
   "cell_type": "markdown",
   "id": "subsequent-discrimination",
   "metadata": {},
   "source": [
    "**Exercício 1)** Considere a seguinte string:"
   ]
  },
  {
   "cell_type": "code",
   "execution_count": null,
   "id": "fancy-chapter",
   "metadata": {},
   "outputs": [],
   "source": [
    "msg = \"Uber e Lyft fizeram aprox. 15 milhões de corridas, isso em 2020. Em ritmo de crescimento!\""
   ]
  },
  {
   "cell_type": "markdown",
   "id": "single-blowing",
   "metadata": {},
   "source": [
    "a) Crie uma expressão regular para encontrar ocorrências dos termos **milhões** ou **crescimento** ou **investimento**"
   ]
  },
  {
   "cell_type": "code",
   "execution_count": null,
   "id": "5acd2389",
   "metadata": {},
   "outputs": [],
   "source": [
    "regex_exp_ex01a = r\"\" # Sua expressão regular!\n",
    "re.findall(regex_exp_ex01a, msg)"
   ]
  },
  {
   "cell_type": "markdown",
   "id": "a91e69a8",
   "metadata": {},
   "source": [
    "Vamos testar sua resposta localmente antes de enviar ao servidor de correção automática:"
   ]
  },
  {
   "cell_type": "code",
   "execution_count": null,
   "id": "7b08c2b2",
   "metadata": {},
   "outputs": [],
   "source": [
    "assert re.findall(regex_exp_ex01a, msg) == [\"milhões\", \"crescimento\"], \"Resposta diferente do esperado!\""
   ]
  },
  {
   "cell_type": "markdown",
   "id": "d0fd0993",
   "metadata": {},
   "source": [
    "Quando estiver confiante que sua resposta está correta, clique no botão abaixo para fazer o envio."
   ]
  },
  {
   "cell_type": "code",
   "execution_count": null,
   "id": "c12b6b5c",
   "metadata": {},
   "outputs": [],
   "source": [
    "ia.sender(answer=\"regex_exp_ex01a\", task=\"regex\", question=\"ex01a\", answer_type=\"pyvar\")"
   ]
  },
  {
   "cell_type": "markdown",
   "id": "welcome-chamber",
   "metadata": {},
   "source": [
    "b) Crie uma expressão regular para encontrar todos os números na mensagem."
   ]
  },
  {
   "cell_type": "code",
   "execution_count": null,
   "id": "9c217b7d",
   "metadata": {},
   "outputs": [],
   "source": [
    "regex_exp_ex01b = r\"\" # Sua expressão regular!\n",
    "re.findall(regex_exp_ex01b, msg)"
   ]
  },
  {
   "cell_type": "markdown",
   "id": "56466cd9",
   "metadata": {},
   "source": [
    "Vamos testar sua resposta localmente antes de enviar ao servidor de correção automática:"
   ]
  },
  {
   "cell_type": "code",
   "execution_count": null,
   "id": "11166ad2",
   "metadata": {},
   "outputs": [],
   "source": [
    "assert re.findall(regex_exp_ex01b, msg) == [\"15\", \"2020\"], \"Resposta diferente do esperado!\""
   ]
  },
  {
   "cell_type": "markdown",
   "id": "52f136dd",
   "metadata": {},
   "source": [
    "Quando estiver confiante que sua resposta está correta, clique no botão abaixo para fazer o envio."
   ]
  },
  {
   "cell_type": "code",
   "execution_count": null,
   "id": "c1423fc7",
   "metadata": {},
   "outputs": [],
   "source": [
    "ia.sender(answer=\"regex_exp_ex01b\", task=\"regex\", question=\"ex01b\", answer_type=\"pyvar\")"
   ]
  },
  {
   "cell_type": "markdown",
   "id": "brave-substance",
   "metadata": {},
   "source": [
    "c) Crie uma expressão regular para alterar de **aprox.** para **aproximadamente**."
   ]
  },
  {
   "cell_type": "code",
   "execution_count": null,
   "id": "776cb972",
   "metadata": {},
   "outputs": [],
   "source": [
    "regex_exp_ex01c = r'' # Sua expressão regular!\n",
    "re.sub(regex_exp_ex01c, 'aproximadamente', msg)"
   ]
  },
  {
   "cell_type": "markdown",
   "id": "4d154422",
   "metadata": {},
   "source": [
    "Vamos testar sua resposta localmente antes de enviar ao servidor de correção automática:"
   ]
  },
  {
   "cell_type": "code",
   "execution_count": null,
   "id": "0b347ec0",
   "metadata": {},
   "outputs": [],
   "source": [
    "msg_esperada = \"Uber e Lyft fizeram aproximadamente 15 milhões de corridas, isso em 2020. Em ritmo de crescimento!\"\n",
    "assert re.sub(regex_exp_ex01c, 'aproximadamente', msg) == msg_esperada, \"Resposta diferente do esperado!\""
   ]
  },
  {
   "cell_type": "markdown",
   "id": "4491e64f",
   "metadata": {},
   "source": [
    "Quando estiver confiante que sua resposta está correta, clique no botão abaixo para fazer o envio."
   ]
  },
  {
   "cell_type": "code",
   "execution_count": null,
   "id": "8019c285",
   "metadata": {},
   "outputs": [],
   "source": [
    "ia.sender(answer=\"regex_exp_ex01c\", task=\"regex\", question=\"ex01c\", answer_type=\"pyvar\")"
   ]
  },
  {
   "cell_type": "markdown",
   "id": "cross-investing",
   "metadata": {},
   "source": [
    "d) Crie uma expressão regular para remover *ponto* e *exclamação* das mensagens."
   ]
  },
  {
   "cell_type": "code",
   "execution_count": null,
   "id": "opened-webster",
   "metadata": {},
   "outputs": [],
   "source": [
    "regex_exp_ex01d = r'' # Sua expressão regular!\n",
    "re.sub(regex_exp_ex01d, '', msg)"
   ]
  },
  {
   "cell_type": "markdown",
   "id": "a210bfd7",
   "metadata": {},
   "source": [
    "Vamos testar sua resposta localmente antes de enviar ao servidor de correção automática:"
   ]
  },
  {
   "cell_type": "code",
   "execution_count": null,
   "id": "82bd485f",
   "metadata": {},
   "outputs": [],
   "source": [
    "msg_esperada = \"Uber e Lyft fizeram aprox 15 milhões de corridas, isso em 2020 Em ritmo de crescimento\"\n",
    "assert re.sub(regex_exp_ex01d, '', msg) == msg_esperada, \"Resposta diferente do esperado!\""
   ]
  },
  {
   "cell_type": "markdown",
   "id": "1d9e22e0",
   "metadata": {},
   "source": [
    "Quando estiver confiante que sua resposta está correta, clique no botão abaixo para fazer o envio."
   ]
  },
  {
   "cell_type": "code",
   "execution_count": null,
   "id": "0061ee66",
   "metadata": {},
   "outputs": [],
   "source": [
    "ia.sender(answer=\"regex_exp_ex01d\", task=\"regex\", question=\"ex01d\", answer_type=\"pyvar\")"
   ]
  },
  {
   "cell_type": "markdown",
   "id": "joint-radiation",
   "metadata": {},
   "source": [
    "**Exercício 2)** Crie um programa para substituir todas as ocorrências de espaço, vírgula e interrogação por dois pontos :"
   ]
  },
  {
   "cell_type": "code",
   "execution_count": null,
   "id": "ae5bcd19",
   "metadata": {},
   "outputs": [],
   "source": [
    "regex_exp_ex02 = r\"\" # Sua expressão regular!\n",
    "\n",
    "text = 'Eu? Aprendendo, expressões regulares.'\n",
    "\n",
    "res = re.sub(regex_exp_ex02, \":\", text)\n",
    "print(f\"Resultado: '{res}'\")"
   ]
  },
  {
   "cell_type": "markdown",
   "id": "95408bc6",
   "metadata": {},
   "source": [
    "Vamos testar sua resposta localmente antes de enviar ao servidor de correção automática:"
   ]
  },
  {
   "cell_type": "code",
   "execution_count": null,
   "id": "5cf57bdd",
   "metadata": {},
   "outputs": [],
   "source": [
    "msg_esperada = \"Eu::Aprendendo::expressões:regulares.\"\n",
    "assert re.sub(regex_exp_ex02, \":\", text) == msg_esperada, \"Resposta diferente do esperado!\""
   ]
  },
  {
   "cell_type": "markdown",
   "id": "1ab21e58",
   "metadata": {},
   "source": [
    "Quando estiver confiante que sua resposta está correta, clique no botão abaixo para fazer o envio."
   ]
  },
  {
   "cell_type": "code",
   "execution_count": null,
   "id": "8e63be65",
   "metadata": {},
   "outputs": [],
   "source": [
    "ia.sender(answer=\"regex_exp_ex02\", task=\"regex\", question=\"ex02\", answer_type=\"pyvar\")"
   ]
  },
  {
   "cell_type": "markdown",
   "id": "adolescent-sessions",
   "metadata": {},
   "source": [
    "**Exercício 3)** Crie uma expressão regular para obter, utilizando `re.findall`, a lista das palavras no texto (incluindo números). As palavras devolvidas devem estar sem pontuação.\n",
    "\n",
    "Dica: `\\w`"
   ]
  },
  {
   "cell_type": "code",
   "execution_count": null,
   "id": "registered-texas",
   "metadata": {},
   "outputs": [],
   "source": [
    "msg = 'Uber e Lyft fizeram aprox. 860 milhões de corridas, isso em 2020'\n",
    "\n",
    "regex_exp_ex03 = r\"\" # Sua expressão regular!\n",
    "\n",
    "re.findall(regex_exp_ex03, msg)"
   ]
  },
  {
   "cell_type": "markdown",
   "id": "33676287",
   "metadata": {},
   "source": [
    "Vamos testar sua resposta localmente antes de enviar ao servidor de correção automática:"
   ]
  },
  {
   "cell_type": "code",
   "execution_count": null,
   "id": "a3b66668",
   "metadata": {},
   "outputs": [],
   "source": [
    "esperado = ['Uber', 'e', 'Lyft', 'fizeram', 'aprox', '860', 'milhões', 'de', 'corridas', 'isso', 'em', '2020']\n",
    "assert re.findall(regex_exp_ex03, msg) == esperado, \"Resposta diferente do esperado!\""
   ]
  },
  {
   "cell_type": "markdown",
   "id": "ee8a29ce",
   "metadata": {},
   "source": [
    "Quando estiver confiante que sua resposta está correta, clique no botão abaixo para fazer o envio."
   ]
  },
  {
   "cell_type": "code",
   "execution_count": null,
   "id": "9adb0c24",
   "metadata": {},
   "outputs": [],
   "source": [
    "ia.sender(answer=\"regex_exp_ex03\", task=\"regex\", question=\"ex03\", answer_type=\"pyvar\")"
   ]
  },
  {
   "cell_type": "markdown",
   "id": "inside-sterling",
   "metadata": {},
   "source": [
    "**Exercício 4)** Considere a seguinte mensagem:"
   ]
  },
  {
   "cell_type": "code",
   "execution_count": null,
   "id": "ranging-international",
   "metadata": {},
   "outputs": [],
   "source": [
    "msg_ex04 = 'João nasceu em 12/05/2016, e em 12/05/18 completou 2 anos de vida! Em 5/3/34, iniciou seu ensino superior!'"
   ]
  },
  {
   "cell_type": "markdown",
   "id": "charitable-racing",
   "metadata": {},
   "source": [
    "a) Crie uma expressão regular para encontrar todos os números na mensagem"
   ]
  },
  {
   "cell_type": "code",
   "execution_count": null,
   "id": "d19d68e5",
   "metadata": {},
   "outputs": [],
   "source": [
    "# Seu código AQUI!"
   ]
  },
  {
   "cell_type": "markdown",
   "id": "agreed-paintball",
   "metadata": {},
   "source": [
    "b) Crie uma expressão regular para encontrar **datas** na mensagem.\n",
    "\n",
    "**Obs**:\n",
    "- Utilize `re.findall`.\n",
    "- Apenas datas separadas por barra, com dia, mês e ano."
   ]
  },
  {
   "cell_type": "code",
   "execution_count": null,
   "id": "29e3539e",
   "metadata": {},
   "outputs": [],
   "source": [
    "regex_exp_ex04b = r\"\" # Sua expressão regular!\n",
    "\n",
    "re.findall(regex_exp_ex04b, msg_ex04)"
   ]
  },
  {
   "cell_type": "markdown",
   "id": "9a95054f",
   "metadata": {},
   "source": [
    "Vamos testar sua resposta localmente antes de enviar ao servidor de correção automática:"
   ]
  },
  {
   "cell_type": "code",
   "execution_count": null,
   "id": "28197951",
   "metadata": {},
   "outputs": [],
   "source": [
    "esperado = ['12/05/2016', '12/05/18', '5/3/34']\n",
    "assert re.findall(regex_exp_ex04b, msg_ex04) == esperado, \"Resposta diferente do esperado!\""
   ]
  },
  {
   "cell_type": "markdown",
   "id": "d4984718",
   "metadata": {},
   "source": [
    "Quando estiver confiante que sua resposta está correta, clique no botão abaixo para fazer o envio."
   ]
  },
  {
   "cell_type": "code",
   "execution_count": null,
   "id": "694a7007",
   "metadata": {},
   "outputs": [],
   "source": [
    "ia.sender(answer=\"regex_exp_ex04b\", task=\"regex\", question=\"ex04b\", answer_type=\"pyvar\")"
   ]
  },
  {
   "cell_type": "markdown",
   "id": "positive-participation",
   "metadata": {},
   "source": [
    "**Exercício 5)** Crie um programa para encontrar URLs em uma string."
   ]
  },
  {
   "cell_type": "code",
   "execution_count": null,
   "id": "successful-reply",
   "metadata": {},
   "outputs": [],
   "source": [
    "txt_ex05 = 'Embora você possa digitar https://oficinadanet.com.br para acessar nosso site, em segundo plano, o navegador primeiro envia uma solicitação aos servidores DNS para resolver o nome do site em um endereço IP. Quando o endereço é encontrado, ele retorna e, em seguida, o navegador faz o download do conteúdo e mostra a página. Utilize http://www.google.com/ para ir ao buscador.'"
   ]
  },
  {
   "cell_type": "code",
   "execution_count": null,
   "id": "acd43b53",
   "metadata": {},
   "outputs": [],
   "source": [
    "print(txt_ex05)"
   ]
  },
  {
   "cell_type": "code",
   "execution_count": null,
   "id": "clean-synthetic",
   "metadata": {},
   "outputs": [],
   "source": [
    "regex_exp_ex05 = r\"\" # Sua regex!\n",
    "lista_url = re.findall(regex_exp_ex05, txt_ex05)\n",
    "print(lista_url)"
   ]
  },
  {
   "cell_type": "markdown",
   "id": "0a8a9c60",
   "metadata": {},
   "source": [
    "Vamos testar sua resposta localmente antes de enviar ao servidor de correção automática:"
   ]
  },
  {
   "cell_type": "code",
   "execution_count": null,
   "id": "0b5c3ab8",
   "metadata": {},
   "outputs": [],
   "source": [
    "esperado = ['https://oficinadanet.com.br', 'http://www.google.com/']\n",
    "assert re.findall(regex_exp_ex05, txt_ex05) == esperado, \"Resposta diferente do esperado!\""
   ]
  },
  {
   "cell_type": "markdown",
   "id": "7b7b3b3b",
   "metadata": {},
   "source": [
    "Quando estiver confiante que sua resposta está correta, clique no botão abaixo para fazer o envio."
   ]
  },
  {
   "cell_type": "code",
   "execution_count": null,
   "id": "70e4fb38",
   "metadata": {},
   "outputs": [],
   "source": [
    "ia.sender(answer=\"regex_exp_ex05\", task=\"regex\", question=\"ex05\", answer_type=\"pyvar\")"
   ]
  },
  {
   "cell_type": "markdown",
   "id": "final-border",
   "metadata": {},
   "source": [
    "**Exercício 6)** \n",
    "\n",
    "**a)** Crie uma expressão regular para identificar se um CPF está ou não formatado de acordo com o padrão 000.000.000-00. Exiba a mensagem *está correto* ou *está errado*"
   ]
  },
  {
   "cell_type": "code",
   "execution_count": null,
   "id": "22d1decc",
   "metadata": {},
   "outputs": [],
   "source": [
    "cpf = \"012.345.678-90\"\n",
    "\n",
    "regex_exp_ex06a = r\"\" # Sua expressão regular!\n",
    "\n",
    "if re.match(regex_exp_ex06a, cpf):\n",
    "    print(\"Está correto!\")\n",
    "else:\n",
    "    print(\"Fora do padrão!\")"
   ]
  },
  {
   "cell_type": "markdown",
   "id": "f403718a",
   "metadata": {},
   "source": [
    "Vamos testar sua resposta localmente antes de enviar ao servidor de correção automática:"
   ]
  },
  {
   "cell_type": "code",
   "execution_count": null,
   "id": "e2e26c40",
   "metadata": {},
   "outputs": [],
   "source": [
    "assert re.match(regex_exp_ex06a, \"012.345.678-90\"), \"Resposta diferente do esperado!\"\n",
    "assert re.match(regex_exp_ex06a, \"012.345.67890\") is None, \"Resposta diferente do esperado!\""
   ]
  },
  {
   "cell_type": "markdown",
   "id": "9a419471",
   "metadata": {},
   "source": [
    "Quando estiver confiante que sua resposta está correta, clique no botão abaixo para fazer o envio."
   ]
  },
  {
   "cell_type": "code",
   "execution_count": null,
   "id": "59dfd924",
   "metadata": {},
   "outputs": [],
   "source": [
    "ia.sender(answer=\"regex_exp_ex06a\", task=\"regex\", question=\"ex06a\", answer_type=\"pyvar\")"
   ]
  },
  {
   "cell_type": "markdown",
   "id": "internal-shoot",
   "metadata": {},
   "source": [
    "b) Crie uma função para fazer esta validação."
   ]
  },
  {
   "cell_type": "code",
   "execution_count": null,
   "id": "backed-beach",
   "metadata": {},
   "outputs": [],
   "source": [
    "def valid_cpf(cpf):\n",
    "    # Seu código aqui!\n",
    "    return"
   ]
  },
  {
   "cell_type": "code",
   "execution_count": null,
   "id": "4a153893",
   "metadata": {},
   "outputs": [],
   "source": [
    "print(valid_cpf(\"089.988.355-19\"))\n",
    "print(valid_cpf(\"011.233.455-9\"))\n",
    "print(valid_cpf(\"23.578.399-54\"))"
   ]
  },
  {
   "cell_type": "markdown",
   "id": "attempted-correction",
   "metadata": {},
   "source": [
    "**Exercício 7)** \n",
    "\n",
    "**a)** Crie uma expressão regular para validar se um telefone está no formato correto:\n",
    "\n",
    "Ex: (11) 98765-4321"
   ]
  },
  {
   "cell_type": "code",
   "execution_count": null,
   "id": "24d38723",
   "metadata": {},
   "outputs": [],
   "source": [
    "tel = \"(11) 98765-4321\"\n",
    "\n",
    "regex_exp_ex07a = r\"\" # Sua Expressão Regular!\n",
    "\n",
    "if re.match(regex_exp_ex07a, tel):\n",
    "    print(\"Está correto!\")\n",
    "else:\n",
    "    print(\"Fora do padrão!\")"
   ]
  },
  {
   "cell_type": "markdown",
   "id": "9f6e47d7",
   "metadata": {},
   "source": [
    "Vamos testar sua resposta localmente antes de enviar ao servidor de correção automática:"
   ]
  },
  {
   "cell_type": "code",
   "execution_count": null,
   "id": "f9e1b39f",
   "metadata": {},
   "outputs": [],
   "source": [
    "assert re.match(regex_exp_ex07a, \"(11) 98765-4321\"), \"Resposta diferente do esperado!\"\n",
    "assert re.match(regex_exp_ex07a, \"11987654321\") is None, \"Resposta diferente do esperado!\""
   ]
  },
  {
   "cell_type": "markdown",
   "id": "b1a82e2f",
   "metadata": {},
   "source": [
    "Quando estiver confiante que sua resposta está correta, clique no botão abaixo para fazer o envio."
   ]
  },
  {
   "cell_type": "code",
   "execution_count": null,
   "id": "4a96cfc8",
   "metadata": {},
   "outputs": [],
   "source": [
    "ia.sender(answer=\"regex_exp_ex07a\", task=\"regex\", question=\"ex07a\", answer_type=\"pyvar\")"
   ]
  },
  {
   "cell_type": "markdown",
   "id": "5f0c2f82",
   "metadata": {},
   "source": [
    "**b)** Crie uma função para validar se um telefone está no formato correto:"
   ]
  },
  {
   "cell_type": "code",
   "execution_count": null,
   "id": "c8ddc71d",
   "metadata": {},
   "outputs": [],
   "source": [
    "def valid_tel(tel):\n",
    "    # Seu código aqui!\n",
    "    return"
   ]
  },
  {
   "cell_type": "code",
   "execution_count": null,
   "id": "opening-startup",
   "metadata": {},
   "outputs": [],
   "source": [
    "tel = '(11) 98765-4321'\n",
    "print(valid_tel(tel))\n",
    "\n",
    "tel = '(11) 987654321'\n",
    "print(valid_tel(tel))\n",
    "\n",
    "tel = '11 98765-4321'\n",
    "print(valid_tel(tel))\n",
    "\n",
    "tel = '(11) 98765-432'\n",
    "print(valid_tel(tel))"
   ]
  },
  {
   "cell_type": "markdown",
   "id": "saved-affairs",
   "metadata": {},
   "source": [
    "**Exercício 8)** Crie uma função para encontrar todos os telefones em um texto\n",
    "\n",
    "Ex: (11) 98765-4321"
   ]
  },
  {
   "cell_type": "code",
   "execution_count": null,
   "id": "9b1b29c8",
   "metadata": {},
   "outputs": [],
   "source": [
    "def find_all_tel(txt):\n",
    "    # Seu código aqui!\n",
    "    return"
   ]
  },
  {
   "cell_type": "code",
   "execution_count": null,
   "id": "6f119e39",
   "metadata": {},
   "outputs": [],
   "source": [
    "txt = 'liga neste (11) 98765-4321 ou neste (11) 98765-4321'\n",
    "\n",
    "find_all_tel(txt)"
   ]
  },
  {
   "cell_type": "code",
   "execution_count": null,
   "id": "protecting-equation",
   "metadata": {},
   "outputs": [],
   "source": [
    "tel = 'liga neste (11) 98765-4321 ou neste (11) 98765-4321'\n",
    "\n",
    "re.findall(r'\\(\\d{2}\\) \\d{5}-\\d{4}', tel)"
   ]
  },
  {
   "cell_type": "markdown",
   "id": "metallic-progress",
   "metadata": {},
   "source": [
    "**Exercício 9)** Encontre e teste um RegEx para validar email!\n"
   ]
  },
  {
   "cell_type": "code",
   "execution_count": null,
   "id": "visible-jewel",
   "metadata": {},
   "outputs": [],
   "source": []
  },
  {
   "cell_type": "markdown",
   "id": "536106b1",
   "metadata": {},
   "source": [
    "**Exercício 10)** Uma empresa deseja monitorar menções a ela em notícias. Crie uma função que recebe um texto (notícia) e o nome da `empresa`. Caso a notícia faça menção a empresa, devolva a quantas palavras negativas são encontradas na notícia."
   ]
  },
  {
   "cell_type": "code",
   "execution_count": null,
   "id": "6ddf3c25",
   "metadata": {},
   "outputs": [],
   "source": [
    "def monitora_neg(notica, empresa):\n",
    "    # Seu código aqui!\n",
    "    return"
   ]
  },
  {
   "cell_type": "code",
   "execution_count": null,
   "id": "ffc453c1",
   "metadata": {},
   "outputs": [],
   "source": [
    "noticia = 'A Microsoft fez um péssimo trabalho no desenvolvimento do Onedrive. Os clientes, irritados, '\n",
    "print(monitora_neg(noticia, 'Microsoft'))\n",
    "\n",
    "noticia = 'A Microsoft fez um péssimo trabalho no desenvolvimento do Onedrive. Os clientes, irritados, tentam se localizar'\n",
    "print(monitora_neg(noticia, 'Apple'))\n",
    "\n",
    "noticia = '''\n",
    "Pânico e recessão globais. O Lehman Brothers entrou com pedido\n",
    "de recuperação judicial em 15 de setembro de 2008, uma segunda-feira\n",
    "e teve sua falência decretada. Com uma dívida de US$ 613 bilhões,\n",
    "o banco, fundado em 1847, empregava cerca de\n",
    "25 mil pessoas no mundo todo. Cliente irados não saem do telefone.\n",
    "'''\n",
    "print(monitora_neg(noticia, 'Lehman Brothers'))\n"
   ]
  },
  {
   "cell_type": "markdown",
   "id": "cf022307",
   "metadata": {},
   "source": [
    "## Conferir notas"
   ]
  },
  {
   "cell_type": "code",
   "execution_count": null,
   "id": "12e41386",
   "metadata": {},
   "outputs": [],
   "source": [
    "ia.grades(task=\"regex\")"
   ]
  }
 ],
 "metadata": {
  "kernelspec": {
   "display_name": "Python 3 (ipykernel)",
   "language": "python",
   "name": "python3"
  },
  "language_info": {
   "codemirror_mode": {
    "name": "ipython",
    "version": 3
   },
   "file_extension": ".py",
   "mimetype": "text/x-python",
   "name": "python",
   "nbconvert_exporter": "python",
   "pygments_lexer": "ipython3",
   "version": "3.10.12"
  }
 },
 "nbformat": 4,
 "nbformat_minor": 5
}
