{
 "cells": [
  {
   "cell_type": "markdown",
   "id": "comprehensive-turkey",
   "metadata": {},
   "source": [
    "# Análise de texto de fontes desestruturadas e Web\n",
    "\n",
    "## Aula 08\n",
    "\n",
    "Nesta aula iremos trabalhar com **Expressões Regulares**, termo comumente abreviado para **RegEx**. Regex provê uma forma eficiente de encontrar padrões regulares em corpus textuais. \n",
    "\n",
    "A biblioteca utilizada será a **re**.\n",
    "\n",
    "Para conhecer mais sobre ela, acesse https://docs.python.org/3/library/re.html"
   ]
  },
  {
   "cell_type": "markdown",
   "id": "weird-patrol",
   "metadata": {},
   "source": [
    "## Importando as bibliotecas necessárias\n",
    "\n",
    "Agora, vamos importar as bibliotecas necessárias:"
   ]
  },
  {
   "cell_type": "code",
   "execution_count": 20,
   "id": "unlike-france",
   "metadata": {},
   "outputs": [],
   "source": [
    "# para trabalhar com diretórios / sistema operacional\n",
    "import os\n",
    "\n",
    "# para trabalhar com expressões regulares\n",
    "import re\n",
    "\n",
    "# utilizada para nos indicar o caminho do executável do Python\n",
    "import sys\n",
    "\n",
    "import re"
   ]
  },
  {
   "cell_type": "markdown",
   "id": "acquired-regard",
   "metadata": {},
   "source": [
    "Caso obtenha algum erro, utilize o **!pip install** para instalar a biblioteca ausente!\n",
    "\n",
    "Vamos conferir com qual versão da biblioteca **re** estamos trabalhando?"
   ]
  },
  {
   "cell_type": "code",
   "execution_count": 2,
   "id": "removable-calvin",
   "metadata": {},
   "outputs": [
    {
     "name": "stdout",
     "output_type": "stream",
     "text": [
      "2.2.1\n"
     ]
    }
   ],
   "source": [
    "print(re.__version__)"
   ]
  },
  {
   "cell_type": "markdown",
   "id": "fewer-voluntary",
   "metadata": {},
   "source": [
    "Você também pode conferir de onde está executando o Python e qual a versão"
   ]
  },
  {
   "cell_type": "code",
   "execution_count": 3,
   "id": "aggregate-secondary",
   "metadata": {},
   "outputs": [
    {
     "name": "stdout",
     "output_type": "stream",
     "text": [
      "Executável:\n",
      "/home/gabrielhso/Desktop/insper/2024.1/web-scraping/class-repo/env/bin/python\n",
      "\n",
      "Versão do Python:\n",
      "3.10.12 (main, Nov 20 2023, 15:14:05) [GCC 11.4.0]\n"
     ]
    }
   ],
   "source": [
    "print('Executável:')\n",
    "print(sys.executable)\n",
    "\n",
    "print('\\nVersão do Python:')\n",
    "print(sys.version)"
   ]
  },
  {
   "cell_type": "markdown",
   "id": "multiple-premium",
   "metadata": {},
   "source": [
    "Vamos conferir em qual diretório iremos trabalhar (é o diretório do notebook)"
   ]
  },
  {
   "cell_type": "code",
   "execution_count": 4,
   "id": "revolutionary-quantity",
   "metadata": {},
   "outputs": [
    {
     "name": "stdout",
     "output_type": "stream",
     "text": [
      "O seu notebook está na pasta:\n",
      "/home/gabrielhso/Desktop/insper/2024.1/web-scraping/class-repo/aulas/08-regex\n"
     ]
    }
   ],
   "source": [
    "print('O seu notebook está na pasta:')\n",
    "print(os.getcwd())"
   ]
  },
  {
   "cell_type": "markdown",
   "id": "published-acceptance",
   "metadata": {},
   "source": [
    "# Praticando!\n",
    "\n",
    "Vamos ver como utilizar expressões regulares para encontrar padrões em textos.\n",
    "\n",
    "Primeiro, vamos procurar por uma palavra em uma mensagem:"
   ]
  },
  {
   "cell_type": "code",
   "execution_count": 5,
   "id": "durable-complex",
   "metadata": {},
   "outputs": [],
   "source": [
    "msg = 'Do total de 18 produtos em estoque, apenas 3 tiveram vendas na última semana!'"
   ]
  },
  {
   "cell_type": "markdown",
   "id": "thermal-detroit",
   "metadata": {},
   "source": [
    "Agora que temos a mensagem, vamos procurar pela palavra **vendas**. Para isto, vamos utilizar a função `re.search`. Veja mais em https://docs.python.org/3/library/re.html#re.search"
   ]
  },
  {
   "cell_type": "code",
   "execution_count": 6,
   "id": "decent-missile",
   "metadata": {},
   "outputs": [
    {
     "data": {
      "text/plain": [
       "<re.Match object; span=(53, 59), match='vendas'>"
      ]
     },
     "execution_count": 6,
     "metadata": {},
     "output_type": "execute_result"
    }
   ],
   "source": [
    "exp = r'vendas'\n",
    "resultado = re.search(exp, msg)\n",
    "resultado"
   ]
  },
  {
   "cell_type": "markdown",
   "id": "stretch-honey",
   "metadata": {},
   "source": [
    "será que podemos verificar se algo foi encontrado?"
   ]
  },
  {
   "cell_type": "code",
   "execution_count": 8,
   "id": "finished-cancellation",
   "metadata": {},
   "outputs": [
    {
     "name": "stdout",
     "output_type": "stream",
     "text": [
      "Encontrou!\n"
     ]
    }
   ],
   "source": [
    "if resultado:\n",
    "    print('Encontrou!')\n",
    "else:\n",
    "    print('Nao encontrou!')"
   ]
  },
  {
   "cell_type": "markdown",
   "id": "eastern-creation",
   "metadata": {},
   "source": [
    "## Utilizando ReGex para substituição\n",
    "\n",
    "Quando realizamos a extração de dados (Web, PDF), é quase mandatório a necessidade da realização de um processo de limpeza e preparação dos dados. A remoção ou alteração da escrita de palavras pode ser realizada por substituições.\n",
    "\n",
    "**Vamos ver como substituir ocorrências?**\n",
    "\n",
    "Suponha que exista um erro em um texto ou você queira substituir uma palavra por outra equivalente:"
   ]
  },
  {
   "cell_type": "code",
   "execution_count": 9,
   "id": "hollywood-support",
   "metadata": {},
   "outputs": [],
   "source": [
    "txt = 'Lyft vende unidade de carros automonos para a Toyota. Carros automonos serão a próxima moda!'"
   ]
  },
  {
   "cell_type": "markdown",
   "id": "8f59062b",
   "metadata": {},
   "source": [
    "Vamos substituir `automonos` por `autônomos`. Veja mais em https://docs.python.org/3/library/re.html#re.sub"
   ]
  },
  {
   "cell_type": "code",
   "execution_count": 10,
   "id": "changing-protection",
   "metadata": {},
   "outputs": [
    {
     "data": {
      "text/plain": [
       "'Lyft vende unidade de carros autônomos para a Toyota. Carros autônomos serão a próxima moda!'"
      ]
     },
     "execution_count": 10,
     "metadata": {},
     "output_type": "execute_result"
    }
   ],
   "source": [
    "re.sub(r'automonos', 'autônomos', txt)"
   ]
  },
  {
   "cell_type": "code",
   "execution_count": 14,
   "id": "d023e506",
   "metadata": {},
   "outputs": [
    {
     "data": {
      "text/plain": [
       "'Lyft vende unidade de carros autônomos para a Toyota. Carros autônomos serão a próxima moda!'"
      ]
     },
     "execution_count": 14,
     "metadata": {},
     "output_type": "execute_result"
    }
   ],
   "source": [
    "txt.replace(\"automonos\", \"autônomos\")"
   ]
  },
  {
   "cell_type": "markdown",
   "id": "loaded-cargo",
   "metadata": {},
   "source": [
    "perceba que a variável não foi alterada, caso queira você precisa fazer uma atribuição *txt = re.sub...*."
   ]
  },
  {
   "cell_type": "code",
   "execution_count": 15,
   "id": "extended-rendering",
   "metadata": {},
   "outputs": [
    {
     "data": {
      "text/plain": [
       "'Lyft vende unidade de carros automonos para a Toyota. Carros automonos serão a próxima moda!'"
      ]
     },
     "execution_count": 15,
     "metadata": {},
     "output_type": "execute_result"
    }
   ],
   "source": [
    "txt"
   ]
  },
  {
   "cell_type": "code",
   "execution_count": 16,
   "id": "demographic-awareness",
   "metadata": {},
   "outputs": [],
   "source": [
    "txt_corrigido = re.sub(r'automonos', 'autônomos', txt)"
   ]
  },
  {
   "cell_type": "markdown",
   "id": "informal-halloween",
   "metadata": {},
   "source": [
    "Em algumas situações, é necessário realizar a substituição apenas das primeiras **k** ocorrências. Podemos realizar esta alteração utilizando o parâmetro **count**."
   ]
  },
  {
   "cell_type": "code",
   "execution_count": 17,
   "id": "great-hanging",
   "metadata": {},
   "outputs": [
    {
     "data": {
      "text/plain": [
       "'Lyft vende unidade de carros autônomos para a Toyota. Carros automonos serão a próxima moda!'"
      ]
     },
     "execution_count": 17,
     "metadata": {},
     "output_type": "execute_result"
    }
   ],
   "source": [
    "re.sub(r'automonos', 'autônomos', txt, count=1)"
   ]
  },
  {
   "cell_type": "code",
   "execution_count": 18,
   "id": "developmental-directory",
   "metadata": {},
   "outputs": [
    {
     "data": {
      "text/plain": [
       "<re.Match object; span=(29, 38), match='autônomos'>"
      ]
     },
     "execution_count": 18,
     "metadata": {},
     "output_type": "execute_result"
    }
   ],
   "source": [
    "exp = r'autônomos'\n",
    "resultado = re.search(exp, txt_corrigido)\n",
    "resultado"
   ]
  },
  {
   "cell_type": "markdown",
   "id": "matched-cassette",
   "metadata": {},
   "source": [
    "## Procurando múltiplas ocorrências\n",
    "\n",
    "Para encontrar múltiplas ocorrências, podemos utilizar a função **findall**."
   ]
  },
  {
   "cell_type": "code",
   "execution_count": 30,
   "id": "progressive-platform",
   "metadata": {},
   "outputs": [],
   "source": [
    "noticia = '''\n",
    "A Lyft, rival da Uber nos Estados Unidos,\n",
    "vai vender sua unidade de tecnologia de carros autônomos para\n",
    "a Toyota em um acordo de 550 milhões de dólares, anunciaram as\n",
    "empresas nesta segunda-feira. A venda vai ajudar a lyft a se\n",
    "concentrar em parcerias com a ajuda de companhias de direção autônoma que\n",
    "querem disponibilizar tecnologia na plataforma da empresa, em vez\n",
    "da companhia ter de investir pesaaaaaadas somas em desenvolvimento de\n",
    "tecnologia que ainda não foi colocada em uso amplo.\n",
    "'''"
   ]
  },
  {
   "cell_type": "markdown",
   "id": "metropolitan-romance",
   "metadata": {},
   "source": [
    "Vamos procurar por todas as ocorrências de Lyft? Veja mais em https://docs.python.org/3/library/re.html#re.findall"
   ]
  },
  {
   "cell_type": "code",
   "execution_count": 31,
   "id": "least-italic",
   "metadata": {},
   "outputs": [
    {
     "data": {
      "text/plain": [
       "['Lyft']"
      ]
     },
     "execution_count": 31,
     "metadata": {},
     "output_type": "execute_result"
    }
   ],
   "source": [
    "re.findall(r'Lyft', noticia)"
   ]
  },
  {
   "cell_type": "markdown",
   "id": "different-operation",
   "metadata": {},
   "source": [
    "Perceba que apenas ocorrências em maiúsculo foram encontrados. Por padrão, a busca será **case sensitive**\n",
    "\n",
    "Vamos ver como alterar para que a busca seja feita **ignorando o case**:"
   ]
  },
  {
   "cell_type": "code",
   "execution_count": 32,
   "id": "brazilian-journal",
   "metadata": {},
   "outputs": [
    {
     "data": {
      "text/plain": [
       "['Lyft', 'lyft']"
      ]
     },
     "execution_count": 32,
     "metadata": {},
     "output_type": "execute_result"
    }
   ],
   "source": [
    "re.findall(r'lyft', noticia, flags=re.IGNORECASE)"
   ]
  },
  {
   "cell_type": "markdown",
   "id": "collaborative-buying",
   "metadata": {},
   "source": [
    "E se quiséssemos procurar por *Lyft* **OU** *Uber*?"
   ]
  },
  {
   "cell_type": "code",
   "execution_count": 33,
   "id": "vulnerable-alabama",
   "metadata": {},
   "outputs": [
    {
     "data": {
      "text/plain": [
       "['Lyft', 'Uber']"
      ]
     },
     "execution_count": 33,
     "metadata": {},
     "output_type": "execute_result"
    }
   ],
   "source": [
    "re.findall(r'Lyft|Uber', noticia)"
   ]
  },
  {
   "cell_type": "code",
   "execution_count": 34,
   "id": "restricted-sheep",
   "metadata": {},
   "outputs": [
    {
     "data": {
      "text/plain": [
       "['Lyft', 'Uber', 'Toyota']"
      ]
     },
     "execution_count": 34,
     "metadata": {},
     "output_type": "execute_result"
    }
   ],
   "source": [
    "re.findall(r'Lyft|Uber|Toyota|Mazda', noticia)"
   ]
  },
  {
   "cell_type": "markdown",
   "id": "7b18fb3e",
   "metadata": {},
   "source": [
    "> Se tiver múltiplas ocorrências ele também retorna múltiplas vezes"
   ]
  },
  {
   "cell_type": "code",
   "execution_count": 36,
   "id": "f435c3a5",
   "metadata": {},
   "outputs": [
    {
     "data": {
      "text/plain": [
       "['de', 'de', 'de', 'de', 'de', 'de', 'de', 'de', 'de', 'de', 'de']"
      ]
     },
     "execution_count": 36,
     "metadata": {},
     "output_type": "execute_result"
    }
   ],
   "source": [
    "re.findall(r'de', noticia)"
   ]
  },
  {
   "cell_type": "code",
   "execution_count": 39,
   "id": "eced0fcd",
   "metadata": {},
   "outputs": [
    {
     "data": {
      "text/plain": [
       "11"
      ]
     },
     "execution_count": 39,
     "metadata": {},
     "output_type": "execute_result"
    }
   ],
   "source": [
    "noticia.count('de')"
   ]
  },
  {
   "cell_type": "markdown",
   "id": "aerial-poverty",
   "metadata": {},
   "source": [
    "E se quiséssemos procurar pela palavra milhões?"
   ]
  },
  {
   "cell_type": "code",
   "execution_count": 24,
   "id": "numerical-murray",
   "metadata": {},
   "outputs": [
    {
     "name": "stdout",
     "output_type": "stream",
     "text": [
      "\n",
      "A Lyft, rival da Uber nos Estados Unidos,\n",
      "vai vender sua unidade de tecnologia de carros autônomos para\n",
      "a Toyota em um acordo de 550 milhões de dólares, anunciaram as\n",
      "empresas nesta segunda-feira. A venda vai ajudar a lyft a se\n",
      "concentrar em parcerias com a ajuda de companhias de direção autônoma que\n",
      "querem disponibilizar tecnologia na plataforma da empresa, em vez\n",
      "da companhia ter de investir pesaaaaaadas somas em desenvolvimento de\n",
      "tecnologia que ainda não foi colocada em uso amplo.\n",
      "\n"
     ]
    }
   ],
   "source": [
    "print(noticia)"
   ]
  },
  {
   "cell_type": "code",
   "execution_count": 25,
   "id": "statutory-preview",
   "metadata": {},
   "outputs": [
    {
     "data": {
      "text/plain": [
       "['milhões']"
      ]
     },
     "execution_count": 25,
     "metadata": {},
     "output_type": "execute_result"
    }
   ],
   "source": [
    "re.findall(r'milhões', noticia)"
   ]
  },
  {
   "cell_type": "markdown",
   "id": "c479dcb0",
   "metadata": {},
   "source": [
    "Como é uma palavra acentuada, podemos procurar também pela variante sem acento, ou utilizar uma alternativa. com o uso de **`.`**, podemos representar \"qualquer caractere\"."
   ]
  },
  {
   "cell_type": "code",
   "execution_count": 26,
   "id": "inclusive-triumph",
   "metadata": {},
   "outputs": [
    {
     "data": {
      "text/plain": [
       "['milhões']"
      ]
     },
     "execution_count": 26,
     "metadata": {},
     "output_type": "execute_result"
    }
   ],
   "source": [
    "re.findall(r'milh.es', noticia)"
   ]
  },
  {
   "cell_type": "markdown",
   "id": "turkish-italy",
   "metadata": {},
   "source": [
    "Consigo fazer match com qualquer caractere em um conjunto?"
   ]
  },
  {
   "cell_type": "code",
   "execution_count": 27,
   "id": "rolled-kruger",
   "metadata": {},
   "outputs": [
    {
     "name": "stdout",
     "output_type": "stream",
     "text": [
      "\n",
      "A Lyft, rival da Uber nos Estados Unidos,\n",
      "vai vender sua unidade de tecnologia de carros autônomos para\n",
      "a Toyota em um acordo de 550 milhões de dólares, anunciaram as\n",
      "empresas nesta segunda-feira. A venda vai ajudar a lyft a se\n",
      "concentrar em parcerias com a ajuda de companhias de direção autônoma que\n",
      "querem disponibilizar tecnologia na plataforma da empresa, em vez\n",
      "da companhia ter de investir pesaaaaaadas somas em desenvolvimento de\n",
      "tecnologia que ainda não foi colocada em uso amplo.\n",
      "\n"
     ]
    }
   ],
   "source": [
    "print(noticia)"
   ]
  },
  {
   "cell_type": "markdown",
   "id": "empirical-transport",
   "metadata": {},
   "source": [
    "Agora, vamos conferir os quantificadores.\n",
    "\n",
    "Uma ou mais ocorrências de uma letra:"
   ]
  },
  {
   "cell_type": "code",
   "execution_count": 40,
   "id": "e2b019ad",
   "metadata": {},
   "outputs": [
    {
     "data": {
      "text/plain": [
       "['pesada']"
      ]
     },
     "execution_count": 40,
     "metadata": {},
     "output_type": "execute_result"
    }
   ],
   "source": [
    "re.findall(r'pesada', 'pesda pesada pesaada pesaaada pesaaaaaada')"
   ]
  },
  {
   "cell_type": "code",
   "execution_count": 43,
   "id": "528f0b3a",
   "metadata": {},
   "outputs": [
    {
     "data": {
      "text/plain": [
       "['pesada', 'pesaada', 'pesaaada', 'pesaaaaaada']"
      ]
     },
     "execution_count": 43,
     "metadata": {},
     "output_type": "execute_result"
    }
   ],
   "source": [
    "re.findall(r'pesa+da', 'pesda pesada pesaada pesaaada pesaaaaaada')"
   ]
  },
  {
   "cell_type": "code",
   "execution_count": 44,
   "id": "72074f82",
   "metadata": {},
   "outputs": [
    {
     "data": {
      "text/plain": [
       "['babaneira', 'basquete', 'baaanco']"
      ]
     },
     "execution_count": 44,
     "metadata": {},
     "output_type": "execute_result"
    }
   ],
   "source": [
    "re.findall(r'ba+\\w*', 'babaneira basquete belisco gelo baaanco')"
   ]
  },
  {
   "cell_type": "markdown",
   "id": "based-elder",
   "metadata": {},
   "source": [
    "zero ou uma ocorrências"
   ]
  },
  {
   "cell_type": "code",
   "execution_count": 45,
   "id": "caroline-thailand",
   "metadata": {},
   "outputs": [
    {
     "data": {
      "text/plain": [
       "['ajudar', 'ajuda']"
      ]
     },
     "execution_count": 45,
     "metadata": {},
     "output_type": "execute_result"
    }
   ],
   "source": [
    "re.findall(r'ajudar?', noticia)"
   ]
  },
  {
   "cell_type": "markdown",
   "id": "sound-action",
   "metadata": {},
   "source": [
    "Um número específico de vezes"
   ]
  },
  {
   "cell_type": "code",
   "execution_count": 46,
   "id": "tough-modeling",
   "metadata": {},
   "outputs": [
    {
     "data": {
      "text/plain": [
       "['pesaaaaaadas']"
      ]
     },
     "execution_count": 46,
     "metadata": {},
     "output_type": "execute_result"
    }
   ],
   "source": [
    "re.findall(r'pesa{,10}das', noticia)"
   ]
  },
  {
   "cell_type": "markdown",
   "id": "recovered-commonwealth",
   "metadata": {},
   "source": [
    "Podemos também procurar números nos textos:"
   ]
  },
  {
   "cell_type": "code",
   "execution_count": 47,
   "id": "square-gasoline",
   "metadata": {},
   "outputs": [
    {
     "data": {
      "text/plain": [
       "['5', '5']"
      ]
     },
     "execution_count": 47,
     "metadata": {},
     "output_type": "execute_result"
    }
   ],
   "source": [
    "re.findall(r'5', noticia)"
   ]
  },
  {
   "cell_type": "code",
   "execution_count": 48,
   "id": "phantom-assets",
   "metadata": {},
   "outputs": [
    {
     "data": {
      "text/plain": [
       "['5', '5', '0']"
      ]
     },
     "execution_count": 48,
     "metadata": {},
     "output_type": "execute_result"
    }
   ],
   "source": [
    "re.findall(r'[0-9]', noticia)"
   ]
  },
  {
   "cell_type": "code",
   "execution_count": 49,
   "id": "moved-reaction",
   "metadata": {},
   "outputs": [
    {
     "data": {
      "text/plain": [
       "['550']"
      ]
     },
     "execution_count": 49,
     "metadata": {},
     "output_type": "execute_result"
    }
   ],
   "source": [
    "re.findall(r'[0-9]+', noticia)"
   ]
  },
  {
   "cell_type": "code",
   "execution_count": 50,
   "id": "eastern-square",
   "metadata": {},
   "outputs": [
    {
     "data": {
      "text/plain": [
       "['550']"
      ]
     },
     "execution_count": 50,
     "metadata": {},
     "output_type": "execute_result"
    }
   ],
   "source": [
    "re.findall(r'\\d+', noticia)"
   ]
  },
  {
   "cell_type": "markdown",
   "id": "christian-threat",
   "metadata": {},
   "source": [
    "Podemos fazer o mesmo com as letras!"
   ]
  },
  {
   "cell_type": "code",
   "execution_count": 51,
   "id": "special-stage",
   "metadata": {},
   "outputs": [
    {
     "name": "stdout",
     "output_type": "stream",
     "text": [
      "['A', 'L', 'U', 'E', 'U', 'T', 'A']\n"
     ]
    }
   ],
   "source": [
    "print(re.findall(r'[A-Z]', noticia))"
   ]
  },
  {
   "cell_type": "code",
   "execution_count": 52,
   "id": "czech-australian",
   "metadata": {},
   "outputs": [
    {
     "name": "stdout",
     "output_type": "stream",
     "text": [
      "['yft', 'rival', 'da', 'ber', 'nos', 'stados', 'nidos', 'vai', 'vender', 'sua', 'unidade', 'de', 'tecnologia', 'de', 'carros', 'aut', 'nomos', 'para', 'a', 'oyota', 'em', 'um', 'acordo', 'de', 'milh', 'es', 'de', 'd', 'lares', 'anunciaram', 'as', 'empresas', 'nesta', 'segunda', 'feira', 'venda', 'vai', 'ajudar', 'a', 'lyft', 'a', 'se', 'concentrar', 'em', 'parcerias', 'com', 'a', 'ajuda', 'de', 'companhias', 'de', 'dire', 'o', 'aut', 'noma', 'que', 'querem', 'disponibilizar', 'tecnologia', 'na', 'plataforma', 'da', 'empresa', 'em', 'vez', 'da', 'companhia', 'ter', 'de', 'investir', 'pesaaaaaadas', 'somas', 'em', 'desenvolvimento', 'de', 'tecnologia', 'que', 'ainda', 'n', 'o', 'foi', 'colocada', 'em', 'uso', 'amplo']\n"
     ]
    }
   ],
   "source": [
    "print(re.findall(r'[a-z]+', noticia))"
   ]
  },
  {
   "cell_type": "code",
   "execution_count": 53,
   "id": "critical-figure",
   "metadata": {},
   "outputs": [
    {
     "name": "stdout",
     "output_type": "stream",
     "text": [
      "['A', 'Lyft', 'rival', 'da', 'Uber', 'nos', 'Estados', 'Unidos', 'vai', 'vender', 'sua', 'unidade', 'de', 'tecnologia', 'de', 'carros', 'aut', 'nomos', 'para', 'a', 'Toyota', 'em', 'um', 'acordo', 'de', 'milh', 'es', 'de', 'd', 'lares', 'anunciaram', 'as', 'empresas', 'nesta', 'segunda', 'feira', 'A', 'venda', 'vai', 'ajudar', 'a', 'lyft', 'a', 'se', 'concentrar', 'em', 'parcerias', 'com', 'a', 'ajuda', 'de', 'companhias', 'de', 'dire', 'o', 'aut', 'noma', 'que', 'querem', 'disponibilizar', 'tecnologia', 'na', 'plataforma', 'da', 'empresa', 'em', 'vez', 'da', 'companhia', 'ter', 'de', 'investir', 'pesaaaaaadas', 'somas', 'em', 'desenvolvimento', 'de', 'tecnologia', 'que', 'ainda', 'n', 'o', 'foi', 'colocada', 'em', 'uso', 'amplo']\n"
     ]
    }
   ],
   "source": [
    "print(re.findall(r'[a-zA-Z]+', noticia))"
   ]
  },
  {
   "cell_type": "code",
   "execution_count": 54,
   "id": "academic-giving",
   "metadata": {},
   "outputs": [
    {
     "name": "stdout",
     "output_type": "stream",
     "text": [
      "['A', 'Lyft', 'rival', 'da', 'Uber', 'nos', 'Estados', 'Unidos', 'vai', 'vender', 'sua', 'unidade', 'de', 'tecnologia', 'de', 'carros', 'aut', 'nomos', 'para', 'a', 'Toyota', 'em', 'um', 'acordo', 'de', '550', 'milh', 'es', 'de', 'd', 'lares', 'anunciaram', 'as', 'empresas', 'nesta', 'segunda', 'feira', 'A', 'venda', 'vai', 'ajudar', 'a', 'lyft', 'a', 'se', 'concentrar', 'em', 'parcerias', 'com', 'a', 'ajuda', 'de', 'companhias', 'de', 'dire', 'o', 'aut', 'noma', 'que', 'querem', 'disponibilizar', 'tecnologia', 'na', 'plataforma', 'da', 'empresa', 'em', 'vez', 'da', 'companhia', 'ter', 'de', 'investir', 'pesaaaaaadas', 'somas', 'em', 'desenvolvimento', 'de', 'tecnologia', 'que', 'ainda', 'n', 'o', 'foi', 'colocada', 'em', 'uso', 'amplo']\n"
     ]
    }
   ],
   "source": [
    "print(re.findall(r'[a-zA-Z0-9]+', noticia))"
   ]
  },
  {
   "cell_type": "code",
   "execution_count": 55,
   "id": "impressed-lying",
   "metadata": {},
   "outputs": [
    {
     "name": "stdout",
     "output_type": "stream",
     "text": [
      "['A', 'Lyft', 'rival', 'da', 'Uber', 'nos', 'Estados', 'Unidos', 'vai', 'vender', 'sua', 'unidade', 'de', 'tecnologia', 'de', 'carros', 'autônomos', 'para', 'a', 'Toyota', 'em', 'um', 'acordo', 'de', '550', 'milhões', 'de', 'dólares', 'anunciaram', 'as', 'empresas', 'nesta', 'segunda', 'feira', 'A', 'venda', 'vai', 'ajudar', 'a', 'lyft', 'a', 'se', 'concentrar', 'em', 'parcerias', 'com', 'a', 'ajuda', 'de', 'companhias', 'de', 'direção', 'autônoma', 'que', 'querem', 'disponibilizar', 'tecnologia', 'na', 'plataforma', 'da', 'empresa', 'em', 'vez', 'da', 'companhia', 'ter', 'de', 'investir', 'pesaaaaaadas', 'somas', 'em', 'desenvolvimento', 'de', 'tecnologia', 'que', 'ainda', 'não', 'foi', 'colocada', 'em', 'uso', 'amplo']\n"
     ]
    }
   ],
   "source": [
    "print(re.findall(r'[a-zA-ZÀ-ú0-9]+', noticia))"
   ]
  },
  {
   "cell_type": "code",
   "execution_count": 56,
   "id": "pleased-lambda",
   "metadata": {},
   "outputs": [
    {
     "name": "stdout",
     "output_type": "stream",
     "text": [
      "['A', 'L', 'y', 'f', 't', 'r', 'i', 'v', 'a', 'l', 'd', 'a', 'U', 'b', 'e', 'r', 'n', 'o', 's', 'E', 's', 't', 'a', 'd', 'o', 's', 'U', 'n', 'i', 'd', 'o', 's', 'v', 'a', 'i', 'v', 'e', 'n', 'd', 'e', 'r', 's', 'u', 'a', 'u', 'n', 'i', 'd', 'a', 'd', 'e', 'd', 'e', 't', 'e', 'c', 'n', 'o', 'l', 'o', 'g', 'i', 'a', 'd', 'e', 'c', 'a', 'r', 'r', 'o', 's', 'a', 'u', 't', 'ô', 'n', 'o', 'm', 'o', 's', 'p', 'a', 'r', 'a', 'a', 'T', 'o', 'y', 'o', 't', 'a', 'e', 'm', 'u', 'm', 'a', 'c', 'o', 'r', 'd', 'o', 'd', 'e', '5', '5', '0', 'm', 'i', 'l', 'h', 'õ', 'e', 's', 'd', 'e', 'd', 'ó', 'l', 'a', 'r', 'e', 's', 'a', 'n', 'u', 'n', 'c', 'i', 'a', 'r', 'a', 'm', 'a', 's', 'e', 'm', 'p', 'r', 'e', 's', 'a', 's', 'n', 'e', 's', 't', 'a', 's', 'e', 'g', 'u', 'n', 'd', 'a', 'f', 'e', 'i', 'r', 'a', 'A', 'v', 'e', 'n', 'd', 'a', 'v', 'a', 'i', 'a', 'j', 'u', 'd', 'a', 'r', 'a', 'l', 'y', 'f', 't', 'a', 's', 'e', 'c', 'o', 'n', 'c', 'e', 'n', 't', 'r', 'a', 'r', 'e', 'm', 'p', 'a', 'r', 'c', 'e', 'r', 'i', 'a', 's', 'c', 'o', 'm', 'a', 'a', 'j', 'u', 'd', 'a', 'd', 'e', 'c', 'o', 'm', 'p', 'a', 'n', 'h', 'i', 'a', 's', 'd', 'e', 'd', 'i', 'r', 'e', 'ç', 'ã', 'o', 'a', 'u', 't', 'ô', 'n', 'o', 'm', 'a', 'q', 'u', 'e', 'q', 'u', 'e', 'r', 'e', 'm', 'd', 'i', 's', 'p', 'o', 'n', 'i', 'b', 'i', 'l', 'i', 'z', 'a', 'r', 't', 'e', 'c', 'n', 'o', 'l', 'o', 'g', 'i', 'a', 'n', 'a', 'p', 'l', 'a', 't', 'a', 'f', 'o', 'r', 'm', 'a', 'd', 'a', 'e', 'm', 'p', 'r', 'e', 's', 'a', 'e', 'm', 'v', 'e', 'z', 'd', 'a', 'c', 'o', 'm', 'p', 'a', 'n', 'h', 'i', 'a', 't', 'e', 'r', 'd', 'e', 'i', 'n', 'v', 'e', 's', 't', 'i', 'r', 'p', 'e', 's', 'a', 'a', 'a', 'a', 'a', 'a', 'd', 'a', 's', 's', 'o', 'm', 'a', 's', 'e', 'm', 'd', 'e', 's', 'e', 'n', 'v', 'o', 'l', 'v', 'i', 'm', 'e', 'n', 't', 'o', 'd', 'e', 't', 'e', 'c', 'n', 'o', 'l', 'o', 'g', 'i', 'a', 'q', 'u', 'e', 'a', 'i', 'n', 'd', 'a', 'n', 'ã', 'o', 'f', 'o', 'i', 'c', 'o', 'l', 'o', 'c', 'a', 'd', 'a', 'e', 'm', 'u', 's', 'o', 'a', 'm', 'p', 'l', 'o']\n"
     ]
    }
   ],
   "source": [
    "print(re.findall(r'\\w', noticia))"
   ]
  },
  {
   "cell_type": "code",
   "execution_count": 57,
   "id": "modern-yahoo",
   "metadata": {},
   "outputs": [
    {
     "name": "stdout",
     "output_type": "stream",
     "text": [
      "['A', 'Lyft', 'rival', 'da', 'Uber', 'nos', 'Estados', 'Unidos', 'vai', 'vender', 'sua', 'unidade', 'de', 'tecnologia', 'de', 'carros', 'autônomos', 'para', 'a', 'Toyota', 'em', 'um', 'acordo', 'de', '550', 'milhões', 'de', 'dólares', 'anunciaram', 'as', 'empresas', 'nesta', 'segunda', 'feira', 'A', 'venda', 'vai', 'ajudar', 'a', 'lyft', 'a', 'se', 'concentrar', 'em', 'parcerias', 'com', 'a', 'ajuda', 'de', 'companhias', 'de', 'direção', 'autônoma', 'que', 'querem', 'disponibilizar', 'tecnologia', 'na', 'plataforma', 'da', 'empresa', 'em', 'vez', 'da', 'companhia', 'ter', 'de', 'investir', 'pesaaaaaadas', 'somas', 'em', 'desenvolvimento', 'de', 'tecnologia', 'que', 'ainda', 'não', 'foi', 'colocada', 'em', 'uso', 'amplo']\n"
     ]
    }
   ],
   "source": [
    "print(re.findall(r'\\w+', noticia))"
   ]
  },
  {
   "cell_type": "code",
   "execution_count": 58,
   "id": "elder-watts",
   "metadata": {},
   "outputs": [
    {
     "name": "stdout",
     "output_type": "stream",
     "text": [
      "['\\n', ' ', ' ', ' ', ' ', ' ', ' ', ' ', '\\n', ' ', ' ', ' ', ' ', ' ', ' ', ' ', ' ', ' ', '\\n', ' ', ' ', ' ', ' ', ' ', ' ', ' ', ' ', ' ', ' ', ' ', '\\n', ' ', ' ', ' ', ' ', ' ', ' ', ' ', ' ', ' ', ' ', '\\n', ' ', ' ', ' ', ' ', ' ', ' ', ' ', ' ', ' ', ' ', ' ', '\\n', ' ', ' ', ' ', ' ', ' ', ' ', ' ', ' ', '\\n', ' ', ' ', ' ', ' ', ' ', ' ', ' ', ' ', ' ', '\\n', ' ', ' ', ' ', ' ', ' ', ' ', ' ', ' ', '\\n']\n"
     ]
    }
   ],
   "source": [
    "print(re.findall(r'\\s+', noticia))"
   ]
  },
  {
   "cell_type": "code",
   "execution_count": 59,
   "id": "settled-offset",
   "metadata": {},
   "outputs": [
    {
     "name": "stdout",
     "output_type": "stream",
     "text": [
      "['A', 'Lyft,', 'rival', 'da', 'Uber', 'nos', 'Estados', 'Unidos,', 'vai', 'vender', 'sua', 'unidade', 'de', 'tecnologia', 'de', 'carros', 'autônomos', 'para', 'a', 'Toyota', 'em', 'um', 'acordo', 'de', '550', 'milhões', 'de', 'dólares,', 'anunciaram', 'as', 'empresas', 'nesta', 'segunda-feira.', 'A', 'venda', 'vai', 'ajudar', 'a', 'lyft', 'a', 'se', 'concentrar', 'em', 'parcerias', 'com', 'a', 'ajuda', 'de', 'companhias', 'de', 'direção', 'autônoma', 'que', 'querem', 'disponibilizar', 'tecnologia', 'na', 'plataforma', 'da', 'empresa,', 'em', 'vez', 'da', 'companhia', 'ter', 'de', 'investir', 'pesaaaaaadas', 'somas', 'em', 'desenvolvimento', 'de', 'tecnologia', 'que', 'ainda', 'não', 'foi', 'colocada', 'em', 'uso', 'amplo.']\n"
     ]
    }
   ],
   "source": [
    "print(re.findall(r'\\S+', noticia))"
   ]
  },
  {
   "cell_type": "markdown",
   "id": "equivalent-jimmy",
   "metadata": {},
   "source": [
    "Procurando textos entre parênteses:"
   ]
  },
  {
   "cell_type": "code",
   "execution_count": 60,
   "id": "exposed-sucking",
   "metadata": {},
   "outputs": [
    {
     "data": {
      "text/plain": [
       "['(mas não a sua irmã)']"
      ]
     },
     "execution_count": 60,
     "metadata": {},
     "output_type": "execute_result"
    }
   ],
   "source": [
    "texto = 'Foi a Bia (mas não a sua irmã)'\n",
    "\n",
    "re.findall(r'\\(.*\\)', texto)"
   ]
  },
  {
   "cell_type": "code",
   "execution_count": 61,
   "id": "17bc3d9f",
   "metadata": {},
   "outputs": [
    {
     "data": {
      "text/plain": [
       "['este ', 'no foi o ', 'no 1988']"
      ]
     },
     "execution_count": 61,
     "metadata": {},
     "output_type": "execute_result"
    }
   ],
   "source": [
    "re.findall(r'[^a-c]+', 'este ano foi o ano 1988')"
   ]
  },
  {
   "cell_type": "markdown",
   "id": "patent-suggestion",
   "metadata": {},
   "source": [
    "# Resumindo\n",
    "\n",
    "**|** ⟶ OU\n",
    "\n",
    "**.** ⟶ Qualquer caractere, exceto quebra de linha\n",
    "\n",
    "**[az]** ⟶ O caractere \"a\" OU \"z\". Pode ser qualquer caractere do conjunto\n",
    "\n",
    "**[a-z]** ⟶ Qualquer caractere de \"a\" até \"z\" minúsculo\n",
    "\n",
    "**[A-Z]** ⟶ Qualquer caractere de \"A\" até \"Z\" maiúsculo\n",
    "\n",
    "**[0-9]** ⟶ Dígitos numéricos de \"0\" até \"9\"\n",
    "\n",
    "**[^a-c]** ⟶ Qualquer caractere, exceto de \"a\" até \"c\"\n",
    "\n",
    "**^[a-z]** ⟶ Qualquer caractere de \"a\" até \"z\". String deve começar com o padrão.\n",
    "\n",
    "**[a-z]*** ⟶ Zero ou mais letras de \"a\" até \"z\"\n",
    "\n",
    "**[A-Z]+** ⟶ Uma ou mais letras de \"A\" até \"Z\"\n",
    "\n",
    "**a{5}** ⟶ Cinco **a**'s\n",
    "\n",
    "**a{2,5}** ⟶ De dois a cinco **a**'s\n",
    "\n",
    "**[a-z]{,3}** ⟶ Até três letras de \"a\" até \"z\"\n",
    "\n",
    "**\\w** ⟶ [a-zA-ZÀ-ú0-9], mas apenas um caractere destes\n",
    "\n",
    "**\\w+** ⟶ um ou mais [a-zA-ZÀ-ú0-9], formando uma palavra\n",
    "\n",
    "**\\s** ⟶ separadores\n"
   ]
  },
  {
   "cell_type": "markdown",
   "id": "medieval-basis",
   "metadata": {},
   "source": [
    "\n",
    "# RegEx tester\n",
    "\n",
    "Uma ferramenta legal para conferir expressões regulares é o https://regex101.com ou https://www.regextester.com\n",
    "\n",
    "Nele, você pode conferir se há, para alguma expressão regular, match com palavras de um texto."
   ]
  },
  {
   "cell_type": "markdown",
   "id": "db760cff",
   "metadata": {},
   "source": [
    "## Atividade para entrega!\n",
    "\n",
    "## Insper Autograding\n",
    "\n",
    "Iremos utilizar uma ferramenta para correção automática. Ao responder os exercícios, será possível enviar a solução para um servidor, que dará feedback quase que instantâneo sobre a resposta.\n",
    "\n",
    "Além de já ter uma boa ideia sobre seu desempenho na atividade, não será necessário fazer a entrega do notebook pelo Blackboard pois o corretor já armazena suas soluções.\n",
    "\n",
    "Siga os passos deste notebook para realizar a instalação da biblioteca de correção de exercícios nos notebooks da disciplina!\n",
    "\n",
    "## Instalação\n",
    "\n",
    "Vamos instalar a biblioteca (este passo só precisa ser executado uma vez):"
   ]
  },
  {
   "cell_type": "code",
   "execution_count": 62,
   "id": "e2a3913d",
   "metadata": {},
   "outputs": [
    {
     "name": "stdout",
     "output_type": "stream",
     "text": [
      "\u001b[33mWARNING: Skipping insperautograder as it is not installed.\u001b[0m\u001b[33m\n",
      "\u001b[0mCollecting git+https://github.com/macielcalebe/insperautograding.git\n",
      "  Cloning https://github.com/macielcalebe/insperautograding.git to /tmp/pip-req-build-x836n1tx\n",
      "  Running command git clone --filter=blob:none --quiet https://github.com/macielcalebe/insperautograding.git /tmp/pip-req-build-x836n1tx\n",
      "  Resolved https://github.com/macielcalebe/insperautograding.git to commit acdda51152774d9e1a979b426e41daa7a8a7793c\n",
      "  Preparing metadata (setup.py) ... \u001b[?25ldone\n",
      "\u001b[?25hRequirement already satisfied: ipython in /home/gabrielhso/Desktop/insper/2024.1/web-scraping/class-repo/env/lib/python3.10/site-packages (from insperautograder==0.2.0) (8.22.2)\n",
      "Collecting ipywidgets\n",
      "  Using cached ipywidgets-8.1.2-py3-none-any.whl (139 kB)\n",
      "Requirement already satisfied: python-dotenv in /home/gabrielhso/Desktop/insper/2024.1/web-scraping/class-repo/env/lib/python3.10/site-packages (from insperautograder==0.2.0) (1.0.1)\n",
      "Requirement already satisfied: requests in /home/gabrielhso/Desktop/insper/2024.1/web-scraping/class-repo/env/lib/python3.10/site-packages (from insperautograder==0.2.0) (2.31.0)\n",
      "Requirement already satisfied: matplotlib-inline in /home/gabrielhso/Desktop/insper/2024.1/web-scraping/class-repo/env/lib/python3.10/site-packages (from ipython->insperautograder==0.2.0) (0.1.6)\n",
      "Requirement already satisfied: stack-data in /home/gabrielhso/Desktop/insper/2024.1/web-scraping/class-repo/env/lib/python3.10/site-packages (from ipython->insperautograder==0.2.0) (0.6.3)\n",
      "Requirement already satisfied: exceptiongroup in /home/gabrielhso/Desktop/insper/2024.1/web-scraping/class-repo/env/lib/python3.10/site-packages (from ipython->insperautograder==0.2.0) (1.2.0)\n",
      "Requirement already satisfied: prompt-toolkit<3.1.0,>=3.0.41 in /home/gabrielhso/Desktop/insper/2024.1/web-scraping/class-repo/env/lib/python3.10/site-packages (from ipython->insperautograder==0.2.0) (3.0.43)\n",
      "Requirement already satisfied: decorator in /home/gabrielhso/Desktop/insper/2024.1/web-scraping/class-repo/env/lib/python3.10/site-packages (from ipython->insperautograder==0.2.0) (5.1.1)\n",
      "Requirement already satisfied: pexpect>4.3 in /home/gabrielhso/Desktop/insper/2024.1/web-scraping/class-repo/env/lib/python3.10/site-packages (from ipython->insperautograder==0.2.0) (4.9.0)\n",
      "Requirement already satisfied: traitlets>=5.13.0 in /home/gabrielhso/Desktop/insper/2024.1/web-scraping/class-repo/env/lib/python3.10/site-packages (from ipython->insperautograder==0.2.0) (5.14.1)\n",
      "Requirement already satisfied: jedi>=0.16 in /home/gabrielhso/Desktop/insper/2024.1/web-scraping/class-repo/env/lib/python3.10/site-packages (from ipython->insperautograder==0.2.0) (0.19.1)\n",
      "Requirement already satisfied: pygments>=2.4.0 in /home/gabrielhso/Desktop/insper/2024.1/web-scraping/class-repo/env/lib/python3.10/site-packages (from ipython->insperautograder==0.2.0) (2.17.2)\n",
      "Collecting widgetsnbextension~=4.0.10\n",
      "  Using cached widgetsnbextension-4.0.10-py3-none-any.whl (2.3 MB)\n",
      "Requirement already satisfied: comm>=0.1.3 in /home/gabrielhso/Desktop/insper/2024.1/web-scraping/class-repo/env/lib/python3.10/site-packages (from ipywidgets->insperautograder==0.2.0) (0.2.2)\n",
      "Collecting jupyterlab-widgets~=3.0.10\n",
      "  Using cached jupyterlab_widgets-3.0.10-py3-none-any.whl (215 kB)\n",
      "Requirement already satisfied: charset-normalizer<4,>=2 in /home/gabrielhso/Desktop/insper/2024.1/web-scraping/class-repo/env/lib/python3.10/site-packages (from requests->insperautograder==0.2.0) (3.3.2)\n",
      "Requirement already satisfied: urllib3<3,>=1.21.1 in /home/gabrielhso/Desktop/insper/2024.1/web-scraping/class-repo/env/lib/python3.10/site-packages (from requests->insperautograder==0.2.0) (2.2.1)\n",
      "Requirement already satisfied: certifi>=2017.4.17 in /home/gabrielhso/Desktop/insper/2024.1/web-scraping/class-repo/env/lib/python3.10/site-packages (from requests->insperautograder==0.2.0) (2024.2.2)\n",
      "Requirement already satisfied: idna<4,>=2.5 in /home/gabrielhso/Desktop/insper/2024.1/web-scraping/class-repo/env/lib/python3.10/site-packages (from requests->insperautograder==0.2.0) (3.6)\n",
      "Requirement already satisfied: parso<0.9.0,>=0.8.3 in /home/gabrielhso/Desktop/insper/2024.1/web-scraping/class-repo/env/lib/python3.10/site-packages (from jedi>=0.16->ipython->insperautograder==0.2.0) (0.8.3)\n",
      "Requirement already satisfied: ptyprocess>=0.5 in /home/gabrielhso/Desktop/insper/2024.1/web-scraping/class-repo/env/lib/python3.10/site-packages (from pexpect>4.3->ipython->insperautograder==0.2.0) (0.7.0)\n",
      "Requirement already satisfied: wcwidth in /home/gabrielhso/Desktop/insper/2024.1/web-scraping/class-repo/env/lib/python3.10/site-packages (from prompt-toolkit<3.1.0,>=3.0.41->ipython->insperautograder==0.2.0) (0.2.13)\n",
      "Requirement already satisfied: asttokens>=2.1.0 in /home/gabrielhso/Desktop/insper/2024.1/web-scraping/class-repo/env/lib/python3.10/site-packages (from stack-data->ipython->insperautograder==0.2.0) (2.4.1)\n",
      "Requirement already satisfied: pure-eval in /home/gabrielhso/Desktop/insper/2024.1/web-scraping/class-repo/env/lib/python3.10/site-packages (from stack-data->ipython->insperautograder==0.2.0) (0.2.2)\n",
      "Requirement already satisfied: executing>=1.2.0 in /home/gabrielhso/Desktop/insper/2024.1/web-scraping/class-repo/env/lib/python3.10/site-packages (from stack-data->ipython->insperautograder==0.2.0) (2.0.1)\n",
      "Requirement already satisfied: six>=1.12.0 in /home/gabrielhso/Desktop/insper/2024.1/web-scraping/class-repo/env/lib/python3.10/site-packages (from asttokens>=2.1.0->stack-data->ipython->insperautograder==0.2.0) (1.16.0)\n",
      "Using legacy 'setup.py install' for insperautograder, since package 'wheel' is not installed.\n",
      "Installing collected packages: widgetsnbextension, jupyterlab-widgets, ipywidgets, insperautograder\n",
      "  Running setup.py install for insperautograder ... \u001b[?25ldone\n",
      "\u001b[?25hSuccessfully installed insperautograder-0.2.0 ipywidgets-8.1.2 jupyterlab-widgets-3.0.10 widgetsnbextension-4.0.10\n"
     ]
    }
   ],
   "source": [
    "!pip uninstall -y insperautograder\n",
    "!pip install git+https://github.com/macielcalebe/insperautograding.git"
   ]
  },
  {
   "cell_type": "markdown",
   "id": "15b3143e",
   "metadata": {},
   "source": [
    "## Importando as bibliotecas"
   ]
  },
  {
   "cell_type": "code",
   "execution_count": 12,
   "id": "c7d5aeaa",
   "metadata": {},
   "outputs": [],
   "source": [
    "import os\n",
    "import insperautograder.jupyter as ia"
   ]
  },
  {
   "cell_type": "markdown",
   "id": "e83420f2",
   "metadata": {},
   "source": [
    "## Configurar ambiente\n",
    "\n",
    "Execute a célula para configurar nosso ambiente de execução:"
   ]
  },
  {
   "cell_type": "code",
   "execution_count": 13,
   "id": "fae390bf",
   "metadata": {},
   "outputs": [],
   "source": [
    "os.environ[\"IAG_OFFERING\"] = \"24-1\"\n",
    "os.environ[\"IAG_SUBJECT\"] = \"analisetxt\"\n",
    "os.environ[\"IAG_SERVER_URL\"] = \"https://bigdata.insper-comp.com.br/iag\""
   ]
  },
  {
   "cell_type": "markdown",
   "id": "d9be4ba6",
   "metadata": {},
   "source": [
    "## Me diga quem você é\n",
    "\n",
    "Utilize o **Token** enviado para seu e-mail para que você seja identificado pelo servidor de testes.\n",
    "\n",
    "Substitua `iagtok_xxx...` pelo token enviado para seu e-mail."
   ]
  },
  {
   "cell_type": "code",
   "execution_count": 14,
   "id": "8349fd9a",
   "metadata": {},
   "outputs": [],
   "source": [
    "from dotenv import load_dotenv\n",
    "import os\n",
    "\n",
    "dotenv_path = '../../.env'\n",
    "load_dotenv(dotenv_path)\n",
    "IAG_TOKEN = os.getenv(\"IAG_TOKEN\")"
   ]
  },
  {
   "cell_type": "markdown",
   "id": "94450de9",
   "metadata": {},
   "source": [
    "## Conferir atividades e notas\n",
    "\n",
    "Conferindo quais atividades estão disponíveis!"
   ]
  },
  {
   "cell_type": "code",
   "execution_count": 15,
   "id": "c0fbaf6b",
   "metadata": {},
   "outputs": [
    {
     "data": {
      "text/markdown": [
       "|    | Atividade   | De                        | Até                       |\n",
       "|---:|:------------|:--------------------------|:--------------------------|\n",
       "|  0 | pdf         | 2024-02-17 03:00:00+00:00 | 2024-03-05 02:59:59+00:00 |\n",
       "|  1 | regex       | 2024-04-11 03:00:00+00:00 | 2024-05-07 02:59:59+00:00 |"
      ],
      "text/plain": [
       "<IPython.core.display.Markdown object>"
      ]
     },
     "metadata": {},
     "output_type": "display_data"
    }
   ],
   "source": [
    "ia.tasks()"
   ]
  },
  {
   "cell_type": "markdown",
   "id": "beb7c149",
   "metadata": {},
   "source": [
    "Conferindo a nota por exercício na atividade:"
   ]
  },
  {
   "cell_type": "code",
   "execution_count": 16,
   "id": "caa0fb9c",
   "metadata": {},
   "outputs": [
    {
     "data": {
      "text/markdown": [
       "|    | Atividade   | Exercício   |   Peso |   Nota |\n",
       "|---:|:------------|:------------|-------:|-------:|\n",
       "|  0 | regex       | ex01a       |      1 |      0 |\n",
       "|  1 | regex       | ex01b       |      1 |      0 |\n",
       "|  2 | regex       | ex01c       |      1 |      0 |\n",
       "|  3 | regex       | ex01d       |      1 |      0 |\n",
       "|  4 | regex       | ex02        |      1 |      0 |\n",
       "|  5 | regex       | ex03        |      1 |      0 |\n",
       "|  6 | regex       | ex04b       |      1 |      0 |\n",
       "|  7 | regex       | ex05        |      1 |      0 |\n",
       "|  8 | regex       | ex06a       |      1 |      0 |\n",
       "|  9 | regex       | ex07a       |      1 |      0 |"
      ],
      "text/plain": [
       "<IPython.core.display.Markdown object>"
      ]
     },
     "metadata": {},
     "output_type": "display_data"
    }
   ],
   "source": [
    "ia.grades(task=\"regex\")"
   ]
  },
  {
   "cell_type": "markdown",
   "id": "adb65894",
   "metadata": {},
   "source": [
    "Conferindo a nota geral nas atividades"
   ]
  },
  {
   "cell_type": "code",
   "execution_count": 17,
   "id": "49e964a8",
   "metadata": {},
   "outputs": [
    {
     "data": {
      "text/markdown": [
       "|    | Tarefa   |   Nota |\n",
       "|---:|:---------|-------:|\n",
       "|  0 | pdf      |     10 |\n",
       "|  1 | regex    |      0 |"
      ],
      "text/plain": [
       "<IPython.core.display.Markdown object>"
      ]
     },
     "metadata": {},
     "output_type": "display_data"
    }
   ],
   "source": [
    "ia.grades(by=\"TASK\")"
   ]
  },
  {
   "cell_type": "markdown",
   "id": "mexican-definition",
   "metadata": {},
   "source": [
    "# Exercícios"
   ]
  },
  {
   "cell_type": "markdown",
   "id": "subsequent-discrimination",
   "metadata": {},
   "source": [
    "**Exercício 1)** Considere a seguinte string:"
   ]
  },
  {
   "cell_type": "code",
   "execution_count": 18,
   "id": "fancy-chapter",
   "metadata": {},
   "outputs": [],
   "source": [
    "msg = \"Uber e Lyft fizeram aprox. 15 milhões de corridas, isso em 2020. Em ritmo de crescimento!\""
   ]
  },
  {
   "cell_type": "markdown",
   "id": "single-blowing",
   "metadata": {},
   "source": [
    "a) Crie uma expressão regular para encontrar ocorrências dos termos **milhões** ou **crescimento** ou **investimento**"
   ]
  },
  {
   "cell_type": "code",
   "execution_count": 25,
   "id": "5acd2389",
   "metadata": {},
   "outputs": [
    {
     "data": {
      "text/plain": [
       "['milhões', 'crescimento']"
      ]
     },
     "execution_count": 25,
     "metadata": {},
     "output_type": "execute_result"
    }
   ],
   "source": [
    "regex_exp_ex01a = r\"milh.es|crescimento|investimento\" # Sua expressão regular!\n",
    "re.findall(regex_exp_ex01a, msg)"
   ]
  },
  {
   "cell_type": "markdown",
   "id": "a91e69a8",
   "metadata": {},
   "source": [
    "Vamos testar sua resposta localmente antes de enviar ao servidor de correção automática:"
   ]
  },
  {
   "cell_type": "code",
   "execution_count": 26,
   "id": "7b08c2b2",
   "metadata": {},
   "outputs": [],
   "source": [
    "assert re.findall(regex_exp_ex01a, msg) == [\"milhões\", \"crescimento\"], \"Resposta diferente do esperado!\""
   ]
  },
  {
   "cell_type": "markdown",
   "id": "d0fd0993",
   "metadata": {},
   "source": [
    "Quando estiver confiante que sua resposta está correta, clique no botão abaixo para fazer o envio."
   ]
  },
  {
   "cell_type": "code",
   "execution_count": 27,
   "id": "c12b6b5c",
   "metadata": {},
   "outputs": [
    {
     "data": {
      "application/vnd.jupyter.widget-view+json": {
       "model_id": "8506caf5f24749b38fac50278904677c",
       "version_major": 2,
       "version_minor": 0
      },
      "text/plain": [
       "interactive(children=(Button(description='Enviar ex01a', style=ButtonStyle()), Output()), _dom_classes=('widge…"
      ]
     },
     "execution_count": 27,
     "metadata": {},
     "output_type": "execute_result"
    }
   ],
   "source": [
    "ia.sender(answer=\"regex_exp_ex01a\", task=\"regex\", question=\"ex01a\", answer_type=\"pyvar\")"
   ]
  },
  {
   "cell_type": "markdown",
   "id": "welcome-chamber",
   "metadata": {},
   "source": [
    "b) Crie uma expressão regular para encontrar todos os números na mensagem."
   ]
  },
  {
   "cell_type": "code",
   "execution_count": 32,
   "id": "9c217b7d",
   "metadata": {},
   "outputs": [
    {
     "data": {
      "text/plain": [
       "['15', '2020']"
      ]
     },
     "execution_count": 32,
     "metadata": {},
     "output_type": "execute_result"
    }
   ],
   "source": [
    "regex_exp_ex01b = r\"\\d+\" # Sua expressão regular!\n",
    "re.findall(regex_exp_ex01b, msg)"
   ]
  },
  {
   "cell_type": "markdown",
   "id": "56466cd9",
   "metadata": {},
   "source": [
    "Vamos testar sua resposta localmente antes de enviar ao servidor de correção automática:"
   ]
  },
  {
   "cell_type": "code",
   "execution_count": 33,
   "id": "11166ad2",
   "metadata": {},
   "outputs": [],
   "source": [
    "assert re.findall(regex_exp_ex01b, msg) == [\"15\", \"2020\"], \"Resposta diferente do esperado!\""
   ]
  },
  {
   "cell_type": "markdown",
   "id": "52f136dd",
   "metadata": {},
   "source": [
    "Quando estiver confiante que sua resposta está correta, clique no botão abaixo para fazer o envio."
   ]
  },
  {
   "cell_type": "code",
   "execution_count": 34,
   "id": "c1423fc7",
   "metadata": {},
   "outputs": [
    {
     "data": {
      "application/vnd.jupyter.widget-view+json": {
       "model_id": "d65ef869b9974b2cbfa3018e69e3f906",
       "version_major": 2,
       "version_minor": 0
      },
      "text/plain": [
       "interactive(children=(Button(description='Enviar ex01b', style=ButtonStyle()), Output()), _dom_classes=('widge…"
      ]
     },
     "execution_count": 34,
     "metadata": {},
     "output_type": "execute_result"
    }
   ],
   "source": [
    "ia.sender(answer=\"regex_exp_ex01b\", task=\"regex\", question=\"ex01b\", answer_type=\"pyvar\")"
   ]
  },
  {
   "cell_type": "markdown",
   "id": "brave-substance",
   "metadata": {},
   "source": [
    "c) Crie uma expressão regular para alterar de **aprox.** para **aproximadamente**."
   ]
  },
  {
   "cell_type": "code",
   "execution_count": 39,
   "id": "776cb972",
   "metadata": {},
   "outputs": [
    {
     "data": {
      "text/plain": [
       "'Uber e Lyft fizeram aproximadamente 15 milhões de corridas, isso em 2020. Em ritmo de crescimento!'"
      ]
     },
     "execution_count": 39,
     "metadata": {},
     "output_type": "execute_result"
    }
   ],
   "source": [
    "regex_exp_ex01c = r'aprox\\.' # Sua expressão regular!\n",
    "re.sub(regex_exp_ex01c, 'aproximadamente', msg)"
   ]
  },
  {
   "cell_type": "markdown",
   "id": "4d154422",
   "metadata": {},
   "source": [
    "Vamos testar sua resposta localmente antes de enviar ao servidor de correção automática:"
   ]
  },
  {
   "cell_type": "code",
   "execution_count": 40,
   "id": "0b347ec0",
   "metadata": {},
   "outputs": [],
   "source": [
    "msg_esperada = \"Uber e Lyft fizeram aproximadamente 15 milhões de corridas, isso em 2020. Em ritmo de crescimento!\"\n",
    "assert re.sub(regex_exp_ex01c, 'aproximadamente', msg) == msg_esperada, \"Resposta diferente do esperado!\""
   ]
  },
  {
   "cell_type": "markdown",
   "id": "4491e64f",
   "metadata": {},
   "source": [
    "Quando estiver confiante que sua resposta está correta, clique no botão abaixo para fazer o envio."
   ]
  },
  {
   "cell_type": "code",
   "execution_count": 41,
   "id": "8019c285",
   "metadata": {},
   "outputs": [
    {
     "data": {
      "application/vnd.jupyter.widget-view+json": {
       "model_id": "929cd9445e7b43c5a097d2471da3ffea",
       "version_major": 2,
       "version_minor": 0
      },
      "text/plain": [
       "interactive(children=(Button(description='Enviar ex01c', style=ButtonStyle()), Output()), _dom_classes=('widge…"
      ]
     },
     "execution_count": 41,
     "metadata": {},
     "output_type": "execute_result"
    }
   ],
   "source": [
    "ia.sender(answer=\"regex_exp_ex01c\", task=\"regex\", question=\"ex01c\", answer_type=\"pyvar\")"
   ]
  },
  {
   "cell_type": "markdown",
   "id": "cross-investing",
   "metadata": {},
   "source": [
    "d) Crie uma expressão regular para remover *ponto* e *exclamação* das mensagens."
   ]
  },
  {
   "cell_type": "code",
   "execution_count": 45,
   "id": "opened-webster",
   "metadata": {},
   "outputs": [
    {
     "data": {
      "text/plain": [
       "'Uber e Lyft fizeram aprox 15 milhões de corridas, isso em 2020 Em ritmo de crescimento'"
      ]
     },
     "execution_count": 45,
     "metadata": {},
     "output_type": "execute_result"
    }
   ],
   "source": [
    "regex_exp_ex01d = r'\\.|\\!' # Sua expressão regular!\n",
    "re.sub(regex_exp_ex01d, '', msg)"
   ]
  },
  {
   "cell_type": "markdown",
   "id": "a210bfd7",
   "metadata": {},
   "source": [
    "Vamos testar sua resposta localmente antes de enviar ao servidor de correção automática:"
   ]
  },
  {
   "cell_type": "code",
   "execution_count": 46,
   "id": "82bd485f",
   "metadata": {},
   "outputs": [],
   "source": [
    "msg_esperada = \"Uber e Lyft fizeram aprox 15 milhões de corridas, isso em 2020 Em ritmo de crescimento\"\n",
    "assert re.sub(regex_exp_ex01d, '', msg) == msg_esperada, \"Resposta diferente do esperado!\""
   ]
  },
  {
   "cell_type": "markdown",
   "id": "1d9e22e0",
   "metadata": {},
   "source": [
    "Quando estiver confiante que sua resposta está correta, clique no botão abaixo para fazer o envio."
   ]
  },
  {
   "cell_type": "code",
   "execution_count": 47,
   "id": "0061ee66",
   "metadata": {},
   "outputs": [
    {
     "data": {
      "application/vnd.jupyter.widget-view+json": {
       "model_id": "4a64689353bf46e0be73af5800b70846",
       "version_major": 2,
       "version_minor": 0
      },
      "text/plain": [
       "interactive(children=(Button(description='Enviar ex01d', style=ButtonStyle()), Output()), _dom_classes=('widge…"
      ]
     },
     "execution_count": 47,
     "metadata": {},
     "output_type": "execute_result"
    }
   ],
   "source": [
    "ia.sender(answer=\"regex_exp_ex01d\", task=\"regex\", question=\"ex01d\", answer_type=\"pyvar\")"
   ]
  },
  {
   "cell_type": "markdown",
   "id": "joint-radiation",
   "metadata": {},
   "source": [
    "**Exercício 2)** Crie um programa para substituir todas as ocorrências de espaço, vírgula e interrogação por dois pontos :"
   ]
  },
  {
   "cell_type": "code",
   "execution_count": 51,
   "id": "ae5bcd19",
   "metadata": {},
   "outputs": [
    {
     "name": "stdout",
     "output_type": "stream",
     "text": [
      "Resultado: 'Eu::Aprendendo::expressões:regulares.'\n"
     ]
    }
   ],
   "source": [
    "regex_exp_ex02 = r\"\\ |\\,|\\?\" # Sua expressão regular!\n",
    "\n",
    "text = 'Eu? Aprendendo, expressões regulares.'\n",
    "\n",
    "res = re.sub(regex_exp_ex02, \":\", text)\n",
    "print(f\"Resultado: '{res}'\")"
   ]
  },
  {
   "cell_type": "markdown",
   "id": "95408bc6",
   "metadata": {},
   "source": [
    "Vamos testar sua resposta localmente antes de enviar ao servidor de correção automática:"
   ]
  },
  {
   "cell_type": "code",
   "execution_count": 52,
   "id": "5cf57bdd",
   "metadata": {},
   "outputs": [],
   "source": [
    "msg_esperada = \"Eu::Aprendendo::expressões:regulares.\"\n",
    "assert re.sub(regex_exp_ex02, \":\", text) == msg_esperada, \"Resposta diferente do esperado!\""
   ]
  },
  {
   "cell_type": "markdown",
   "id": "1ab21e58",
   "metadata": {},
   "source": [
    "Quando estiver confiante que sua resposta está correta, clique no botão abaixo para fazer o envio."
   ]
  },
  {
   "cell_type": "code",
   "execution_count": 53,
   "id": "8e63be65",
   "metadata": {},
   "outputs": [
    {
     "data": {
      "application/vnd.jupyter.widget-view+json": {
       "model_id": "34e442e0e3104b64a422aaaf0aa9fff6",
       "version_major": 2,
       "version_minor": 0
      },
      "text/plain": [
       "interactive(children=(Button(description='Enviar ex02', style=ButtonStyle()), Output()), _dom_classes=('widget…"
      ]
     },
     "execution_count": 53,
     "metadata": {},
     "output_type": "execute_result"
    }
   ],
   "source": [
    "ia.sender(answer=\"regex_exp_ex02\", task=\"regex\", question=\"ex02\", answer_type=\"pyvar\")"
   ]
  },
  {
   "cell_type": "markdown",
   "id": "adolescent-sessions",
   "metadata": {},
   "source": [
    "**Exercício 3)** Crie uma expressão regular para obter, utilizando `re.findall`, a lista das palavras no texto (incluindo números). As palavras devolvidas devem estar sem pontuação.\n",
    "\n",
    "Dica: `\\w`"
   ]
  },
  {
   "cell_type": "code",
   "execution_count": 54,
   "id": "registered-texas",
   "metadata": {},
   "outputs": [
    {
     "data": {
      "text/plain": [
       "['Uber',\n",
       " 'e',\n",
       " 'Lyft',\n",
       " 'fizeram',\n",
       " 'aprox',\n",
       " '860',\n",
       " 'milhões',\n",
       " 'de',\n",
       " 'corridas',\n",
       " 'isso',\n",
       " 'em',\n",
       " '2020']"
      ]
     },
     "execution_count": 54,
     "metadata": {},
     "output_type": "execute_result"
    }
   ],
   "source": [
    "msg = 'Uber e Lyft fizeram aprox. 860 milhões de corridas, isso em 2020'\n",
    "\n",
    "regex_exp_ex03 = r\"\\w+\" # Sua expressão regular!\n",
    "\n",
    "re.findall(regex_exp_ex03, msg)"
   ]
  },
  {
   "cell_type": "markdown",
   "id": "33676287",
   "metadata": {},
   "source": [
    "Vamos testar sua resposta localmente antes de enviar ao servidor de correção automática:"
   ]
  },
  {
   "cell_type": "code",
   "execution_count": 55,
   "id": "a3b66668",
   "metadata": {},
   "outputs": [],
   "source": [
    "esperado = ['Uber', 'e', 'Lyft', 'fizeram', 'aprox', '860', 'milhões', 'de', 'corridas', 'isso', 'em', '2020']\n",
    "assert re.findall(regex_exp_ex03, msg) == esperado, \"Resposta diferente do esperado!\""
   ]
  },
  {
   "cell_type": "markdown",
   "id": "ee8a29ce",
   "metadata": {},
   "source": [
    "Quando estiver confiante que sua resposta está correta, clique no botão abaixo para fazer o envio."
   ]
  },
  {
   "cell_type": "code",
   "execution_count": 56,
   "id": "9adb0c24",
   "metadata": {},
   "outputs": [
    {
     "data": {
      "application/vnd.jupyter.widget-view+json": {
       "model_id": "dc01cdf0e3c54aae96e0fd501a1a330b",
       "version_major": 2,
       "version_minor": 0
      },
      "text/plain": [
       "interactive(children=(Button(description='Enviar ex03', style=ButtonStyle()), Output()), _dom_classes=('widget…"
      ]
     },
     "execution_count": 56,
     "metadata": {},
     "output_type": "execute_result"
    }
   ],
   "source": [
    "ia.sender(answer=\"regex_exp_ex03\", task=\"regex\", question=\"ex03\", answer_type=\"pyvar\")"
   ]
  },
  {
   "cell_type": "markdown",
   "id": "inside-sterling",
   "metadata": {},
   "source": [
    "**Exercício 4)** Considere a seguinte mensagem:"
   ]
  },
  {
   "cell_type": "code",
   "execution_count": 57,
   "id": "ranging-international",
   "metadata": {},
   "outputs": [],
   "source": [
    "msg_ex04 = 'João nasceu em 12/05/2016, e em 12/05/18 completou 2 anos de vida! Em 5/3/34, iniciou seu ensino superior!'"
   ]
  },
  {
   "cell_type": "markdown",
   "id": "charitable-racing",
   "metadata": {},
   "source": [
    "a) Crie uma expressão regular para encontrar todos os números na mensagem"
   ]
  },
  {
   "cell_type": "code",
   "execution_count": 59,
   "id": "d19d68e5",
   "metadata": {},
   "outputs": [
    {
     "data": {
      "text/plain": [
       "['12', '05', '2016', '12', '05', '18', '2', '5', '3', '34']"
      ]
     },
     "execution_count": 59,
     "metadata": {},
     "output_type": "execute_result"
    }
   ],
   "source": [
    "re.findall(r'\\d+', msg_ex04)"
   ]
  },
  {
   "cell_type": "markdown",
   "id": "agreed-paintball",
   "metadata": {},
   "source": [
    "b) Crie uma expressão regular para encontrar **datas** na mensagem.\n",
    "\n",
    "**Obs**:\n",
    "- Utilize `re.findall`.\n",
    "- Apenas datas separadas por barra, com dia, mês e ano."
   ]
  },
  {
   "cell_type": "code",
   "execution_count": 66,
   "id": "29e3539e",
   "metadata": {},
   "outputs": [
    {
     "data": {
      "text/plain": [
       "['12/05/2016', '12/05/18', '5/3/34']"
      ]
     },
     "execution_count": 66,
     "metadata": {},
     "output_type": "execute_result"
    }
   ],
   "source": [
    "regex_exp_ex04b = r\"\\d{1,2}/\\d{1,2}/\\d{1,4}\" # Sua expressão regular!\n",
    "\n",
    "re.findall(regex_exp_ex04b, msg_ex04)"
   ]
  },
  {
   "cell_type": "markdown",
   "id": "9a95054f",
   "metadata": {},
   "source": [
    "Vamos testar sua resposta localmente antes de enviar ao servidor de correção automática:"
   ]
  },
  {
   "cell_type": "code",
   "execution_count": 67,
   "id": "28197951",
   "metadata": {},
   "outputs": [],
   "source": [
    "esperado = ['12/05/2016', '12/05/18', '5/3/34']\n",
    "assert re.findall(regex_exp_ex04b, msg_ex04) == esperado, \"Resposta diferente do esperado!\""
   ]
  },
  {
   "cell_type": "markdown",
   "id": "d4984718",
   "metadata": {},
   "source": [
    "Quando estiver confiante que sua resposta está correta, clique no botão abaixo para fazer o envio."
   ]
  },
  {
   "cell_type": "code",
   "execution_count": 68,
   "id": "694a7007",
   "metadata": {},
   "outputs": [
    {
     "data": {
      "application/vnd.jupyter.widget-view+json": {
       "model_id": "bacbe0c92f39459e858eec35b219a2eb",
       "version_major": 2,
       "version_minor": 0
      },
      "text/plain": [
       "interactive(children=(Button(description='Enviar ex04b', style=ButtonStyle()), Output()), _dom_classes=('widge…"
      ]
     },
     "execution_count": 68,
     "metadata": {},
     "output_type": "execute_result"
    }
   ],
   "source": [
    "ia.sender(answer=\"regex_exp_ex04b\", task=\"regex\", question=\"ex04b\", answer_type=\"pyvar\")"
   ]
  },
  {
   "cell_type": "markdown",
   "id": "positive-participation",
   "metadata": {},
   "source": [
    "**Exercício 5)** Crie um programa para encontrar URLs em uma string."
   ]
  },
  {
   "cell_type": "code",
   "execution_count": 69,
   "id": "successful-reply",
   "metadata": {},
   "outputs": [],
   "source": [
    "txt_ex05 = 'Embora você possa digitar https://oficinadanet.com.br para acessar nosso site, em segundo plano, o navegador primeiro envia uma solicitação aos servidores DNS para resolver o nome do site em um endereço IP. Quando o endereço é encontrado, ele retorna e, em seguida, o navegador faz o download do conteúdo e mostra a página. Utilize http://www.google.com/ para ir ao buscador.'"
   ]
  },
  {
   "cell_type": "code",
   "execution_count": 70,
   "id": "acd43b53",
   "metadata": {},
   "outputs": [
    {
     "name": "stdout",
     "output_type": "stream",
     "text": [
      "Embora você possa digitar https://oficinadanet.com.br para acessar nosso site, em segundo plano, o navegador primeiro envia uma solicitação aos servidores DNS para resolver o nome do site em um endereço IP. Quando o endereço é encontrado, ele retorna e, em seguida, o navegador faz o download do conteúdo e mostra a página. Utilize http://www.google.com/ para ir ao buscador.\n"
     ]
    }
   ],
   "source": [
    "print(txt_ex05)"
   ]
  },
  {
   "cell_type": "code",
   "execution_count": 118,
   "id": "clean-synthetic",
   "metadata": {},
   "outputs": [
    {
     "name": "stdout",
     "output_type": "stream",
     "text": [
      "['https://oficinadanet.com.br', 'http://www.google.com/']\n"
     ]
    }
   ],
   "source": [
    "regex_exp_ex05 = r\"https?://[^\\s]+\" # Sua regex!\n",
    "lista_url = re.findall(regex_exp_ex05, txt_ex05)\n",
    "print(lista_url)"
   ]
  },
  {
   "cell_type": "markdown",
   "id": "0a8a9c60",
   "metadata": {},
   "source": [
    "Vamos testar sua resposta localmente antes de enviar ao servidor de correção automática:"
   ]
  },
  {
   "cell_type": "code",
   "execution_count": 119,
   "id": "0b5c3ab8",
   "metadata": {},
   "outputs": [],
   "source": [
    "esperado = ['https://oficinadanet.com.br', 'http://www.google.com/']\n",
    "assert re.findall(regex_exp_ex05, txt_ex05) == esperado, \"Resposta diferente do esperado!\""
   ]
  },
  {
   "cell_type": "markdown",
   "id": "7b7b3b3b",
   "metadata": {},
   "source": [
    "Quando estiver confiante que sua resposta está correta, clique no botão abaixo para fazer o envio."
   ]
  },
  {
   "cell_type": "code",
   "execution_count": 120,
   "id": "70e4fb38",
   "metadata": {},
   "outputs": [
    {
     "data": {
      "application/vnd.jupyter.widget-view+json": {
       "model_id": "4793387eff3948d4a82992c11e0edb8b",
       "version_major": 2,
       "version_minor": 0
      },
      "text/plain": [
       "interactive(children=(Button(description='Enviar ex05', style=ButtonStyle()), Output()), _dom_classes=('widget…"
      ]
     },
     "execution_count": 120,
     "metadata": {},
     "output_type": "execute_result"
    }
   ],
   "source": [
    "ia.sender(answer=\"regex_exp_ex05\", task=\"regex\", question=\"ex05\", answer_type=\"pyvar\")"
   ]
  },
  {
   "cell_type": "markdown",
   "id": "final-border",
   "metadata": {},
   "source": [
    "**Exercício 6)** \n",
    "\n",
    "**a)** Crie uma expressão regular para identificar se um CPF está ou não formatado de acordo com o padrão 000.000.000-00. Exiba a mensagem *está correto* ou *está errado*"
   ]
  },
  {
   "cell_type": "code",
   "execution_count": 121,
   "id": "22d1decc",
   "metadata": {},
   "outputs": [
    {
     "name": "stdout",
     "output_type": "stream",
     "text": [
      "Está correto!\n"
     ]
    }
   ],
   "source": [
    "cpf = \"012.345.678-90\"\n",
    "\n",
    "regex_exp_ex06a = r\"\\d{3}\\.\\d{3}.\\d{3}-\\d{2}\" # Sua expressão regular!\n",
    "\n",
    "if re.match(regex_exp_ex06a, cpf):\n",
    "    print(\"Está correto!\")\n",
    "else:\n",
    "    print(\"Fora do padrão!\")"
   ]
  },
  {
   "cell_type": "markdown",
   "id": "f403718a",
   "metadata": {},
   "source": [
    "Vamos testar sua resposta localmente antes de enviar ao servidor de correção automática:"
   ]
  },
  {
   "cell_type": "code",
   "execution_count": 122,
   "id": "e2e26c40",
   "metadata": {},
   "outputs": [],
   "source": [
    "assert re.match(regex_exp_ex06a, \"012.345.678-90\"), \"Resposta diferente do esperado!\"\n",
    "assert re.match(regex_exp_ex06a, \"012.345.67890\") is None, \"Resposta diferente do esperado!\""
   ]
  },
  {
   "cell_type": "markdown",
   "id": "9a419471",
   "metadata": {},
   "source": [
    "Quando estiver confiante que sua resposta está correta, clique no botão abaixo para fazer o envio."
   ]
  },
  {
   "cell_type": "code",
   "execution_count": 123,
   "id": "59dfd924",
   "metadata": {},
   "outputs": [
    {
     "data": {
      "application/vnd.jupyter.widget-view+json": {
       "model_id": "4f241cf1f1504f959a9d11df74b258fc",
       "version_major": 2,
       "version_minor": 0
      },
      "text/plain": [
       "interactive(children=(Button(description='Enviar ex06a', style=ButtonStyle()), Output()), _dom_classes=('widge…"
      ]
     },
     "execution_count": 123,
     "metadata": {},
     "output_type": "execute_result"
    }
   ],
   "source": [
    "ia.sender(answer=\"regex_exp_ex06a\", task=\"regex\", question=\"ex06a\", answer_type=\"pyvar\")"
   ]
  },
  {
   "cell_type": "markdown",
   "id": "internal-shoot",
   "metadata": {},
   "source": [
    "b) Crie uma função para fazer esta validação."
   ]
  },
  {
   "cell_type": "code",
   "execution_count": 124,
   "id": "backed-beach",
   "metadata": {},
   "outputs": [],
   "source": [
    "def valid_cpf(cpf):\n",
    "    regex_exp_ex06a = r\"\\d{3}\\.\\d{3}.\\d{3}-\\d{2}\" # Sua expressão regular!\n",
    "\n",
    "    if re.match(regex_exp_ex06a, cpf):\n",
    "        return True\n",
    "    return False\n"
   ]
  },
  {
   "cell_type": "code",
   "execution_count": 125,
   "id": "4a153893",
   "metadata": {},
   "outputs": [
    {
     "name": "stdout",
     "output_type": "stream",
     "text": [
      "True\n",
      "False\n",
      "False\n"
     ]
    }
   ],
   "source": [
    "print(valid_cpf(\"089.988.355-19\"))\n",
    "print(valid_cpf(\"011.233.455-9\"))\n",
    "print(valid_cpf(\"23.578.399-54\"))"
   ]
  },
  {
   "cell_type": "markdown",
   "id": "attempted-correction",
   "metadata": {},
   "source": [
    "**Exercício 7)** \n",
    "\n",
    "**a)** Crie uma expressão regular para validar se um telefone está no formato correto:\n",
    "\n",
    "Ex: (11) 98765-4321"
   ]
  },
  {
   "cell_type": "code",
   "execution_count": 138,
   "id": "24d38723",
   "metadata": {},
   "outputs": [
    {
     "name": "stdout",
     "output_type": "stream",
     "text": [
      "Está correto!\n"
     ]
    }
   ],
   "source": [
    "tel = \"(11) 98765-4321\"\n",
    "\n",
    "regex_exp_ex07a = r\"\\(\\d{2}\\)\\s\\d{5}-\\d{4}\" # Sua Expressão Regular!\n",
    "\n",
    "if re.match(regex_exp_ex07a, tel):\n",
    "    print(\"Está correto!\")\n",
    "else:\n",
    "    print(\"Fora do padrão!\")"
   ]
  },
  {
   "cell_type": "markdown",
   "id": "9f6e47d7",
   "metadata": {},
   "source": [
    "Vamos testar sua resposta localmente antes de enviar ao servidor de correção automática:"
   ]
  },
  {
   "cell_type": "code",
   "execution_count": 139,
   "id": "f9e1b39f",
   "metadata": {},
   "outputs": [],
   "source": [
    "assert re.match(regex_exp_ex07a, \"(11) 98765-4321\"), \"Resposta diferente do esperado!\"\n",
    "assert re.match(regex_exp_ex07a, \"11987654321\") is None, \"Resposta diferente do esperado!\""
   ]
  },
  {
   "cell_type": "markdown",
   "id": "b1a82e2f",
   "metadata": {},
   "source": [
    "Quando estiver confiante que sua resposta está correta, clique no botão abaixo para fazer o envio."
   ]
  },
  {
   "cell_type": "code",
   "execution_count": 140,
   "id": "4a96cfc8",
   "metadata": {},
   "outputs": [
    {
     "data": {
      "application/vnd.jupyter.widget-view+json": {
       "model_id": "d35bd041f3164b6196c6171b2bf50dd3",
       "version_major": 2,
       "version_minor": 0
      },
      "text/plain": [
       "interactive(children=(Button(description='Enviar ex07a', style=ButtonStyle()), Output()), _dom_classes=('widge…"
      ]
     },
     "execution_count": 140,
     "metadata": {},
     "output_type": "execute_result"
    }
   ],
   "source": [
    "ia.sender(answer=\"regex_exp_ex07a\", task=\"regex\", question=\"ex07a\", answer_type=\"pyvar\")"
   ]
  },
  {
   "cell_type": "markdown",
   "id": "5f0c2f82",
   "metadata": {},
   "source": [
    "**b)** Crie uma função para validar se um telefone está no formato correto:"
   ]
  },
  {
   "cell_type": "code",
   "execution_count": null,
   "id": "c8ddc71d",
   "metadata": {},
   "outputs": [],
   "source": [
    "def valid_tel(tel):\n",
    "    # Seu código aqui!\n",
    "    return"
   ]
  },
  {
   "cell_type": "code",
   "execution_count": null,
   "id": "opening-startup",
   "metadata": {},
   "outputs": [],
   "source": [
    "tel = '(11) 98765-4321'\n",
    "print(valid_tel(tel))\n",
    "\n",
    "tel = '(11) 987654321'\n",
    "print(valid_tel(tel))\n",
    "\n",
    "tel = '11 98765-4321'\n",
    "print(valid_tel(tel))\n",
    "\n",
    "tel = '(11) 98765-432'\n",
    "print(valid_tel(tel))"
   ]
  },
  {
   "cell_type": "markdown",
   "id": "saved-affairs",
   "metadata": {},
   "source": [
    "**Exercício 8)** Crie uma função para encontrar todos os telefones em um texto\n",
    "\n",
    "Ex: (11) 98765-4321"
   ]
  },
  {
   "cell_type": "code",
   "execution_count": null,
   "id": "9b1b29c8",
   "metadata": {},
   "outputs": [],
   "source": [
    "def find_all_tel(txt):\n",
    "    # Seu código aqui!\n",
    "    return"
   ]
  },
  {
   "cell_type": "code",
   "execution_count": null,
   "id": "6f119e39",
   "metadata": {},
   "outputs": [],
   "source": [
    "txt = 'liga neste (11) 98765-4321 ou neste (11) 98765-4321'\n",
    "\n",
    "find_all_tel(txt)"
   ]
  },
  {
   "cell_type": "code",
   "execution_count": 141,
   "id": "protecting-equation",
   "metadata": {},
   "outputs": [
    {
     "data": {
      "text/plain": [
       "['(11) 98765-4321', '(11) 98765-4321']"
      ]
     },
     "execution_count": 141,
     "metadata": {},
     "output_type": "execute_result"
    }
   ],
   "source": [
    "tel = 'liga neste (11) 98765-4321 ou neste (11) 98765-4321'\n",
    "\n",
    "re.findall(r'\\(\\d{2}\\) \\d{5}-\\d{4}', tel)"
   ]
  },
  {
   "cell_type": "markdown",
   "id": "metallic-progress",
   "metadata": {},
   "source": [
    "**Exercício 9)** Encontre e teste um RegEx para validar email!\n"
   ]
  },
  {
   "cell_type": "code",
   "execution_count": null,
   "id": "visible-jewel",
   "metadata": {},
   "outputs": [],
   "source": []
  },
  {
   "cell_type": "markdown",
   "id": "536106b1",
   "metadata": {},
   "source": [
    "**Exercício 10)** Uma empresa deseja monitorar menções a ela em notícias. Crie uma função que recebe um texto (notícia) e o nome da `empresa`. Caso a notícia faça menção a empresa, devolva a quantas palavras negativas são encontradas na notícia."
   ]
  },
  {
   "cell_type": "code",
   "execution_count": null,
   "id": "6ddf3c25",
   "metadata": {},
   "outputs": [],
   "source": [
    "def monitora_neg(notica, empresa):\n",
    "    # Seu código aqui!\n",
    "    return"
   ]
  },
  {
   "cell_type": "code",
   "execution_count": null,
   "id": "ffc453c1",
   "metadata": {},
   "outputs": [],
   "source": [
    "noticia = 'A Microsoft fez um péssimo trabalho no desenvolvimento do Onedrive. Os clientes, irritados, '\n",
    "print(monitora_neg(noticia, 'Microsoft'))\n",
    "\n",
    "noticia = 'A Microsoft fez um péssimo trabalho no desenvolvimento do Onedrive. Os clientes, irritados, tentam se localizar'\n",
    "print(monitora_neg(noticia, 'Apple'))\n",
    "\n",
    "noticia = '''\n",
    "Pânico e recessão globais. O Lehman Brothers entrou com pedido\n",
    "de recuperação judicial em 15 de setembro de 2008, uma segunda-feira\n",
    "e teve sua falência decretada. Com uma dívida de US$ 613 bilhões,\n",
    "o banco, fundado em 1847, empregava cerca de\n",
    "25 mil pessoas no mundo todo. Cliente irados não saem do telefone.\n",
    "'''\n",
    "print(monitora_neg(noticia, 'Lehman Brothers'))\n"
   ]
  },
  {
   "cell_type": "markdown",
   "id": "cf022307",
   "metadata": {},
   "source": [
    "## Conferir notas"
   ]
  },
  {
   "cell_type": "code",
   "execution_count": 142,
   "id": "12e41386",
   "metadata": {},
   "outputs": [
    {
     "data": {
      "text/markdown": [
       "|    | Atividade   | Exercício   |   Peso |   Nota |\n",
       "|---:|:------------|:------------|-------:|-------:|\n",
       "|  0 | regex       | ex01a       |      1 |     10 |\n",
       "|  1 | regex       | ex01b       |      1 |     10 |\n",
       "|  2 | regex       | ex01c       |      1 |     10 |\n",
       "|  3 | regex       | ex01d       |      1 |     10 |\n",
       "|  4 | regex       | ex02        |      1 |     10 |\n",
       "|  5 | regex       | ex03        |      1 |     10 |\n",
       "|  6 | regex       | ex04b       |      1 |     10 |\n",
       "|  7 | regex       | ex05        |      1 |     10 |\n",
       "|  8 | regex       | ex06a       |      1 |     10 |\n",
       "|  9 | regex       | ex07a       |      1 |     10 |"
      ],
      "text/plain": [
       "<IPython.core.display.Markdown object>"
      ]
     },
     "metadata": {},
     "output_type": "display_data"
    }
   ],
   "source": [
    "ia.grades(task=\"regex\")"
   ]
  },
  {
   "cell_type": "code",
   "execution_count": null,
   "id": "15003fa7",
   "metadata": {},
   "outputs": [],
   "source": []
  }
 ],
 "metadata": {
  "kernelspec": {
   "display_name": "Python 3 (ipykernel)",
   "language": "python",
   "name": "python3"
  },
  "language_info": {
   "codemirror_mode": {
    "name": "ipython",
    "version": 3
   },
   "file_extension": ".py",
   "mimetype": "text/x-python",
   "name": "python",
   "nbconvert_exporter": "python",
   "pygments_lexer": "ipython3",
   "version": "3.10.12"
  }
 },
 "nbformat": 4,
 "nbformat_minor": 5
}
