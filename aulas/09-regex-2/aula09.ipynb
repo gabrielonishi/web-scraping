{
 "cells": [
  {
   "cell_type": "markdown",
   "id": "comprehensive-turkey",
   "metadata": {},
   "source": [
    "# Análise de texto de fontes desestruturadas e Web\n",
    "\n",
    "## Aula 09\n",
    "\n",
    "Nesta aula vamos continuar a trabalhar com **Expressões Regulares (RegEx)**. Regex provê uma forma eficiente de encontrar padrões regulares em corpus textuais. \n",
    "\n",
    "A biblioteca utilizada será a **re**.\n",
    "\n",
    "Para conhecer mais sobre ela, acesse https://docs.python.org/3/library/re.html ou https://docs.python.org/pt-br/3.10/howto/regex.html"
   ]
  },
  {
   "cell_type": "markdown",
   "id": "weird-patrol",
   "metadata": {},
   "source": [
    "## Importando as bibliotecas necessárias\n",
    "\n",
    "Agora, vamos importar as bibliotecas necessárias:"
   ]
  },
  {
   "cell_type": "code",
   "execution_count": null,
   "id": "unlike-france",
   "metadata": {},
   "outputs": [],
   "source": [
    "# para trabalhar com diretórios / sistema operacional\n",
    "import os\n",
    "\n",
    "# para trabalhar com expressões regulares\n",
    "import re\n",
    "\n",
    "# utilizada para nos indicar o caminho do executável do Python\n",
    "import sys\n",
    "\n",
    "# para pandas DataFrame\n",
    "import pandas as pd"
   ]
  },
  {
   "cell_type": "markdown",
   "id": "acquired-regard",
   "metadata": {},
   "source": [
    "Caso obtenha algum erro, utilize o **!pip install** para instalar a biblioteca ausente!\n",
    "\n",
    "Vamos conferir com qual versão da biblioteca **re** estamos trabalhando?"
   ]
  },
  {
   "cell_type": "code",
   "execution_count": null,
   "id": "removable-calvin",
   "metadata": {},
   "outputs": [],
   "source": [
    "print(re.__version__)"
   ]
  },
  {
   "cell_type": "markdown",
   "id": "fewer-voluntary",
   "metadata": {},
   "source": [
    "Você também pode conferir de onde está executando o Python e qual a versão"
   ]
  },
  {
   "cell_type": "code",
   "execution_count": null,
   "id": "aggregate-secondary",
   "metadata": {},
   "outputs": [],
   "source": [
    "print(\"Executável:\")\n",
    "print(sys.executable)\n",
    "\n",
    "print(\"\\nVersão do Python:\")\n",
    "print(sys.version)"
   ]
  },
  {
   "cell_type": "markdown",
   "id": "multiple-premium",
   "metadata": {},
   "source": [
    "Vamos conferir em qual diretório iremos trabalhar (é o diretório do notebook)"
   ]
  },
  {
   "cell_type": "code",
   "execution_count": null,
   "id": "revolutionary-quantity",
   "metadata": {},
   "outputs": [],
   "source": [
    "print(\"O seu notebook está na pasta:\")\n",
    "print(os.getcwd())"
   ]
  },
  {
   "cell_type": "markdown",
   "id": "parliamentary-punch",
   "metadata": {},
   "source": [
    "\n",
    "# RegEx tester\n",
    "\n",
    "Duas ferramentas legais para conferir expressões regulares são o https://regex101.com e https://www.regextester.com\n",
    "\n",
    "Neles, você pode conferir se há, para alguma expressão regular, match com palavras de um texto."
   ]
  },
  {
   "cell_type": "markdown",
   "id": "popular-ensemble",
   "metadata": {},
   "source": [
    "# Relembrando\n",
    "\n",
    "**|** ⟶ OU\n",
    "\n",
    "**.** ⟶ Qualquer caractere, exceto quebra de linha\n",
    "\n",
    "**[az]** ⟶ O caractere \"a\" OU \"z\". Pode ser qualquer caractere do conjunto\n",
    "\n",
    "**[a-z]** ⟶ Qualquer caractere de \"a\" até \"z\" minúsculo\n",
    "\n",
    "**[A-Z]** ⟶ Qualquer caractere de \"A\" até \"Z\" maiúsculo\n",
    "\n",
    "**[0-9]** ⟶ Dígitos numéricos de \"0\" até \"9\"\n",
    "\n",
    "**[^a-c]** ⟶ Qualquer caractere, exceto de \"a\" até \"c\"\n",
    "\n",
    "**^[a-z]** ⟶ Qualquer caractere de \"a\" até \"z\". String deve começar com o padrão.\n",
    "\n",
    "**[a-z]*** ⟶ Zero ou mais letras de \"a\" até \"z\"\n",
    "\n",
    "**[A-Z]+** ⟶ Uma ou mais letras de \"A\" até \"Z\"\n",
    "\n",
    "**a{5}** ⟶ Cinco **a**'s\n",
    "\n",
    "**a{2,5}** ⟶ De dois a cinco **a**'s\n",
    "\n",
    "**[a-z]{,3}** ⟶ Até três letras de \"a\" até \"z\"\n",
    "\n",
    "**\\w** ⟶ muito parecido com a RegEx [a-zA-ZÀ-ú0-9], mas apenas um caractere destes\n",
    "\n",
    "**\\w+** ⟶ um ou mais \\w, formando uma palavra\n",
    "\n",
    "**\\s** ⟶ separadores\n"
   ]
  },
  {
   "cell_type": "code",
   "execution_count": null,
   "id": "foreign-optimization",
   "metadata": {},
   "outputs": [],
   "source": [
    "noticia = \"\"\"\n",
    "A Lyft, rival da Uber nos Estados Unidos,\n",
    "vai vender sua unidade de tecnologia de carros autônomos para\n",
    "a Toyota em um acordo de 550 milhões de dólares, anunciaram as\n",
    "empresas nesta segunda-feira. A venda vai ajudar a lyft a se\n",
    "concentrar em parcerias com a ajuda de companhias de direção autônoma que\n",
    "querem disponibilizar tecnologia na plataforma da empresa, em vez\n",
    "da companhia ter de investir pesaaaaaadas somas em desenvolvimento de\n",
    "tecnologia que ainda não foi colocada em uso amplo.\n",
    "Siga eu_envio@jornal\n",
    "\"\"\""
   ]
  },
  {
   "cell_type": "markdown",
   "id": "seasonal-sword",
   "metadata": {},
   "source": [
    "Como podemos encontrar todas as palavras?!"
   ]
  },
  {
   "cell_type": "code",
   "execution_count": null,
   "id": "vocal-chemistry",
   "metadata": {},
   "outputs": [],
   "source": [
    "print(re.findall(r\"\\w+\", noticia, flags=re.DOTALL))"
   ]
  },
  {
   "cell_type": "markdown",
   "id": "resident-galaxy",
   "metadata": {},
   "source": [
    "Como fazemos para encontrar todas as palavras que contém a substring **ia**"
   ]
  },
  {
   "cell_type": "code",
   "execution_count": null,
   "id": "personal-gnome",
   "metadata": {},
   "outputs": [],
   "source": [
    "print(re.findall(r\"\\w*ia\\w*\", noticia, flags=re.DOTALL))"
   ]
  },
  {
   "cell_type": "markdown",
   "id": "going-cameroon",
   "metadata": {},
   "source": [
    "Como encontrar todas as palavras de tamanho quatro?"
   ]
  },
  {
   "cell_type": "code",
   "execution_count": null,
   "id": "satellite-adelaide",
   "metadata": {},
   "outputs": [],
   "source": [
    "print(re.findall(r\"\\b\\w{4}\\b\", noticia, flags=re.DOTALL))"
   ]
  },
  {
   "cell_type": "markdown",
   "id": "after-apartment",
   "metadata": {},
   "source": [
    "Teste com outros tamanhos!"
   ]
  },
  {
   "cell_type": "code",
   "execution_count": null,
   "id": "changed-format",
   "metadata": {},
   "outputs": [],
   "source": [
    "print(re.findall(r\"\\b\\w{6}\\b\", noticia, flags=re.DOTALL))"
   ]
  },
  {
   "cell_type": "code",
   "execution_count": null,
   "id": "varied-heart",
   "metadata": {},
   "outputs": [],
   "source": [
    "print(re.findall(r\"\\b\\w{6,}\\b\", noticia, flags=re.DOTALL))"
   ]
  },
  {
   "cell_type": "markdown",
   "id": "shaped-separation",
   "metadata": {},
   "source": [
    "Palavras que começam com algum padrão.\n",
    "Ex: palavras que começam por \"a\" ou \"p\"."
   ]
  },
  {
   "cell_type": "code",
   "execution_count": null,
   "id": "generous-baker",
   "metadata": {},
   "outputs": [],
   "source": [
    "print(re.findall(r\"\\b[ap]\\w+\", noticia, flags=re.DOTALL))"
   ]
  },
  {
   "cell_type": "markdown",
   "id": "6fe43bca",
   "metadata": {},
   "source": [
    "## Grupos\n",
    "\n",
    "Vamos tentar extrair apenas as linhas com CPFs **ativos**:"
   ]
  },
  {
   "cell_type": "code",
   "execution_count": null,
   "id": "488f918e",
   "metadata": {},
   "outputs": [],
   "source": [
    "\n",
    "txt_csv = \"\"\"ID,CPF,STATUS\n",
    "1,485.418.970-36,NEGATIVADO\n",
    "2,442.120.440-48,ATIVO\n",
    "3,551.375.020-14,ATIVADO\n",
    "4,864.331.820-54,NEGATIVADO\n",
    "5,683.437.520-15,NEGATIVADO\n",
    "6,3226.468.270-24,ATIVO\n",
    "7,949.880.730-25,ATIVO\n",
    "\"\"\""
   ]
  },
  {
   "cell_type": "code",
   "execution_count": null,
   "id": "77315b7e",
   "metadata": {},
   "outputs": [],
   "source": [
    "# Seu código AQUI!"
   ]
  },
  {
   "cell_type": "markdown",
   "id": "2952827a",
   "metadata": {},
   "source": [
    "E se quisesse apenas os CPFs ativos, sem o restante da linha?"
   ]
  },
  {
   "cell_type": "code",
   "execution_count": null,
   "id": "ebd5da06",
   "metadata": {},
   "outputs": [],
   "source": [
    "# Seu código AQUI!"
   ]
  },
  {
   "cell_type": "markdown",
   "id": "aa2c8562",
   "metadata": {},
   "source": [
    "Antes de responder, tente analisar por que o regex abaixo não funciona para pegar palavras com dois ou mais `\"ba\"` como substring:"
   ]
  },
  {
   "cell_type": "code",
   "execution_count": null,
   "id": "8cd1742b",
   "metadata": {},
   "outputs": [],
   "source": [
    "import re\n",
    "\n",
    "text = \"babado esbabado baba paraiba nobababano alibaaaaba abab\"\n",
    "\n",
    "pattern = r\"(\\b\\w*ba{2,}\\w*\\b)\"\n",
    "\n",
    "matches = re.findall(pattern, text)\n",
    "print(matches)"
   ]
  },
  {
   "cell_type": "markdown",
   "id": "295cba43",
   "metadata": {},
   "source": [
    "E se quiséssemos obter a maneira como o status está escrito, além dos CPFs, apenas para os ativos?"
   ]
  },
  {
   "cell_type": "code",
   "execution_count": null,
   "id": "a8a5ce88",
   "metadata": {},
   "outputs": [],
   "source": [
    "# Seu código AQUI!"
   ]
  },
  {
   "cell_type": "markdown",
   "id": "passive-enzyme",
   "metadata": {},
   "source": [
    "**Desafio**: tente extrair hashtags e usuários!\n",
    "\n",
    "Não pode extriar os e-mails, nem hashtags ao estilo  `eu#quero`."
   ]
  },
  {
   "cell_type": "code",
   "execution_count": null,
   "id": "precise-extent",
   "metadata": {},
   "outputs": [],
   "source": [
    "tweet = \"\"\"@globonews\n",
    "A @Lyft, rival da @Uber, vende unidade #tech de carros autônomos para manoel@\n",
    "a @Toyota. #deal #startup. macielcv@insper.edu.br #inovação #inova_geral w@a $#x eu#quero\n",
    "\"\"\""
   ]
  },
  {
   "cell_type": "code",
   "execution_count": null,
   "id": "6f2c9a72",
   "metadata": {},
   "outputs": [],
   "source": [
    "# Seu código AQUI!"
   ]
  },
  {
   "cell_type": "markdown",
   "id": "ruled-pharmacology",
   "metadata": {},
   "source": [
    "**Desafio**: Tente criar uma expressão regular que seja uma bom chute para encontrar verbos no texto.\n",
    "\n",
    "Dica: pense nos sufixos (final) das palavras que são verbos."
   ]
  },
  {
   "cell_type": "code",
   "execution_count": null,
   "id": "c0df99db",
   "metadata": {},
   "outputs": [],
   "source": [
    "# Seu código AQUI!"
   ]
  },
  {
   "cell_type": "markdown",
   "id": "imposed-collective",
   "metadata": {},
   "source": [
    "# Compilando expressões regulares\n",
    "\n",
    "As RegExp podem ser compiladas. Isto é bastante útil quando precisamos testar um padrão por diversas vezes, como acontece em validação de dados"
   ]
  },
  {
   "cell_type": "code",
   "execution_count": null,
   "id": "brave-edmonton",
   "metadata": {},
   "outputs": [],
   "source": [
    "lista = [\"123.456.789-11\", \"23.456.789-11\", \"41 123.456.789-11\", \"123.456.789-11 maria\"]\n",
    "\n",
    "padrao = re.compile(r\"^\\d{3}\\.\\d{3}\\.\\d{3}-\\d{2}$\")\n",
    "\n",
    "for cpf in lista:\n",
    "    if padrao.match(cpf):\n",
    "        print(\"valido {}\".format(cpf))\n",
    "    else:\n",
    "        print(\"INVALIDO {}\".format(cpf))"
   ]
  },
  {
   "cell_type": "markdown",
   "id": "sapphire-minority",
   "metadata": {},
   "source": [
    "# Expressões regulares e Pandas\n",
    "\n",
    "As RegExp podem ser utilizadas em colunas de texto de DataFrames.\n",
    "\n",
    "Vamos criar um DataFrame de exemplo:"
   ]
  },
  {
   "cell_type": "code",
   "execution_count": null,
   "id": "concerned-boston",
   "metadata": {},
   "outputs": [],
   "source": [
    "lista_user = [\"@joaonoel\", \"@mariaaa\", \"@malex\", \"@elen\", \"@ton2\"]\n",
    "lista_tweet = [\"Nao gostei do atendimento #irritado. Não compro mais.\",\n",
    "               \"Saiu o novo iphone. Quem já comprou?\",\n",
    "               \"Pagar com Pix ficou muito melhor\",\n",
    "               \"Precisamos falar sobre stress #saude\",\n",
    "               \"Não consigo comprar. Meu app não abre, que raiva! Não fui atendido ainda.\"]"
   ]
  },
  {
   "cell_type": "code",
   "execution_count": null,
   "id": "spare-picking",
   "metadata": {},
   "outputs": [],
   "source": [
    "dft = pd.DataFrame({\"Usuario\": lista_user, \"Tweet\": lista_tweet})\n",
    "dft"
   ]
  },
  {
   "cell_type": "markdown",
   "id": "wicked-nancy",
   "metadata": {},
   "source": [
    "Tentando encontrar ocorrências em textos:"
   ]
  },
  {
   "cell_type": "code",
   "execution_count": null,
   "id": "representative-amount",
   "metadata": {},
   "outputs": [],
   "source": [
    "dft[\"Tweet\"].str.findall(r\"atendimento|compr.\")"
   ]
  },
  {
   "cell_type": "code",
   "execution_count": null,
   "id": "another-bicycle",
   "metadata": {},
   "outputs": [],
   "source": [
    "dft[\"Termos\"] = dft[\"Tweet\"].str.findall(r\"atend\\w+|compr.\")\n",
    "\n",
    "dft"
   ]
  },
  {
   "cell_type": "markdown",
   "id": "acoustic-minnesota",
   "metadata": {},
   "source": [
    "As vezes, precisamos identificar se algum registro (uma venda, um cliente, um tweet) segue ou não um determinado padrão e, a partir disso, separar os registros para atuação (filtrar e tomar alguma ação)."
   ]
  },
  {
   "cell_type": "code",
   "execution_count": null,
   "id": "atlantic-monroe",
   "metadata": {},
   "outputs": [],
   "source": [
    "dft[\"Problema\"] = dft[\"Tweet\"].str.contains(r\"atend\\w+|compr.\")\n",
    "\n",
    "dft"
   ]
  },
  {
   "cell_type": "markdown",
   "id": "fifty-sudan",
   "metadata": {},
   "source": [
    "Vamos renomear a coluna recém criada, mapeando de True/False para Sim/Não?"
   ]
  },
  {
   "cell_type": "code",
   "execution_count": null,
   "id": "fundamental-chicago",
   "metadata": {},
   "outputs": [],
   "source": [
    "dft[\"Problema\"] = dft[\"Problema\"].astype(\"category\")\n",
    "dft[\"Problema\"].cat.rename_categories({True: \"Sim\", False: \"Não\"})\n",
    "dft[\"Problema\"]"
   ]
  },
  {
   "cell_type": "markdown",
   "id": "chronic-regular",
   "metadata": {},
   "source": [
    "### DataFrame e Validação de campos"
   ]
  },
  {
   "cell_type": "code",
   "execution_count": null,
   "id": "built-netscape",
   "metadata": {},
   "outputs": [],
   "source": [
    "lista_cli = [\"Joao Noel\", \"Maria Alves\", \"Mia Alexandria\", \"Elen Perez\", \"Antonio Silverio\"]\n",
    "lista_cpf = [\"123.456.789-11\", \"23.456.789-11\", \"41 123.456.789-11\", \"123.456.789-11 maria\", \"333.333.333-55\"]\n",
    "\n",
    "dfcli = pd.DataFrame({\"Cliente\": lista_cli, \"CPF\": lista_cpf})\n",
    "dfcli"
   ]
  },
  {
   "cell_type": "code",
   "execution_count": null,
   "id": "comprehensive-basic",
   "metadata": {},
   "outputs": [],
   "source": [
    "dfcli[\"CPF\"].str.match(r\"\\d{3}\\.\\d{3}\\.\\d{3}-\\d{2}\")"
   ]
  },
  {
   "cell_type": "code",
   "execution_count": null,
   "id": "sexual-borough",
   "metadata": {},
   "outputs": [],
   "source": [
    "dfcli[\"CPF\"].str.match(r\"^\\d{3}\\.\\d{3}\\.\\d{3}-\\d{2}$\")"
   ]
  },
  {
   "cell_type": "markdown",
   "id": "structured-confidentiality",
   "metadata": {},
   "source": [
    "Vamos ver como utilizar estas informações para filtrar usuários com CPFs válidos ou inválidos?!"
   ]
  },
  {
   "cell_type": "code",
   "execution_count": null,
   "id": "elementary-rover",
   "metadata": {},
   "outputs": [],
   "source": [
    "filtro = dfcli[\"CPF\"].str.match(r\"^\\d{3}\\.\\d{3}\\.\\d{3}-\\d{2}$\")\n",
    "\n",
    "dfcli.loc[filtro]"
   ]
  },
  {
   "cell_type": "markdown",
   "id": "df6aa528",
   "metadata": {},
   "source": [
    "Confira também o notebook com scraping e regex do IstoÉDinheiro!"
   ]
  }
 ],
 "metadata": {
  "kernelspec": {
   "display_name": "Python 3 (ipykernel)",
   "language": "python",
   "name": "python3"
  },
  "language_info": {
   "codemirror_mode": {
    "name": "ipython",
    "version": 3
   },
   "file_extension": ".py",
   "mimetype": "text/x-python",
   "name": "python",
   "nbconvert_exporter": "python",
   "pygments_lexer": "ipython3",
   "version": "3.10.12"
  }
 },
 "nbformat": 4,
 "nbformat_minor": 5
}
