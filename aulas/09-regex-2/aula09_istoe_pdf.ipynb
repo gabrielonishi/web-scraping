{
 "cells": [
  {
   "cell_type": "markdown",
   "id": "dense-buffer",
   "metadata": {},
   "source": [
    "# Análise de texto de fontes desestruturadas e Web\n",
    "\n",
    "## Exercícios da Aula 09\n",
    "\n",
    "Este notebook servirá para relembrarmos **requests** e **BeautifulSoup**, que serão utilizadas para baixar notícias do site da **IstoÉ Dinheiro**. Em seguida, iremos extrair informações para construir um Pandas DataFrame de títulos e descrições para prática de **RegEx**."
   ]
  },
  {
   "cell_type": "markdown",
   "id": "composed-football",
   "metadata": {},
   "source": [
    "## Importando as bibliotecas necessárias"
   ]
  },
  {
   "cell_type": "code",
   "execution_count": null,
   "id": "motivated-lender",
   "metadata": {},
   "outputs": [],
   "source": [
    "# para nos comunicarmos com a Web\n",
    "import requests\n",
    "import urllib\n",
    "\n",
    "# para extrair informações de páginas HTML\n",
    "import bs4\n",
    "from bs4 import BeautifulSoup\n",
    "\n",
    "# Para criar um Data Frame\n",
    "import pandas as pd\n",
    "\n",
    "# Para expressões regulares\n",
    "import re\n",
    "\n",
    "# Para PDFs\n",
    "import PyPDF2 as pp\n",
    "\n",
    "# Recursos do sistema\n",
    "import os\n",
    "\n",
    "# Aleatoriedade\n",
    "import random\n",
    "\n",
    "# Para sleep\n",
    "import time"
   ]
  },
  {
   "cell_type": "markdown",
   "id": "e98c902a",
   "metadata": {},
   "source": [
    "Caso necessário, utilize `pip` e faça instalação das bibliotecas:"
   ]
  },
  {
   "cell_type": "code",
   "execution_count": null,
   "id": "1925dfb7",
   "metadata": {},
   "outputs": [],
   "source": [
    "# !pip install --upgrade pip\n",
    "# !pip install --upgrade PyPDF2"
   ]
  },
  {
   "cell_type": "markdown",
   "id": "cross-idaho",
   "metadata": {},
   "source": [
    "## Definindo cabeçalho User-Agent"
   ]
  },
  {
   "cell_type": "code",
   "execution_count": null,
   "id": "lesbian-macedonia",
   "metadata": {},
   "outputs": [],
   "source": [
    "user_agents = [\n",
    "    \"Mozilla/5.0 (Windows NT 10.0; Win64; x64) AppleWebKit/537.36 (KHTML, like Gecko) Chrome/74.0.3729.169 Safari/537.36\",\n",
    "    \"Mozilla/5.0 (Windows NT 10.0; WOW64) AppleWebKit/537.36 (KHTML, like Gecko) Chrome/72.0.3626.121 Safari/537.36\",\n",
    "    \"Mozilla/5.0 (Windows NT 10.0; Win64; x64) AppleWebKit/537.36 (KHTML, like Gecko) Chrome/74.0.3729.157 Safari/537.36\",\n",
    "    \"Mozilla/5.0 (Windows NT 10.0; Win64; x64) AppleWebKit/537.36 (KHTML, like Gecko) Chrome/60.0.3112.113 Safari/537.36\",\n",
    "    \"Mozilla/5.0 (Windows NT 6.1; Win64; x64) AppleWebKit/537.36 (KHTML, like Gecko) Chrome/60.0.3112.90 Safari/537.36\",\n",
    "    \"Mozilla/5.0 (Windows NT 10.0) AppleWebKit/537.36 (KHTML, like Gecko) Chrome/72.0.3626.121 Safari/537.36\",\n",
    "    \"Mozilla/5.0 (Windows NT 6.1; Win64; x64) AppleWebKit/537.36 (KHTML, like Gecko) Chrome/74.0.3729.157 Safari/537.36\",\n",
    "    \"Mozilla/5.0 (Windows NT 5.1) AppleWebKit/537.36 (KHTML, like Gecko) Chrome/36.0.1985.67 Safari/537.36\",\n",
    "    \"Mozilla/5.0 (Windows NT 10.0; Win64; x64) AppleWebKit/537.36 (KHTML, like Gecko) Chrome/74.0.3729.169 Safari/537.36\",\n",
    "    \"Mozilla/5.0 (Windows NT 10.0; Win64; x64) AppleWebKit/537.36 (KHTML, like Gecko) Chrome/60.0.3112.90 Safari/537.36\",\n",
    "    \"Mozilla/5.0 (Windows NT 6.1; Win64; x64) AppleWebKit/537.36 (KHTML, like Gecko) Chrome/74.0.3729.157 Safari/537.36\",\n",
    "    \"Mozilla/5.0 (Windows NT 10.0; Win64; x64; rv:57.0) Gecko/20100101 Firefox/57.0\",\n",
    "    \"Mozilla/5.0 (Windows NT 6.1; Win64; x64) AppleWebKit/537.36 (KHTML, like Gecko) Chrome/60.0.3112.90 Safari/537.36\",\n",
    "    \"Mozilla/5.0 (Windows NT 6.3; Win64; x64) AppleWebKit/537.36 (KHTML, like Gecko) Chrome/60.0.3112.113 Safari/537.36\",\n",
    "    \"Mozilla/5.0 (Windows NT 6.3; WOW64; Trident/7.0; rv:11.0) like Gecko\",\n",
    "    \"Mozilla/5.0 (Windows NT 10.0; Win64; x64) AppleWebKit/537.36 (KHTML, like Gecko) Chrome/74.0.3729.169 Safari/537.36\",\n",
    "    \"Mozilla/5.0 (Windows NT 5.1; Win64; x64) AppleWebKit/537.36 (KHTML, like Gecko) Chrome/60.0.3112.90 Safari/537.36\",\n",
    "    \"Mozilla/5.0 (Windows NT 10.0; Win64; x64) AppleWebKit/537.36 (KHTML, like Gecko) Chrome/55.0.2883.87 Safari/537.36\",\n",
    "    \"Mozilla/4.0 (compatible; MSIE 6.0; Windows NT 5.1; SV1; .NET CLR 1.1.4322)\",\n",
    "    \"Mozilla/5.0 (Windows NT 6.1; WOW64; Trident/7.0; AS; rv:11.0) like Gecko\",\n",
    "    \"Mozilla/5.0 (Windows NT 10.0; Win64; x64) AppleWebKit/537.36 (KHTML, like Gecko) Chrome/80.0.3987.149 Safari/537.36\",\n",
    "    \"Mozilla/5.0 (Windows NT 10.0; Win64; x64; rv:74.0) Gecko/20100101 Firefox/74.0\",\n",
    "    \"Mozilla/5.0 (Windows NT 6.1; Win64; x64) AppleWebKit/537.36 (KHTML, like Gecko) Chrome/80.0.3987.132 Safari/537.36\",\n",
    "    \"Mozilla/5.0 (Windows NT 10.0; Win64; x64) AppleWebKit/537.36 (KHTML, like Gecko) Chrome/79.0.3945.88 Safari/537.36\",\n",
    "    \"Mozilla/5.0 (Windows NT 6.1) AppleWebKit/537.36 (KHTML, like Gecko) Chrome/80.0.3987.132 Safari/537.36\",\n",
    "    \"Mozilla/5.0 (Windows NT 6.3; Win64; x64) AppleWebKit/537.36 (KHTML, like Gecko) Chrome/80.0.3987.149 Safari/537.36\",\n",
    "    \"Mozilla/5.0 (Windows NT 5.1) AppleWebKit/537.36 (KHTML, like Gecko) Chrome/80.0.3987.132 Safari/537.36\",\n",
    "    \"Mozilla/5.0 (X11; Linux x86_64) AppleWebKit/537.36 (KHTML, like Gecko) Chrome/80.0.3987.149 Safari/537.36\",\n",
    "    \"Mozilla/5.0 (X11; Linux x86_64; rv:74.0) Gecko/20100101 Firefox/74.0\",\n",
    "    \"Mozilla/5.0 (Windows NT 10.0; Win64; x64; rv:71.0) Gecko/20100101 Firefox/71.0\",\n",
    "    \"Mozilla/5.0 (Macintosh; Intel Mac OS X 10_15_3) AppleWebKit/537.36 (KHTML, like Gecko) Chrome/80.0.3987.132 Safari/537.36\",\n",
    "    \"Mozilla/5.0 (X11; Ubuntu; Linux x86_64; rv:72.0) Gecko/20100101 Firefox/72.0\",\n",
    "    \"Mozilla/5.0 (Macintosh; Intel Mac OS X 10_14_6) AppleWebKit/537.36 (KHTML, like Gecko) Chrome/80.0.3987.149 Safari/537.36\",\n",
    "    \"Mozilla/5.0 (X11; Linux x86_64) AppleWebKit/537.36 (KHTML, like Gecko) Chrome/79.0.3945.130 Safari/537.36\",\n",
    "    \"Mozilla/5.0 (Macintosh; Intel Mac OS X 10.15; rv:74.0) Gecko/20100101 Firefox/74.0\",\n",
    "    \"Mozilla/5.0 (Windows NT 6.3; Win64; x64) AppleWebKit/537.36 (KHTML, like Gecko) Chrome/80.0.3987.149 Safari/537.36\",\n",
    "    \"Mozilla/5.0 (Macintosh; Intel Mac OS X 10_15_2) AppleWebKit/537.36 (KHTML, like Gecko) Chrome/80.0.3987.132 Safari/537.36\",\n",
    "    \"Mozilla/5.0 (Windows NT 6.1) AppleWebKit/537.36 (KHTML, like Gecko) Chrome/79.0.3945.117 Safari/537.36\",\n",
    "    \"Mozilla/5.0 (Windows NT 10.0; Win64; x64) AppleWebKit/537.36 (KHTML, like Gecko) Chrome/81.0.4044.92 Safari/537.36\",\n",
    "    \"Mozilla/5.0 (Windows NT 10.0; Win64; x64) AppleWebKit/537.36 (KHTML, like Gecko) Chrome/88.0.4324.104 Safari/537.36\",\n",
    "    \"Mozilla/5.0 (Windows NT 10.0; Win64; x64) AppleWebKit/537.36 (KHTML, like Gecko) Chrome/81.0.4044.113 Safari/537.36\",\n",
    "    \"Mozilla/5.0 (Windows NT 10.0; Win64; x64; rv:80.0) Gecko/20100101 Firefox/80.0\",\n",
    "    \"Mozilla/5.0 (Windows NT 10.0; Win64; x64) AppleWebKit/537.36 (KHTML, like Gecko) Chrome/79.0.3945.130 Safari/537.36\",\n",
    "    \"Mozilla/5.0 (Windows NT 6.1; Win64; x64; rv:76.0) Gecko/20100101 Firefox/76.0\",\n",
    "    \"Mozilla/5.0 (Windows NT 10.0; Win64; x64) AppleWebKit/537.36 (KHTML, like Gecko) Chrome/81.0.4044.122 Safari/537.36\",\n",
    "    \"Mozilla/5.0 (Windows NT 6.1; Win64; x64) AppleWebKit/537.36 (KHTML, like Gecko) Chrome/81.0.4044.138 Safari/537.36\",\n",
    "    \"Mozilla/5.0 (Windows NT 10.0; Win64; x64) AppleWebKit/537.36 (KHTML, like Gecko) Chrome/85.0.4183.102 Safari/537.36\",\n",
    "    \"Mozilla/5.0 (Windows NT 10.0; Win64; x64) AppleWebKit/537.36 (KHTML, like Gecko) Chrome/78.0.3904.108 Safari/537.36\",\n",
    "    \"Mozilla/5.0 (Windows NT 6.1; Win64; x64) AppleWebKit/537.36 (KHTML, like Gecko) Chrome/81.0.4044.129 Safari/537.36\",\n",
    "    \"Mozilla/5.0 (X11; Linux x86_64) AppleWebKit/537.36 (KHTML, like Gecko) Chrome/81.0.4044.129 Safari/537.36\",\n",
    "    \"Mozilla/5.0 (Windows NT 6.3; Win64; x64) AppleWebKit/537.36 (KHTML, like Gecko) Chrome/78.0.3904.108 Safari/537.36\",\n",
    "    \"Mozilla/5.0 (Windows NT 6.1; Win64; x64) AppleWebKit/537.36 (KHTML, like Gecko) Chrome/87.0.4280.66 Safari/537.36\",\n",
    "    \"Mozilla/5.0 (Macintosh; Intel Mac OS X 10_15_5) AppleWebKit/537.36 (KHTML, like Gecko) Chrome/83.0.4103.97 Safari/537.36\",\n",
    "    \"Mozilla/5.0 (Windows NT 10.0; Win64; x64) AppleWebKit/537.36 (KHTML, like Gecko) Chrome/86.0.4240.111 Safari/537.36\",\n",
    "    \"Mozilla/5.0 (Windows NT 6.1; Win64; x64) AppleWebKit/537.36 (KHTML, like Gecko) Chrome/80.0.3987.149 Safari/537.36\",\n",
    "    \"Mozilla/5.0 (X11; Linux x86_64) AppleWebKit/537.36 (KHTML, like Gecko) Chrome/81.0.4044.113 Safari/537.36\",\n",
    "    \"Mozilla/5.0 (Windows NT 10.0; Win64; x64; rv:75.0) Gecko/20100101 Firefox/75.0\",\n",
    "    \"Mozilla/5.0 (Windows NT 10.0; Win64; x64) AppleWebKit/537.36 (KHTML, like Gecko) Chrome/79.0.3945.117 Safari/537.36\",\n",
    "    \"Mozilla/5.0 (Windows NT 10.0; Win64; x64; rv:78.0) Gecko/20100101 Firefox/78.0\",\n",
    "    \"Mozilla/5.0 (Windows NT 10.0; Win64; x64) AppleWebKit/537.36 (KHTML, like Gecko) Chrome/84.0.4147.105 Safari/537.36\",\n",
    "    \"Mozilla/5.0 (Windows NT 10.0; Win64; x64) AppleWebKit/537.36 (KHTML, like Gecko) Chrome/84.0.4147.89 Safari/537.36\",\n",
    "    \"Mozilla/5.0 (Windows NT 10.0; Win64; x64) AppleWebKit/537.36 (KHTML, like Gecko) Chrome/83.0.4103.116 Safari/537.36\",\n",
    "    \"Mozilla/5.0 (Windows NT 10.0; Win64; x64) AppleWebKit/537.36 (KHTML, like Gecko) Chrome/87.0.4280.88 Safari/537.36\",\n",
    "    \"Mozilla/5.0 (Windows NT 6.1; Win64; x64; rv:79.0) Gecko/20100101 Firefox/79.0\",\n",
    "    \"Mozilla/5.0 (Windows NT 10.0; Win64; x64) AppleWebKit/537.36 (KHTML, like Gecko) Chrome/77.0.3865.90 Safari/537.36\",\n",
    "    \"Mozilla/5.0 (Windows NT 6.1; Win64; x64) AppleWebKit/537.36 (KHTML, like Gecko) Chrome/81.0.4044.138 Safari/537.36\",\n",
    "    \"Mozilla/5.0 (Windows NT 10.0; Win64; x64; rv:73.0) Gecko/20100101 Firefox/73.0\",\n",
    "    \"Mozilla/5.0 (Windows NT 6.3; Win64; x64) AppleWebKit/537.36 (KHTML, like Gecko) Chrome/81.0.4044.138 Safari/537.36\",\n",
    "    \"Mozilla/5.0 (Windows NT 10.0; Win64; x64; rv:82.0) Gecko/20100101 Firefox/82.0\",\n",
    "]"
   ]
  },
  {
   "cell_type": "markdown",
   "id": "bf7c80b2",
   "metadata": {},
   "source": [
    "Vamos sortear aleatoriamente um *user agent*:"
   ]
  },
  {
   "cell_type": "code",
   "execution_count": null,
   "id": "b27bbfc5",
   "metadata": {},
   "outputs": [],
   "source": [
    "u_agent = random.choice(user_agents)\n",
    "headers = ({\"User-Agent\": u_agent})"
   ]
  },
  {
   "cell_type": "markdown",
   "id": "circular-opposition",
   "metadata": {},
   "source": [
    "## Definindo em qual página buscar\n",
    "\n",
    "Vamos definir qual seção iremos utilizar para baixar as notícias."
   ]
  },
  {
   "cell_type": "code",
   "execution_count": null,
   "id": "informational-venture",
   "metadata": {},
   "outputs": [],
   "source": [
    "secao = \"economia\"\n",
    "url = f\"https://istoedinheiro.com.br/categoria/{secao}/\""
   ]
  },
  {
   "cell_type": "markdown",
   "id": "foreign-setup",
   "metadata": {},
   "source": [
    "## Utilizando *requests* para baixar a página de notícias\n",
    "\n",
    "Com o uso da biblioteca **requests**, podemos obter o **HTML** da página da IstoÉ."
   ]
  },
  {
   "cell_type": "code",
   "execution_count": null,
   "id": "european-incidence",
   "metadata": {},
   "outputs": [],
   "source": [
    "resposta = requests.get(url=url, headers=headers)\n",
    "\n",
    "resposta.encoding = \"utf-8\"\n",
    "\n",
    "print(resposta.text)"
   ]
  },
  {
   "cell_type": "markdown",
   "id": "graduate-battle",
   "metadata": {},
   "source": [
    "## Extraindo informações relevantes com *BeautifulSoup*\n",
    "\n",
    "Perceba que o HTML inclui uma grande quantidade de tags, o que dificulta identificar informações relevantes de forma direta. Com o auxílio da biblioteca **BeautifulSoup** podemos extrair facilmente as informações que desejamos."
   ]
  },
  {
   "cell_type": "code",
   "execution_count": null,
   "id": "resident-scott",
   "metadata": {},
   "outputs": [],
   "source": [
    "soup = BeautifulSoup(resposta.text, \"html.parser\")"
   ]
  },
  {
   "cell_type": "markdown",
   "id": "hourly-creator",
   "metadata": {},
   "source": [
    "Agora, vamos obter uma lista com todos os trechos HTML que contém uma notícia. Para identificar as tags corretas, é preciso ir até a página Web que desejamos extrair informações, dar botão direito e ir em **inspecionar elemento**, navegando pelo HTML até identificar as tags necessárias\n",
    "\n",
    "Ex: https://istoedinheiro.com.br/categoria/economia/"
   ]
  },
  {
   "cell_type": "code",
   "execution_count": null,
   "id": "anonymous-recognition",
   "metadata": {},
   "outputs": [],
   "source": [
    "# Noticias com a thumb image\n",
    "lista_tag_individual = soup.find_all(\"article\", attrs={\"name\": \"individualNew\"})\n",
    "\n",
    "# Notícias sem imagem ao lado do título\n",
    "lista_tag_a_text = soup.find_all(\"article\", attrs={\"name\": \"ArticleWithText\"})\n",
    "\n",
    "# Concatena as duas listas\n",
    "lista_tag_noticia = lista_tag_individual + lista_tag_a_text\n",
    "\n",
    "# Todas as notícias encontradas\n",
    "lista_tag_noticia"
   ]
  },
  {
   "cell_type": "markdown",
   "id": "positive-lighter",
   "metadata": {},
   "source": [
    "Agora, podemos passar por cada uma das chamadas de notícias, extraindo informações de interesse, como o título, descrição e data."
   ]
  },
  {
   "cell_type": "code",
   "execution_count": null,
   "id": "built-timeline",
   "metadata": {},
   "outputs": [],
   "source": [
    "lista_titulo = []\n",
    "lista_desc = []\n",
    "lista_data = []\n",
    "\n",
    "for i in range(0, len(lista_tag_noticia)):\n",
    "    \n",
    "    tag_noticia = lista_tag_noticia[i]\n",
    "\n",
    "    # Encontra o título\n",
    "    titulo = tag_noticia.find(\"h1\").text\n",
    "    titulo = titulo.replace(\"\\n\", \"\") #limpa os ENTERS\n",
    "    lista_titulo.append(titulo)\n",
    "\n",
    "    #  Encontra a descrição\n",
    "    descricao = tag_noticia.find(\"p\").text\n",
    "    lista_desc.append(descricao)\n",
    "    \n",
    "    # Encontra a data e hora\n",
    "    data_hora = tag_noticia.find(\"span\").text\n",
    "    lista_data.append(data_hora)"
   ]
  },
  {
   "cell_type": "markdown",
   "id": "proud-karma",
   "metadata": {},
   "source": [
    "## Criando um DataFrame\n",
    "\n",
    "As informações que consideramos foram extraídas na repetição **for** e armazenadas em listas. Podemos utilizar estas listas para construir um Pandas DataFrame:"
   ]
  },
  {
   "cell_type": "code",
   "execution_count": null,
   "id": "verified-dependence",
   "metadata": {},
   "outputs": [],
   "source": [
    "df = pd.DataFrame({\"Secao\": secao,\n",
    "                   \"Titulo\": lista_titulo,\n",
    "                   \"Descrição\": lista_desc,\n",
    "                   \"Data\": lista_data\n",
    "                  })\n",
    "df"
   ]
  },
  {
   "cell_type": "markdown",
   "id": "efd975df",
   "metadata": {},
   "source": [
    "## Fazer o scraping de várias páginas\n",
    "\n",
    "Ao navegar pelo site, percebemos que a **URL** das páginas segue o seguinte padrão: https://www.istoedinheiro.com.br/categoria/economia/page/2/\n",
    "\n",
    "Vamos construir algumas funções auxiliares e fazer a extração dos dados das notícias de várias páginas:"
   ]
  },
  {
   "cell_type": "code",
   "execution_count": null,
   "id": "aee753ac",
   "metadata": {},
   "outputs": [],
   "source": [
    "def get_headers():\n",
    "    u_agent = random.choice(user_agents)\n",
    "    headers = ({\"User-Agent\": u_agent})\n",
    "    return headers\n",
    "\n",
    "def sleepy_code():\n",
    "    sleep_time = random.uniform(1, 2) \n",
    "    time.sleep(sleep_time)\n",
    "\n",
    "def download_page(secao = \"economia\"):\n",
    "    sleepy_code()\n",
    "    url = f\"https://istoedinheiro.com.br/categoria/{secao}/\"\n",
    "    resposta = requests.get(url = url, headers=get_headers())\n",
    "    resposta.encoding = \"utf-8\"\n",
    "    return resposta.text\n",
    "\n",
    "def get_data(secao = \"economia\"):\n",
    "    html = download_page(secao=secao) \n",
    "    soup = BeautifulSoup(html, \"html.parser\")\n",
    "    \n",
    "    # Noticias com a thumb image\n",
    "    lista_tag_individual = soup.find_all(\"article\", attrs={\"name\": \"individualNew\"})\n",
    "    # Notícias sem imagem ao lado do título\n",
    "    lista_tag_a_text = soup.find_all(\"article\", attrs={\"name\": \"ArticleWithText\"})\n",
    "    # Concatena as duas listas\n",
    "    lista_tag_noticia = lista_tag_individual + lista_tag_a_text\n",
    "\n",
    "    lista_titulo = []\n",
    "    lista_desc = []\n",
    "    lista_data = []\n",
    "\n",
    "    for tag_noticia in lista_tag_noticia:\n",
    "\n",
    "        titulo = tag_noticia.find(\"h1\").text\n",
    "        titulo = titulo.replace(\"\\n\", \"\") #limpa os ENTERS\n",
    "        lista_titulo.append(titulo)\n",
    "\n",
    "        descricao = tag_noticia.find(\"p\").text\n",
    "        lista_desc.append(descricao)\n",
    "        \n",
    "        data_hora = tag_noticia.find(\"span\").text\n",
    "        lista_data.append(data_hora)\n",
    "\n",
    "    return lista_titulo, lista_desc, lista_data\n",
    "\n",
    "def get_dataframe(secao = \"economia\"):\n",
    "    lista_titulo, lista_desc, lista_data = get_data(secao=secao)\n",
    "    df = pd.DataFrame({\"Secao\": secao,\n",
    "                       \"Titulo\": lista_titulo,\n",
    "                       \"Descrição\": lista_desc,\n",
    "                       \"Data\": lista_data\n",
    "                      })\n",
    "    return df\n",
    "\n",
    "def get_news(secoes):\n",
    "    dfs = []\n",
    "    for secao in secoes:\n",
    "        dfs.append(get_dataframe(secao=secao))\n",
    "    return pd.concat(dfs, axis=0)        "
   ]
  },
  {
   "cell_type": "markdown",
   "id": "2f8dc3bf",
   "metadata": {},
   "source": [
    "Vamos extrair dados de algumas seções:"
   ]
  },
  {
   "cell_type": "code",
   "execution_count": null,
   "id": "b4faf59e",
   "metadata": {},
   "outputs": [],
   "source": [
    "secoes = [\"economia\", \"negocios\", \"mercado-digital\", \"carreira\", \"financas\", \"giro\"]\n",
    "random.shuffle(secoes)\n",
    "\n",
    "secoes"
   ]
  },
  {
   "cell_type": "code",
   "execution_count": null,
   "id": "4ca93172",
   "metadata": {},
   "outputs": [],
   "source": [
    "df = get_news(secoes)"
   ]
  },
  {
   "cell_type": "markdown",
   "id": "2f316b52",
   "metadata": {},
   "source": [
    "E visualizar algumas notícias"
   ]
  },
  {
   "cell_type": "code",
   "execution_count": null,
   "id": "5f9066e0",
   "metadata": {},
   "outputs": [],
   "source": [
    "print(f\"Temos {len(df)} noticias!\")"
   ]
  },
  {
   "cell_type": "markdown",
   "id": "d3c7dac2",
   "metadata": {},
   "source": [
    "Vamos conferir, aleatoriamente, algumas das notícias baixadas:"
   ]
  },
  {
   "cell_type": "code",
   "execution_count": null,
   "id": "d595c0c2",
   "metadata": {},
   "outputs": [],
   "source": [
    "df.sample(10)"
   ]
  },
  {
   "cell_type": "markdown",
   "id": "optimum-intermediate",
   "metadata": {},
   "source": [
    "### Salvando o DataFrame em CSV\n",
    "\n",
    "É interessante armazenar o Dataframe em CSV para que ele possa ser análisado em algum momento posterior. Você poderia, por exemplo, extrair as notícias todos os dias de uma semana e analisar somente após ter todos estes dados."
   ]
  },
  {
   "cell_type": "code",
   "execution_count": null,
   "id": "progressive-certificate",
   "metadata": {},
   "outputs": [],
   "source": [
    "df.to_csv(\"noticias_180424.csv\", index=False)"
   ]
  },
  {
   "cell_type": "markdown",
   "id": "b42c8939",
   "metadata": {},
   "source": [
    "## Relembrando - Extração de textos de PDFs\n",
    "\n",
    "Vamos relembrar o que vimos na aula de extração de textos de PDFs e juntar com Expressões Regulares para procurarmos por padrões interessantes.\n",
    "\n",
    "Primeiro, vamos fazer o download de uma página qualquer do diário oficial."
   ]
  },
  {
   "cell_type": "code",
   "execution_count": null,
   "id": "b8307201",
   "metadata": {},
   "outputs": [],
   "source": [
    "pdf_url=\"http://diariooficial.imprensaoficial.com.br/doflash/prototipo/2023/Abril/19/exec1/pdf/pg_0001.pdf\"\n",
    "\n",
    "response = urllib.request.urlopen(pdf_url)"
   ]
  },
  {
   "cell_type": "code",
   "execution_count": null,
   "id": "37765732",
   "metadata": {},
   "outputs": [],
   "source": [
    "response.status"
   ]
  },
  {
   "cell_type": "markdown",
   "id": "a37d81b4",
   "metadata": {},
   "source": [
    "Vamos salvar a resposta obtida em um arquivo PDF chamado `\"pg_0001.pdf\"`"
   ]
  },
  {
   "cell_type": "code",
   "execution_count": null,
   "id": "a1d03525",
   "metadata": {},
   "outputs": [],
   "source": [
    "arq = open(\"pg_0001.pdf\", \"wb\")\n",
    "arq.write(response.read())\n",
    "arq.close()"
   ]
  },
  {
   "cell_type": "markdown",
   "id": "133664de",
   "metadata": {},
   "source": [
    "Então podemos utilizar a biblioteca `PyPDF2` para extrair os textos. Aqui, pense que nosso objetivo será apenas identificar **CPF**, **CNPJ**, datas, projetos de leis, etc. mencionados, não importanto tanto que o texto esteja em ordem."
   ]
  },
  {
   "cell_type": "code",
   "execution_count": null,
   "id": "62b8ae59",
   "metadata": {},
   "outputs": [],
   "source": [
    "pp_reader = pp.PdfReader(open(\"pg_0001.pdf\", \"rb\"))\n",
    "\n",
    "texto = pp_reader.pages[0].extract_text()\n",
    "print(texto)"
   ]
  },
  {
   "cell_type": "markdown",
   "id": "e60e85af",
   "metadata": {},
   "source": [
    "### Capturando CPFs\n",
    "\n",
    "Vamos procurar por todos os CPFs mencionados nesta página:"
   ]
  },
  {
   "cell_type": "code",
   "execution_count": null,
   "id": "e505c9cd",
   "metadata": {},
   "outputs": [],
   "source": [
    "re.findall(r\"\\d{3}\\.\\d{3}\\.\\d{3}-\\d{2}\", texto)"
   ]
  },
  {
   "cell_type": "markdown",
   "id": "f242cfde",
   "metadata": {},
   "source": [
    "E procurar por todas as datas"
   ]
  },
  {
   "cell_type": "code",
   "execution_count": null,
   "id": "eb7f80f9",
   "metadata": {},
   "outputs": [],
   "source": [
    "re.findall(r\"\\b\\d{1,2}/\\d{1,2}/\\d{2,4}\\b\", texto)"
   ]
  },
  {
   "cell_type": "markdown",
   "id": "a2fae23b",
   "metadata": {},
   "source": [
    "**Pergunta**: Qual a utilidade do `\\b` no regex acima?"
   ]
  },
  {
   "cell_type": "markdown",
   "id": "554b76a1",
   "metadata": {},
   "source": [
    "<div class=\"alert alert-success\">\n",
    "\n",
    "Sua resposta aqui! Dê dois cliques e edite.\n",
    "\n",
    "</div>"
   ]
  },
  {
   "cell_type": "markdown",
   "id": "f9742fd7",
   "metadata": {},
   "source": [
    "**Pergunta**: Como listar todos os RGs?"
   ]
  },
  {
   "cell_type": "code",
   "execution_count": null,
   "id": "8061b0a5",
   "metadata": {},
   "outputs": [],
   "source": [
    "# Seu código aqui!"
   ]
  },
  {
   "cell_type": "markdown",
   "id": "ad3dc02a",
   "metadata": {},
   "source": [
    "<a href=\"#\" title=\"re.findall(r'RG\\s\\d+', texto)\">Pare o mouse em cima deste link para ver a resposta!</a>"
   ]
  },
  {
   "cell_type": "markdown",
   "id": "czech-desert",
   "metadata": {},
   "source": [
    "# Exercícios\n",
    "\n",
    "Considere a base de notícias recém extraída para os exercícios."
   ]
  },
  {
   "cell_type": "markdown",
   "id": "second-designer",
   "metadata": {},
   "source": [
    "**Exercício 1)** Utilize RegEx para criar uma nova coluna no DataFrame. Esta nova coluna deve indicar se o título da notícia tem faz ou não menção ao **governo**.\n",
    "\n",
    "Aqui, você vai ter que pensar em um RegEx que busque por termos que façam sentido e generalizem a noção de **\"governo\"**."
   ]
  },
  {
   "cell_type": "code",
   "execution_count": null,
   "id": "6a983b80",
   "metadata": {},
   "outputs": [],
   "source": [
    "# Seu código aqui!"
   ]
  },
  {
   "cell_type": "markdown",
   "id": "labeled-facial",
   "metadata": {},
   "source": [
    "**Exercício 2)** Repita o exercício anterior, buscando por termos que façam menção à **bolsas de valores**."
   ]
  },
  {
   "cell_type": "code",
   "execution_count": null,
   "id": "83d4bd23",
   "metadata": {},
   "outputs": [],
   "source": [
    "# Seu código aqui!"
   ]
  },
  {
   "cell_type": "markdown",
   "id": "experimental-invasion",
   "metadata": {},
   "source": [
    "**Exercício 3)** Repita o exercício anterior, buscando por termos que façam menção à **bolsas de valores** ou ao **governo** na **descrição** das notícias."
   ]
  },
  {
   "cell_type": "code",
   "execution_count": null,
   "id": "fda2bd27",
   "metadata": {},
   "outputs": [],
   "source": [
    "# Seu código aqui!"
   ]
  },
  {
   "cell_type": "markdown",
   "id": "compact-female",
   "metadata": {},
   "source": [
    "**Exercício 4)** Utilizando as variáveis novas criadas com RegEx:\n",
    "\n",
    "\n",
    "**a)** Conte quantas notícias fazem menção ao Governo. Conte para o título e também descrição."
   ]
  },
  {
   "cell_type": "code",
   "execution_count": null,
   "id": "41d91b65",
   "metadata": {},
   "outputs": [],
   "source": [
    "# Seu código aqui!"
   ]
  },
  {
   "cell_type": "markdown",
   "id": "active-sodium",
   "metadata": {},
   "source": [
    "**b)** Gere um gráfico de barras das frequências absolutas (contagem)"
   ]
  },
  {
   "cell_type": "code",
   "execution_count": null,
   "id": "6d80fe9e",
   "metadata": {},
   "outputs": [],
   "source": [
    "# Seu código aqui!"
   ]
  },
  {
   "cell_type": "markdown",
   "id": "ranging-parcel",
   "metadata": {},
   "source": [
    "**c)** E se quisermos a frequência relativa (porcentagem)"
   ]
  },
  {
   "cell_type": "code",
   "execution_count": null,
   "id": "a2696336",
   "metadata": {},
   "outputs": [],
   "source": [
    "# Seu código aqui!"
   ]
  },
  {
   "cell_type": "markdown",
   "id": "vocal-college",
   "metadata": {},
   "source": [
    "**Exercício 5)** Calcule a frequência de menções à Pandemia por seção (política, economia, finanças). Obs: Considere a descrição da notícia. Gere um gráfico de barras dos resultados."
   ]
  },
  {
   "cell_type": "code",
   "execution_count": null,
   "id": "618df89d",
   "metadata": {},
   "outputs": [],
   "source": [
    "# Seu código aqui!"
   ]
  },
  {
   "cell_type": "markdown",
   "id": "df6e8247",
   "metadata": {},
   "source": [
    "**Exercício 6)** Crie um código python que consiga fazer o download de várias páginas do diário oficial.\n",
    "\n",
    "Salve em arquivos nomeados no padrão `\"pg_0001.pdf\"`, `\"pg_0002.pdf\"`, ... , `\"pg_000n.pdf\"`"
   ]
  },
  {
   "cell_type": "code",
   "execution_count": null,
   "id": "0864587f",
   "metadata": {},
   "outputs": [],
   "source": [
    "# Seu código aqui!"
   ]
  },
  {
   "cell_type": "markdown",
   "id": "82f0dfc3",
   "metadata": {},
   "source": [
    "**Exercício 7)** Crie um código python que leia `n` arquivos **PDF**s de uma pasta e extraia seus textos utilizando a biblioteca vista no exemplo da aula.\n",
    "\n",
    "Aqui, cada **PDF** é uma página do diário oficial. Suponha que os arquivos estão nomeados no padrão `'pg_0001.pdf'`, `'pg_0002.pdf'`, ... , `'pg_000n.pdf'`.\n",
    "\n",
    "Retorne uma lista onde cada item da lista é uma string contendo o texto da página em questão. Exemplo:\n",
    "\n",
    "```python\n",
    "[\n",
    "    'texto da página 01 do diário',\n",
    "    'texto da página 02 do diário',\n",
    "    'texto da página 03 do diário',\n",
    "    'texto da página 04 do diário',\n",
    "]\n",
    "```"
   ]
  },
  {
   "cell_type": "code",
   "execution_count": null,
   "id": "29c746f5",
   "metadata": {},
   "outputs": [],
   "source": [
    "# Seu código aqui!"
   ]
  },
  {
   "cell_type": "markdown",
   "id": "ebe742cf",
   "metadata": {},
   "source": [
    "**Exercício 8)** Crie um código python que recebe a lista do exercício anterior. Exemplo:\n",
    "\n",
    "```python\n",
    "[\n",
    "    'texto da página 01 do diário',\n",
    "    'texto da página 02 do diário',\n",
    "    'texto da página 03 do diário',\n",
    "    'texto da página 04 do diário',\n",
    "]\n",
    "```\n",
    "\n",
    "Você deve procurar todos os **CPF**s ou **CNPJ**s contidos no diário. Indique a página onde o mesmo foi encontrado. Exemplo de resposta:\n",
    "```python\n",
    "[\n",
    "    ['123.456.789-00', 0],\n",
    "    ['87.340.538/0001-23', 0]\n",
    "    ['555.666.777-00', 1],\n",
    "    ['30.375.316/0001-29', 3],\n",
    "    ['30.375.316/0001-29', 3],\n",
    "]\n",
    "```"
   ]
  },
  {
   "cell_type": "code",
   "execution_count": null,
   "id": "220aaa83",
   "metadata": {},
   "outputs": [],
   "source": [
    "# Seu código aqui!"
   ]
  },
  {
   "cell_type": "markdown",
   "id": "025b4d1d",
   "metadata": {},
   "source": [
    "**Exercício 9)** Um empresário deseja saber quais páginas do diário oficial fazem menção a determinado assunto.\n",
    "\n",
    "Faça um programa em python que recebe os textos das páginas do diário oficial:\n",
    "\n",
    "\n",
    "```python\n",
    "[\n",
    "    'texto da página 01 do diário',\n",
    "    'texto da página 02 do diário',\n",
    "    'texto da página 03 do diário',\n",
    "    'texto da página 04 do diário',\n",
    "]\n",
    "```\n",
    "\n",
    "Crie um padrão de expressão regular para busca por termos/palavras (simule um cenário) e retorne uma lista das páginas que fazem menção ao padrão. Exemplo de resposta:\n",
    "\n",
    "\n",
    "```python\n",
    "[0, 2, 3]\n",
    "```"
   ]
  },
  {
   "cell_type": "code",
   "execution_count": null,
   "id": "e92fd6b7",
   "metadata": {},
   "outputs": [],
   "source": [
    "# Seu código aqui!"
   ]
  }
 ],
 "metadata": {
  "kernelspec": {
   "display_name": "Python 3 (ipykernel)",
   "language": "python",
   "name": "python3"
  },
  "language_info": {
   "codemirror_mode": {
    "name": "ipython",
    "version": 3
   },
   "file_extension": ".py",
   "mimetype": "text/x-python",
   "name": "python",
   "nbconvert_exporter": "python",
   "pygments_lexer": "ipython3",
   "version": "3.10.12"
  }
 },
 "nbformat": 4,
 "nbformat_minor": 5
}
